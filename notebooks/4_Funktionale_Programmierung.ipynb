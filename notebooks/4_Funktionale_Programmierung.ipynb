{
 "cells": [
  {
   "cell_type": "markdown",
   "metadata": {
    "slideshow": {
     "slide_type": "slide"
    }
   },
   "source": [
    "### Funktionale Programmierung\n",
    "### Angewandte Systemwissenschaften I\n",
    "#### Python - Wonderland\n",
    "Einheit 4 / 10"
   ]
  },
  {
   "cell_type": "markdown",
   "metadata": {
    "slideshow": {
     "slide_type": "slide"
    }
   },
   "source": [
    "# Semesterplan\n",
    "\n",
    "0. Anaconda und Pip\n",
    "1. Einführung in Python\n",
    "2. Matplotlib: Eine Einführung ins Wonderland - Modell\n",
    "3. Jupyter-Notebooks: Wonderland in Python\n",
    "4. **Funktionale Programmierung & Python-Module**\n",
    "5. Python-Pakete und Workflow\n",
    "6. Agenten-basierte Modellierung\n",
    "7. Objekt-orientierte Programmierung \n",
    "8. Animationen zur Modellentwicklung\n",
    "9. Multiprocessing & Sensitivity Analysis\n",
    "10. Projektpräsentationen"
   ]
  },
  {
   "cell_type": "markdown",
   "metadata": {
    "slideshow": {
     "slide_type": "subslide"
    }
   },
   "source": [
    "## Inhalt\n",
    "\n",
    "+ Programmierparadigmen\n",
    "+ Prozedurale Programmierung\n",
    "+ Funktionale Programmierung\n",
    "+ Python als funktionale Programmiersprache\n",
    "+ Vom Jupyter Notebook zum Python-Modul\n",
    "+ Mehr funktionale Programmierung in Python"
   ]
  },
  {
   "cell_type": "markdown",
   "metadata": {
    "slideshow": {
     "slide_type": "slide"
    }
   },
   "source": [
    "# *** Programmierung - Was heißt das?\n",
    "\n",
    "Es gibt verschiedene **Paradigmen** zur Programmierung. Es sind verschiedene Varianten die Lösung eines Problems zu beschreiben. Viele Programmiersprachen setzen auf **imperative** Paradigmen. Man gibt dem Computer also **Befehle** die dieser hintereinander ausführt (auch: *Prozedureale Programmierung*).\n",
    "\n",
    "Die Namen dieser Paradigmen beschreiben meist den **Gedankengang** beim Programmieren."
   ]
  },
  {
   "cell_type": "markdown",
   "metadata": {
    "slideshow": {
     "slide_type": "slide"
    }
   },
   "source": [
    "# Was bisher geschah: Prozedureale Programmierung\n",
    "\n",
    "Bei der **prozedurealen** Programmierung denkt man also in **Prozederen** (Abfolgen)."
   ]
  },
  {
   "cell_type": "markdown",
   "metadata": {
    "slideshow": {
     "slide_type": "fragment"
    }
   },
   "source": [
    "Da man hier nur einige **Programmiergrundlagen** benötigt, lernt man Python oft so kennen.\n",
    "\n",
    "~~~python\n",
    "# Sortiere 100 Fibonacci zahlen in gerade und ungerade\n",
    "LOOPS = 98\n",
    "fibs = [0,1]\n",
    "# Erzeuge Fibonacci Reihe\n",
    "for _ in range(LOOPS):\n",
    "    fibs.append(fibs[-1] + fibs[-2])\n",
    "# Sortiere in gerade und ungerade\n",
    "fibs_odd  = list()\n",
    "fibs_even = list()\n",
    "for fib in fibs:\n",
    "    if fib % 2:\n",
    "        fibs_odd.append(fib)\n",
    "    else:\n",
    "        fibs_even.append(fib)\n",
    "~~~"
   ]
  },
  {
   "cell_type": "markdown",
   "metadata": {
    "slideshow": {
     "slide_type": "fragment"
    }
   },
   "source": [
    "Man **denkt** also Befehl für Befehl und führt diese **der Reihe nach** aus. Im Jupyter Notebook lassen sich diese Befehlsreihen in **Segmente** unterteilen."
   ]
  },
  {
   "cell_type": "markdown",
   "metadata": {
    "slideshow": {
     "slide_type": "subslide"
    }
   },
   "source": [
    "## Globaler Zustand\n",
    "\n",
    "Als globalen Zustand bezeichnet man **mutable Variablen** welche sich im **globalen Namespace** befinden. Auf die also **alle Teile** des Quellcodes **Zugriff** haben."
   ]
  },
  {
   "cell_type": "markdown",
   "metadata": {
    "slideshow": {
     "slide_type": "fragment"
    }
   },
   "source": [
    "Dadurch entstehen einige Probleme:\n",
    "\n",
    "+ Ergebnisse sind von der **Abfolge** der Abschnitte abhängig\n",
    "+ Fehler sind **schwer Auswertbar**\n",
    "+ Code **lässt sich nicht gut testen**\n",
    "+ Der Zustand des Programms wird zunehmen **unvorhersehbar**"
   ]
  },
  {
   "cell_type": "code",
   "execution_count": 1,
   "metadata": {
    "slideshow": {
     "slide_type": "fragment"
    }
   },
   "outputs": [],
   "source": [
    "# Globaler Zustand\n",
    "speicher = [0]"
   ]
  },
  {
   "cell_type": "code",
   "execution_count": 2,
   "metadata": {
    "slideshow": {
     "slide_type": "fragment"
    }
   },
   "outputs": [
    {
     "data": {
      "text/plain": [
       "0"
      ]
     },
     "execution_count": 2,
     "metadata": {},
     "output_type": "execute_result"
    }
   ],
   "source": [
    "def a():\n",
    "    x = speicher.pop()\n",
    "    speicher.append(x+1)\n",
    "    return x\n",
    "    \n",
    "def b():\n",
    "    x = speicher.pop()\n",
    "    speicher.append(x+2)\n",
    "    return x\n",
    "    \n",
    "b()"
   ]
  },
  {
   "cell_type": "markdown",
   "metadata": {
    "slideshow": {
     "slide_type": "slide"
    }
   },
   "source": [
    "## Funktionale Programmierung"
   ]
  },
  {
   "cell_type": "markdown",
   "metadata": {
    "slideshow": {
     "slide_type": "fragment"
    }
   },
   "source": [
    "Ein **Lösungsansatz** für das Problem mit **globalem Zustand** werden wir in der siebten Einheit kennenlernen: \n",
    "\n",
    "**Objekt-orientierte** Programmierung erlaubt es, den **Zustand in Objekten zu bündeln** und so **nicht mehr global** zugänglich zu machen und besser zu **organisieren**."
   ]
  },
  {
   "cell_type": "markdown",
   "metadata": {
    "slideshow": {
     "slide_type": "fragment"
    }
   },
   "source": [
    "**Funktionale Programmierung** erlaubt gar keinen variablen Zustand. <br>\n",
    "Programme werden nicht mehr als **Ausführung von Befehlen** betrachtet, sondern **als mathematische Funktionen** beschrieben, die gelöst werden wollen."
   ]
  },
  {
   "cell_type": "markdown",
   "metadata": {
    "slideshow": {
     "slide_type": "subslide"
    }
   },
   "source": [
    "## Geschichte der funktionalen Programmierung\n",
    "\n",
    "Bereits eine der **ersten Programmiersprachen** überhaupt, der [Lambda - Kalkül](https://de.wikipedia.org/wiki/Lambda-Kalk%C3%BCl) von Alonso Church, war rein funktional!"
   ]
  },
  {
   "cell_type": "markdown",
   "metadata": {
    "slideshow": {
     "slide_type": "fragment"
    }
   },
   "source": [
    "Dessen Ideen flossen später in der **bis heute angewandt**en Sprache ```LISP``` (kurz für: *List Processing*) ein."
   ]
  },
  {
   "cell_type": "markdown",
   "metadata": {
    "slideshow": {
     "slide_type": "fragment"
    }
   },
   "source": [
    "Später wurde von der Firma Ericsson eine Programmiersprache gesucht, mit welcher man die vielen Prozesse welche in einem **Telekommunikations-Server** gleichzeitig ablaufen praktisch implementieren konnte. Dies ging nur mit funktionaler Programmierung und mit ```Erlang``` erschufen sie schließlich eine eigene."
   ]
  },
  {
   "cell_type": "markdown",
   "metadata": {
    "slideshow": {
     "slide_type": "fragment"
    }
   },
   "source": [
    "In etwa zur gleichen Zeit fanden sich einige Professoren zusammen und beschlossen die Sprache ```Haskell``` **als Forschungsgegenstand** zu funktionaler Programmierung zu schaffen."
   ]
  },
  {
   "cell_type": "markdown",
   "metadata": {
    "slideshow": {
     "slide_type": "subslide"
    }
   },
   "source": [
    "So wurden viele Konzepte entwickelt, welche sich dann **mit der Zeit auch in klassischeren** Programmiersprachen wiederfanden:\n",
    "+ Lambda - Ausdrücke\n",
    "+ List - Comprehensions\n",
    "+ Lazy - Evaluation\n",
    "+ Höhere Funktionen\n",
    "+ und sogar Funktoren, Applikative Funktoren und Monaden"
   ]
  },
  {
   "cell_type": "markdown",
   "metadata": {
    "slideshow": {
     "slide_type": "fragment"
    }
   },
   "source": [
    "Einige dieser Konzepte haben wir **bereits in Python** wiedergefunden. Im folgenden wollen wir deren **Vorteile erörtern**."
   ]
  },
  {
   "cell_type": "markdown",
   "metadata": {
    "slideshow": {
     "slide_type": "subslide"
    }
   },
   "source": [
    "## Referentielle Transparenz\n",
    "\n",
    "Mathematische Funktionen haben **eine zentrale Eigenschaft** welche für uns wichtig ist:\n",
    "> Gibt man einer solchen zweimal den **selben Input**, ergibt sie garantiert das **selbe Ergebnis**!"
   ]
  },
  {
   "cell_type": "markdown",
   "metadata": {
    "slideshow": {
     "slide_type": "notes"
    }
   },
   "source": [
    "Dies nennt man **Referentielle Transparenz**."
   ]
  },
  {
   "cell_type": "markdown",
   "metadata": {
    "slideshow": {
     "slide_type": "fragment"
    }
   },
   "source": [
    "Solche Funktionen können **unmöglich** auf einen variablen Zustand zugreifen! Deshalb erlauben **reine funktionale Programmiersprachen** wie zum Beispiel ```Haskell``` nicht einmal Schleifen sondern **nur Rekursion**. Das ist natürlich unrealistisch in ```Python``` (*siehe Einheit 1*)."
   ]
  },
  {
   "cell_type": "markdown",
   "metadata": {
    "slideshow": {
     "slide_type": "subslide"
    }
   },
   "source": [
    "## Vorteile funktionaler Prorgammierung\n",
    "\n",
    "*Was bringt einem diese Einschränkung?*"
   ]
  },
  {
   "cell_type": "markdown",
   "metadata": {
    "slideshow": {
     "slide_type": "fragment"
    }
   },
   "source": [
    "> \"The functional programmer sounds rather like a medievæl monk denying himself the pleasures of life, in the hope that it will make him virtuos\"\n",
    ">\n",
    "> \\- *John Hughes (Why Functional Programming matters)*"
   ]
  },
  {
   "cell_type": "markdown",
   "metadata": {
    "slideshow": {
     "slide_type": "slide"
    }
   },
   "source": [
    "## Funktionale Programmierung in Python\n",
    "\n",
    "In Python haben wir den **Nutzen** von ```lambda```s und List-Comprehensions **schon entdeckt**. "
   ]
  },
  {
   "cell_type": "code",
   "execution_count": 3,
   "metadata": {
    "slideshow": {
     "slide_type": "fragment"
    }
   },
   "outputs": [
    {
     "data": {
      "text/plain": [
       "(function, function)"
      ]
     },
     "execution_count": 3,
     "metadata": {},
     "output_type": "execute_result"
    }
   ],
   "source": [
    "def f(a,b):\n",
    "    print(a,b)\n",
    "\n",
    "type(f), type(lambda a,b: print(a,b)) # lambdas sind anonyme Funktionen, also Funktionen ohne Namen"
   ]
  },
  {
   "cell_type": "code",
   "execution_count": 4,
   "metadata": {
    "slideshow": {
     "slide_type": "fragment"
    }
   },
   "outputs": [
    {
     "data": {
      "text/plain": [
       "[1, 1, 1, 1, 1, 1, 36, 1, 1, 1]"
      ]
     },
     "execution_count": 4,
     "metadata": {},
     "output_type": "execute_result"
    }
   ],
   "source": [
    " # Mit List-Comprehensions gelingt filter und map (auch gleichzeitig)\n",
    "[x*x if x%5 == 1 else 1 for x in range(10)]"
   ]
  },
  {
   "cell_type": "markdown",
   "metadata": {
    "slideshow": {
     "slide_type": "fragment"
    }
   },
   "source": [
    "Zwei weitere Vorteile funktionaler Programmiersprachen können wir noch besser erkunden:\n",
    "    \n",
    "**Lazy - Evaluation** und **andere höhere Funktionen**."
   ]
  },
  {
   "cell_type": "markdown",
   "metadata": {
    "slideshow": {
     "slide_type": "slide"
    }
   },
   "source": [
    "### Lazy Evaluation\n",
    "\n",
    "Unter **verzögerter Berechnung** versteht man den Umstand, dass Funktionen **erst dann berechnet** werden, wenn ihr **Ergebnis tatsächlich gebraucht** wird."
   ]
  },
  {
   "cell_type": "markdown",
   "metadata": {
    "slideshow": {
     "slide_type": "fragment"
    }
   },
   "source": [
    "Was zuerst nach einem unnötigen Warten klingt, hat **einige wichtige Vorteile**! So können wir mit Lazy Evaluation **unendlich lange Kollektionen** schaffen. Außerdem müssen wir niemals eine **lange Kollektion** im Speicher aufbewaren, da wir sie **on the fly berechnen** können."
   ]
  },
  {
   "cell_type": "markdown",
   "metadata": {
    "slideshow": {
     "slide_type": "fragment"
    }
   },
   "source": [
    "In Python sind Objekte vom Typ ```Generator``` **lazy**. Diese können wir ganz einfach mit einer **Generator Expression** ähnllich einer List - Comprehension erstellen. Statt der eckigen Klammer ```[]``` benutzen wir einfach runde ```()```:"
   ]
  },
  {
   "cell_type": "code",
   "execution_count": 5,
   "metadata": {
    "slideshow": {
     "slide_type": "-"
    }
   },
   "outputs": [],
   "source": [
    "gen = (x*x for x in range(99_999))"
   ]
  },
  {
   "cell_type": "markdown",
   "metadata": {
    "slideshow": {
     "slide_type": "fragment"
    }
   },
   "source": [
    "Ihren nächsten Wert lassen wir mit ```next``` berechnen:"
   ]
  },
  {
   "cell_type": "code",
   "execution_count": 6,
   "metadata": {
    "slideshow": {
     "slide_type": "-"
    }
   },
   "outputs": [
    {
     "name": "stdout",
     "output_type": "stream",
     "text": [
      "0\n",
      "1\n",
      "4\n",
      "9\n",
      "16\n",
      "25\n",
      "36\n",
      "49\n",
      "64\n"
     ]
    }
   ],
   "source": [
    "for q in gen:\n",
    "    print(q)\n",
    "    if q > 50:\n",
    "        break"
   ]
  },
  {
   "cell_type": "markdown",
   "metadata": {
    "slideshow": {
     "slide_type": "skip"
    }
   },
   "source": [
    "<div class=\"alert alert-block alert-info\">\n",
    "<h3>Tipp: Mit dem Unterstrich Zahlen strukturieren</h3>\n",
    "    \n",
    "In Python gilt:\n",
    "<pre><code>>>>10000000 == 10_000_000\n",
    "True\n",
    "</pre></code>\n",
    "Mit ```_``` bleibt die Zahl gleich, ihr Wert ist aber <strong>übersichtlicher</strong> zu erfassen.\n",
    "</div>"
   ]
  },
  {
   "cell_type": "markdown",
   "metadata": {
    "slideshow": {
     "slide_type": "subslide"
    }
   },
   "source": [
    "## Nützliche Funktionen"
   ]
  },
  {
   "cell_type": "code",
   "execution_count": 7,
   "metadata": {
    "slideshow": {
     "slide_type": "fragment"
    }
   },
   "outputs": [
    {
     "data": {
      "text/plain": [
       "range(0, 19)"
      ]
     },
     "execution_count": 7,
     "metadata": {},
     "output_type": "execute_result"
    }
   ],
   "source": [
    "range(19)"
   ]
  },
  {
   "cell_type": "code",
   "execution_count": 8,
   "metadata": {},
   "outputs": [
    {
     "data": {
      "text/plain": [
       "[(1, 4), (2, 5), (3, 6)]"
      ]
     },
     "execution_count": 8,
     "metadata": {},
     "output_type": "execute_result"
    }
   ],
   "source": [
    "list(zip([1,2,3],[4,5,6]))"
   ]
  },
  {
   "cell_type": "code",
   "execution_count": null,
   "metadata": {},
   "outputs": [],
   "source": []
  },
  {
   "cell_type": "markdown",
   "metadata": {
    "slideshow": {
     "slide_type": "slide"
    }
   },
   "source": [
    "### Generators\n",
    "\n",
    "Außerdem können wir auch **normale Funktionen** zu Generator-Fabriken **verwandeln**. Alles was wir dazu brauchen ist das **Schlüsselwort** ```yield```:"
   ]
  },
  {
   "cell_type": "code",
   "execution_count": 9,
   "metadata": {
    "slideshow": {
     "slide_type": "-"
    }
   },
   "outputs": [],
   "source": [
    "def quadrate(bis=4):\n",
    "    for x in range(2,bis+1):\n",
    "        yield x*x"
   ]
  },
  {
   "cell_type": "markdown",
   "metadata": {
    "slideshow": {
     "slide_type": "fragment"
    }
   },
   "source": [
    "Rufen wir nun die Funktion ```quadrate``` auf, liefert sie uns einen Generator:"
   ]
  },
  {
   "cell_type": "code",
   "execution_count": 10,
   "metadata": {
    "slideshow": {
     "slide_type": "-"
    }
   },
   "outputs": [
    {
     "data": {
      "text/plain": [
       "generator"
      ]
     },
     "execution_count": 10,
     "metadata": {},
     "output_type": "execute_result"
    }
   ],
   "source": [
    "new_gen = quadrate(10)\n",
    "type(new_gen)"
   ]
  },
  {
   "cell_type": "markdown",
   "metadata": {
    "slideshow": {
     "slide_type": "fragment"
    }
   },
   "source": [
    "Wenn wir diesen an ```next``` überreichen, wird das **Ergebnis** bei ```yield``` **berechnet**:"
   ]
  },
  {
   "cell_type": "code",
   "execution_count": 11,
   "metadata": {
    "slideshow": {
     "slide_type": "-"
    }
   },
   "outputs": [
    {
     "data": {
      "text/plain": [
       "(4, 9)"
      ]
     },
     "execution_count": 11,
     "metadata": {},
     "output_type": "execute_result"
    }
   ],
   "source": [
    "#for elem in new_gen:\n",
    "#    print(elem)\n",
    "next(new_gen), next(new_gen)   "
   ]
  },
  {
   "cell_type": "markdown",
   "metadata": {
    "slideshow": {
     "slide_type": "slide"
    }
   },
   "source": [
    "### Unendliche Iteratoren\n",
    "\n",
    "Im Modul ```itertools``` befinden sich **drei Generatoren** welche uns **unendlich** lange mit Werten beliefern können:\n"
   ]
  },
  {
   "cell_type": "code",
   "execution_count": 12,
   "metadata": {
    "slideshow": {
     "slide_type": "-"
    }
   },
   "outputs": [],
   "source": [
    "import itertools"
   ]
  },
  {
   "cell_type": "markdown",
   "metadata": {
    "slideshow": {
     "slide_type": "fragment"
    }
   },
   "source": [
    "+ ```count``` : Wie ```range```, nimmt aber nur ```start``` und gegebenenfalls ```step``` entgegen und zählt unendlich lange."
   ]
  },
  {
   "cell_type": "code",
   "execution_count": 13,
   "metadata": {
    "slideshow": {
     "slide_type": "-"
    }
   },
   "outputs": [
    {
     "data": {
      "text/plain": [
       "(1, 3, 5, 7)"
      ]
     },
     "execution_count": 13,
     "metadata": {},
     "output_type": "execute_result"
    }
   ],
   "source": [
    "c = itertools.count(1,2); next(c), next(c), next(c), next(c)"
   ]
  },
  {
   "cell_type": "markdown",
   "metadata": {
    "slideshow": {
     "slide_type": "fragment"
    }
   },
   "source": [
    "+ ```cycle``` : Wiederholt eine übergebene Kollektion unendlich oft."
   ]
  },
  {
   "cell_type": "code",
   "execution_count": 14,
   "metadata": {
    "slideshow": {
     "slide_type": "-"
    }
   },
   "outputs": [
    {
     "data": {
      "text/plain": [
       "('Z', 'a', 'c', 'k', 'Z')"
      ]
     },
     "execution_count": 14,
     "metadata": {},
     "output_type": "execute_result"
    }
   ],
   "source": [
    "c = itertools.cycle(\"Zack\"); next(c), next(c), next(c), next(c), next(c)"
   ]
  },
  {
   "cell_type": "markdown",
   "metadata": {
    "slideshow": {
     "slide_type": "fragment"
    }
   },
   "source": [
    "+ ```repeat``` : Wiederholt einen Wert unendlich lange. (Gibt man einen Wert ```n```, endlich lange)"
   ]
  },
  {
   "cell_type": "code",
   "execution_count": 15,
   "metadata": {
    "slideshow": {
     "slide_type": "-"
    }
   },
   "outputs": [
    {
     "data": {
      "text/plain": [
       "('Zack', 'Zack', 'Zack')"
      ]
     },
     "execution_count": 15,
     "metadata": {},
     "output_type": "execute_result"
    }
   ],
   "source": [
    "c = itertools.repeat(\"Zack\"); next(c), next(c), next(c)"
   ]
  },
  {
   "cell_type": "markdown",
   "metadata": {
    "slideshow": {
     "slide_type": "subslide"
    }
   },
   "source": [
    "## Eager Evaluation\n",
    "\n",
    "Im **Gegensatz** zur *lazy evaluation* spricht man von *eager evaluation*, also **eifriger** Berechnung.\n",
    "\n",
    "**Achtung**! Unendliche Strukturen sollte man niemals zu einer Liste oder ähnlichen *eifrig* berechneten Kollektionen machen. Dann stürzt der Computer ab. "
   ]
  },
  {
   "cell_type": "markdown",
   "metadata": {
    "slideshow": {
     "slide_type": "slide"
    }
   },
   "source": [
    "## Wonderland-Modul\n",
    "\n",
    "Mit diesem Wissen wollen wir uns einmal daran machen, unser Wonderland vom **Jupyter-Notebook zu einem Modul** zu transferieren."
   ]
  },
  {
   "cell_type": "markdown",
   "metadata": {
    "slideshow": {
     "slide_type": "subslide"
    }
   },
   "source": [
    "### Simulationsergebnisse generieren\n",
    "\n",
    "Ein **Generator** eignet sich auch gut um unsere Simulationsergebnisse zu generieren."
   ]
  },
  {
   "cell_type": "code",
   "execution_count": 16,
   "metadata": {},
   "outputs": [],
   "source": [
    "import wonderland as wl"
   ]
  },
  {
   "cell_type": "markdown",
   "metadata": {
    "slideshow": {
     "slide_type": "fragment"
    }
   },
   "source": [
    "Wir gestalten diesen Generator ähnlich zur eager evaluierten Funktion ```simulation```:\n",
    "~~~python\n",
    "def simulation(jahre=300):\n",
    "    ergebnis = [(x_0,y_0,z_0,p_0)]\n",
    "    for jahr in range(1,jahre):\n",
    "        x, y, z, p = ergebnis[jahr-1]\n",
    "        x_neu = population(x,y,z)\n",
    "        y_neu = wirtschaft(y,z)\n",
    "        z_neu = umwelt(x,y,z,p)\n",
    "        p_neu = technologie(p)\n",
    "        ergebnis.append((x_neu, y_neu, z_neu, p_neu))\n",
    "    return ergebnis\n",
    "~~~"
   ]
  },
  {
   "cell_type": "markdown",
   "metadata": {
    "slideshow": {
     "slide_type": "subslide"
    }
   },
   "source": [
    "Die Variante als Generator besitzt ebenfalls eine Schleife, jedoch eignet sich ```while``` besser für **unendliche** Wiederholungen:"
   ]
  },
  {
   "cell_type": "code",
   "execution_count": 17,
   "metadata": {
    "slideshow": {
     "slide_type": "-"
    }
   },
   "outputs": [],
   "source": [
    "def simulation():\n",
    "    x,y,z,p = wl.x_0, wl.y_0, wl.z_0, wl.p_0\n",
    "    \n",
    "    while 1:\n",
    "        yield x,y,z,p\n",
    "        \n",
    "        x_neu = wl.population(x,y,z)\n",
    "        y_neu = wl.wirtschaft(y,z)\n",
    "        z_neu = wl.umwelt(x,y,z,p)\n",
    "        p_neu = wl.technologie(p)\n",
    "        \n",
    "        x,y,z,p = x_neu, y_neu, z_neu, p_neu"
   ]
  },
  {
   "cell_type": "markdown",
   "metadata": {
    "slideshow": {
     "slide_type": "-"
    }
   },
   "source": [
    "Das Ergebnis wird nicht in einer Liste gespeichert. Der Generator wartet bei ```yield``` bis wir mit ```next``` das **Ergebnis abrufen** und berechnet dann ein neues.\n",
    "\n",
    "*Zum Mitdenken:* Warum speichern wir zuerst in ```x_neu``` um dann ```x = x_neu``` zu schreiben?"
   ]
  },
  {
   "cell_type": "markdown",
   "metadata": {
    "slideshow": {
     "slide_type": "notes"
    }
   },
   "source": [
    "<div class=\"alert alert-block alert-info\">\n",
    "<h3>Tipp: Singletons</h3>\n",
    "<p>   \n",
    "Das leere Tupel <code>()</code> und der Wert <code>None</code> bilden <strong>Singletons</strong> in Python. \n",
    "</p>\n",
    "<p>\n",
    "Das heißt, dass von ihnen <strong>immer genau eine Instanz</strong> existiert. Erstellen wir ein neues leeres Tupel, verweist Python auf das bereits existierende Objekt <code>()</code>. \n",
    "</p>\n",
    "<p>\n",
    "Das bedeutet, dass <code>repeat(())</code> oder <code>repeat(None)</code> in Wirklichkeit <strong>nie</strong> neue Objekte erzeugen müssen. Dies ist äußerst effizient.\n",
    "    </p>\n",
    "</div>"
   ]
  },
  {
   "cell_type": "markdown",
   "metadata": {
    "slideshow": {
     "slide_type": "subslide"
    }
   },
   "source": [
    "Rufen wir die Generator - Funktion auf, übergibt diese uns einen Generator:"
   ]
  },
  {
   "cell_type": "code",
   "execution_count": 18,
   "metadata": {
    "slideshow": {
     "slide_type": "-"
    }
   },
   "outputs": [],
   "source": [
    "g = simulation()"
   ]
  },
  {
   "cell_type": "markdown",
   "metadata": {
    "slideshow": {
     "slide_type": "fragment"
    }
   },
   "source": [
    "Mit ```next``` rufen wir dann in einer List-Comprehension die ersten 300 Ergebnisse ab:"
   ]
  },
  {
   "cell_type": "code",
   "execution_count": 19,
   "metadata": {
    "slideshow": {
     "slide_type": "-"
    }
   },
   "outputs": [
    {
     "data": {
      "text/plain": [
       "[(1.1462569803428788,\n",
       "  1.2189285731677113,\n",
       "  0.9999965305533157,\n",
       "  0.9043820750088043),\n",
       " (1.1618485977179982,\n",
       "  1.243307144629305,\n",
       "  1.0000013724845833,\n",
       "  0.8953382542587163),\n",
       " (1.177620004134155, 1.26817328752161, 0.9999994667790043, 0.8863848717161291),\n",
       " (1.1935721255496465,\n",
       "  1.293536753271999,\n",
       "  1.0000002032879935,\n",
       "  0.8775210229989678),\n",
       " (1.2097058470113113,\n",
       "  1.3194074883374327,\n",
       "  0.9999999239986784,\n",
       "  0.8687458127689781),\n",
       " (1.2260220105335604,\n",
       "  1.3457956381041805,\n",
       "  1.0000000278414725,\n",
       "  0.8600583546412883),\n",
       " (1.2425214129157647,\n",
       "  1.3727115508662642,\n",
       "  0.999999990014448,\n",
       "  0.8514577710948754),\n",
       " (1.25920480349727,\n",
       "  1.4001657818835895,\n",
       "  1.0000000035033458,\n",
       "  0.8429431933839266),\n",
       " (1.2760728818493743,\n",
       "  1.4281690975212613,\n",
       "  0.9999999987987715,\n",
       "  0.8345137614500874),\n",
       " (1.2931262954036626,\n",
       "  1.4567324794716865,\n",
       "  1.0000000004021374,\n",
       "  0.8261686238355865),\n",
       " (1.3103656370161747,\n",
       "  1.4858671290611203,\n",
       "  0.9999999998686961,\n",
       "  0.8179069375972307),\n",
       " (1.3277914424669526,\n",
       "  1.5155844716423428,\n",
       "  1.0000000000417688,\n",
       "  0.8097278682212583),\n",
       " (1.3454041878946108,\n",
       "  1.5458961610751896,\n",
       "  0.9999999999870703,\n",
       "  0.8016305895390458),\n",
       " (1.3632042871656618,\n",
       "  1.5768140842966933,\n",
       "  1.0000000000038898,\n",
       "  0.7936142836436553),\n",
       " (1.3811920891784355,\n",
       "  1.6083503659826273,\n",
       "  0.9999999999988645,\n",
       "  0.7856781408072188),\n",
       " (1.3993678751015455,\n",
       "  1.6405173733022798,\n",
       "  1.000000000000321,\n",
       "  0.7778213593991465),\n",
       " (1.4177318555469747,\n",
       "  1.6733277207683255,\n",
       "  0.9999999999999121,\n",
       "  0.7700431458051551),\n",
       " (1.4362841676779887,\n",
       "  1.706794275183692,\n",
       "  1.000000000000023,\n",
       "  0.7623427143471035),\n",
       " (1.455024872252226,\n",
       "  1.740930160687366,\n",
       "  0.9999999999999942,\n",
       "  0.7547192872036325),\n",
       " (1.4739539506004677,\n",
       "  1.7757487639011134,\n",
       "  1.0000000000000013,\n",
       "  0.7471720943315961),\n",
       " (1.4930713015417554,\n",
       "  1.8112637391791357,\n",
       "  0.9999999999999996,\n",
       "  0.7397003733882802),\n",
       " (1.5123767382357054, 1.8474890139627185, 1.0, 0.7323033696543974),\n",
       " (1.5318699849730546, 1.884438794241973, 1.0, 0.7249803359578534),\n",
       " (1.5515506739056764, 1.9221275701268123, 1.0, 0.7177305325982748),\n",
       " (1.571418341717526, 1.9605701215293487, 1.0, 0.7105532272722921),\n",
       " (1.5914724262382054, 1.9997815239599357, 1.0, 0.7034476949995692),\n",
       " (1.61171226300108, 2.0397771544391343, 1.0, 0.6964132180495735),\n",
       " (1.6321370817481498, 2.080572697527917, 1.0, 0.6894490858690777),\n",
       " (1.6527460028841465, 2.1221841514784754, 1.0, 0.682554595010387),\n",
       " (1.6735380338826369, 2.1646278345080447, 1.0, 0.6757290490602831),\n",
       " (1.6945120656472108, 2.2079203911982055, 1.0, 0.6689717585696803),\n",
       " (1.715666868831175, 2.25207879902217, 1.0, 0.6622820409839835),\n",
       " (1.7370010901195196, 2.297120375002613, 1.0, 0.6556592205741436),\n",
       " (1.7585132484772874, 2.3430627825026655, 1.0, 0.6491026283684022),\n",
       " (1.780201731368877, 2.389924038152719, 1.0, 0.6426116020847181),\n",
       " (1.8020647909532037, 2.4377225189157734, 1.0, 0.6361854860638709),\n",
       " (1.824100540260087, 2.486476969294089, 1.0, 0.6298236312032323),\n",
       " (1.8463069493536668, 2.536206508679971, 1.0, 0.6235253948912),\n",
       " (1.8686818414891369, 2.5869306388535707, 1.0, 0.617290140942288),\n",
       " (1.8912228892695633, 2.6386692516306423, 1.0, 0.6111172395328651),\n",
       " (1.9139276108100791, 2.6914426366632553, 1.0, 0.6050060671375365),\n",
       " (1.936793365917276, 2.7452714893965204, 1.0, 0.5989560064661611),\n",
       " (1.9598173522921705, 2.8001769191844508, 1.0, 0.5929664464014994),\n",
       " (1.982996601765705, 2.85618045756814, 1.0, 0.5870367819374844),\n",
       " (2.0063279765763387, 2.913304066719503, 1.0, 0.5811664141181095),\n",
       " (2.0298081656999036,\n",
       "  2.971570148053893,\n",
       "  0.9999999999999998,\n",
       "  0.5753547499769285),\n",
       " (2.053433681242544,\n",
       "  3.031001551014971,\n",
       "  0.9999999999999998,\n",
       "  0.5696012024771592),\n",
       " (2.0772008549082113,\n",
       "  3.09162158203527,\n",
       "  0.9999999999999998,\n",
       "  0.5639051904523876),\n",
       " (2.101105834552865,\n",
       "  3.1534540136759754,\n",
       "  0.9999999999999998,\n",
       "  0.5582661385478638),\n",
       " (2.1251445808382305,\n",
       "  3.216523093949495,\n",
       "  0.9999999999999998,\n",
       "  0.5526834771623851),\n",
       " (2.149312863998661,\n",
       "  3.280853555828485,\n",
       "  0.9999999999999998,\n",
       "  0.5471566423907612),\n",
       " (2.173606260735384,\n",
       "  3.3464706269450546,\n",
       "  0.9999999999999998,\n",
       "  0.5416850759668536),\n",
       " (2.198020151253141, 3.413400039483956, 0.9999999999999998, 0.536268225207185),\n",
       " (2.2225497164549823,\n",
       "  3.481668040273635,\n",
       "  0.9999999999999998,\n",
       "  0.5309055429551132),\n",
       " (2.2471899353117046,\n",
       "  3.5513014010791077,\n",
       "  0.9999999999999998,\n",
       "  0.525596487525562),\n",
       " (2.2719355824232093,\n",
       "  3.62232742910069,\n",
       "  1.0000000000000002,\n",
       "  0.5203405226503064),\n",
       " (2.296781225789773, 3.6947739776827038, 1.0, 0.5151371174238033),\n",
       " (2.321721224812001,\n",
       "  3.7686694572363577,\n",
       "  0.9999999999999998,\n",
       "  0.5099857462495653),\n",
       " (2.3467497285389594,\n",
       "  3.8440428463810847,\n",
       "  0.9999999999999998,\n",
       "  0.5048858887870696),\n",
       " (2.371860674184712,\n",
       "  3.9209237033087065,\n",
       "  0.9999999999999998,\n",
       "  0.4998370298991989),\n",
       " (2.3970477859341996,\n",
       "  3.999342177374881,\n",
       "  0.9999999999999998,\n",
       "  0.49483865960020695),\n",
       " (2.422304574060082,\n",
       "  4.079329020922379,\n",
       "  0.9999999999999998,\n",
       "  0.4898902730042049),\n",
       " (2.4476243343728155,\n",
       "  4.160915601340826,\n",
       "  0.9999999999999998,\n",
       "  0.48499137027416284),\n",
       " (2.4730001480268546,\n",
       "  4.244133913367643,\n",
       "  0.9999999999999998,\n",
       "  0.4801414565714212),\n",
       " (2.4984248817064474,\n",
       "  4.329016591634995,\n",
       "  0.9999999999999998,\n",
       "  0.475340042005707),\n",
       " (2.52389118821499,\n",
       "  4.415596923467695,\n",
       "  0.9999999999999998,\n",
       "  0.47058664158564995),\n",
       " (2.5493915074923863,\n",
       "  4.503908861937049,\n",
       "  1.0000000000000002,\n",
       "  0.4658807751697934),\n",
       " (2.5749180680852177, 4.59398703917579, 1.0, 0.4612219674180955),\n",
       " (2.600462889094856, 4.685866779959306, 1.0, 0.45660974774391455),\n",
       " (2.626017782628833,\n",
       "  4.779584115558492,\n",
       "  0.9999999999999998,\n",
       "  0.4520436502664754),\n",
       " (2.6515743567809156,\n",
       "  4.875175797869662,\n",
       "  0.9999999999999998,\n",
       "  0.44752321376381066),\n",
       " (2.6771240191653027,\n",
       "  4.972679313827055,\n",
       "  0.9999999999999998,\n",
       "  0.44304798162617254),\n",
       " (2.7026579810302387,\n",
       "  5.072132900103597,\n",
       "  0.9999999999999998,\n",
       "  0.4386175018099108),\n",
       " (2.728167261976052,\n",
       "  5.173575558105669,\n",
       "  0.9999999999999998,\n",
       "  0.4342313267918117),\n",
       " (2.753642695302203,\n",
       "  5.277047069267782,\n",
       "  0.9999999999999998,\n",
       "  0.4298890135238936),\n",
       " (2.7790749340073226,\n",
       "  5.382588010653138,\n",
       "  0.9999999999999998,\n",
       "  0.42559012338865465),\n",
       " (2.8044544574654386,\n",
       "  5.490239770866201,\n",
       "  0.9999999999999998,\n",
       "  0.4213342221547681),\n",
       " (2.8297715788006257,\n",
       "  5.600044566283525,\n",
       "  0.9999999999999998,\n",
       "  0.41712087993322045),\n",
       " (2.8550164529811117,\n",
       "  5.712045457609196,\n",
       "  0.9999999999999998,\n",
       "  0.41294967113388825),\n",
       " (2.88017908565247, 5.82628636676138, 0.9999999999999996, 0.40882017442254937),\n",
       " (2.905249342727883, 5.942812094096608, 1.0, 0.4047319726783239),\n",
       " (2.930216960751558,\n",
       "  6.06166833597854,\n",
       "  0.9999999999999998,\n",
       "  0.40068465295154065),\n",
       " (2.95507155804921,\n",
       "  6.1829017026981115,\n",
       "  0.9999999999999998,\n",
       "  0.39667780642202527),\n",
       " (2.9798026466770904,\n",
       "  6.306559736752074,\n",
       "  0.9999999999999998,\n",
       "  0.392711028357805),\n",
       " (3.0043996451783084,\n",
       "  6.432690931487115,\n",
       "  0.9999999999999996,\n",
       "  0.38878391807422696),\n",
       " (3.0288518921521645, 6.561344750116858, 1.0, 0.3848960788934847),\n",
       " (3.053148660638896, 6.692571645119195, 1.0, 0.38104711810454983),\n",
       " (3.0772791733185705, 6.826423078021579, 1.0, 0.37723664692350434),\n",
       " (3.1012326185189405, 6.9629515395820105, 1.0, 0.37346428045426927),\n",
       " (3.1249981670227642,\n",
       "  7.102210570373651,\n",
       "  0.9999999999999998,\n",
       "  0.36972963764972655),\n",
       " (3.1485649896605503,\n",
       "  7.244254781781124,\n",
       "  0.9999999999999996,\n",
       "  0.36603234127322926),\n",
       " (3.1719222756697603,\n",
       "  7.3891398774167465,\n",
       "  0.9999999999999996,\n",
       "  0.36237201786049694),\n",
       " (3.195059251796344, 7.536922674965082, 0.9999999999999996, 0.358748297681892),\n",
       " (3.2179652021089864,\n",
       "  7.687661128464383,\n",
       "  0.9999999999999993,\n",
       "  0.35516081470507305),\n",
       " (3.2406294884907227,\n",
       "  7.841414351033671,\n",
       "  0.9999999999999993,\n",
       "  0.3516092065580223),\n",
       " (3.2630415717665895,\n",
       "  7.998242638054345,\n",
       "  0.9999999999999993,\n",
       "  0.34809311449244207),\n",
       " (3.285191033419784,\n",
       "  8.158207490815432,\n",
       "  0.9999999999999993,\n",
       "  0.34461218334751764),\n",
       " (3.307067597842441,\n",
       "  8.32137164063174,\n",
       "  0.9999999999999993,\n",
       "  0.34116606151404244),\n",
       " (3.3286611550606056,\n",
       "  8.487799073444375,\n",
       "  0.9999999999999993,\n",
       "  0.337754400898902),\n",
       " (3.349961783866384, 8.657555054913262, 0.9999999999999993, 0.334376856889913),\n",
       " (3.370959775283597,\n",
       "  8.830706156011527,\n",
       "  0.9999999999999993,\n",
       "  0.33103308832101386),\n",
       " (3.391645656286621,\n",
       "  9.007320279131758,\n",
       "  0.9999999999999991,\n",
       "  0.3277227574378037),\n",
       " (3.412010213685553,\n",
       "  9.187466684714392,\n",
       "  0.9999999999999991,\n",
       "  0.3244455298634257),\n",
       " (3.4320445180844126,\n",
       "  9.371216018408681,\n",
       "  0.9999999999999991,\n",
       "  0.3212010745647914),\n",
       " (3.4517399478129263,\n",
       "  9.558640338776854,\n",
       "  0.9999999999999991,\n",
       "  0.3179890638191435),\n",
       " (3.4710882127265252,\n",
       "  9.749813145552391,\n",
       "  0.9999999999999991,\n",
       "  0.31480917318095203),\n",
       " (3.490081377763727,\n",
       "  9.944809408463438,\n",
       "  0.9999999999999991,\n",
       "  0.3116610814491425),\n",
       " (3.5087118861450186,\n",
       "  10.143705596632707,\n",
       "  0.9999999999999991,\n",
       "  0.30854447063465107),\n",
       " (3.526972582092916,\n",
       "  10.346579708565361,\n",
       "  0.9999999999999989,\n",
       "  0.30545902592830454),\n",
       " (3.544856732949059,\n",
       "  10.553511302736668,\n",
       "  0.9999999999999987,\n",
       "  0.3024044356690215),\n",
       " (3.5623580505611687,\n",
       "  10.764581528791402,\n",
       "  0.9999999999999987,\n",
       "  0.29938039131233124),\n",
       " (3.5794707118104463,\n",
       "  10.97987315936723,\n",
       "  0.9999999999999984,\n",
       "  0.2963865873992079),\n",
       " (3.59618937814872,\n",
       "  11.199470622554575,\n",
       "  0.9999999999999982,\n",
       "  0.29342272152521587),\n",
       " (3.612509214014365,\n",
       "  11.423460035005666,\n",
       "  0.9999999999999978,\n",
       "  0.2904884943099637),\n",
       " (3.6284259039968045,\n",
       "  11.65192923570578,\n",
       "  0.9999999999999973,\n",
       "  0.28758360936686406),\n",
       " (3.6439356686213817,\n",
       "  11.884967820419895,\n",
       "  0.9999999999999967,\n",
       "  0.2847077732731954),\n",
       " (3.6590352786295384,\n",
       "  12.122667176828294,\n",
       "  0.999999999999996,\n",
       "  0.28186069554046345),\n",
       " (3.6737220676336753,\n",
       "  12.36512052036486,\n",
       "  0.9999999999999951,\n",
       "  0.2790420885850588),\n",
       " (3.6879939430317914,\n",
       "  12.612422930772157,\n",
       "  0.9999999999999942,\n",
       "  0.2762516676992082),\n",
       " (3.7018493950740257,\n",
       "  12.8646713893876,\n",
       "  0.9999999999999929,\n",
       "  0.27348915102221616),\n",
       " (3.7152875039815685,\n",
       "  13.121964817175353,\n",
       "  0.9999999999999911,\n",
       "  0.270754259511994),\n",
       " (3.728307945028051,\n",
       "  13.38440411351886,\n",
       "  0.9999999999999889,\n",
       "  0.26804671691687404),\n",
       " (3.7409109915044065,\n",
       "  13.652092195789237,\n",
       "  0.9999999999999858,\n",
       "  0.2653662497477053),\n",
       " (3.7530975155002984,\n",
       "  13.925134039705021,\n",
       "  0.9999999999999816,\n",
       "  0.2627125872502282),\n",
       " (3.764868986448417,\n",
       "  14.203636720499121,\n",
       "  0.9999999999999756,\n",
       "  0.2600854613777259),\n",
       " (3.7762274673921907,\n",
       "  14.487709454909103,\n",
       "  0.9999999999999676,\n",
       "  0.2574846067639487),\n",
       " (3.7871756089525936,\n",
       "  14.777463644007286,\n",
       "  0.9999999999999567,\n",
       "  0.2549097606963092),\n",
       " (3.7977166409856595,\n",
       "  15.073012916887432,\n",
       "  0.9999999999999418,\n",
       "  0.2523606630893461),\n",
       " (3.8078543619388103,\n",
       "  15.37447317522518,\n",
       "  0.999999999999921,\n",
       "  0.24983705645845267),\n",
       " (3.8175931259310856,\n",
       "  15.681962638729685,\n",
       "  0.9999999999998916,\n",
       "  0.24733868589386815),\n",
       " (3.826937827599572,\n",
       "  15.995601891504279,\n",
       "  0.9999999999998501,\n",
       "  0.24486529903492946),\n",
       " (3.835893884771604,\n",
       "  16.315513929334365,\n",
       "  0.9999999999997913,\n",
       "  0.24241664604458016),\n",
       " (3.844467219039428,\n",
       "  16.641824207921054,\n",
       "  0.9999999999997071,\n",
       "  0.23999247958413436),\n",
       " (3.8526642343307853,\n",
       "  16.974660692079475,\n",
       "  0.9999999999995857,\n",
       "  0.23759255478829303),\n",
       " (3.860491793585077,\n",
       "  17.314153905921064,\n",
       "  0.9999999999994094,\n",
       "  0.2352166292404101),\n",
       " (3.8679571936601698,\n",
       "  17.660436984039485,\n",
       "  0.999999999999152,\n",
       "  0.232864462948006),\n",
       " (3.875068138609359,\n",
       "  18.013645723720277,\n",
       "  0.9999999999987739,\n",
       "  0.23053581831852593),\n",
       " (3.881832711481253,\n",
       "  18.373918638194684,\n",
       "  0.9999999999982143,\n",
       "  0.22823046013534068),\n",
       " (3.888259344807269,\n",
       "  18.74139701095858,\n",
       "  0.9999999999973819,\n",
       "  0.22594815553398728),\n",
       " (3.894356789951813,\n",
       "  19.116224951177752,\n",
       "  0.9999999999961355,\n",
       "  0.22368867397864742),\n",
       " (3.9001340855090074,\n",
       "  19.498549450201306,\n",
       "  0.9999999999942579,\n",
       "  0.22145178723886094),\n",
       " (3.905600524936774,\n",
       "  19.888520439205333,\n",
       "  0.9999999999914131,\n",
       "  0.21923726936647234),\n",
       " (3.91076562362424, 20.28629084798944, 0.9999999999870779, 0.2170448966728076),\n",
       " (3.9156390855916383,\n",
       "  20.692016664949232,\n",
       "  0.9999999999804337,\n",
       "  0.21487444770607952),\n",
       " (3.9202307700231276,\n",
       "  21.105856998248218,\n",
       "  0.9999999999701936,\n",
       "  0.21272570322901874),\n",
       " (3.92455065783227,\n",
       "  21.52797413821318,\n",
       "  0.9999999999543254,\n",
       "  0.21059844619672854),\n",
       " (3.928608818457242,\n",
       "  21.958533620977445,\n",
       "  0.9999999999296032,\n",
       "  0.20849246173476127),\n",
       " (3.9324153770783665,\n",
       "  22.397704293396995,\n",
       "  0.9999999998908824,\n",
       "  0.20640753711741366),\n",
       " (3.93598048244421,\n",
       "  22.845658379264936,\n",
       "  0.9999999998299209,\n",
       "  0.20434346174623952),\n",
       " (3.9393142754844623,\n",
       "  23.302571546850235,\n",
       "  0.9999999997334539,\n",
       "  0.20230002712877712),\n",
       " (3.942426858878231,\n",
       "  23.76862297778724,\n",
       "  0.9999999995800348,\n",
       "  0.20027702685748935),\n",
       " (3.9453282677353427,\n",
       "  24.243995437342985,\n",
       "  0.999999999334837,\n",
       "  0.19827425658891445),\n",
       " (3.9480284415359415,\n",
       "  24.728875346089843,\n",
       "  0.9999999989410562,\n",
       "  0.1962915140230253),\n",
       " (3.950537197460315,\n",
       "  25.22345285301164,\n",
       "  0.9999999983056436,\n",
       "  0.19432859888279505),\n",
       " (3.95286420522657, 25.727921910071874, 0.99999999727553, 0.1923853128939671),\n",
       " (3.955018963538778,\n",
       "  26.24248034827331,\n",
       "  0.9999999955978569,\n",
       "  0.19046145976502743),\n",
       " (3.957010778232714,\n",
       "  26.76732995523878,\n",
       "  0.9999999928531988,\n",
       "  0.18855684516737714),\n",
       " (3.958848742190454,\n",
       "  27.302676554343556,\n",
       "  0.9999999883430153,\n",
       "  0.18667127671570335),\n",
       " (3.9605417170791264,\n",
       "  27.84873008543043,\n",
       "  0.9999999808992565,\n",
       "  0.18480456394854633),\n",
       " (3.962098316953216,\n",
       "  28.40570468713904,\n",
       "  0.9999999685611017,\n",
       "  0.18295651830906087),\n",
       " (3.9635268937441,\n",
       "  28.973818780881814,\n",
       "  0.9999999480241343,\n",
       "  0.18112695312597027),\n",
       " (3.9648355246452023,\n",
       "  29.553295156499445,\n",
       "  0.9999999136984231,\n",
       "  0.17931568359471056),\n",
       " (3.9660320013864063,\n",
       "  30.144361059629407,\n",
       "  0.9999998560921963,\n",
       "  0.17752252675876345),\n",
       " (3.967123821377254,\n",
       "  30.74724828082192,\n",
       "  0.9999997590286722,\n",
       "  0.17574730149117582),\n",
       " (3.9681181806851904,\n",
       "  31.36219324643815,\n",
       "  0.9999995948374123,\n",
       "  0.17398982847626407),\n",
       " (3.969021968802696,\n",
       "  31.989437111366293,\n",
       "  0.9999993160183303,\n",
       "  0.17224993019150142),\n",
       " (3.969841765145768,\n",
       "  32.62922585359182,\n",
       "  0.9999988407432592,\n",
       "  0.1705274308895864),\n",
       " (3.9705838372158144,\n",
       "  33.2818103706584,\n",
       "  0.9999980275575681,\n",
       "  0.16882215658069055),\n",
       " (3.9712541403478117,\n",
       "  33.947446578056024,\n",
       "  0.9999966310957386,\n",
       "  0.16713393501488363),\n",
       " (3.971858318959436,\n",
       "  34.626395509570905,\n",
       "  0.9999942243181547,\n",
       "  0.16546259566473479),\n",
       " (3.972401709208967,\n",
       "  35.318923419623715,\n",
       "  0.9999900615362772,\n",
       "  0.16380796970808745),\n",
       " (3.9728893429639656,\n",
       "  36.025301887597564,\n",
       "  0.9999828364051958,\n",
       "  0.16216989001100657),\n",
       " (3.9733259529781555, 36.745807924076, 0.999970253063821, 0.1605481911108965),\n",
       " (3.973715979170542,\n",
       "  37.48072407865564,\n",
       "  0.9999482639219525,\n",
       "  0.15894270919978754),\n",
       " (3.974063575898563,\n",
       "  38.23033854819015,\n",
       "  0.9999097110827122,\n",
       "  0.15735328210778965),\n",
       " (3.9743726201162297,\n",
       "  38.9949452817551,\n",
       "  0.9998418980160001,\n",
       "  0.15577974928671176),\n",
       " (3.9746467203089986,\n",
       "  39.77484407042298,\n",
       "  0.9997222374319532,\n",
       "  0.15422195179384465),\n",
       " (3.974889226100888,\n",
       "  40.57034058358618,\n",
       "  0.9995104312904265,\n",
       "  0.1526797322759062),\n",
       " (3.975103238439399,\n",
       "  41.38174622840206,\n",
       "  0.9991343868366489,\n",
       "  0.15115293495314713),\n",
       " (3.9752916202902213,\n",
       "  42.209377432157794,\n",
       "  0.9984648012376551,\n",
       "  0.14964140560361566),\n",
       " (3.9754570078450495,\n",
       "  43.05355304313517,\n",
       "  0.9972692378686697,\n",
       "  0.1481449915475795),\n",
       " (3.9756018224439496,\n",
       "  43.91458557763709,\n",
       "  0.9951291354490376,\n",
       "  0.1466635416321037),\n",
       " (3.9757282839725754,\n",
       "  44.792752262670604,\n",
       "  0.9912901486171283,\n",
       "  0.14519690621578268),\n",
       " (3.9758384280803276,\n",
       "  45.6881995424192,\n",
       "  0.9843940071194766,\n",
       "  0.14374493715362485),\n",
       " (3.975934134061873,\n",
       "  46.600628266319916,\n",
       "  0.9720054447362063,\n",
       "  0.1423074877820886),\n",
       " (3.976017182921506, 47.52825834942626, 0.949806386835444, 0.1408844129042677),\n",
       " (3.976089400653166,\n",
       "  48.46445439995426,\n",
       "  0.9103345450936589,\n",
       "  0.13947556877522502),\n",
       " (3.976153042478163,\n",
       "  49.38698559995857,\n",
       "  0.8414387847244216,\n",
       "  0.13808081308747278),\n",
       " (3.9762118881901243,\n",
       "  50.225724821899924,\n",
       "  0.7260573993134875,\n",
       "  0.13670000495659804),\n",
       " (3.976274816848433, 50.777939297432, 0.5493001256746713, 0.13533300490703207),\n",
       " (3.9763699383375353,\n",
       "  50.55575305077341,\n",
       "  0.3239547291777017,\n",
       "  0.13397967485796175),\n",
       " (3.975971583631702,\n",
       "  48.79416488384874,\n",
       "  0.12212488177040279,\n",
       "  0.13263987810938213),\n",
       " (3.94317769147644,\n",
       "  45.25757519260852,\n",
       "  0.02375908889200261,\n",
       "  0.1313134793282883),\n",
       " (3.779639290578545,\n",
       "  40.986818856622314,\n",
       "  0.0029519032629985275,\n",
       "  0.13000034453500542),\n",
       " (3.563728068998596,\n",
       "  36.917131503014645,\n",
       "  0.0004277871023580755,\n",
       "  0.12870034108965536),\n",
       " (3.3521693266729087,\n",
       "  33.22920778345611,\n",
       "  8.34985878780548e-05,\n",
       "  0.12741333767875881),\n",
       " (3.1520584963453233,\n",
       "  29.906952879371854,\n",
       "  2.1250538206540802e-05,\n",
       "  0.12613920430197123),\n",
       " (2.9635533490129378,\n",
       "  26.916410119136756,\n",
       "  6.7616000361143184e-06,\n",
       "  0.12487781225895152),\n",
       " (2.7860174687023873,\n",
       "  24.224812786595322,\n",
       "  2.593575959349457e-06,\n",
       "  0.123629034136362),\n",
       " (2.6187457943326518,\n",
       "  21.80234658685033,\n",
       "  1.1632051142475747e-06,\n",
       "  0.12239274379499838),\n",
       " (2.4610737591343996,\n",
       "  19.62211801470601,\n",
       "  5.946261981270666e-07,\n",
       "  0.1211688163570484),\n",
       " (2.3123965476904447,\n",
       "  17.65990901351268,\n",
       "  3.3916219063048477e-07,\n",
       "  0.11995712819347792),\n",
       " (2.172169641411128,\n",
       "  15.893919549658792,\n",
       "  2.1203522161528684e-07,\n",
       "  0.11875755691154315),\n",
       " (2.039903494100858,\n",
       "  14.304528403509808,\n",
       "  1.4314286273666805e-07,\n",
       "  0.11756998134242772),\n",
       " (1.9151559808973577,\n",
       "  12.874076054580668,\n",
       "  1.0305501509205895e-07,\n",
       "  0.11639428152900344),\n",
       " (1.797524352087959,\n",
       "  11.586668767539727,\n",
       "  7.830008627694368e-08,\n",
       "  0.11523033871371341),\n",
       " (1.6866377179530678,\n",
       "  10.428002108522666,\n",
       "  6.223583734235292e-08,\n",
       "  0.11407803532657627),\n",
       " (1.582150628283022,\n",
       "  9.385202053429301,\n",
       "  5.137024458378778e-08,\n",
       "  0.11293725497331052),\n",
       " (1.4837379625689615,\n",
       "  8.446681963795198,\n",
       "  4.3762250948270416e-08,\n",
       "  0.1118078824235774),\n",
       " (1.3910911079772865,\n",
       "  7.6020138561306725,\n",
       "  3.8279124508897105e-08,\n",
       "  0.11068980359934164),\n",
       " (1.3039152638400902,\n",
       "  6.841812540357228,\n",
       "  3.423100519655387e-08,\n",
       "  0.10958290556334822),\n",
       " (1.2219276521756481,\n",
       "  6.1576313425300135,\n",
       "  3.118162412991107e-08,\n",
       "  0.10848707650771475),\n",
       " (1.1448564077159473,\n",
       "  5.5418682543581985,\n",
       "  2.8845720343583016e-08,\n",
       "  0.1074022057426376),\n",
       " (1.0724399449088544,\n",
       "  4.987681467288581,\n",
       "  2.7031153403839943e-08,\n",
       "  0.10632818368521123),\n",
       " (1.004426636299793,\n",
       "  4.488913352917191,\n",
       "  2.5605036288018305e-08,\n",
       "  0.10526490184835911),\n",
       " (0.9405746757514438,\n",
       "  4.040022045210781,\n",
       "  2.4473267550215148e-08,\n",
       "  0.10421225282987552),\n",
       " (0.880652035286374,\n",
       "  3.636019864419113,\n",
       "  2.3567793288814826e-08,\n",
       "  0.10317013030157676),\n",
       " (0.8244364534896907,\n",
       "  3.272417898543513,\n",
       "  2.2838465701006917e-08,\n",
       "  0.10213842899856099),\n",
       " (0.7717154159659299,\n",
       "  2.945176126626042,\n",
       "  2.224771134996251e-08,\n",
       "  0.10111704470857538),\n",
       " (0.7222861049255075,\n",
       "  2.6506585296890606,\n",
       "  2.176696054305964e-08,\n",
       "  0.10010587426148963),\n",
       " (0.6759553066153677,\n",
       "  2.3855926905673814,\n",
       "  2.1374206226544335e-08,\n",
       "  0.09910481551887473),\n",
       " (0.6325392731029421,\n",
       "  2.147033433748279,\n",
       "  2.105230281058723e-08,\n",
       "  0.09811376736368599),\n",
       " (0.59186353986008,\n",
       "  1.9323301012214504,\n",
       "  2.078775931438018e-08,\n",
       "  0.09713262969004913),\n",
       " (0.5537627034884668,\n",
       "  1.7390971007398204,\n",
       "  2.0569868845820994e-08,\n",
       "  0.09616130339314863),\n",
       " (0.5180801654140404,\n",
       "  1.565187399251358,\n",
       "  2.0390070886119384e-08,\n",
       "  0.09519969035921715),\n",
       " (0.48466784792828266,\n",
       "  1.4086686669856499,\n",
       "  2.0241477349730847e-08,\n",
       "  0.09424769345562498),\n",
       " (0.4533858889107732,\n",
       "  1.2678018071303332,\n",
       "  2.011851563940404e-08,\n",
       "  0.09330521652106873),\n",
       " (0.42410232116979313,\n",
       "  1.1410216325388094,\n",
       "  2.0016656503595957e-08,\n",
       "  0.09237216435585804),\n",
       " (0.3966927417495209,\n",
       "  1.0269194747663937,\n",
       "  1.9932204215941648e-08,\n",
       "  0.09144844271229946),\n",
       " (0.3710399758816001,\n",
       "  0.9242275322022587,\n",
       "  1.986213315733849e-08,\n",
       "  0.09053395828517646),\n",
       " (0.34703373957449973,\n",
       "  0.8318047833877441,\n",
       "  1.980395937439211e-08,\n",
       "  0.08962861870232469),\n",
       " (0.3245703041779067,\n",
       "  0.7486243090024964,\n",
       "  1.9755638805766288e-08,\n",
       "  0.08873233251530144),\n",
       " (0.30355216565478915,\n",
       "  0.6737618816517391,\n",
       "  1.971548605896591e-08,\n",
       "  0.08784500919014843),\n",
       " (0.2838877207520125,\n",
       "  0.6063856966746155,\n",
       "  1.9682109178826534e-08,\n",
       "  0.08696655909824694),\n",
       " (0.26549095178496096,\n",
       "  0.5457471298715418,\n",
       "  1.9654356971332726e-08,\n",
       "  0.08609689350726446),\n",
       " (0.24828112134122027,\n",
       "  0.49117241945870177,\n",
       "  1.9631276264074235e-08,\n",
       "  0.08523592457219181),\n",
       " (0.2321824778589524,\n",
       "  0.44205517982699355,\n",
       "  1.9612077087265776e-08,\n",
       "  0.0843835653264699),\n",
       " (0.21712397274164705,\n",
       "  0.39784966392500304,\n",
       "  1.9596104208375606e-08,\n",
       "  0.0835397296732052),\n",
       " (0.20303898942640436,\n",
       "  0.35806469940361557,\n",
       "  1.9582813791781224e-08,\n",
       "  0.08270433237647315),\n",
       " (0.18986508462169063,\n",
       "  0.32225823114611346,\n",
       "  1.957175421247684e-08,\n",
       "  0.08187728905270841),\n",
       " (0.17754374176678897,\n",
       "  0.29003240954522025,\n",
       "  1.9562550250927227e-08,\n",
       "  0.08105851616218133),\n",
       " (0.1660201366335777,\n",
       "  0.2610291699524039,\n",
       "  1.9554890049881684e-08,\n",
       "  0.08024793100055952),\n",
       " (0.15524291488697345,\n",
       "  0.23492625418221869,\n",
       "  1.954851433429804e-08,\n",
       "  0.07944545169055392),\n",
       " (0.14516398133909117,\n",
       "  0.21143362986618702,\n",
       "  1.9543207490481514e-08,\n",
       "  0.07865099717364837),\n",
       " (0.13573830057016034,\n",
       "  0.19029026787127024,\n",
       "  1.9538790176013813e-08,\n",
       "  0.07786448720191189),\n",
       " (0.12692370854324986,\n",
       "  0.1712612419764732,\n",
       "  1.9535113192421873e-08,\n",
       "  0.07708584232989277),\n",
       " (0.11868073480711737,\n",
       "  0.15413511858177173,\n",
       "  1.953205240111285e-08,\n",
       "  0.07631498390659384),\n",
       " (0.11097243485963539,\n",
       "  0.1387216074461326,\n",
       "  1.9529504502386157e-08,\n",
       "  0.07555183406752791),\n",
       " (0.10376423223124652,\n",
       "  0.12484944735171877,\n",
       "  1.9527383529243612e-08,\n",
       "  0.07479631572685264),\n",
       " (0.09702376984206436,\n",
       "  0.11236450320166282,\n",
       "  1.9525617933739296e-08,\n",
       "  0.07404835256958411),\n",
       " (0.09072077018613933,\n",
       "  0.10112805340805325,\n",
       "  1.9524148164898777e-08,\n",
       "  0.07330786904388827),\n",
       " (0.08482690390085702,\n",
       "  0.09101524854111331,\n",
       "  1.9522924654703126e-08,\n",
       "  0.07257479035344938),\n",
       " (0.07931566628743504,\n",
       "  0.0819137241134541,\n",
       "  1.952190614299784e-08,\n",
       "  0.07184904244991488),\n",
       " (0.07416226135921121,\n",
       "  0.07372235208589557,\n",
       "  1.9521058284024618e-08,\n",
       "  0.07113055202541574),\n",
       " (0.0693434930071869,\n",
       "  0.0663501172226992,\n",
       "  1.9520352487046875e-08,\n",
       "  0.07041924650516158),\n",
       " (0.06483766288654694,\n",
       "  0.05971510581127193,\n",
       "  1.9519764951619354e-08,\n",
       "  0.06971505404010997),\n",
       " (0.06062447464316312,\n",
       "  0.05374359550989469,\n",
       "  1.951927586474014e-08,\n",
       "  0.06901790349970886),\n",
       " (0.0566849441150281,\n",
       "  0.04836923621067387,\n",
       "  1.9518868732664797e-08,\n",
       "  0.06832772446471178),\n",
       " (0.0530013151598621,\n",
       "  0.04353231281619355,\n",
       "  1.9518529824757962e-08,\n",
       "  0.06764444722006466),\n",
       " (0.04955698077654191,\n",
       "  0.03917908173849901,\n",
       "  1.951824771057152e-08,\n",
       "  0.066968002747864),\n",
       " (0.04633640920433166,\n",
       "  0.035261173748178797,\n",
       "  1.9518012874505217e-08,\n",
       "  0.06629832272038537),\n",
       " (0.04332507469999498,\n",
       "  0.031735056538535644,\n",
       "  1.951781739503665e-08,\n",
       "  0.06563533949318151),\n",
       " (0.04050939270862362,\n",
       "  0.028561551033337847,\n",
       "  1.9517654677694e-08,\n",
       "  0.06497898609824969),\n",
       " (0.03787665915934009,\n",
       "  0.02570539606379314,\n",
       "  1.951751923276293e-08,\n",
       "  0.0643291962372672),\n",
       " (0.03541499363185545,\n",
       "  0.02313485657782316,\n",
       "  1.9517406490230687e-08,\n",
       "  0.06368590427489453),\n",
       " (0.03311328615414341,\n",
       "  0.020821371028408617,\n",
       "  1.9517312645728138e-08,\n",
       "  0.06304904523214558),\n",
       " (0.03096114740519597,\n",
       "  0.018739234023098284,\n",
       "  1.9517234532276375e-08,\n",
       "  0.06241855477982412),\n",
       " (0.028948862109936732,\n",
       "  0.01686531070856558,\n",
       "  1.951716951351534e-08,\n",
       "  0.06179436923202588),\n",
       " (0.027067345425877017,\n",
       "  0.015178779716708172,\n",
       "  1.9517115394816085e-08,\n",
       "  0.06117642553970562),\n",
       " (0.025308102133006164,\n",
       "  0.013660901816136394,\n",
       "  1.9517070349281306e-08,\n",
       "  0.06056466128430856),\n",
       " (0.0236631884497175,\n",
       "  0.012294811698511742,\n",
       "  1.9517032856140483e-08,\n",
       "  0.05995901467146548),\n",
       " (0.02212517630829547,\n",
       "  0.011065330586250546,\n",
       "  1.9517001649463835e-08,\n",
       "  0.05935942452475082),\n",
       " (0.020687119933642136,\n",
       "  0.00995879757945639,\n",
       "  1.9516975675466795e-08,\n",
       "  0.058765830279503314),\n",
       " (0.01934252457851986,\n",
       "  0.008962917868158497,\n",
       "  1.951695405696628e-08,\n",
       "  0.05817817197670828),\n",
       " (0.018085317277650715,\n",
       "  0.008066626123325572,\n",
       "  1.9516936063790992e-08,\n",
       "  0.057596390256941195),\n",
       " (0.016909819491562752,\n",
       "  0.007259963548777613,\n",
       "  1.9516921088148442e-08,\n",
       "  0.05702042635437178),\n",
       " (0.01581072151913008,\n",
       "  0.006533967227905964,\n",
       "  1.951690862411862e-08,\n",
       "  0.05645022209082806),\n",
       " (0.014783058565340169,\n",
       "  0.0058805705357208495,\n",
       "  1.951689825058303e-08,\n",
       "  0.05588571986991978),\n",
       " (0.0138221883579596,\n",
       "  0.0052925135096936835,\n",
       "  1.9516889617013745e-08,\n",
       "  0.055326862671220584),\n",
       " (0.012923770213481055,\n",
       "  0.004763262183514732,\n",
       "  1.9516882431643378e-08,\n",
       "  0.05477359404450838),\n",
       " (0.012083745459041312,\n",
       "  0.004286935987474625,\n",
       "  1.9516876451617158e-08,\n",
       "  0.054225858104063294),\n",
       " (0.011298319122923702,\n",
       "  0.0038582424088073864,\n",
       "  1.9516871474795104e-08,\n",
       "  0.05368359952302266),\n",
       " (0.010563942811819431,\n",
       "  0.0034724181859988445,\n",
       "  1.9516867332927838e-08,\n",
       "  0.053146763527792434),\n",
       " (0.009877298698240692,\n",
       "  0.0031251763836639343,\n",
       "  1.951686388597591e-08,\n",
       "  0.052615295892514506),\n",
       " (0.00923528454637355,\n",
       "  0.0028126587599360147,\n",
       "  1.951686101738114e-08,\n",
       "  0.052089142933589364),\n",
       " (0.008634999709248968,\n",
       "  0.002531392897117038,\n",
       "  1.9516858630130345e-08,\n",
       "  0.05156825150425347),\n",
       " (0.008073732034413413,\n",
       "  0.002278253619262495,\n",
       "  1.951685664347879e-08,\n",
       "  0.051052568989210935),\n",
       " (0.007548945619313515,\n",
       "  0.0020504282680076894,\n",
       "  1.9516854990222787e-08,\n",
       "  0.05054204329931883),\n",
       " (0.007058269361387957,\n",
       "  0.001845385450811219,\n",
       "  1.951685361442945e-08,\n",
       "  0.05003662286632564),\n",
       " (0.006599486251399654,\n",
       "  0.0016608469143739653,\n",
       "  1.9516852469546942e-08,\n",
       "  0.04953625663766238)]"
      ]
     },
     "execution_count": 19,
     "metadata": {},
     "output_type": "execute_result"
    }
   ],
   "source": [
    "g = simulation()\n",
    "ergebnisse = [next(g) for _ in range(300)]\n",
    "ergebnisse[10:]"
   ]
  },
  {
   "cell_type": "markdown",
   "metadata": {
    "slideshow": {
     "slide_type": "subslide"
    }
   },
   "source": [
    "Lassen wir uns die ```ergebnisse``` noch darstellen:"
   ]
  },
  {
   "cell_type": "code",
   "execution_count": 20,
   "metadata": {
    "slideshow": {
     "slide_type": "-"
    }
   },
   "outputs": [
    {
     "data": {
      "text/plain": [
       "[<matplotlib.lines.Line2D at 0x7fe12c5dbf10>,\n",
       " <matplotlib.lines.Line2D at 0x7fe12c5ef1d0>,\n",
       " <matplotlib.lines.Line2D at 0x7fe12c5ef390>,\n",
       " <matplotlib.lines.Line2D at 0x7fe12c5ef550>]"
      ]
     },
     "execution_count": 20,
     "metadata": {},
     "output_type": "execute_result"
    },
    {
     "data": {
      "image/png": "[encoded data removed]",
      "text/plain": [
       "<Figure size 432x288 with 1 Axes>"
      ]
     },
     "metadata": {
      "needs_background": "light"
     },
     "output_type": "display_data"
    }
   ],
   "source": [
    "import matplotlib.pyplot as plt\n",
    "%matplotlib inline\n",
    "\n",
    "plt.plot(ergebnisse)"
   ]
  },
  {
   "cell_type": "markdown",
   "metadata": {
    "slideshow": {
     "slide_type": "slide"
    }
   },
   "source": [
    "### Funktionen höherer Ordnung\n",
    "\n",
    "**Höhere Funktionen** sind solche, welche selbst **Funktionen als  Argumente** übernehmen oder sie als **Ergebnis** zurückgeben."
   ]
  },
  {
   "cell_type": "markdown",
   "metadata": {
    "slideshow": {
     "slide_type": "fragment"
    }
   },
   "source": [
    "Einige solche Funktionen sind **bereits in der Standardbibliothek** enthalten:\n",
    "+ ```map``` : Wendet eine Funktion auf alle Elemente einer Kollektion an."
   ]
  },
  {
   "cell_type": "code",
   "execution_count": 21,
   "metadata": {
    "slideshow": {
     "slide_type": "-"
    }
   },
   "outputs": [
    {
     "data": {
      "text/plain": [
       "[0, 1, 4, 9, 16, 25, 36, 49, 64, 81]"
      ]
     },
     "execution_count": 21,
     "metadata": {},
     "output_type": "execute_result"
    }
   ],
   "source": [
    "list(map(lambda x: x*x, range(10)))"
   ]
  },
  {
   "cell_type": "markdown",
   "metadata": {
    "slideshow": {
     "slide_type": "fragment"
    }
   },
   "source": [
    "+ ```filter``` - Filtert die Elemente einer Funktion anhand einer Funktion (genannt Predikat) welche eine ```bool``` ergibt:"
   ]
  },
  {
   "cell_type": "code",
   "execution_count": 22,
   "metadata": {
    "slideshow": {
     "slide_type": "-"
    }
   },
   "outputs": [
    {
     "data": {
      "text/plain": [
       "[1, 6]"
      ]
     },
     "execution_count": 22,
     "metadata": {},
     "output_type": "execute_result"
    }
   ],
   "source": [
    "list(filter(lambda x: x%5 == 1, range(10)))"
   ]
  },
  {
   "cell_type": "markdown",
   "metadata": {
    "slideshow": {
     "slide_type": "fragment"
    }
   },
   "source": [
    "Viele **weitere höhere Funktionen** befinden sich in den Modulen [functools](https://docs.python.org/3/library/functools.html) und [itertools](https://docs.python.org/3/library/itertools.html).<br>\n",
    "Einige davon werden wir nun bei einer Analyse der Wonderland-Ergebnisse **genauer unter die Lupe nehmen**."
   ]
  },
  {
   "cell_type": "markdown",
   "metadata": {
    "slideshow": {
     "slide_type": "slide"
    }
   },
   "source": [
    "### Weitere Filter - Funktionen\n",
    "\n",
    "Die Funktion ```filter``` kennen wir nun schon. Zu ihr gesellen sich in ```itertools``` noch weitere, ähnliche Funktionen:"
   ]
  },
  {
   "cell_type": "markdown",
   "metadata": {
    "slideshow": {
     "slide_type": "fragment"
    }
   },
   "source": [
    "+ ```filerfalse``` : Entfernt alle Elemente für welche die überreichte Funktion ```True``` ergibt."
   ]
  },
  {
   "cell_type": "code",
   "execution_count": 23,
   "metadata": {
    "slideshow": {
     "slide_type": "-"
    }
   },
   "outputs": [
    {
     "data": {
      "text/plain": [
       "['a']"
      ]
     },
     "execution_count": 23,
     "metadata": {},
     "output_type": "execute_result"
    }
   ],
   "source": [
    "list( itertools.filterfalse(lambda x: len(x)>1, ['a','ab'])  )"
   ]
  },
  {
   "cell_type": "markdown",
   "metadata": {
    "slideshow": {
     "slide_type": "fragment"
    }
   },
   "source": [
    "+ ```dropwhile``` : Entfernt alle Elemente **solange** eine Funktion für diese Elemente ```True``` ergibt:"
   ]
  },
  {
   "cell_type": "code",
   "execution_count": 24,
   "metadata": {
    "slideshow": {
     "slide_type": "-"
    }
   },
   "outputs": [
    {
     "data": {
      "text/plain": [
       "[4, 5, 6, 7, 8, 9]"
      ]
     },
     "execution_count": 24,
     "metadata": {},
     "output_type": "execute_result"
    }
   ],
   "source": [
    "list( itertools.dropwhile(lambda x: x != 4, range(10))  )"
   ]
  },
  {
   "cell_type": "markdown",
   "metadata": {
    "slideshow": {
     "slide_type": "fragment"
    }
   },
   "source": [
    "+ ```takewhile``` : Entfernt alle Elemente **nachdem** eine Funktion für ein Element ```False``` ergibt:"
   ]
  },
  {
   "cell_type": "code",
   "execution_count": 25,
   "metadata": {
    "slideshow": {
     "slide_type": "-"
    }
   },
   "outputs": [
    {
     "data": {
      "text/plain": [
       "[0, 1, 2, 3]"
      ]
     },
     "execution_count": 25,
     "metadata": {},
     "output_type": "execute_result"
    }
   ],
   "source": [
    "list(  itertools.takewhile(lambda x: x != 4, range(10))  )"
   ]
  },
  {
   "cell_type": "markdown",
   "metadata": {
    "slideshow": {
     "slide_type": "skip"
    }
   },
   "source": [
    "<div class=\"alert alert-block alert-info\">\n",
    "<h3>Tipp: Kollektionen lazy machen</h3>\n",
    "    \n",
    "<code>next</code> funktioniert nicht nur bei verzögerter Auswertung, es lässt sich auf alle Kollektionen anwenden. Dazu muss man aus der Kollektion nur einen <code>Iterator</code> machen. Dazu gibt es die Funktion <code>ìter</code>.\n",
    "<pre><code>>>>l = list(range(10))\n",
    ">>>i = iter(l)\n",
    ">>>next(i)\n",
    "0\n",
    "</code></pre>\n",
    "</div>"
   ]
  },
  {
   "cell_type": "markdown",
   "metadata": {
    "slideshow": {
     "slide_type": "slide"
    }
   },
   "source": [
    "## Faltungen\n",
    "\n",
    "Faltungen wenden eine **Funktion mit zwei Argumenten** auf die Elemente einer Kollektion an. Das kann man sich so vorstellen, dass die **Beistriche** in zB einer Liste, durch einen **Operator ersetzt** werden:\n",
    "\n",
    "~~~haskell\n",
    "[ 1 , 2 , 3 , 4 ] <=> 1 : 2 : 3 : 4 : [] => 1 * 2 * 3 * 4 (* 1)\n",
    "~~~\n",
    "\n",
    "In Python befindet sich diese Funktion in ```functools``` und heißt ```reduce```."
   ]
  },
  {
   "cell_type": "code",
   "execution_count": 26,
   "metadata": {
    "slideshow": {
     "slide_type": "-"
    }
   },
   "outputs": [],
   "source": [
    "import functools"
   ]
  },
  {
   "cell_type": "markdown",
   "metadata": {
    "slideshow": {
     "slide_type": "fragment"
    }
   },
   "source": [
    "```reduce``` kann zum Beispiel Summen oder Faktorielle berechnen und nimmt dazu **drei Argumente** entgegen:\n",
    "+ ```f``` - Eine Funktion mit zwei Argumenten und einem Rückgabewert\n",
    "+ ```l``` - Eine Kollektion\n",
    "+ ```s``` - Den Startwert\n",
    "\n",
    "Am besten sieht man das an einem **Beispiel**:"
   ]
  },
  {
   "cell_type": "code",
   "execution_count": 27,
   "metadata": {
    "slideshow": {
     "slide_type": "-"
    }
   },
   "outputs": [
    {
     "data": {
      "text/plain": [
       "24"
      ]
     },
     "execution_count": 27,
     "metadata": {},
     "output_type": "execute_result"
    }
   ],
   "source": [
    "functools.reduce(lambda x,y: x*y, range(1,5))"
   ]
  },
  {
   "cell_type": "markdown",
   "metadata": {
    "slideshow": {
     "slide_type": "subslide"
    }
   },
   "source": [
    "In den meisten Nutzungsszenarien kann ```reduce``` durch einfachere Funktionen ersetzt werden:\n",
    "+ ```sum``` - Berechnet die Summe\n",
    "+ ```any``` - Setzt ein logisches 'oder' ```or``` zwischen alle Elemente\n",
    "+ ```all``` - Wie ```any``` nur mit 'und' (```and```)\n",
    "+ ```math.factorial``` - Berechnet Faktorielle\n",
    "+ ```str.join``` - Fügt eine Kollektion von Strings zusammen"
   ]
  },
  {
   "cell_type": "code",
   "execution_count": 28,
   "metadata": {
    "scrolled": true,
    "slideshow": {
     "slide_type": "-"
    }
   },
   "outputs": [
    {
     "data": {
      "text/plain": [
       "14"
      ]
     },
     "execution_count": 28,
     "metadata": {},
     "output_type": "execute_result"
    }
   ],
   "source": [
    "sum(x*x for x in range(4))"
   ]
  },
  {
   "cell_type": "markdown",
   "metadata": {
    "slideshow": {
     "slide_type": "slide"
    }
   },
   "source": [
    "### Das Operator - Modul\n",
    "\n",
    "Funktionen höherer Ordnung verlangen fast immer eine Funktion als Argument. Bisher haben wir dabei meistens von ```lambda``` - Ausdrücken Gebrauch gemacht. Dies ist oft **umständlich** wenn wir doch nur kurze **Ausdrücke in eine Funktion** umwandeln wollen."
   ]
  },
  {
   "cell_type": "markdown",
   "metadata": {
    "slideshow": {
     "slide_type": "skip"
    }
   },
   "source": [
    "Das [Modul ```operator```](https://docs.python.org/3/library/operator.html) bietet hier eine Lösung."
   ]
  },
  {
   "cell_type": "code",
   "execution_count": 29,
   "metadata": {
    "slideshow": {
     "slide_type": "-"
    }
   },
   "outputs": [],
   "source": [
    "import operator as op"
   ]
  },
  {
   "cell_type": "markdown",
   "metadata": {
    "slideshow": {
     "slide_type": "fragment"
    }
   },
   "source": [
    "**Operatoren** wie ```+``` für die Addition oder ```*``` für die Multiplikation sind hier als Funktionen hinterlegt. <br>\n",
    "So verkürzt sich ```lambda x,y: x+y``` zu ```add```."
   ]
  },
  {
   "cell_type": "code",
   "execution_count": 30,
   "metadata": {
    "slideshow": {
     "slide_type": "-"
    }
   },
   "outputs": [
    {
     "data": {
      "text/plain": [
       "171"
      ]
     },
     "execution_count": 30,
     "metadata": {},
     "output_type": "execute_result"
    }
   ],
   "source": [
    "functools.reduce(op.add,range(19))"
   ]
  },
  {
   "cell_type": "code",
   "execution_count": 31,
   "metadata": {
    "slideshow": {
     "slide_type": "fragment"
    }
   },
   "outputs": [
    {
     "data": {
      "text/plain": [
       "362880"
      ]
     },
     "execution_count": 31,
     "metadata": {},
     "output_type": "execute_result"
    }
   ],
   "source": [
    "functools.reduce(op.mul, range(1,10)) # Multiplikation mit 'mul'"
   ]
  },
  {
   "cell_type": "markdown",
   "metadata": {
    "slideshow": {
     "slide_type": "-"
    }
   },
   "source": [
    "Wir überreichen also der Funktion ```reduce``` ein **Funktions - Objekt**, indem wir letztere auf **keine Argumente anwenden**; Das übernimmt ```reduce``` für uns."
   ]
  },
  {
   "cell_type": "markdown",
   "metadata": {
    "slideshow": {
     "slide_type": "fragment"
    }
   },
   "source": [
    "#### Weitere Inhalte von Operator\n",
    "\n",
    "Neben anderen Operatoren, bietet ```operator``` weitere Hilfsmittel um ```lambda``` - Ausdrücke vermeiden zu können.\n",
    "\n",
    "Es ist zum Beispiel oft nötig das ```i```-te Element einer Kollektion zu entnehmen.\n",
    "~~~python\n",
    "lambda kol: kol[i]\n",
    "~~~\n",
    "Dies lässt sich durch ```operator.itemgetter``` ersetzen:"
   ]
  },
  {
   "cell_type": "code",
   "execution_count": 32,
   "metadata": {
    "slideshow": {
     "slide_type": "-"
    }
   },
   "outputs": [
    {
     "data": {
      "text/plain": [
       "9"
      ]
     },
     "execution_count": 32,
     "metadata": {},
     "output_type": "execute_result"
    }
   ],
   "source": [
    "letztes_element = op.itemgetter(-1)\n",
    "letztes_element(range(10))"
   ]
  },
  {
   "cell_type": "markdown",
   "metadata": {
    "slideshow": {
     "slide_type": "skip"
    }
   },
   "source": [
    "<div class=\"alert alert-block alert-info\">\n",
    "<h3>Tipp: Operator - Funktionen für Kollektionen</h3>\n",
    "    <p>\n",
    "Der Operator <code>+</code> sieht für Kollektionen und Zahlen gleich aus, in <code>operator</code> gibt es aber unterschiedliche Funktionen. Für Zahlen verwendet man <code>add</code>, für Kollektionen <code>concat</code>.\n",
    "</p>\n",
    "<p>\n",
    "Selbiges gilt für <code>*</code> bzw. <code>mul</code>, hier haben wir bereits <code>repeat</code> im Modul <code>itertools</code> kennengelernt.\n",
    "    </p>\n",
    "</div>"
   ]
  },
  {
   "cell_type": "markdown",
   "metadata": {
    "slideshow": {
     "slide_type": "slide"
    }
   },
   "source": [
    "## Datenanalyse mit Funktionen\n",
    "\n",
    "Wir wollen nun die **Werte am kritischen Übergang** aus unseren Ergebnissen **herausfiltern**."
   ]
  },
  {
   "cell_type": "markdown",
   "metadata": {
    "slideshow": {
     "slide_type": "fragment"
    }
   },
   "source": [
    "Zuerst müssen wir die **Differenzen** zwischen den Umwelt-Zuständen berechnen:"
   ]
  },
  {
   "cell_type": "code",
   "execution_count": 33,
   "metadata": {
    "slideshow": {
     "slide_type": "-"
    }
   },
   "outputs": [],
   "source": [
    "differenzen_umwelt = [b + (b[2]-a[2],) for a,b in zip(ergebnisse, ergebnisse[1:])]"
   ]
  },
  {
   "cell_type": "markdown",
   "metadata": {
    "slideshow": {
     "slide_type": "subslide"
    }
   },
   "source": [
    "Um nun den **Bereich herauszufiltern** benützen wir ```dropwhile``` und ```takewhile```:"
   ]
  },
  {
   "cell_type": "code",
   "execution_count": 34,
   "metadata": {
    "slideshow": {
     "slide_type": "-"
    }
   },
   "outputs": [],
   "source": [
    "ab_übergang = itertools.dropwhile(\n",
    "    lambda t: abs(letztes_element(t)) < 0.0269 # Funktion\n",
    "    , differenzen_umwelt\n",
    "    )\n",
    "nur_übergang = itertools.takewhile(\n",
    "    lambda t: abs(letztes_element(t)) > 0.0001 # Funktion\n",
    "    , ab_übergang\n",
    "    )\n",
    "nur_übergang = list(nur_übergang)"
   ]
  },
  {
   "cell_type": "markdown",
   "metadata": {
    "slideshow": {
     "slide_type": "fragment"
    }
   },
   "source": [
    "Sehen wir uns das Ergebnis an:"
   ]
  },
  {
   "cell_type": "code",
   "execution_count": 35,
   "metadata": {
    "slideshow": {
     "slide_type": "-"
    }
   },
   "outputs": [
    {
     "data": {
      "text/plain": [
       "[<matplotlib.lines.Line2D at 0x7fe12c527050>,\n",
       " <matplotlib.lines.Line2D at 0x7fe12c527290>]"
      ]
     },
     "execution_count": 35,
     "metadata": {},
     "output_type": "execute_result"
    },
    {
     "data": {
      "image/png": "[encoded data removed]",
      "text/plain": [
       "<Figure size 432x288 with 1 Axes>"
      ]
     },
     "metadata": {
      "needs_background": "light"
     },
     "output_type": "display_data"
    }
   ],
   "source": [
    "import matplotlib.pyplot as plt\n",
    "plt.plot([(z,abs(d)) for _,_,z,_,d  in nur_übergang])"
   ]
  },
  {
   "cell_type": "markdown",
   "metadata": {
    "slideshow": {
     "slide_type": "fragment"
    }
   },
   "source": [
    "*Welche Filterwerte ergeben einen guten Ausschnitt?*"
   ]
  },
  {
   "cell_type": "markdown",
   "metadata": {
    "slideshow": {
     "slide_type": "slide"
    }
   },
   "source": [
    "## Currying\n",
    "\n",
    "Wenn Funktionen **referentiell transparent** sind, dann können wir ihnen auch einen Teil ihrer Argumente schon im Vorhinein geben und den Rest später. Denn ihr **Ergebnis hängt nicht vom Zeitpunkt** der Berechnung **ab**."
   ]
  },
  {
   "cell_type": "markdown",
   "metadata": {
    "slideshow": {
     "slide_type": "fragment"
    }
   },
   "source": [
    "Diese Praxis nennt man nach dem Logiker [Haskell Curry](https://de.wikipedia.org/wiki/Haskell_Brooks_Curry) **currying**. Im Modul ```functools``` finden wir die Funktion ```partial``` die uns currying erlaubt: "
   ]
  },
  {
   "cell_type": "code",
   "execution_count": 36,
   "metadata": {
    "slideshow": {
     "slide_type": "-"
    }
   },
   "outputs": [],
   "source": [
    "plus_5 = functools.partial(op.add,5)"
   ]
  },
  {
   "cell_type": "markdown",
   "metadata": {
    "slideshow": {
     "slide_type": "fragment"
    }
   },
   "source": [
    "*Was passiert wenn wir die Funktion* ```plus_5``` *auf eine Zahl anwenden?* "
   ]
  },
  {
   "cell_type": "code",
   "execution_count": 37,
   "metadata": {
    "slideshow": {
     "slide_type": "-"
    }
   },
   "outputs": [
    {
     "data": {
      "text/plain": [
       "24"
      ]
     },
     "execution_count": 37,
     "metadata": {},
     "output_type": "execute_result"
    }
   ],
   "source": [
    "plus_5(19)"
   ]
  },
  {
   "cell_type": "markdown",
   "metadata": {
    "slideshow": {
     "slide_type": "slide"
    }
   },
   "source": [
    "## Closures\n",
    "\n",
    "Aber wir können Funktionen auch von vornherein darauf **vorbereiten** ge-curry-t zu werden. **Funktionen höherer Ordnung** können natürlich auch **eigene Funktionen definieren**."
   ]
  },
  {
   "cell_type": "code",
   "execution_count": 38,
   "metadata": {
    "slideshow": {
     "slide_type": "fragment"
    }
   },
   "outputs": [],
   "source": [
    "def plus(a):\n",
    "    \n",
    "    def inner(b):\n",
    "        return a+b\n",
    "    \n",
    "    return inner"
   ]
  },
  {
   "cell_type": "markdown",
   "metadata": {
    "slideshow": {
     "slide_type": "fragment"
    }
   },
   "source": [
    "*Was macht die Funktion* ```plus``` *und wie können wir sie nutzen?*"
   ]
  },
  {
   "cell_type": "code",
   "execution_count": 39,
   "metadata": {
    "slideshow": {
     "slide_type": "-"
    }
   },
   "outputs": [],
   "source": [
    "f = plus(5)"
   ]
  },
  {
   "cell_type": "markdown",
   "metadata": {
    "slideshow": {
     "slide_type": "fragment"
    }
   },
   "source": [
    "Der **große Vorteil** von Closures ist, dass sie in einer **Sprache ohne Konstanten** (*Python*) **referentielle Transparenz** schaffen! Ist ```plus(x)``` einmal ausgeführt, ist ```x``` konstant."
   ]
  },
  {
   "cell_type": "code",
   "execution_count": 40,
   "metadata": {
    "slideshow": {
     "slide_type": "-"
    }
   },
   "outputs": [
    {
     "data": {
      "text/plain": [
       "(9, 11)"
      ]
     },
     "execution_count": 40,
     "metadata": {},
     "output_type": "execute_result"
    }
   ],
   "source": [
    "f(4), f(6)"
   ]
  },
  {
   "cell_type": "markdown",
   "metadata": {
    "slideshow": {
     "slide_type": "skip"
    }
   },
   "source": [
    "<div class=\"alert alert-block alert-info\">\n",
    "<h3>Tipp: Dekoratoren</h3>\n",
    "    \n",
    "Wie eingangs erwähnt, sind Dekoratoren nichts anderes als Funktionen, welche eine Funktion als Argument entgegennehmen und wiederum eine als Ergebnis ausgeben. Damit <strong>bilden</strong> sie eine <strong>Closure</strong> mit der ihr überreichten Funktion.\n",
    "\n",
    "Ein einfacher Dektorator <code>deko</code> welcher die ihm überreichte Funktion nicht beeinfluss, ist bereits eine Closure:\n",
    "<pre><code>def deko(f):\n",
    "    def inner(*args,**kwargs):\n",
    "        return f(*args,**kwargs)\n",
    "    return inner\n",
    "</code></pre>\n",
    "Der Dekorator <code>deko</code> bietet eine praktische Vorlage um Dekoratoren zu entwerfen. Zum Beispiel kann man dann eine Funktion abhängig vom <strong>Typ des Arguments</strong> verschiedene Dinge ausführen lassen. Dies nennt man <strong>Überladen</strong> (<i>overloading</i>) einer Funktion.\n",
    "<pre><code>def dispatch(f):\n",
    "    funktionen = [f]\n",
    "    def reg(f):\n",
    "            funktionen.append(f)\n",
    "    def inner(*args,**kwargs):\n",
    "        for f in funktionen:\n",
    "            try:\n",
    "                return f(*args,**kwargs)\n",
    "            except TypeError:\n",
    "                pass\n",
    "    inner.reg = reg\n",
    "    return inner\n",
    "</code></pre>\n",
    "Das funktioniert indem man sie dann mit <code>@dispatch</code> dekoriert und die <strong>alternativen</strong> Funktionen mit <code>@ .. .reg</code> auf ihr <strong>registriert</strong>:\n",
    "<pre><code>>>>@dispatch\n",
    "   def plus(x):\n",
    "       return x+5\n",
    ">>>@plus.reg\n",
    "   def plus_str(x):\n",
    "       return x+\"a\"\n",
    ">>>plus(\"b\"), plus(1)\n",
    "('ba', 6)\n",
    "</code></pre>\n",
    "\n",
    "Einen <strong>ähnlichen</strong> Dekorator bietet Python im <code>functools</code> Paket, er heißt dort <code>singledispatch</code>.\n",
    "</div>"
   ]
  },
  {
   "cell_type": "markdown",
   "metadata": {
    "slideshow": {
     "slide_type": "slide"
    }
   },
   "source": [
    "## Grenzen der referentiellen Transparenz in Python\n",
    "\n",
    "Python ist grundsätzlich **nicht referentiell transparent** gestaltet. Wie wir wissen gibt es in Python keine Konstanten. Außerdem werden Variablen nicht als solche, sondern als Objekt **ID** überreicht und durch ihren Namen aufgerufen."
   ]
  },
  {
   "cell_type": "markdown",
   "metadata": {
    "slideshow": {
     "slide_type": "fragment"
    }
   },
   "source": [
    "Verzögerte Evaluierung darf allerdings **nur in referentiell transparenten** Sprachen eingeführt werden. In Python muss man bei ihrer Verwendung einige Fallen beachten."
   ]
  },
  {
   "cell_type": "code",
   "execution_count": 41,
   "metadata": {
    "slideshow": {
     "slide_type": "fragment"
    }
   },
   "outputs": [],
   "source": [
    "f = lambda x: x+1\n",
    "gen = (f(x) for x in itertools.repeat(10))"
   ]
  },
  {
   "cell_type": "markdown",
   "metadata": {
    "slideshow": {
     "slide_type": "fragment"
    }
   },
   "source": [
    "```f``` ist also eine Funktion welche ihr Argument **inkrementiert**. <br>\n",
    "```gen``` ist ein Generator welcher ```f``` immer wieder ```10``` als Argument überreicht."
   ]
  },
  {
   "cell_type": "code",
   "execution_count": 42,
   "metadata": {
    "slideshow": {
     "slide_type": "fragment"
    }
   },
   "outputs": [
    {
     "data": {
      "text/plain": [
       "(11, 11, 11, 11)"
      ]
     },
     "execution_count": 42,
     "metadata": {},
     "output_type": "execute_result"
    }
   ],
   "source": [
    "next(gen), next(gen), next(gen), next(gen)  "
   ]
  },
  {
   "cell_type": "markdown",
   "metadata": {
    "slideshow": {
     "slide_type": "subslide"
    }
   },
   "source": [
    "Naturgemäß gibt er immer wieder ```11``` aus."
   ]
  },
  {
   "cell_type": "markdown",
   "metadata": {
    "slideshow": {
     "slide_type": "fragment"
    }
   },
   "source": [
    "Nun **ändern** wir ```f``` so, dass sie ihr Argument **dekrementiert** und rufen ```gen``` wieder auf:"
   ]
  },
  {
   "cell_type": "code",
   "execution_count": 43,
   "metadata": {
    "slideshow": {
     "slide_type": "fragment"
    }
   },
   "outputs": [
    {
     "data": {
      "text/plain": [
       "(9, 9)"
      ]
     },
     "execution_count": 43,
     "metadata": {},
     "output_type": "execute_result"
    }
   ],
   "source": [
    "f = lambda x: x-1\n",
    "next(gen), next(gen)"
   ]
  },
  {
   "cell_type": "markdown",
   "metadata": {
    "slideshow": {
     "slide_type": "fragment"
    }
   },
   "source": [
    "Wir sehen, dass ```gen``` den **Namen** der Funktion ```f``` **referenziert**, nicht deren **ID**. "
   ]
  },
  {
   "cell_type": "markdown",
   "metadata": {
    "slideshow": {
     "slide_type": "subslide"
    }
   },
   "source": [
    "Bilden wir eine Generator-Funktion, besitzt diese ihren **eigenen Namespace** und hält ```f``` somit intern **konstant**:"
   ]
  },
  {
   "cell_type": "code",
   "execution_count": 44,
   "metadata": {
    "slideshow": {
     "slide_type": "-"
    }
   },
   "outputs": [],
   "source": [
    "def get_gen(g):\n",
    "    for x in itertools.repeat(10):\n",
    "        yield g(x)"
   ]
  },
  {
   "cell_type": "markdown",
   "metadata": {
    "slideshow": {
     "slide_type": "fragment"
    }
   },
   "source": [
    "Die Generator-Funktion muss aber **zuerst aufgerufen** werden und **überreicht** uns dann den Generator:"
   ]
  },
  {
   "cell_type": "code",
   "execution_count": 45,
   "metadata": {
    "slideshow": {
     "slide_type": "-"
    }
   },
   "outputs": [],
   "source": [
    "gen = get_gen(f)"
   ]
  },
  {
   "cell_type": "code",
   "execution_count": 46,
   "metadata": {
    "slideshow": {
     "slide_type": "subslide"
    }
   },
   "outputs": [
    {
     "data": {
      "text/plain": [
       "9"
      ]
     },
     "execution_count": 46,
     "metadata": {},
     "output_type": "execute_result"
    }
   ],
   "source": [
    "next(gen)"
   ]
  },
  {
   "cell_type": "markdown",
   "metadata": {
    "slideshow": {
     "slide_type": "fragment"
    }
   },
   "source": [
    "Wir ändern wiederum ```f``` zur inkrementierenden Version:"
   ]
  },
  {
   "cell_type": "code",
   "execution_count": 47,
   "metadata": {
    "slideshow": {
     "slide_type": "-"
    }
   },
   "outputs": [],
   "source": [
    "f = lambda x: x+1"
   ]
  },
  {
   "cell_type": "code",
   "execution_count": 48,
   "metadata": {
    "slideshow": {
     "slide_type": "fragment"
    }
   },
   "outputs": [
    {
     "data": {
      "text/plain": [
       "9"
      ]
     },
     "execution_count": 48,
     "metadata": {},
     "output_type": "execute_result"
    }
   ],
   "source": [
    "next(gen)"
   ]
  },
  {
   "cell_type": "markdown",
   "metadata": {
    "slideshow": {
     "slide_type": "skip"
    }
   },
   "source": [
    "<div class=\"alert alert-block alert-info\">\n",
    "<h3>Tipp: Funktoren und Monaden</h3>\n",
    "    \n",
    "Für alle, denen die eingangs erwähnten <strong>(Applikativen) Funktoren</strong> und auch die <strong>Monaden</strong> nicht aus dem Kopf gehen.\n",
    "\n",
    "<ul>\n",
    "    <li> Funktoren sind alle <strong>Typen</strong> auf die wir <code>map</code> anwenden können. (Deshalb auf oft <code>fmap</code> genannt)</li>\n",
    " \n",
    "\n",
    "<li> Applikative Funktoren bieten uns eine Funktion <code>pure</code> und einen Operator <code>&lt;*&gt;</code></li>\n",
    "<ul>\n",
    "<li> <code>pure</code> garantiert uns dass ein Wert rein (<i>pure</i>) funktional ist.</li>\n",
    "<li> <code>&lt;*&gt;</code> nimmt eine <i>reine</i> Funktion $f$ mit einer Eingangsvariablen und ein <i>rein</i> funktionales Argument $a$. Danach garantiert <code>&lt;*&gt;</code>, dass auch das Ergebnis von $f(a)$ rein funktional ist.\n",
    "    <br><br>Alle applikativen Funktoren sind <strong>automatisch Funktoren</strong> denn es gilt: <code>map(f,xs) == pure(f) &lt;*&gt; xs</code>\n",
    " </li>\n",
    "    </ul>\n",
    "<li>Monaden bieten auch genau zwei Funktionen: <code>return</code> und <code>bind</code></li>\n",
    "  <ul>\n",
    "    <li> <code>return</code> ist nicht das <code>return</code> welches wir aus Python kennen, sondern nimmt einen Wert und <strong>weißt ihn der Monade zu</strong>.</li>\n",
    "    <li> <code>bind</code> nimmt einen Wert in der Monade und eine Funktion. Dann entnimmt sie den Wert aus der Monade und die Funktion gibt mit diesem Wert einen neuen <strong>in der Monade</strong> zurück. Dies ist das Ergebnis von <code>bind</code>.\n",
    "    <br><br>\n",
    "    Alle Monaden sind applikative Funktoren, denn es gilt: <br>\n",
    "    <code>pure(f) &lt;*&gt; xs == bind(return f,lambda x1: bind(xs,lambda x2: return x1(x2)))</code></li>\n",
    "    </ul>\n",
    "    </ul>\n",
    "</div>"
   ]
  },
  {
   "cell_type": "markdown",
   "metadata": {
    "slideshow": {
     "slide_type": "slide"
    }
   },
   "source": [
    "## Andere Comprehensions\n",
    "\n",
    "Es gibt nicht nur **List**-Comprehensions, sondern auch solche für andere Kollektionen:"
   ]
  },
  {
   "cell_type": "code",
   "execution_count": 49,
   "metadata": {
    "slideshow": {
     "slide_type": "-"
    }
   },
   "outputs": [
    {
     "data": {
      "text/plain": [
       "(6, 7, 8, 9)"
      ]
     },
     "execution_count": 49,
     "metadata": {},
     "output_type": "execute_result"
    }
   ],
   "source": [
    "{x*x for x in range(10) if x > 5} # Set - Comprehension\n",
    "\n",
    "{x:str(x) for x in range(10) if x != 5} # Dict - Comprehension\n",
    "\n",
    "tuple(x for x in range(10) if x > 5) # Tuple - Comprehension"
   ]
  },
  {
   "cell_type": "markdown",
   "metadata": {
    "slideshow": {
     "slide_type": "-"
    }
   },
   "source": [
    "Buch Empfehlung zum Thema FP in Python: Functional Programming in Python - David Mertz"
   ]
  }
 ],
 "metadata": {
  "celltoolbar": "Slideshow",
  "kernelspec": {
   "display_name": "Python 3",
   "language": "python",
   "name": "python3"
  },
  "language_info": {
   "codemirror_mode": {
    "name": "ipython",
    "version": 3
   },
   "file_extension": ".py",
   "mimetype": "text/x-python",
   "name": "python",
   "nbconvert_exporter": "python",
   "pygments_lexer": "ipython3",
   "version": "3.7.7"
  },
  "rise": {
   "enable_chalkboard": true,
   "scroll": true,
   "theme": "serif"
  }
 },
 "nbformat": 4,
 "nbformat_minor": 2
}
