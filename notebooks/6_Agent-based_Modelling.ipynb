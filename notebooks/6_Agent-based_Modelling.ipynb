{
 "cells": [
  {
   "cell_type": "markdown",
   "metadata": {
    "slideshow": {
     "slide_type": "slide"
    }
   },
   "source": [
    "# Agent-based Modelling (ABM)\n",
    "### Angewandte Systemwissenschaften I\n",
    "#### Python - Wonderland\n",
    "Einheit 6 / 10"
   ]
  },
  {
   "cell_type": "markdown",
   "metadata": {},
   "source": [
    "# Semesterplan\n",
    "---\n",
    "0. Anaconda und Pip\n",
    "1. Einführung in Python\n",
    "2. Matplotlib: Eine Einführung ins Wonderland - Modell\n",
    "3. Jupyter-Notebooks: Wonderland in Python\n",
    "4. Funktionale Programmierung & Python-Module\n",
    "5. Python-Pakete und Workflow\n",
    "6. **Agenten-basierte Modellierung**\n",
    "7. Objekt-orientierte Programmierung \n",
    "8. Animationen zur Modellentwicklung\n",
    "9. Multiprocessing & Sensitivity Analysis\n",
    "10. Projektpräsentationen"
   ]
  },
  {
   "cell_type": "markdown",
   "metadata": {},
   "source": [
    "## Inhalt\n",
    "\n",
    "+ Equation-based Modelling\n",
    "+ Agent-based Modelling\n",
    "+ Emergenz\n",
    "+ Aufbau von ABMs\n",
    "+ Was ist ein Agent?\n",
    "+ Pattern-oriented Modelling\n",
    "+ Beispiele"
   ]
  },
  {
   "cell_type": "markdown",
   "metadata": {},
   "source": [
    "# Gleichungsbasierte Modellierung"
   ]
  },
  {
   "cell_type": "markdown",
   "metadata": {},
   "source": [
    "Gleichungsbasierte Modelle basieren, wie der Name bereits verrät auf **Gleichungssystemen**. Ihre **Definition** ist oft durch **gekoppelte, gewöhnliche Differentialgleichungen** gegeben. "
   ]
  },
  {
   "cell_type": "markdown",
   "metadata": {},
   "source": [
    "+ Wonderland"
   ]
  },
  {
   "cell_type": "markdown",
   "metadata": {},
   "source": [
    "+ SIR - Modell"
   ]
  },
  {
   "cell_type": "markdown",
   "metadata": {},
   "source": [
    "+ Lotka-Volterra Modell (Räuber-Beute-Modell)"
   ]
  },
  {
   "cell_type": "markdown",
   "metadata": {},
   "source": [
    "Räumliche Details können nur mittels partieller Differentialgleichungen mit einbezogen werden."
   ]
  },
  {
   "cell_type": "markdown",
   "metadata": {},
   "source": [
    "Der Fokus der Modellierung liegt auf der **Beschreibung makroskopischer Phänomene**."
   ]
  },
  {
   "cell_type": "markdown",
   "metadata": {},
   "source": [
    "## Darstellung"
   ]
  },
  {
   "cell_type": "markdown",
   "metadata": {},
   "source": [
    "Zu einer Form der Darstellung von gleichungsbasierten Modellen wird gerne **System Dynamics** herangezogen."
   ]
  },
  {
   "cell_type": "markdown",
   "metadata": {},
   "source": [
    "Oft dient SD auch dazu das gleichungsbasierte Modell zu erstellen. Spezielle Software wie **Vensim** übernimmt dann das **Lösen der Differentialgleichungen**."
   ]
  },
  {
   "cell_type": "markdown",
   "metadata": {},
   "source": [
    "+ Stocks -> Zustandsvariablen"
   ]
  },
  {
   "cell_type": "markdown",
   "metadata": {},
   "source": [
    "+ Flows + Feedback Loops -> Differentialgleichungen"
   ]
  },
  {
   "cell_type": "markdown",
   "metadata": {},
   "source": [
    "## Zum Beispiel: Räuber-Beute-System\n",
    "\n",
    "<p style=\"text-align: center;\">\n",
    "$\\frac{dH}{dt}=H*(a-b*L)$\n",
    "    </p>\n",
    "<p style=\"text-align: center;\">\n",
    "$\\frac{dL}{dt}=-L*(c-d*H)$\n",
    "</p>\n",
    "\n",
    "![Predator-Prey-SD](http://systems-sciences.uni-graz.at/etextbook/assets/img/img_sw2/vensim_predprey.JPG)\n",
    "(Source: *Manfred Füllsack*)"
   ]
  },
  {
   "cell_type": "markdown",
   "metadata": {},
   "source": [
    "# Agenten-basierte Modellierung\n",
    "\n",
    "Bei der Agenten-basierten Modellierung steht das **Verhalten von Agenten** im Mittelpunkt."
   ]
  },
  {
   "cell_type": "markdown",
   "metadata": {},
   "source": [
    "+ Epidemische Modelle (ähnlich SIR)"
   ]
  },
  {
   "cell_type": "markdown",
   "metadata": {},
   "source": [
    "+ Räuber-Beute Modelle (ähnlich Lotka-Volterra)"
   ]
  },
  {
   "cell_type": "markdown",
   "metadata": {},
   "source": [
    "Der Fokus der Modellierung liegt auf **mikroskopischen Details**."
   ]
  },
  {
   "cell_type": "markdown",
   "metadata": {},
   "source": [
    "Modelle können **räumlich explizit** aufgebaut sein."
   ]
  },
  {
   "cell_type": "markdown",
   "metadata": {},
   "source": [
    "## Software\n",
    "\n",
    "Zur Entwicklung von Agenten-basierten Modellen werden **oft entsprechende Programmierkenntnisse vorausgesetzt**.\n",
    "\n",
    "Es gibt verschiedene **Plattformen** welche dies unterstützen und erleichtern sollen:"
   ]
  },
  {
   "cell_type": "markdown",
   "metadata": {},
   "source": [
    "+ NetLogo"
   ]
  },
  {
   "cell_type": "markdown",
   "metadata": {},
   "source": [
    "+ GAMA"
   ]
  },
  {
   "cell_type": "markdown",
   "metadata": {},
   "source": [
    "+ AnyLogic"
   ]
  },
  {
   "cell_type": "markdown",
   "metadata": {},
   "source": [
    "Außerdem können auch **general-purpose Sprachen** wie zum Beispiel Python herangezogen werden. Dabei kann man entweder auf vorhandenen **Softwarebibliotheken** aufbauen (zB MESA) oder ein eigenes Framework erstellen."
   ]
  },
  {
   "cell_type": "markdown",
   "metadata": {},
   "source": [
    "# Emergenz\n",
    "\n",
    "Effekte welche durch das **Zusammenwirken** vieler **kleiner Systemteile** entstehen (welche selbst diese Effekte nicht zeigen) werden als **emergente Phänomene** bezeichnet."
   ]
  },
  {
   "cell_type": "markdown",
   "metadata": {},
   "source": [
    "Die **Vielzahl** an **Systemteilen** wird in ABMs durch die **Agenten** verkörpert."
   ]
  },
  {
   "cell_type": "markdown",
   "metadata": {},
   "source": [
    "Die **Beobachtungen** konzentrieren sich dabei meistens wieder auf die **makroskopische Ebene**, <br>\n",
    "wo **emergente Phänomene** oft das Zeil der Modellierung darstellen."
   ]
  },
  {
   "cell_type": "markdown",
   "metadata": {},
   "source": [
    "Beispiele von Emergenz:"
   ]
  },
  {
   "cell_type": "markdown",
   "metadata": {},
   "source": [
    "+ Nagel-Schreckenberg Modell: Bildung von Phantomstaus"
   ]
  },
  {
   "cell_type": "markdown",
   "metadata": {},
   "source": [
    "+ Schelling Modell: Segregation"
   ]
  },
  {
   "cell_type": "markdown",
   "metadata": {},
   "source": [
    "+ Räuber-Beute Modell: Effekte wie im ODE Modell"
   ]
  },
  {
   "cell_type": "markdown",
   "metadata": {},
   "source": [
    "# Aufbau von ABMs\n",
    "\n",
    "Dadurch dass es eine **Vielzahl von Anwendungen** Agenten-basierter Modelle gibt, gibt es nicht **die eine** Anleitung zum Erstellen von ABMs."
   ]
  },
  {
   "cell_type": "markdown",
   "metadata": {},
   "source": [
    "Die meisten dieser ABMs haben aber einen **grundsätzlich ähnlichen** Aufbau der sich wie folgt beschreiben lässt:"
   ]
  },
  {
   "cell_type": "markdown",
   "metadata": {},
   "source": [
    "+ Eine **Umwelt** beherbergt die Agenten. Diese Umwelt umfasst Eigenschaften auf welche die Agenten eventuell einwirken können, welche aber auf jeden Fall für alle Agenten gleich \"aussehen\".\n",
    "\n",
    "  + zB *''Der Markt''* in der Ökonomie, oder *''das Straßennetz''* in einem Verkehrsmodell"
   ]
  },
  {
   "cell_type": "markdown",
   "metadata": {},
   "source": [
    "+ Die **Agenten** verhalten sich entsprechend eines **Regelwerkes**. Dieses kann für **unterschiedliche Kategorien** von Agenten anders geartet sein. Typisch ist außerdem auch eine gewisse **Zufälligkeit** im Verhalten der Agenten."
   ]
  },
  {
   "cell_type": "markdown",
   "metadata": {},
   "source": [
    "# Was ist ein Agent?"
   ]
  },
  {
   "cell_type": "markdown",
   "metadata": {},
   "source": [
    "> What makes James Bond an Agent?\n",
    ">\n",
    "> \\- *Grimm, 2005*"
   ]
  },
  {
   "cell_type": "markdown",
   "metadata": {},
   "source": [
    "+ Hat ein klares Ziel"
   ]
  },
  {
   "cell_type": "markdown",
   "metadata": {},
   "source": [
    "+ Trifft selbstständige Entscheidungen und erreicht eigenständig sein Ziel"
   ]
  },
  {
   "cell_type": "markdown",
   "metadata": {},
   "source": [
    "+ Passt seine Entscheidung den rasch wechselnden Bedingungen an"
   ]
  },
  {
   "cell_type": "markdown",
   "metadata": {},
   "source": [
    "In einem Punkt finde ich unterscheidet sich James Bond aber von Agenten in ABMs:\n",
    "\n",
    "+ Agenten interagieren untereinander (und zwar nicht nur mit Waffen)"
   ]
  },
  {
   "cell_type": "markdown",
   "metadata": {},
   "source": [
    "Außerdem macht es aus Sicht des Programmierens/Modellierens Sinn, noch einige **weitere Kriterien** zu definieren:"
   ]
  },
  {
   "cell_type": "markdown",
   "metadata": {},
   "source": [
    "+ Jeder Agent muss eine eindeutige Identität besitzen."
   ]
  },
  {
   "cell_type": "markdown",
   "metadata": {},
   "source": [
    "+ Ein Agent ist eine einmalige Entität."
   ]
  },
  {
   "cell_type": "markdown",
   "metadata": {},
   "source": [
    "+ Agenten verfügen über einen Zustand."
   ]
  },
  {
   "cell_type": "markdown",
   "metadata": {},
   "source": [
    "# ABM in Python\n",
    "\n",
    "Diese Eigenschaften lassen sich in Python intuitiv durch **Object-Oriented Programming** (OOP) einbinden."
   ]
  },
  {
   "cell_type": "markdown",
   "metadata": {},
   "source": [
    "Python-Objekte haben:\n",
    "\n",
    "+ Einen Typen\n",
    "+ Eine Identität\n",
    "+ Einen Zustand\n",
    "+ Eine Abstammung"
   ]
  },
  {
   "cell_type": "markdown",
   "metadata": {},
   "source": [
    "Alle Python-Objekte stammen von ```object``` ab, es ist sozusagen die \"Urgroßmutter\" aller Dinge in Python:"
   ]
  },
  {
   "cell_type": "code",
   "execution_count": 6,
   "metadata": {},
   "outputs": [
    {
     "data": {
      "text/plain": [
       "(<object at 0x7fdc7b728de0>,\n",
       " object,\n",
       " 140584940637664,\n",
       " ['__class__', '__delattr__', '__dir__', '__doc__', '__eq__'])"
      ]
     },
     "execution_count": 6,
     "metadata": {},
     "output_type": "execute_result"
    }
   ],
   "source": [
    "o = object()\n",
    "o, type(o), id(o), dir(o)[:5] # 5 damit es nur eine Zeile braucht"
   ]
  },
  {
   "cell_type": "markdown",
   "metadata": {},
   "source": [
    "Mit ```isinstance``` können wir die Abstammung eines Objekts klären:"
   ]
  },
  {
   "cell_type": "code",
   "execution_count": 19,
   "metadata": {},
   "outputs": [
    {
     "data": {
      "text/plain": [
       "(True, True, False)"
      ]
     },
     "execution_count": 19,
     "metadata": {},
     "output_type": "execute_result"
    }
   ],
   "source": [
    "x = 5\n",
    "isinstance(x, object), isinstance(x, int), isinstance(x, float)"
   ]
  },
  {
   "cell_type": "markdown",
   "metadata": {},
   "source": [
    "Wollen wir neue Formen von Objekten einführen, benutzen wir das ```class``` Keyword:"
   ]
  },
  {
   "cell_type": "code",
   "execution_count": 26,
   "metadata": {},
   "outputs": [],
   "source": [
    "class Agent(object):\n",
    "    def __init__(self, argument1, argument2,):\n",
    "        self.a1 = argument1\n",
    "        self.a2 = argument2\n",
    "    \n",
    "    def methode(self, argument):\n",
    "        return self.a1 + argument # Beispiel"
   ]
  },
  {
   "cell_type": "markdown",
   "metadata": {},
   "source": [
    "Die ```__init__``` Methode ist eine sogenannte **special Method**. Sie wird ausgeführt wenn ein neues Objekt **initialisiert** wird."
   ]
  },
  {
   "cell_type": "markdown",
   "metadata": {},
   "source": [
    "## Methoden\n",
    "\n",
    "Wir haben ```def``` jetzt schon in zwei Rollen gesehen: Zur Erstellung von **Funktionen** und **Generators** (letztere mit ```yield```)\n",
    "<br>\n",
    "Nun folgt die **dritte Anwendung: Methoden**"
   ]
  },
  {
   "cell_type": "markdown",
   "metadata": {},
   "source": [
    "Im **Unterschied** zu Funktionen haben Methoden als **erstes Argument** immer ```self```."
   ]
  },
  {
   "cell_type": "markdown",
   "metadata": {},
   "source": [
    "Methoden können durch ```self``` am **Zustand** des Objekts operieren. Funktionen bearbeiten im **Idealfall** keinen Zustand (siehe Functional Programming)."
   ]
  },
  {
   "cell_type": "markdown",
   "metadata": {},
   "source": [
    "```self``` beschreibt in der **Klasse** dabei eine **abstrakte Instanz** des Objekts. Die **Klasse** selbst ist keine Instanz seiner selbst sondern der **Bauplan für die Instanzen** und gleichzeitig **ihr Typ**."
   ]
  },
  {
   "cell_type": "code",
   "execution_count": 27,
   "metadata": {},
   "outputs": [
    {
     "data": {
      "text/plain": [
       "(<__main__.Agent at 0x7fdc782e0950>,\n",
       " 140584885815632,\n",
       " __main__.Agent,\n",
       " ['a1', 'a2', 'methode'])"
      ]
     },
     "execution_count": 27,
     "metadata": {},
     "output_type": "execute_result"
    }
   ],
   "source": [
    "james_bond = Agent(\"007\", True)\n",
    "james_bond, id(james_bond), type(james_bond), dir(james_bond)[-3:] # 3 zeigt die von uns erstellten Namen"
   ]
  },
  {
   "cell_type": "code",
   "execution_count": 29,
   "metadata": {},
   "outputs": [
    {
     "data": {
      "text/plain": [
       "'007 - Bond, James Bond'"
      ]
     },
     "execution_count": 29,
     "metadata": {},
     "output_type": "execute_result"
    }
   ],
   "source": [
    "james_bond.methode(\" - Bond, James Bond\")"
   ]
  },
  {
   "cell_type": "markdown",
   "metadata": {},
   "source": [
    "In der nächsten Einheit werden wir uns genauer mit OOP auseinandersetzen."
   ]
  },
  {
   "cell_type": "markdown",
   "metadata": {},
   "source": [
    "# Pattern-oriented Modelling\n",
    "> *Grimm, 2005*"
   ]
  },
  {
   "cell_type": "markdown",
   "metadata": {},
   "source": [
    "Makroskopische Modelle können **Details** oft nicht gut genug darstellen.\n",
    "\n",
    "Mikroskopische Modelle sollen dies verbessern, aber dürfen **nicht zu komplex** werden."
   ]
  },
  {
   "cell_type": "markdown",
   "metadata": {},
   "source": [
    "Wie wählt man also **die richtigen Details** für das Verhalten der Agenten aus?"
   ]
  },
  {
   "cell_type": "markdown",
   "metadata": {},
   "source": [
    "Mit **Pattern-oriented Modelling** schlägt Grimm (2005) eine Lösung für dieses Dilemma vor."
   ]
  },
  {
   "cell_type": "markdown",
   "metadata": {},
   "source": [
    "## Orienteren an Mustern\n",
    "\n",
    "Wir wollen **Muster** die wir beobachten können in unserem Modell **darstellen**."
   ]
  },
  {
   "cell_type": "markdown",
   "metadata": {},
   "source": [
    "+ Fisch oder Vogelschwärme und ihr Flugmuster"
   ]
  },
  {
   "cell_type": "markdown",
   "metadata": {},
   "source": [
    "+ Staubildung in Städten oder Überschwemmungen in Kanälen"
   ]
  },
  {
   "cell_type": "markdown",
   "metadata": {},
   "source": [
    "+ Muster die wir bereits von einem gleichungsbasierten Modell kennen *(zB Lotka-Volterra)*"
   ]
  },
  {
   "cell_type": "markdown",
   "metadata": {},
   "source": [
    "+ Die Ausbreitung einer Laola-Welle"
   ]
  },
  {
   "cell_type": "markdown",
   "metadata": {},
   "source": [
    "Lässt sich mit den **Verhaltensregeln** unserer Agenten das Muster nicht erreichen, müssen andere Schlüsselfaktoren dafür verantwortlich sein."
   ]
  },
  {
   "cell_type": "markdown",
   "metadata": {},
   "source": [
    "# Literatur\n",
    "\n"
   ]
  }
 ],
 "metadata": {
  "celltoolbar": "Slideshow",
  "kernelspec": {
   "display_name": "Python 3",
   "language": "python",
   "name": "python3"
  },
  "language_info": {
   "codemirror_mode": {
    "name": "ipython",
    "version": 3
   },
   "file_extension": ".py",
   "mimetype": "text/x-python",
   "name": "python",
   "nbconvert_exporter": "python",
   "pygments_lexer": "ipython3",
   "version": "3.7.7"
  }
 },
 "nbformat": 4,
 "nbformat_minor": 4
}
