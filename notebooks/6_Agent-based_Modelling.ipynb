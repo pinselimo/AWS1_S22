{
 "cells": [
  {
   "cell_type": "markdown",
   "metadata": {
    "slideshow": {
     "slide_type": "slide"
    }
   },
   "source": [
    "# Agent-based Modelling (ABM)\n",
    "### Angewandte Systemwissenschaften I\n",
    "#### Python - Wonderland\n",
    "Einheit 6 / 10"
   ]
  },
  {
   "cell_type": "markdown",
   "metadata": {
    "slideshow": {
     "slide_type": "subslide"
    }
   },
   "source": [
    "# Semesterplan\n",
    "---\n",
    "0. Anaconda und Pip\n",
    "1. Einführung in Python\n",
    "2. Matplotlib: Eine Einführung ins Wonderland - Modell\n",
    "3. Jupyter-Notebooks: Wonderland in Python\n",
    "4. Funktionale Programmierung & Python-Module\n",
    "5. Python-Pakete und Workflow\n",
    "6. **Agenten-basierte Modellierung**\n",
    "7. Objekt-orientierte Programmierung \n",
    "8. Animationen zur Modellentwicklung\n",
    "9. Multiprocessing & Sensitivity Analysis\n",
    "10. Projektpräsentationen"
   ]
  },
  {
   "cell_type": "markdown",
   "metadata": {
    "slideshow": {
     "slide_type": "subslide"
    }
   },
   "source": [
    "## Inhalt\n",
    "\n",
    "+ Equation-based Modelling\n",
    "+ Agent-based Modelling\n",
    "+ Emergenz\n",
    "+ Aufbau von ABMs\n",
    "+ Was ist ein Agent?\n",
    "+ ABM in Python\n",
    "+ Pattern-oriented Modelling"
   ]
  },
  {
   "cell_type": "markdown",
   "metadata": {
    "slideshow": {
     "slide_type": "slide"
    }
   },
   "source": [
    "# Gleichungsbasierte Modellierung\n",
    "\n",
    "Gleichungsbasierte Modelle basieren, wie der Name bereits verrät auf **Gleichungssystemen**. Ihre **Definition** ist oft durch **gekoppelte, gewöhnliche Differentialgleichungen** gegeben. "
   ]
  },
  {
   "cell_type": "markdown",
   "metadata": {
    "slideshow": {
     "slide_type": "fragment"
    }
   },
   "source": [
    "+ Wonderland"
   ]
  },
  {
   "cell_type": "markdown",
   "metadata": {
    "slideshow": {
     "slide_type": "fragment"
    }
   },
   "source": [
    "+ SIR - Modell"
   ]
  },
  {
   "cell_type": "markdown",
   "metadata": {
    "slideshow": {
     "slide_type": "fragment"
    }
   },
   "source": [
    "+ Lotka-Volterra Modell (Räuber-Beute-Modell)"
   ]
  },
  {
   "cell_type": "markdown",
   "metadata": {
    "slideshow": {
     "slide_type": "fragment"
    }
   },
   "source": [
    "Räumliche Details können nur mittels partieller Differentialgleichungen mit einbezogen werden."
   ]
  },
  {
   "cell_type": "markdown",
   "metadata": {
    "slideshow": {
     "slide_type": "subslide"
    }
   },
   "source": [
    "Der Fokus gleichungsbasierter Modellierung liegt auf der **Beschreibung makroskopischer Phänomene**."
   ]
  },
  {
   "cell_type": "markdown",
   "metadata": {
    "slideshow": {
     "slide_type": "subslide"
    }
   },
   "source": [
    "## Darstellung\n",
    "\n",
    "Zu einer Form der Darstellung von gleichungsbasierten Modellen wird gerne **System Dynamics** herangezogen."
   ]
  },
  {
   "cell_type": "markdown",
   "metadata": {
    "slideshow": {
     "slide_type": "fragment"
    }
   },
   "source": [
    "Oft dient SD auch dazu das gleichungsbasierte Modell zu **erstellen**. Spezielle Software wie **Vensim** übernimmt dann das **Lösen der Differentialgleichungen**."
   ]
  },
  {
   "cell_type": "markdown",
   "metadata": {
    "slideshow": {
     "slide_type": "fragment"
    }
   },
   "source": [
    "+ Stocks $\\rightarrow$ Zustandsvariablen"
   ]
  },
  {
   "cell_type": "markdown",
   "metadata": {
    "slideshow": {
     "slide_type": "fragment"
    }
   },
   "source": [
    "+ Flows + Feedback Loops $\\rightarrow$  Differentialgleichungen"
   ]
  },
  {
   "cell_type": "markdown",
   "metadata": {
    "slideshow": {
     "slide_type": "subslide"
    }
   },
   "source": [
    "## Zum Beispiel: Räuber-Beute-System\n",
    "\n",
    "<p style=\"text-align: center;\">\n",
    "$\\frac{dH}{dt}=H*(a-b*L)$\n",
    "    </p>\n",
    "<p style=\"text-align: center;\">\n",
    "$\\frac{dL}{dt}=-L*(c-d*H)$\n",
    "</p>\n",
    "\n",
    "![Predator-Prey-SD](http://systems-sciences.uni-graz.at/etextbook/assets/img/img_sw2/vensim_predprey.JPG)\n",
    "(Source: *Manfred Füllsack*)"
   ]
  },
  {
   "cell_type": "markdown",
   "metadata": {
    "slideshow": {
     "slide_type": "slide"
    }
   },
   "source": [
    "# Agenten-basierte Modellierung\n",
    "\n",
    "Bei der Agenten-basierten Modellierung steht das **Verhalten von Agenten** im Mittelpunkt."
   ]
  },
  {
   "cell_type": "markdown",
   "metadata": {
    "slideshow": {
     "slide_type": "fragment"
    }
   },
   "source": [
    "+ Epidemische Modelle (ähnlich SIR)"
   ]
  },
  {
   "cell_type": "markdown",
   "metadata": {
    "slideshow": {
     "slide_type": "fragment"
    }
   },
   "source": [
    "+ Räuber-Beute Modelle (ähnlich Lotka-Volterra)"
   ]
  },
  {
   "cell_type": "markdown",
   "metadata": {
    "slideshow": {
     "slide_type": "fragment"
    }
   },
   "source": [
    "Der Fokus der Modellierung liegt auf **mikroskopischen Details**."
   ]
  },
  {
   "cell_type": "markdown",
   "metadata": {
    "slideshow": {
     "slide_type": "fragment"
    }
   },
   "source": [
    "Modelle können **räumlich explizit** aufgebaut sein."
   ]
  },
  {
   "cell_type": "markdown",
   "metadata": {
    "slideshow": {
     "slide_type": "subslide"
    }
   },
   "source": [
    "## Software\n",
    "\n",
    "Zur Entwicklung von Agenten-basierten Modellen werden **oft entsprechende Programmierkenntnisse vorausgesetzt**.\n",
    "\n",
    "Es gibt verschiedene **Plattformen** welche dies unterstützen und erleichtern sollen:"
   ]
  },
  {
   "cell_type": "markdown",
   "metadata": {
    "slideshow": {
     "slide_type": "fragment"
    }
   },
   "source": [
    "+ [NetLogo](https://ccl.northwestern.edu/netlogo/)"
   ]
  },
  {
   "cell_type": "markdown",
   "metadata": {
    "slideshow": {
     "slide_type": "fragment"
    }
   },
   "source": [
    "+ [GAMA](https://gama-platform.github.io/)"
   ]
  },
  {
   "cell_type": "markdown",
   "metadata": {
    "slideshow": {
     "slide_type": "fragment"
    }
   },
   "source": [
    "+ [Repast](https://repast.github.io/)"
   ]
  },
  {
   "cell_type": "markdown",
   "metadata": {
    "slideshow": {
     "slide_type": "fragment"
    }
   },
   "source": [
    "+ [AnyLogic](https://www.anylogic.com/)"
   ]
  },
  {
   "cell_type": "markdown",
   "metadata": {
    "slideshow": {
     "slide_type": "fragment"
    }
   },
   "source": [
    "Außerdem können auch **general-purpose Sprachen** wie zum Beispiel Python herangezogen werden. Dabei kann man entweder auf vorhandenen **Softwarebibliotheken** aufbauen (zB MESA), oder ein eigenes Framework erstellen."
   ]
  },
  {
   "cell_type": "markdown",
   "metadata": {
    "slideshow": {
     "slide_type": "subslide"
    }
   },
   "source": [
    "# Emergenz\n",
    "\n",
    "Effekte welche durch das **Zusammenwirken** vieler **kleiner Systemteile** entstehen (welche selbst diese Effekte nicht zeigen) werden als **emergente Phänomene** bezeichnet."
   ]
  },
  {
   "cell_type": "markdown",
   "metadata": {
    "slideshow": {
     "slide_type": "fragment"
    }
   },
   "source": [
    "Die **Vielzahl** an **Systemteilen** wird in ABMs durch die **Agenten** verkörpert."
   ]
  },
  {
   "cell_type": "markdown",
   "metadata": {
    "slideshow": {
     "slide_type": "fragment"
    }
   },
   "source": [
    "Die **Beobachtungen** konzentrieren sich dabei meistens wieder auf die **makroskopische Ebene**, <br>\n",
    "wo **emergente Phänomene** oft das Zeil der Modellierung darstellen."
   ]
  },
  {
   "cell_type": "markdown",
   "metadata": {
    "slideshow": {
     "slide_type": "subslide"
    }
   },
   "source": [
    "Beispiele von Emergenz:"
   ]
  },
  {
   "cell_type": "markdown",
   "metadata": {
    "slideshow": {
     "slide_type": "fragment"
    }
   },
   "source": [
    "+ Nagel-Schreckenberg Modell: Bildung von Phantomstaus"
   ]
  },
  {
   "cell_type": "markdown",
   "metadata": {
    "slideshow": {
     "slide_type": "fragment"
    }
   },
   "source": [
    "+ Schelling Modell: Segregation"
   ]
  },
  {
   "cell_type": "markdown",
   "metadata": {
    "slideshow": {
     "slide_type": "fragment"
    }
   },
   "source": [
    "+ Räuber-Beute Modell: Effekte wie im ODE Modell"
   ]
  },
  {
   "cell_type": "markdown",
   "metadata": {
    "slideshow": {
     "slide_type": "slide"
    }
   },
   "source": [
    "# Aufbau von ABMs\n",
    "\n",
    "Dadurch dass es eine **Vielzahl von Anwendungen** Agenten-basierter Modelle gibt, gibt es nicht **die eine** Anleitung zum Erstellen von ABMs."
   ]
  },
  {
   "cell_type": "markdown",
   "metadata": {
    "slideshow": {
     "slide_type": "fragment"
    }
   },
   "source": [
    "Die meisten dieser ABMs haben aber einen **grundsätzlich ähnlichen** Aufbau der sich wie folgt beschreiben lässt:"
   ]
  },
  {
   "cell_type": "markdown",
   "metadata": {
    "slideshow": {
     "slide_type": "fragment"
    }
   },
   "source": [
    "+ Eine **Umwelt** beherbergt die Agenten. Diese Umwelt umfasst Eigenschaften auf welche die Agenten eventuell einwirken können, welche aber auf jeden Fall für alle Agenten gleich \"aussehen\".\n",
    "\n",
    "  + zB *''Der Markt''* in der Ökonomie, oder *''das Straßennetz''* in einem Verkehrsmodell"
   ]
  },
  {
   "cell_type": "markdown",
   "metadata": {
    "slideshow": {
     "slide_type": "fragment"
    }
   },
   "source": [
    "+ Die **Agenten** verhalten sich entsprechend eines **Regelwerkes**. Dieses kann für **unterschiedliche Kategorien** von Agenten anders geartet sein. Typisch ist außerdem auch eine gewisse **Zufälligkeit** im Verhalten der Agenten."
   ]
  },
  {
   "cell_type": "markdown",
   "metadata": {
    "slideshow": {
     "slide_type": "slide"
    }
   },
   "source": [
    "# Was ist ein Agent?"
   ]
  },
  {
   "cell_type": "markdown",
   "metadata": {
    "slideshow": {
     "slide_type": "fragment"
    }
   },
   "source": [
    "> What makes James Bond an Agent?\n",
    ">\n",
    "> \\- *Grimm et al., 2005*"
   ]
  },
  {
   "cell_type": "markdown",
   "metadata": {
    "slideshow": {
     "slide_type": "fragment"
    }
   },
   "source": [
    "+ Hat ein klares Ziel"
   ]
  },
  {
   "cell_type": "markdown",
   "metadata": {
    "slideshow": {
     "slide_type": "fragment"
    }
   },
   "source": [
    "+ Trifft selbstständige Entscheidungen und erreicht eigenständig sein Ziel"
   ]
  },
  {
   "cell_type": "markdown",
   "metadata": {
    "slideshow": {
     "slide_type": "fragment"
    }
   },
   "source": [
    "+ Passt seine Entscheidung den rasch wechselnden Bedingungen an"
   ]
  },
  {
   "cell_type": "markdown",
   "metadata": {
    "slideshow": {
     "slide_type": "fragment"
    }
   },
   "source": [
    "In einem Punkt finde ich unterscheidet sich James Bond aber von Agenten in ABMs:\n",
    "\n",
    "+ Agenten interagieren untereinander (und zwar nicht nur mit Waffen)"
   ]
  },
  {
   "cell_type": "markdown",
   "metadata": {
    "slideshow": {
     "slide_type": "subslide"
    }
   },
   "source": [
    "Außerdem macht es aus Sicht des Programmierens/Modellierens Sinn, noch einige **weitere Kriterien** zu definieren:"
   ]
  },
  {
   "cell_type": "markdown",
   "metadata": {
    "slideshow": {
     "slide_type": "fragment"
    }
   },
   "source": [
    "+ Jeder Agent muss eine eindeutige Identität besitzen."
   ]
  },
  {
   "cell_type": "markdown",
   "metadata": {
    "slideshow": {
     "slide_type": "fragment"
    }
   },
   "source": [
    "+ Ein Agent ist eine einmalige Entität."
   ]
  },
  {
   "cell_type": "markdown",
   "metadata": {
    "slideshow": {
     "slide_type": "fragment"
    }
   },
   "source": [
    "+ Agenten verfügen über einen Zustand."
   ]
  },
  {
   "cell_type": "markdown",
   "metadata": {
    "slideshow": {
     "slide_type": "slide"
    }
   },
   "source": [
    "# ABM in Python\n",
    "\n",
    "Diese Eigenschaften lassen sich in Python intuitiv durch **Object-Oriented Programming** (OOP) einbinden."
   ]
  },
  {
   "cell_type": "markdown",
   "metadata": {
    "slideshow": {
     "slide_type": "fragment"
    }
   },
   "source": [
    "Python-Objekte haben:\n",
    "\n",
    "+ Einen Typen\n",
    "+ Eine Identität\n",
    "+ Einen Zustand\n",
    "+ Eine Abstammung"
   ]
  },
  {
   "cell_type": "markdown",
   "metadata": {
    "slideshow": {
     "slide_type": "subslide"
    }
   },
   "source": [
    "Alle Python-Objekte stammen von ```object``` ab, es ist sozusagen die \"Urgroßmutter\" aller Dinge in Python:"
   ]
  },
  {
   "cell_type": "code",
   "execution_count": 1,
   "metadata": {
    "slideshow": {
     "slide_type": "fragment"
    }
   },
   "outputs": [
    {
     "data": {
      "text/plain": [
       "(<object at 0x7f3cc78ffbd0>,\n",
       " object,\n",
       " 139899022867408,\n",
       " ['__class__', '__delattr__', '__dir__', '__doc__', '__eq__'])"
      ]
     },
     "execution_count": 1,
     "metadata": {},
     "output_type": "execute_result"
    }
   ],
   "source": [
    "o = object()\n",
    "o, type(o), id(o), dir(o)[:5] # 5 damit es nur eine Zeile braucht"
   ]
  },
  {
   "cell_type": "markdown",
   "metadata": {
    "slideshow": {
     "slide_type": "subslide"
    }
   },
   "source": [
    "Mit ```isinstance``` können wir die Abstammung eines Objekts klären:"
   ]
  },
  {
   "cell_type": "code",
   "execution_count": 2,
   "metadata": {
    "slideshow": {
     "slide_type": "fragment"
    }
   },
   "outputs": [
    {
     "data": {
      "text/plain": [
       "(True, True, False)"
      ]
     },
     "execution_count": 2,
     "metadata": {},
     "output_type": "execute_result"
    }
   ],
   "source": [
    "x = 5\n",
    "isinstance(x, object), isinstance(x, int), isinstance(x, float)"
   ]
  },
  {
   "cell_type": "markdown",
   "metadata": {
    "slideshow": {
     "slide_type": "subslide"
    }
   },
   "source": [
    "Wollen wir neue Formen von Objekten einführen, benutzen wir das ```class``` Keyword:"
   ]
  },
  {
   "cell_type": "code",
   "execution_count": 8,
   "metadata": {
    "slideshow": {
     "slide_type": "fragment"
    }
   },
   "outputs": [],
   "source": [
    "class Agent(object):\n",
    "    def __init__(self, argument1, attribut2,):\n",
    "        self.attribut1 = argument1\n",
    "        self.attribut2 = attribut2\n",
    "        \n",
    "    def methode1(self, argument):\n",
    "        return self.attribut1 + argument # Beispiel"
   ]
  },
  {
   "cell_type": "markdown",
   "metadata": {
    "slideshow": {
     "slide_type": "fragment"
    }
   },
   "source": [
    "Die ```__init__``` Methode ist eine sogenannte **special Method**. Sie wird ausgeführt wenn ein neues Objekt **initialisiert** wird.\n",
    "\n",
    "Ihre Argumente werden zur Initialisierung der **Objekte dieser Klasse** genutzt:"
   ]
  },
  {
   "cell_type": "code",
   "execution_count": 9,
   "metadata": {
    "slideshow": {
     "slide_type": "fragment"
    }
   },
   "outputs": [],
   "source": [
    "james_bond = Agent(\"007\", True)"
   ]
  },
  {
   "cell_type": "markdown",
   "metadata": {
    "slideshow": {
     "slide_type": "subslide"
    }
   },
   "source": [
    "## Attribute\n",
    "\n",
    "Variablen die im Namespace ```self``` einer Klasse gespeichert sind, nennt man **Attribute**."
   ]
  },
  {
   "cell_type": "code",
   "execution_count": 10,
   "metadata": {
    "slideshow": {
     "slide_type": "fragment"
    }
   },
   "outputs": [
    {
     "data": {
      "text/plain": [
       "('007', True)"
      ]
     },
     "execution_count": 10,
     "metadata": {},
     "output_type": "execute_result"
    }
   ],
   "source": [
    "james_bond.attribut1, james_bond.attribut2"
   ]
  },
  {
   "cell_type": "markdown",
   "metadata": {
    "slideshow": {
     "slide_type": "fragment"
    }
   },
   "source": [
    "In den Attributen eines Objekts wird als der **mutable Zustand** des Objekts gespeichert."
   ]
  },
  {
   "cell_type": "markdown",
   "metadata": {
    "slideshow": {
     "slide_type": "subslide"
    }
   },
   "source": [
    "## Methoden\n",
    "\n",
    "Wir haben ```def``` jetzt schon in zwei Rollen gesehen: Zur Erstellung von **Funktionen** und **Generators** (letztere mit ```yield```)\n",
    "<br>\n",
    "Nun folgt die **dritte Anwendung: Methoden**"
   ]
  },
  {
   "cell_type": "markdown",
   "metadata": {
    "slideshow": {
     "slide_type": "fragment"
    }
   },
   "source": [
    "Im **Unterschied** zu Funktionen haben Methoden als **erstes Argument** immer ```self```."
   ]
  },
  {
   "cell_type": "markdown",
   "metadata": {
    "slideshow": {
     "slide_type": "fragment"
    }
   },
   "source": [
    "Methoden können durch ```self``` am **Zustand** des Objekts operieren. Funktionen bearbeiten im **Idealfall** keinen Zustand (siehe Functional Programming)."
   ]
  },
  {
   "cell_type": "markdown",
   "metadata": {
    "slideshow": {
     "slide_type": "fragment"
    }
   },
   "source": [
    "```self``` beschreibt in der **Klasse** dabei eine **abstrakte Instanz** des Objekts. Die **Klasse** selbst ist keine Instanz seiner selbst sondern der **Bauplan für die Instanzen** und gleichzeitig **ihr Typ**."
   ]
  },
  {
   "cell_type": "code",
   "execution_count": 11,
   "metadata": {
    "slideshow": {
     "slide_type": "fragment"
    }
   },
   "outputs": [
    {
     "data": {
      "text/plain": [
       "(<__main__.Agent at 0x7f3cc45477d0>,\n",
       " 139898968635344,\n",
       " __main__.Agent,\n",
       " ['attribut1', 'attribut2', 'methode1'])"
      ]
     },
     "execution_count": 11,
     "metadata": {},
     "output_type": "execute_result"
    }
   ],
   "source": [
    "james_bond, id(james_bond), type(james_bond), dir(james_bond)[-3:] # 3 zeigt die von uns erstellten Namen"
   ]
  },
  {
   "cell_type": "code",
   "execution_count": 13,
   "metadata": {
    "slideshow": {
     "slide_type": "fragment"
    }
   },
   "outputs": [
    {
     "data": {
      "text/plain": [
       "'007 - Bond, James Bond'"
      ]
     },
     "execution_count": 13,
     "metadata": {},
     "output_type": "execute_result"
    }
   ],
   "source": [
    "james_bond.methode1(\" - Bond, James Bond\")"
   ]
  },
  {
   "cell_type": "markdown",
   "metadata": {
    "slideshow": {
     "slide_type": "fragment"
    }
   },
   "source": [
    "In der nächsten Einheit werden wir uns genauer mit OOP auseinandersetzen."
   ]
  },
  {
   "cell_type": "markdown",
   "metadata": {
    "slideshow": {
     "slide_type": "slide"
    }
   },
   "source": [
    "# Pattern-oriented Modelling\n",
    "> *Grimm et al., 2005*"
   ]
  },
  {
   "cell_type": "markdown",
   "metadata": {
    "slideshow": {
     "slide_type": "fragment"
    }
   },
   "source": [
    "Makroskopische Modelle können **Details** oft nicht gut genug darstellen.\n",
    "\n",
    "Mikroskopische Modelle sollen dies verbessern, aber dürfen **nicht zu komplex** werden."
   ]
  },
  {
   "cell_type": "markdown",
   "metadata": {
    "slideshow": {
     "slide_type": "fragment"
    }
   },
   "source": [
    "Wie wählt man also **die richtigen Details** für das Verhalten der Agenten aus?"
   ]
  },
  {
   "cell_type": "markdown",
   "metadata": {
    "slideshow": {
     "slide_type": "fragment"
    }
   },
   "source": [
    "Mit **Pattern-oriented Modelling** schlägt Grimm (2005) eine Lösung für dieses Dilemma vor."
   ]
  },
  {
   "cell_type": "markdown",
   "metadata": {
    "slideshow": {
     "slide_type": "subslide"
    }
   },
   "source": [
    "## Orienteren an Mustern\n",
    "\n",
    "Wir wollen **Muster** die wir beobachten können in unserem Modell **darstellen**."
   ]
  },
  {
   "cell_type": "markdown",
   "metadata": {
    "slideshow": {
     "slide_type": "fragment"
    }
   },
   "source": [
    "+ Fisch oder Vogelschwärme und ihr Flugmuster"
   ]
  },
  {
   "cell_type": "markdown",
   "metadata": {
    "slideshow": {
     "slide_type": "fragment"
    }
   },
   "source": [
    "+ Staubildung in Städten oder Überschwemmungen in Kanälen"
   ]
  },
  {
   "cell_type": "markdown",
   "metadata": {
    "slideshow": {
     "slide_type": "fragment"
    }
   },
   "source": [
    "+ Muster die wir bereits von einem gleichungsbasierten Modell kennen *(zB Lotka-Volterra)*"
   ]
  },
  {
   "cell_type": "markdown",
   "metadata": {
    "slideshow": {
     "slide_type": "fragment"
    }
   },
   "source": [
    "+ Die Ausbreitung einer Laola-Welle"
   ]
  },
  {
   "cell_type": "markdown",
   "metadata": {
    "slideshow": {
     "slide_type": "subslide"
    }
   },
   "source": [
    "Diese Muster können auf **verschiedenen Ebenen** im Modell angetroffen werden:\n",
    "\n",
    "+ Individuell\n",
    "+ Global\n",
    "+ Lokal\n",
    "+ Gruppen\n",
    "+ ..."
   ]
  },
  {
   "cell_type": "markdown",
   "metadata": {
    "slideshow": {
     "slide_type": "fragment"
    }
   },
   "source": [
    "Lässt sich mit den **Verhaltensregeln** unserer Agenten das Muster nicht erreichen, müssen andere Schlüsselfaktoren dafür verantwortlich sein.\n",
    "\n",
    "Unterschiedliche Beschreibungen können so auch **verglichen** werden."
   ]
  },
  {
   "cell_type": "markdown",
   "metadata": {
    "slideshow": {
     "slide_type": "skip"
    }
   },
   "source": [
    "# Literatur\n",
    "\n",
    "Grimm, V., Revilla, E., Berger, U., Jeltsch, F., Mooij, W.M., Railsback, S.F., Thulke, H.-H., Weiner, J.,\n",
    "Wiegand, T., DeAngelis, D.L., 2005. Pattern-Oriented Modeling of Agent-Based Complex Systems:\n",
    "Lessons from Ecology. Science 310, 987–991. https://doi.org/10.1126/science.1116681"
   ]
  }
 ],
 "metadata": {
  "celltoolbar": "Slideshow",
  "kernelspec": {
   "display_name": "Python 3",
   "language": "python",
   "name": "python3"
  },
  "language_info": {
   "codemirror_mode": {
    "name": "ipython",
    "version": 3
   },
   "file_extension": ".py",
   "mimetype": "text/x-python",
   "name": "python",
   "nbconvert_exporter": "python",
   "pygments_lexer": "ipython3",
   "version": "3.7.7"
  },
  "rise": {
   "enable_chalkboard": true,
   "scroll": true,
   "theme": "serif"
  }
 },
 "nbformat": 4,
 "nbformat_minor": 4
}
