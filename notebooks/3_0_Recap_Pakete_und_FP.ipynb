{
 "cells": [
  {
   "cell_type": "markdown",
   "metadata": {
    "slideshow": {
     "slide_type": "slide"
    }
   },
   "source": [
    "# Recap"
   ]
  },
  {
   "cell_type": "markdown",
   "metadata": {
    "slideshow": {
     "slide_type": "subslide"
    }
   },
   "source": [
    "## Python Namespaces\n",
    "\n",
    "+ Was ist ein Namespace?\n",
    "\n",
    "\n",
    "+ Worin unterscheiden sich Namespaces?\n",
    "\n",
    "\n",
    "+ Wo sind in Python Namespaces zu finden?"
   ]
  },
  {
   "cell_type": "code",
   "execution_count": 4,
   "metadata": {
    "slideshow": {
     "slide_type": "-"
    }
   },
   "outputs": [
    {
     "name": "stdout",
     "output_type": "stream",
     "text": [
      "\n",
      "Welcome to Python 3.9's help utility!\n",
      "\n",
      "If this is your first time using Python, you should definitely check out\n",
      "the tutorial on the Internet at https://docs.python.org/3.9/tutorial/.\n",
      "\n",
      "Enter the name of any module, keyword, or topic to get help on writing\n",
      "Python programs and using Python modules.  To quit this help utility and\n",
      "return to the interpreter, just type \"quit\".\n",
      "\n",
      "To get a list of available modules, keywords, symbols, or topics, type\n",
      "\"modules\", \"keywords\", \"symbols\", or \"topics\".  Each module also comes\n",
      "with a one-line summary of what it does; to list the modules whose name\n",
      "or summary contain a given string such as \"spam\", type \"modules spam\".\n",
      "\n",
      "help> keywords\n",
      "\n",
      "Here is a list of the Python keywords.  Enter any keyword to get more help.\n",
      "\n",
      "False               break               for                 not\n",
      "None                class               from                or\n",
      "True                continue            global              pass\n",
      "__peg_parser__      def                 if                  raise\n",
      "and                 del                 import              return\n",
      "as                  elif                in                  try\n",
      "assert              else                is                  while\n",
      "async               except              lambda              with\n",
      "await               finally             nonlocal            yield\n",
      "\n",
      "\n",
      "You are now leaving help and returning to the Python interpreter.\n",
      "If you want to ask for help on a particular object directly from the\n",
      "interpreter, you can type \"help(object)\".  Executing \"help('string')\"\n",
      "has the same effect as typing a particular string at the help> prompt.\n"
     ]
    }
   ],
   "source": [
    "# Wie sehe ich den aktuellen Namespace ein?\n",
    "dir()\n",
    "\n",
    "# Wie sehe ich den Namespace von Listen ein?\n",
    "dir(list())\n",
    "\n",
    "# Wie sehe ich den Namespace von Numpy ein?\n",
    "import numpy as np\n",
    "dir(np)\n",
    "\n",
    "help()"
   ]
  },
  {
   "cell_type": "markdown",
   "metadata": {
    "slideshow": {
     "slide_type": "subslide"
    }
   },
   "source": [
    "### Namespaces nutzen\n",
    "\n",
    "+ Wie kann ich selbst einen neuen Namespace erstellen?"
   ]
  },
  {
   "cell_type": "code",
   "execution_count": null,
   "metadata": {
    "slideshow": {
     "slide_type": "-"
    }
   },
   "outputs": [],
   "source": [
    "import wonderland as wl"
   ]
  },
  {
   "cell_type": "markdown",
   "metadata": {
    "slideshow": {
     "slide_type": "subslide"
    }
   },
   "source": [
    "## Property based tests"
   ]
  },
  {
   "cell_type": "code",
   "execution_count": 15,
   "metadata": {
    "slideshow": {
     "slide_type": "-"
    }
   },
   "outputs": [],
   "source": [
    "from hypothesis import given\n",
    "import hypothesis.strategies as strat\n",
    "from math import exp\n",
    "\n",
    "# from wonderland.parameters import *\n",
    "# Umwelt\n",
    "KAPPA = 2.0; EPSILON = 0.02; DELTA = 1.0; RHO = 2.0; OMEGA = 0.1; NY = 1.0\n",
    "# Umweltschutz\n",
    "PHI = 0.5; MY = 2.0\n",
    "\n",
    "def fluss_emissionen(x,y,z,p): c_strich = exp(EPSILON * umweltschutz(y,z) * x); return x*y*p - KAPPA * (c_strich/(1.0+c_strich) - 0.5)\n",
    "def umweltschutz(y,z): return PHI * (1.0-z)**MY * y\n",
    "\n",
    "st_x = strat.floats(min_value=0.0, max_value=5.0, allow_nan=False, allow_infinity=False)\n",
    "st_y = strat.floats(min_value=0.0, max_value=15_000, allow_nan=False, allow_infinity=False)\n",
    "st_z = strat.floats(min_value=0.0, max_value=1.0, allow_nan=False)\n",
    "st_p = strat.floats(min_value=0.0, max_value=1.0, allow_nan=False, exclude_min=True)\n",
    "\n",
    "def umwelt1(x,y,z,p):\n",
    "    g = exp(DELTA*z**RHO - OMEGA*fluss_emissionen(x,y,z,p))\n",
    "    res = z + NY * (z-z**2) * (g - 1.0)\n",
    "    if res > 1:\n",
    "        res = 1.0\n",
    "    return res\n",
    "\n",
    "def umwelt2(x,y,z,p):\n",
    "    g = exp(DELTA*z**RHO - OMEGA*fluss_emissionen(x,y,z,p))\n",
    "    return z + NY * (z*g + z**2 - g*z**2 - z)\n",
    "\n",
    "def umwelt3(x,y,z,p):\n",
    "    g = exp(DELTA*z**RHO - OMEGA*fluss_emissionen(x,y,z,p))\n",
    "    return z * (1 + NY * g + NY*z - NY*g*z - NY)"
   ]
  },
  {
   "cell_type": "code",
   "execution_count": 21,
   "metadata": {},
   "outputs": [],
   "source": [
    "@given(st_x, st_y, st_z, st_p)\n",
    "def teste_umwelt(x, y, z, p):\n",
    "    z_neu = umwelt3(x, y, z, p)\n",
    "    assert z_neu >= 0\n",
    "    assert z_neu <= 1"
   ]
  },
  {
   "cell_type": "code",
   "execution_count": 22,
   "metadata": {
    "scrolled": false,
    "slideshow": {
     "slide_type": "-"
    }
   },
   "outputs": [],
   "source": [
    "teste_umwelt()"
   ]
  },
  {
   "cell_type": "markdown",
   "metadata": {
    "slideshow": {
     "slide_type": "slide"
    }
   },
   "source": [
    "# Functional Programming in Python"
   ]
  },
  {
   "cell_type": "markdown",
   "metadata": {
    "slideshow": {
     "slide_type": "subslide"
    }
   },
   "source": [
    "+ Was bedeutet *Funktionale Programmierung* ?\n",
    "\n",
    "\n",
    "+ Welche Konzepte der FP haben wir in Python kennengelernt?"
   ]
  },
  {
   "cell_type": "code",
   "execution_count": null,
   "metadata": {
    "slideshow": {
     "slide_type": "-"
    }
   },
   "outputs": [],
   "source": []
  },
  {
   "cell_type": "markdown",
   "metadata": {
    "slideshow": {
     "slide_type": "subslide"
    }
   },
   "source": [
    "### List-Comprehensions"
   ]
  },
  {
   "cell_type": "code",
   "execution_count": null,
   "metadata": {
    "slideshow": {
     "slide_type": "-"
    }
   },
   "outputs": [],
   "source": []
  },
  {
   "cell_type": "markdown",
   "metadata": {
    "slideshow": {
     "slide_type": "subslide"
    }
   },
   "source": [
    "### Ternary operator"
   ]
  },
  {
   "cell_type": "code",
   "execution_count": null,
   "metadata": {
    "slideshow": {
     "slide_type": "-"
    }
   },
   "outputs": [],
   "source": []
  },
  {
   "cell_type": "markdown",
   "metadata": {
    "slideshow": {
     "slide_type": "subslide"
    }
   },
   "source": [
    "### Higher order functions\n",
    "\n",
    "+ Was sind higher order functions?\n",
    "\n",
    "\n",
    "+ Welche haben wir kennengelernt?"
   ]
  },
  {
   "cell_type": "code",
   "execution_count": null,
   "metadata": {
    "slideshow": {
     "slide_type": "-"
    }
   },
   "outputs": [],
   "source": []
  },
  {
   "cell_type": "markdown",
   "metadata": {
    "slideshow": {
     "slide_type": "subslide"
    }
   },
   "source": [
    "### Laziness\n",
    "\n",
    "+ Welche Objekte sind in Python lazy?\n",
    "\n",
    "\n",
    "+ Wie können sie erstellt werden?\n",
    "\n",
    "\n",
    "+ Was ist referentielle Transparenz und warum ist sie so wichtig für Lazy Evaluation?"
   ]
  },
  {
   "cell_type": "code",
   "execution_count": null,
   "metadata": {
    "slideshow": {
     "slide_type": "-"
    }
   },
   "outputs": [],
   "source": []
  }
 ],
 "metadata": {
  "celltoolbar": "Slideshow",
  "kernelspec": {
   "display_name": "Python 3 (ipykernel)",
   "language": "python",
   "name": "python3"
  },
  "language_info": {
   "codemirror_mode": {
    "name": "ipython",
    "version": 3
   },
   "file_extension": ".py",
   "mimetype": "text/x-python",
   "name": "python",
   "nbconvert_exporter": "python",
   "pygments_lexer": "ipython3",
   "version": "3.9.6"
  },
  "rise": {
   "enable_chalkboard": true,
   "scroll": true,
   "theme": "serif"
  }
 },
 "nbformat": 4,
 "nbformat_minor": 2
}
