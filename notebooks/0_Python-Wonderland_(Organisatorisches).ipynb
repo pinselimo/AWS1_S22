{
 "cells": [
  {
   "cell_type": "markdown",
   "metadata": {
    "slideshow": {
     "slide_type": "slide"
    }
   },
   "source": [
    "# Angewandte Systemwissenschaften I\n",
    "---\n",
    "# Gruppe Plakolb - Syllabus\n",
    "---"
   ]
  },
  {
   "cell_type": "markdown",
   "metadata": {
    "slideshow": {
     "slide_type": "subslide"
    }
   },
   "source": [
    "# Vortragender\n",
    "---\n",
    "### Simon Plakolb\n",
    "\n",
    "- Studium: USW (NaWi-Tech)\n",
    "\n",
    "- Forschungsgebiete\n",
    "    - Agentenbasierte Modellierung\n",
    "    - Artificial Intelligence\n",
    "    - Netwerke\n",
    "    - Verkehrssimulation\n",
    "    "
   ]
  },
  {
   "cell_type": "markdown",
   "metadata": {
    "slideshow": {
     "slide_type": "slide"
    }
   },
   "source": [
    "<img src=\"../notenschl%C3%BCssel.png\" align=\"right\" height=\"400\" width=\"80\">\n",
    "\n",
    "# Modus\n",
    "---\n",
    "- Termine: 4\n",
    "    - Wo möglich hybrides Format.\n",
    "    - Gruppeneinteilung im Moodle.\n",
    "    - Zusätzlich online Video-Material und GitHub-Repository.\n",
    "\n",
    "- Benotungsschema:\n",
    "    - Mitarbeit: 20 Punkte (*für aktive Teilnahme am Geschehen*)\n",
    "    - Insgesamt 40 Punkte für Hausübungsbeispiele\n",
    "    - Proseminararbeit: 40 Punkte\n",
    "    - Notenschlüssel:\n",
    "        - Ab exkl. 50 Punkten positiv\n",
    "        - Von 50-100 Punkte gleich große Schritte \\\n",
    "             $<= 50$ P $\\quad \\to \\quad 5$ \\\n",
    "             $> 50$ P $\\quad \\to \\quad 4$ \\\n",
    "             $> 62.5$ P $\\quad \\to \\quad 3$ \\\n",
    "             $> 75$ P $\\quad \\to \\quad 2$ \\\n",
    "             $> 87.5$ P $\\quad \\to \\quad 1$"
   ]
  },
  {
   "cell_type": "markdown",
   "metadata": {
    "slideshow": {
     "slide_type": "subslide"
    }
   },
   "source": [
    "#### In Python-Code ausgedrück:"
   ]
  },
  {
   "cell_type": "code",
   "execution_count": 102,
   "metadata": {
    "slideshow": {
     "slide_type": "-"
    }
   },
   "outputs": [],
   "source": [
    "def grade(points):\n",
    "    \"\"\"Calculates the grade of a student.\n",
    "    \n",
    "    Parameters\n",
    "    ----------\n",
    "    punkte : float\n",
    "        Points the student has reached.\n",
    "        \n",
    "    Returns\n",
    "    -------\n",
    "    grade : int\n",
    "        The resulting grade.\n",
    "    \"\"\"\n",
    "    for limit in (50+(4-g)*12.5 for g in range(1,5)):\n",
    "        if points > limit:\n",
    "            return 4-int((limit-50)/12.5)\n",
    "        else:\n",
    "            continue\n",
    "    else:\n",
    "        return 5"
   ]
  },
  {
   "cell_type": "code",
   "execution_count": 103,
   "metadata": {
    "slideshow": {
     "slide_type": "fragment"
    }
   },
   "outputs": [
    {
     "data": {
      "text/plain": [
       "(5, 4, 3, 2, 1)"
      ]
     },
     "execution_count": 103,
     "metadata": {},
     "output_type": "execute_result"
    }
   ],
   "source": [
    "grade(0), grade(50.01), grade(62.51), grade(75.01), grade(87.51)"
   ]
  },
  {
   "cell_type": "markdown",
   "metadata": {
    "slideshow": {
     "slide_type": "subslide"
    }
   },
   "source": [
    "- Die LV hat **immanenten Prüfungscharakter**\n",
    "    - Grundsätzlich **Anwesenheitspflicht**\n",
    "    - Entschuldigtes Fernbleiben (*80%*)\n",
    "    - **Bewertung nach erster erbrachter Leistung** (*Auch wenn der Kurs nicht abgeschlossen wird*)"
   ]
  },
  {
   "cell_type": "markdown",
   "metadata": {
    "slideshow": {
     "slide_type": "subslide"
    }
   },
   "source": [
    "### Corona\n",
    "\n",
    "- Personen in der Risikogruppe oder mit solchen im Haushalt? $\\rightarrow$ Online-Teilnahme möglich\n",
    "\n",
    "#### Bei Präsenz\n",
    "\n",
    "- Maske\n",
    "- Abstand\n",
    "- Hände waschen / desinfizieren\n",
    "\n",
    "#### Alternativ-Szenario\n",
    "\n",
    "- Die Präsenzeinheiten werden online abgehalten."
   ]
  },
  {
   "cell_type": "markdown",
   "metadata": {
    "slideshow": {
     "slide_type": "fragment"
    }
   },
   "source": [
    "## Hausübungen\n",
    "\n",
    "Bis **darauffolgenden Donnerstag 12:00** auf **Moodle** abzugeben."
   ]
  },
  {
   "cell_type": "markdown",
   "metadata": {
    "slideshow": {
     "slide_type": "subslide"
    }
   },
   "source": [
    "## Proseminar-Arbeit\n",
    "\n",
    "In **Kleingruppen** zu erledigen. \n",
    "\n",
    "$10 \\pm 2$ Seiten insgesamt.\n",
    "\n",
    "- Einleitung ins Problem (*$10*\\text{Gruppengröße}$ Punkte*)\n",
    "- Lösungsprotokoll (*$5*\\text{Gruppengröße}$ Punkte*)\n",
    "- Diskussion der\n",
    "    - Angewandten in der LV erlernten Kenntnisse (*$5*\\text{Gruppengröße}$ Punkte*)\n",
    "    - Qualität der Lösung (*$5*\\text{Gruppengröße}$ Punkte*)\n",
    "- Quellcode im Anhang (*$15*\\text{Gruppengröße}$ Punkte*)\n",
    "    - zählt nicht zur Seitenanzahl!\n",
    "\n",
    "\n",
    "Es ist **vor** und **nach** dem Verfassen der Arbeit in Prozent die Leistung der Gruppenmitglieder an den Teilen aufzuschlüsseln. Die Punktevergabe folgt diesen Angaben. Die maximale Punkteanzahl von 40 Punkten kann dabei nicht überschritten werden. Bonuspunkte für hervorragende Leistungen vorbehalten."
   ]
  },
  {
   "cell_type": "markdown",
   "metadata": {
    "slideshow": {
     "slide_type": "subslide"
    }
   },
   "source": [
    "<img src=\"putput.jpg\">"
   ]
  },
  {
   "cell_type": "markdown",
   "metadata": {
    "slideshow": {
     "slide_type": "slide"
    }
   },
   "source": [
    "# Inhalt\n",
    "---\n",
    "\n",
    "1.  0. **Anaconda und Pip**\n",
    "    1. Einführung in Python\n",
    "    2. Matplotlib & Jupyter-Notebooks: Eine Einführung ins Wonderland - Modell\n",
    "2.  1. Funktionale Programmierung & Python-Module\n",
    "    2. Python-Pakete und Workflow\n",
    "    3. Objekt-orientierte Programmierung\n",
    "3.  1. Agenten-basierte Modellierung\n",
    "    2. Multiprocessing & Sensitivity Analysis \n",
    "4.  Projektpräsentationen"
   ]
  },
  {
   "cell_type": "markdown",
   "metadata": {
    "slideshow": {
     "slide_type": "subslide"
    }
   },
   "source": [
    "## Ziel\n",
    "\n",
    "Verständnis und Anwendung von Programmier-Grundkonzepten in der Programmiersprache Python.\n",
    "\n",
    "Grundlagen im Umgang mit dem Versionskontroll-Tool *Git* und Python-Umgebungen wie *Jupyter*, *Spyder* o.ä.\n",
    "\n",
    "Anwendung dieser Kenntnisse auf systemwissenschaftlich motivierte Probleme."
   ]
  },
  {
   "cell_type": "markdown",
   "metadata": {
    "slideshow": {
     "slide_type": "slide"
    }
   },
   "source": [
    "# Warum Python?\n",
    "---\n",
    "# [Toibe - Index](https://www.tiobe.com/tiobe-index/)\n",
    "---\n",
    "# [PYPL](http://pypl.github.io/PYPL.html)\n",
    "---\n",
    "# [IEEE](https://spectrum.ieee.org/at-work/innovation/the-2018-top-programming-languages)"
   ]
  }
 ],
 "metadata": {
  "celltoolbar": "Slideshow",
  "kernelspec": {
   "display_name": "Python 3",
   "language": "python",
   "name": "python3"
  },
  "language_info": {
   "codemirror_mode": {
    "name": "ipython",
    "version": 3
   },
   "file_extension": ".py",
   "mimetype": "text/x-python",
   "name": "python",
   "nbconvert_exporter": "python",
   "pygments_lexer": "ipython3",
   "version": "3.7.7"
  }
 },
 "nbformat": 4,
 "nbformat_minor": 2
}
