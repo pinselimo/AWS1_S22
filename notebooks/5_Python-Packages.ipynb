{
 "cells": [
  {
   "cell_type": "markdown",
   "metadata": {
    "slideshow": {
     "slide_type": "slide"
    }
   },
   "source": [
    "# Python - Pakete\n",
    "### Angewandte Systemwissenschaften I\n",
    "#### Python - Wonderland\n",
    "Einheit 5 / 10"
   ]
  },
  {
   "cell_type": "markdown",
   "metadata": {
    "slideshow": {
     "slide_type": "slide"
    }
   },
   "source": [
    "# Semesterplan\n",
    "---\n",
    "0. Anaconda und Pip\n",
    "1. Einführung in Python\n",
    "2. Matplotlib: Eine Einführung ins Wonderland - Modell\n",
    "3. Jupyter-Notebooks: Wonderland in Python\n",
    "4. Funktionale Programmierung & Python-Module\n",
    "5. **Python-Pakete und Workflow**\n",
    "6. Agenten-basierte Modellierung\n",
    "7. Objekt-orientierte Programmierung \n",
    "8. Animationen zur Modellentwicklung\n",
    "9. Multiprocessing & Sensitivity Analysis\n",
    "10. Projektpräsentationen"
   ]
  },
  {
   "cell_type": "markdown",
   "metadata": {
    "slideshow": {
     "slide_type": "slide"
    }
   },
   "source": [
    "## Inhalt\n",
    "+ Python Module\n",
    "+ Namespaces\n",
    "+ Packages\n",
    "+ Projektstruktur\n",
    "+ Strukturierung des vorhandenen Codes\n",
    "+ Dokumentation\n",
    "+ Versionskontrolle\n",
    "+ Unit Testing"
   ]
  },
  {
   "cell_type": "markdown",
   "metadata": {
    "slideshow": {
     "slide_type": "slide"
    }
   },
   "source": [
    "## Python Module\n",
    "\n",
    "Hat sich unsere Idee in der **Prototypen-Phase bewährt**, können wir die Funktionen in einer Datei mit der Endung ```.py``` speichern. <br>\n",
    "Eine solche Datei nennen wir dann **Modul**. \n",
    "\n",
    "Das Modul in dieser Datei lässt sich dann mit ```import``` in den aktuellen **Namespace** importieren. Somit können die **Funktionen** im Modul dann aufgerufen werden."
   ]
  },
  {
   "cell_type": "code",
   "execution_count": 5,
   "metadata": {
    "slideshow": {
     "slide_type": "subslide"
    }
   },
   "outputs": [
    {
     "name": "stdout",
     "output_type": "stream",
     "text": [
      "The Zen of Python, by Tim Peters\n",
      "\n",
      "Beautiful is better than ugly.\n",
      "Explicit is better than implicit.\n",
      "Simple is better than complex.\n",
      "Complex is better than complicated.\n",
      "Flat is better than nested.\n",
      "Sparse is better than dense.\n",
      "Readability counts.\n",
      "Special cases aren't special enough to break the rules.\n",
      "Although practicality beats purity.\n",
      "Errors should never pass silently.\n",
      "Unless explicitly silenced.\n",
      "In the face of ambiguity, refuse the temptation to guess.\n",
      "There should be one-- and preferably only one --obvious way to do it.\n",
      "Although that way may not be obvious at first unless you're Dutch.\n",
      "Now is better than never.\n",
      "Although never is often better than *right* now.\n",
      "If the implementation is hard to explain, it's a bad idea.\n",
      "If the implementation is easy to explain, it may be a good idea.\n",
      "Namespaces are one honking great idea -- let's do more of those!\n"
     ]
    }
   ],
   "source": [
    "import this"
   ]
  },
  {
   "cell_type": "markdown",
   "metadata": {
    "slideshow": {
     "slide_type": "slide"
    }
   },
   "source": [
    "## Namespaces\n",
    "\n",
    "Als **Namespace** wird der \"Raum\" aller belegten Namen in einem **Python**-Kontext bezeichnet.\n",
    "\n",
    "Mit der Funktion ```dir``` lässt sich **der aktuelle** Namespace betrachten."
   ]
  },
  {
   "cell_type": "code",
   "execution_count": 8,
   "metadata": {
    "slideshow": {
     "slide_type": "fragment"
    }
   },
   "outputs": [
    {
     "data": {
      "text/plain": [
       "['In',\n",
       " 'Out',\n",
       " '_',\n",
       " '_2',\n",
       " '_3',\n",
       " '_4',\n",
       " '_5',\n",
       " '_6',\n",
       " '_7',\n",
       " '__',\n",
       " '___',\n",
       " '__builtin__',\n",
       " '__builtins__',\n",
       " '__doc__',\n",
       " '__loader__',\n",
       " '__name__',\n",
       " '__package__',\n",
       " '__spec__',\n",
       " '_dh',\n",
       " '_i',\n",
       " '_i1',\n",
       " '_i2',\n",
       " '_i3',\n",
       " '_i4',\n",
       " '_i5',\n",
       " '_i6',\n",
       " '_i7',\n",
       " '_i8',\n",
       " '_ih',\n",
       " '_ii',\n",
       " '_iii',\n",
       " '_oh',\n",
       " 'exit',\n",
       " 'get_ipython',\n",
       " 'quit',\n",
       " 'this']"
      ]
     },
     "execution_count": 8,
     "metadata": {},
     "output_type": "execute_result"
    }
   ],
   "source": [
    "dir()"
   ]
  },
  {
   "cell_type": "markdown",
   "metadata": {
    "slideshow": {
     "slide_type": "subslide"
    }
   },
   "source": [
    "Der Namespace **ändert sich** wenn wir zum Beispiel in eine Funktion gelangen:"
   ]
  },
  {
   "cell_type": "code",
   "execution_count": 30,
   "metadata": {
    "slideshow": {
     "slide_type": "fragment"
    }
   },
   "outputs": [
    {
     "name": "stdout",
     "output_type": "stream",
     "text": [
      "['funktions_variable']\n"
     ]
    }
   ],
   "source": [
    "def func(funktions_variable):\n",
    "    print(dir())\n",
    "\n",
    "func(5)"
   ]
  },
  {
   "cell_type": "markdown",
   "metadata": {
    "slideshow": {
     "slide_type": "subslide"
    }
   },
   "source": [
    "Ist ein Name im **äußeren** und im **inneren** Namespace einer Funktion, **verdeckt** jener in der Funktion jenen der außen liegt. <br>\n",
    "Dies nennt man **Shadowing**."
   ]
  },
  {
   "cell_type": "code",
   "execution_count": 27,
   "metadata": {
    "slideshow": {
     "slide_type": "fragment"
    }
   },
   "outputs": [
    {
     "name": "stdout",
     "output_type": "stream",
     "text": [
      "5\n"
     ]
    },
    {
     "data": {
      "text/plain": [
       "(5, 0)"
      ]
     },
     "execution_count": 27,
     "metadata": {},
     "output_type": "execute_result"
    }
   ],
   "source": [
    "variable = 0\n",
    "\n",
    "def func(variable):\n",
    "    print(variable)\n",
    "    return variable\n",
    "    \n",
    "func(5), variable"
   ]
  },
  {
   "cell_type": "markdown",
   "metadata": {
    "slideshow": {
     "slide_type": "skip"
    }
   },
   "source": [
    "<div class=\"alert alert-block alert-info\">\n",
    "<h3>Tipp: Einzelne Funktionen importieren</h3>\n",
    "    \n",
    "Mittels Stern <code>from .. import</code> kann in Python eine **Funktion** oder ein **Submodul** importiert werden, <br>\n",
    "ohne gleich ein ganzes Modul laden zu müssen:\n",
    "<pre><code>from math import exp\n",
    "</code></pre>\n",
    "Zum Beispiel kann man dann statt <code>math.exp</code> also <code>exp</code> schreiben.\n",
    "</div>"
   ]
  },
  {
   "cell_type": "markdown",
   "metadata": {
    "slideshow": {
     "slide_type": "subslide"
    }
   },
   "source": [
    "Importieren wir ein **Modul** kommt es in unseren Namespace. Wir können ihm mit ```as``` einen **eigenen Namen** zuweisen.\n",
    "\n",
    "Die Namen der **Funktionen** sind dann **mit einem Punkt** ```.``` hinter dem Namen des Moduls erreichbar."
   ]
  },
  {
   "cell_type": "code",
   "execution_count": 15,
   "metadata": {
    "slideshow": {
     "slide_type": "fragment"
    }
   },
   "outputs": [
    {
     "data": {
      "text/plain": [
       "4"
      ]
     },
     "execution_count": 15,
     "metadata": {},
     "output_type": "execute_result"
    }
   ],
   "source": [
    "import numpy as np \n",
    "np.add(1,3)"
   ]
  },
  {
   "cell_type": "markdown",
   "metadata": {
    "slideshow": {
     "slide_type": "subslide"
    }
   },
   "source": [
    "<div class=\"alert alert-block alert-info\">\n",
    "<h3>Tipp: Der Trick mit dem Stern</h3>\n",
    "    \n",
    "Mittels Stern <code>*</code> kann in Python ein Namespace <strong>direkt importiert</strong> werden: <code>from numpy import *</code> <br>\n",
    "Zum Beispiel kann man dann statt <code>numpy.add</code> also <code>add</code> schreiben. \n",
    "<br><br>\n",
    "Dies wird <strong>nicht empfohlen</strong> da es den aktuellen Namespace <strong>unübersichtlich</strong> macht.\n",
    "</div>"
   ]
  },
  {
   "cell_type": "markdown",
   "metadata": {
    "slideshow": {
     "slide_type": "slide"
    }
   },
   "source": [
    "## Pakete\n",
    "\n",
    "Wächst die länge unseres Projekts liegt es nahe, die **vielen Zeilen Code** auf mehrere Dateien aufzuteilen. <br>\n",
    "So kann eine **übersichtlichere Struktur** erreicht werden und das Projekt **langfristig** weiterentwickelt werden.\n",
    "\n",
    "Wir wollen also ein **Paket** erstellen. Zuerst erstellen wir einen **Ordner** mit dem Pojekt**namen**.\n",
    "\n",
    "~~~bash\n",
    "$ mkdir Wonderland\n",
    "~~~"
   ]
  },
  {
   "cell_type": "markdown",
   "metadata": {
    "slideshow": {
     "slide_type": "fragment"
    }
   },
   "source": [
    "## Die \\_\\_init\\_\\_.py Datei\n",
    "\n",
    "Sitzt eine Datei namens ```__init__.py``` in einem Ordner mit Python Modulen, wird dieser **Ordner für Python zu einem Package**.\n",
    "\n",
    "Dabei kann ```__init__.py``` komplett leer sein. Ist sie es jedoch nicht, wird dieser Code **beim Laden** des Pakets mit ```import``` **ausgeführt**.\n",
    "\n",
    "~~~bash\n",
    "echo \"\" > __init__.py\n",
    "~~~\n"
   ]
  },
  {
   "cell_type": "markdown",
   "metadata": {
    "slideshow": {
     "slide_type": "slide"
    }
   },
   "source": [
    "## Projektstruktur\n",
    "\n",
    "```\n",
    "Wonderland\n",
    "│   README.md\n",
    "│   LICENSE.txt\n",
    "|   setup.py\n",
    "│   requirements.txt\n",
    "|\n",
    "└───wonderland\n",
    "    │   __init__.py\n",
    "    │   core.py\n",
    "    │   parameters.py\n",
    "    │   plots.py\n",
    "    |   utils.py\n",
    " \n",
    "└───tests\n",
    "    |   context.py\n",
    "    │   test_basic.py\n",
    "    \n",
    "└───docs\n",
    "    |   conf.py\n",
    "    |   index.rst\n",
    "```"
   ]
  },
  {
   "cell_type": "markdown",
   "metadata": {
    "slideshow": {
     "slide_type": "subslide"
    }
   },
   "source": [
    "## README\n",
    "\n",
    "Die README - Datei wird einfach als **Text - Datei** und oft in einer einfachen **Markup** - Sprache geschrieben.<br>\n",
    "\n",
    "+ Markdown (```README.md```)\n",
    "+ ReStructured-Text (```README.rst```)\n",
    "+ (Manchmal: ```README``` oder ```README.txt```)\n",
    "\n",
    "Sie **enthält Informationen** zu:"
   ]
  },
  {
   "cell_type": "markdown",
   "metadata": {
    "slideshow": {
     "slide_type": "fragment"
    }
   },
   "source": [
    "+ Zweck des Projekts"
   ]
  },
  {
   "cell_type": "markdown",
   "metadata": {
    "slideshow": {
     "slide_type": "fragment"
    }
   },
   "source": [
    "+ URL des Projekts"
   ]
  },
  {
   "cell_type": "markdown",
   "metadata": {
    "slideshow": {
     "slide_type": "fragment"
    }
   },
   "source": [
    "+ Anerkennungen"
   ]
  },
  {
   "cell_type": "markdown",
   "metadata": {
    "slideshow": {
     "slide_type": "fragment"
    }
   },
   "source": [
    "Sie ist meistens das **erste** was Leser des Codes sehen."
   ]
  },
  {
   "cell_type": "markdown",
   "metadata": {
    "slideshow": {
     "slide_type": "subslide"
    }
   },
   "source": [
    "## LICENSE\n",
    "\n",
    "Im LICENSE.txt - File steckt, wie der Name schon sagt, die **Lizenz**. Sie bestimmt wie der Code verwendet werden darf. <br>\n",
    "Diese Datei ist **wichtig** denn ohne Lizenz können viele Anwender den Code **gar nicht nutzen**.\n",
    "\n",
    "Ist man sich nicht sicher, **welche Lizenz** zum eigenen Projekt passt, kann man auf [Choose a License](https://choosealicense.com/) eine finden."
   ]
  },
  {
   "cell_type": "markdown",
   "metadata": {
    "slideshow": {
     "slide_type": "slide"
    }
   },
   "source": [
    "## Versionskontrolle\n",
    "\n",
    "Wird Code **geändert** behält man oft den alten bei, um bei Problemen zum **Ursprungszustand** zurückkehren zu können. Diese **Rückstände** von altem Code machen den Quelltext schnell unübersichtlich. <br>\n",
    "Mit einem Programm zur **Versionskontrolle** wie zum Beispiel **Git** lässt sich dies komfortabel verhindern.\n",
    "\n",
    "Git kann man einfach unter [git-scm.com](https://git-scm.com/downloads) **herunterladen und installieren**.\n",
    "\n",
    "**Dann** kann man im Projekt-Ordner die **rechte Maustaste** drücken und auf ```Git Bash here``` klicken. <br>\n",
    "Nun sollte man **zuerst** Git **konfigurieren**:\n",
    "~~~\n",
    "git config --global user.name \"Maxi Musterfrau\"\n",
    "~~~\n",
    "~~~\n",
    "git config --global user.email \"maxi.muster@provider.xxx\"\n",
    "~~~\n",
    "~~~\n",
    "git config --global color.ui auto\n",
    "~~~"
   ]
  },
  {
   "cell_type": "markdown",
   "metadata": {
    "slideshow": {
     "slide_type": "subslide"
    }
   },
   "source": [
    "## Git - Befehle\n",
    "Mit **Git** wollen wir jetzt ein neues **Repositorium** anlegen, worin wir unsere **Änderungen speichern** können."
   ]
  },
  {
   "cell_type": "markdown",
   "metadata": {
    "slideshow": {
     "slide_type": "fragment"
    }
   },
   "source": [
    "Neues **Repositorium anlegen**:\n",
    "~~~bash\n",
    "git init\n",
    "~~~"
   ]
  },
  {
   "cell_type": "markdown",
   "metadata": {
    "slideshow": {
     "slide_type": "fragment"
    }
   },
   "source": [
    "Die Dateien die wir bisher erstellt haben **vorbereiten**:\n",
    "~~~bash\n",
    "git add [Datei]\n",
    "~~~"
   ]
  },
  {
   "cell_type": "markdown",
   "metadata": {
    "slideshow": {
     "slide_type": "fragment"
    }
   },
   "source": [
    "Alle **vorbereiteten Dateien** zur aktuellen Version hinzufügen:\n",
    "~~~bash\n",
    "git commit -m \"Beschreibung\"\n",
    "~~~"
   ]
  },
  {
   "cell_type": "markdown",
   "metadata": {
    "slideshow": {
     "slide_type": "fragment"
    }
   },
   "source": [
    "Um alle **Änderungen** seit dem letzten Commit **anzuzeigen**:\n",
    "~~~bash\n",
    "git diff\n",
    "~~~\n",
    "*Tipp: Aus dieser Anzeigen kann man mit der Taste 'Q' aussteigen.*"
   ]
  },
  {
   "cell_type": "markdown",
   "metadata": {
    "slideshow": {
     "slide_type": "subslide"
    }
   },
   "source": [
    "<div class=\"alert alert-block alert-info\">\n",
    "<h3>Tipp: Git Zweige und Klone</h3>\n",
    "    \n",
    "<h4>Zweige</h4>\n",
    "<br>\n",
    "Bei <strong>größeren Änderungen</strong> am Code, wo man noch nicht weiß ob man diese Änderungen auch wirklich in den <strong>Hauptzweig</strong> übernehmen will, lohnt es sich eine <strong>Abzweigung</strong> zu erstellen. Man wechselt dadurch <strong>nicht</strong> zum neuen Branch!\n",
    "<pre><code>git branch [branch-name]\n",
    "</code></pre>\n",
    "Eine <strong>Liste aller Zweige</strong> findet man unter\n",
    "<pre><code>git branch\n",
    "</code></pre>\n",
    "Will man zu einem anderen <strong>Zweig wechseln</strong> schreibt man:\n",
    "<pre><code>git checkout [branch-name]\n",
    "</code></pre>\n",
    "Und um einen Zweig <strong>mit dem aktuellen zusammenzuführen</strong>:\n",
    "<pre><code>git merge [branch-name]\n",
    "</code></pre>\n",
    "<h4>Klone</h4>\n",
    "<br>\n",
    "Auf <strong>GitHub</strong> lassen sich Git - Projekte hochladen und teilen. Ist man am <strong>Quelltext</strong> eines dortigen Projekts interessiert, kann man ihn mit dem <strong>Befehl</strong> <code>clone</code> <strong>herunterladen</strong>:\n",
    "<pre><code>git clone [Repositoriumsname]\n",
    "</code></pre>\n",
    "\n",
    "Alle Befehle findet man in der <strong><a href=https://github.github.com/training-kit/downloads/github-git-cheat-sheet.pdf>Git Cheat Sheet</a></strong>\n",
    "</div>"
   ]
  },
  {
   "cell_type": "markdown",
   "metadata": {
    "slideshow": {
     "slide_type": "subslide"
    }
   },
   "source": [
    "## setup.py und requirements.txt\n",
    "\n",
    "**setup.py** wird von ```pip``` benötigt um ein Paket zu installieren.\n",
    "\n",
    "In **requirements.txt** stehen, wie der Name vermuten lässt, die Pakete, auf welchen unser Code aufbaut."
   ]
  },
  {
   "cell_type": "markdown",
   "metadata": {
    "slideshow": {
     "slide_type": "slide"
    }
   },
   "source": [
    "## Dokumentation\n",
    "\n",
    "Eines der Grundprinzipien von Python ist, dass Code **selbst-dokumentierend** sein sollte. \n",
    "\n",
    "Kann man also eine Erklärung in einem Kommentar durch eine bessere **Bennung der Variablen oder Funktionen** erreichen, sollte man das auch tun."
   ]
  },
  {
   "cell_type": "markdown",
   "metadata": {
    "slideshow": {
     "slide_type": "fragment"
    }
   },
   "source": [
    "Empfohlen ist es aber auch, an den Beginn eines jeden (*öffentlichen*) **Moduls**, jeder **Klasse** und jeder **Methode** bzw. **Funktion** einen ```docstring``` zu setzen."
   ]
  },
  {
   "cell_type": "markdown",
   "metadata": {
    "slideshow": {
     "slide_type": "subslide"
    }
   },
   "source": [
    "## Docstrings\n",
    "\n",
    "Ein ```docstring``` ist jener String, der **in der ersten Zeile** eines Moduls, einer Klasse oder eben einer Funktion/Methode steht."
   ]
  },
  {
   "cell_type": "code",
   "execution_count": 33,
   "metadata": {
    "slideshow": {
     "slide_type": "fragment"
    }
   },
   "outputs": [],
   "source": [
    "def quadrat(x):\n",
    "    \"\"\"Calculates the square of a number.\n",
    "    \n",
    "    Parameter\n",
    "    ---------\n",
    "    x : numeric\n",
    "        The number to be squared.\n",
    "        \n",
    "    Returns\n",
    "    -------\n",
    "    x² : numeric\n",
    "        The square of x.\n",
    "    \"\"\"\n",
    "    return x*x"
   ]
  },
  {
   "cell_type": "markdown",
   "metadata": {
    "slideshow": {
     "slide_type": "-"
    }
   },
   "source": [
    "Als **Konvention** werden ```docstring```s immer in **drei Anführungszeichen** gebettet. Das letzte ```\"\"\"``` steht dabei immer in einer eigenen Zeile, außer der ganze ```docstring``` umfasst nur eine Zeile."
   ]
  },
  {
   "cell_type": "markdown",
   "metadata": {
    "slideshow": {
     "slide_type": "subslide"
    }
   },
   "source": [
    "Der gesamte ```docstring``` wird im **Attribut** ```__doc__``` gespeichert:"
   ]
  },
  {
   "cell_type": "code",
   "execution_count": 17,
   "metadata": {
    "slideshow": {
     "slide_type": "-"
    }
   },
   "outputs": [
    {
     "data": {
      "text/plain": [
       "'\\n    Berechnet das Quadrat einer Zahl.\\n    \\n    Parameter\\n    ---------\\n    x: numerisch\\n        Die Zahl welche quadriert werden soll.\\n        \\n    Returns\\n    -------\\n    x²: numerisch\\n    '"
      ]
     },
     "execution_count": 17,
     "metadata": {},
     "output_type": "execute_result"
    }
   ],
   "source": [
    "quadrat.__doc__"
   ]
  },
  {
   "cell_type": "markdown",
   "metadata": {
    "slideshow": {
     "slide_type": "fragment"
    }
   },
   "source": [
    "Darauf greift man dann mit der Funktion ```help``` zu. (*Im Jupyter-Notebook oder anderen IPython-Konsolen, kann man auch einfach* ```[SHIFT]+[TAB]``` *drücken*)"
   ]
  },
  {
   "cell_type": "code",
   "execution_count": 8,
   "metadata": {
    "slideshow": {
     "slide_type": "-"
    }
   },
   "outputs": [],
   "source": [
    "import numpy as np\n",
    "?np"
   ]
  },
  {
   "cell_type": "markdown",
   "metadata": {},
   "source": [
    "# Docstring-Styles\n",
    "\n",
    "Es gibt **verschiedene Stile** wie Docstrings geschrieben werden. Diese sind **Konventionen** die von Programmen wie [Sphinx](https://www.sphinx-doc.org/en/master/) dazu benutzt werden, automatisch **Websites** für die Dokumentation zu erstellen."
   ]
  },
  {
   "cell_type": "markdown",
   "metadata": {},
   "source": [
    "+ Numpy-Style Docstrings: https://numpydoc.readthedocs.io/en/latest/format.html"
   ]
  },
  {
   "cell_type": "markdown",
   "metadata": {},
   "source": [
    "+ Google-Style Docstrings: https://www.sphinx-doc.org/en/1.7/ext/example_google.html"
   ]
  },
  {
   "cell_type": "markdown",
   "metadata": {},
   "source": [
    "+ ReStructured-Text Docstrings: https://sphinx-rtd-tutorial.readthedocs.io/en/latest/docstrings.html"
   ]
  },
  {
   "cell_type": "markdown",
   "metadata": {
    "slideshow": {
     "slide_type": "slide"
    }
   },
   "source": [
    "## Quelltext\n",
    "\n",
    "Nun kommen wir zum ```wonderland``` - Verzeichnis. Hier findet sich unser **eigentlicher Code**."
   ]
  },
  {
   "cell_type": "markdown",
   "metadata": {
    "slideshow": {
     "slide_type": "fragment"
    }
   },
   "source": [
    "+ Wie erwähnt verwandelt ```__init__.py``` unseren Ordner in ein Paket, die Datei bleibt dabei (vorerst) leer."
   ]
  },
  {
   "cell_type": "markdown",
   "metadata": {
    "slideshow": {
     "slide_type": "fragment"
    }
   },
   "source": [
    "+ Im **Modul** ```core.py``` können wir die **Funktionen die den Zustand berechnen** ablegen."
   ]
  },
  {
   "cell_type": "markdown",
   "metadata": {
    "slideshow": {
     "slide_type": "fragment"
    }
   },
   "source": [
    "+ Die **Parameter** legen wir separat in ```parameters.py``` ab."
   ]
  },
  {
   "cell_type": "markdown",
   "metadata": {
    "slideshow": {
     "slide_type": "fragment"
    }
   },
   "source": [
    "+ Mit ```plots.py``` sind alle unsere Funktionen **zur Darstellung** in einem Modul gebündelt."
   ]
  },
  {
   "cell_type": "markdown",
   "metadata": {
    "slideshow": {
     "slide_type": "fragment"
    }
   },
   "source": [
    "+ In ```utils.py``` können wir Funktionen ablegen welche sich **nicht genau zuordnen** lassen, aber nötig sind."
   ]
  },
  {
   "cell_type": "markdown",
   "metadata": {
    "slideshow": {
     "slide_type": "fragment"
    }
   },
   "source": [
    "Es kann leicht sein, dass wir manche Module nicht oder **später noch mehr** Module benötigen."
   ]
  },
  {
   "cell_type": "markdown",
   "metadata": {
    "slideshow": {
     "slide_type": "slide"
    }
   },
   "source": [
    "## Unit Testing\n",
    "\n",
    "- ### Wie können wir sicherstellen dass unser neuer Code korrekt ist?"
   ]
  },
  {
   "cell_type": "markdown",
   "metadata": {
    "slideshow": {
     "slide_type": "fragment"
    }
   },
   "source": [
    "> Wir **zerlegen** den Code in **kleine Einheiten** ('Units') und **testen** deren Korrektheit."
   ]
  },
  {
   "cell_type": "markdown",
   "metadata": {
    "slideshow": {
     "slide_type": "fragment"
    }
   },
   "source": [
    "Tests sollte man immer **vor** und **nach** der Weiterarbeit am Code ausführen. <br>\n",
    "Außerdem lohnt es sich **nach jeder gröberen Änderung** die Tests durchlaufen zu lassen."
   ]
  },
  {
   "cell_type": "markdown",
   "metadata": {
    "slideshow": {
     "slide_type": "fragment"
    }
   },
   "source": [
    "Um unsere Tests durchzuführen verwenden wir die Python-Module ```py.test``` und ```hypothesis```\n",
    "~~~\n",
    "pip install pytest\n",
    "pip install hypothesis\n",
    "~~~"
   ]
  },
  {
   "cell_type": "markdown",
   "metadata": {
    "slideshow": {
     "slide_type": "skip"
    }
   },
   "source": [
    "<div class=\"alert alert-block alert-info\">\n",
    "<h3>Tipp: Durch Tests einlesen in neue Projekte</h3>\n",
    "    \n",
    "Oftmals ist es nützlich, um sich mit einem neuen Projekt vertraut zu machen, <br>\n",
    "die für dieses Projekt bereits geschriebenen <strong>Tests durchzulesen</strong>.\n",
    "\n",
    "So kann man schnell verstehen welchen <strong>Limitierungen</strong> man unterworfen ist <br>\n",
    "und wo Probleme in der Entwicklung auftauchen (können).\n",
    "</div>"
   ]
  },
  {
   "cell_type": "markdown",
   "metadata": {
    "slideshow": {
     "slide_type": "subslide"
    }
   },
   "source": [
    "Die Tests finden sich im **Verzeichnis** ```tests```.\n",
    "\n",
    "Dort findet sich zu allererst ```context.py```. Damit können wir sicherstellen, dass die Tests immer auf den aktuellen Code **zugriff haben**."
   ]
  },
  {
   "cell_type": "markdown",
   "metadata": {
    "slideshow": {
     "slide_type": "subslide"
    }
   },
   "source": [
    "```context.py```\n",
    "\n",
    "~~~python\n",
    "import os\n",
    "import sys\n",
    "sys.path.insert(0, os.path.abspath(os.path.join(os.path.dirname(__file__), '..')))\n",
    "\n",
    "import wonderland.core as wonderland\n",
    "~~~"
   ]
  },
  {
   "cell_type": "markdown",
   "metadata": {
    "slideshow": {
     "slide_type": "fragment"
    }
   },
   "source": [
    "Dann kann man in ```tests.py``` schreiben:\n",
    "~~~python\n",
    "from context import wonderland\n",
    "~~~\n",
    "Und hat das aktuelle Wonderland geladen."
   ]
  },
  {
   "cell_type": "markdown",
   "metadata": {
    "slideshow": {
     "slide_type": "subslide"
    }
   },
   "source": [
    "### Das Testen unseres Wonderlands\n",
    "\n",
    "Unsere **Zustandsvariablen** unterliegen laut Definition gewissen **Grenzen**. Wie können wir nun sicherstellen, dass diese Grenzen von unseren Funktionen **eingehalten** werden?\n",
    "\n",
    "Gibt es gewisse Werte, welche **innerhalb der Grenzen** unserer Definition liegen, für welche eine der Funktionen **nicht definiert** ist?\n",
    ".. außerhalb ihres **Bildbereichs** liegt?"
   ]
  },
  {
   "cell_type": "code",
   "execution_count": 11,
   "metadata": {
    "slideshow": {
     "slide_type": "fragment"
    }
   },
   "outputs": [],
   "source": [
    "import wonderland.core as wonderland\n",
    "\n",
    "from hypothesis import given\n",
    "import hypothesis.strategies as strat"
   ]
  },
  {
   "cell_type": "markdown",
   "metadata": {
    "slideshow": {
     "slide_type": "subslide"
    }
   },
   "source": [
    "### Definitionsbereiche\n",
    "\n",
    "Zuerst beschreiben wir die **Definitionsbereiche** unserer Zustandsvariablen:"
   ]
  },
  {
   "cell_type": "markdown",
   "metadata": {
    "slideshow": {
     "slide_type": "skip"
    }
   },
   "source": [
    "Der **Umweltzustand** liegt im Intervall $[0,1]$. Außerdem möchten wir ausschließen, dass ihm der Wert ```NaN``` zugewiesen werden kann, deshalb setzen wir: ```allow_nan = False``` als **Schlüsselwortargument**:"
   ]
  },
  {
   "cell_type": "code",
   "execution_count": 12,
   "metadata": {
    "slideshow": {
     "slide_type": "fragment"
    }
   },
   "outputs": [],
   "source": [
    "st_z = strat.floats(min_value=0.0, max_value=1.0, allow_nan=False)"
   ]
  },
  {
   "cell_type": "markdown",
   "metadata": {
    "slideshow": {
     "slide_type": "skip"
    }
   },
   "source": [
    "Die **Technologie** ist die einzige **exogene** Variable, da wir sie immer mit ```1.0``` starten, liegt sie **im selben Intervall**. Ihrer Definition entsprechend kann sie aber niemals genau 0 werden, daher setzen wir ```exclude_min = True```."
   ]
  },
  {
   "cell_type": "code",
   "execution_count": 13,
   "metadata": {
    "slideshow": {
     "slide_type": "fragment"
    }
   },
   "outputs": [],
   "source": [
    "st_p = strat.floats(min_value=0.0, max_value=1.0, allow_nan=False, exclude_min=True)"
   ]
  },
  {
   "cell_type": "markdown",
   "metadata": {
    "slideshow": {
     "slide_type": "skip"
    }
   },
   "source": [
    "Bei der Betrachtung der Definitionen von **Umweltzustand** (z) und **Population** (x) sehen wir, dass für diese nur gilt, dass sie **positiv** sein müssen.\n",
    "\n",
    "Diesmal wollen wir neben ```NaN``` auch den Wert für die **Unendlichkeit** ```inf``` ausschließen und setzen: ```allow_infinity = False```."
   ]
  },
  {
   "cell_type": "code",
   "execution_count": 14,
   "metadata": {
    "slideshow": {
     "slide_type": "fragment"
    }
   },
   "outputs": [],
   "source": [
    "st_x = strat.floats(min_value=0.0, allow_nan=False, allow_infinity=False)\n",
    "\n",
    "st_y = strat.floats(min_value=0.0, allow_nan=False, allow_infinity=False)"
   ]
  },
  {
   "cell_type": "markdown",
   "metadata": {
    "slideshow": {
     "slide_type": "subslide"
    }
   },
   "source": [
    "## Tests schreiben\n",
    "\n",
    "Mit diesen **Strategien** für **Hypothesis** können wir nun **Tests** definieren. <br>\n",
    "**Hypothesis** weiß anhand der Strategien, welche Werte es unseren Funktionen überreichen kann, und **versucht** damit unsere Tests zu **falsifizieren**."
   ]
  },
  {
   "cell_type": "markdown",
   "metadata": {
    "slideshow": {
     "slide_type": "fragment"
    }
   },
   "source": [
    "Wir fangen mit einem **einfachen Test** an und wollen überprüfen, ob die **Technologie** (p) sicher immer im Intervall $[0,1]$ liegt."
   ]
  },
  {
   "cell_type": "code",
   "execution_count": 20,
   "metadata": {
    "slideshow": {
     "slide_type": "fragment"
    }
   },
   "outputs": [
    {
     "ename": "NameError",
     "evalue": "name 'given' is not defined",
     "output_type": "error",
     "traceback": [
      "\u001b[1;31m---------------------------------------------------------------------------\u001b[0m",
      "\u001b[1;31mNameError\u001b[0m                                 Traceback (most recent call last)",
      "\u001b[1;32m<ipython-input-20-11d0ee17d80e>\u001b[0m in \u001b[0;36m<module>\u001b[1;34m\u001b[0m\n\u001b[1;32m----> 1\u001b[1;33m \u001b[1;33m@\u001b[0m\u001b[0mgiven\u001b[0m\u001b[1;33m(\u001b[0m\u001b[0mst_p\u001b[0m\u001b[1;33m)\u001b[0m\u001b[1;33m\u001b[0m\u001b[1;33m\u001b[0m\u001b[0m\n\u001b[0m\u001b[0;32m      2\u001b[0m \u001b[1;32mdef\u001b[0m \u001b[0mteste_technologie_im_definitionsbereich\u001b[0m\u001b[1;33m(\u001b[0m\u001b[0mp\u001b[0m\u001b[1;33m)\u001b[0m\u001b[1;33m:\u001b[0m\u001b[1;33m\u001b[0m\u001b[1;33m\u001b[0m\u001b[0m\n\u001b[0;32m      3\u001b[0m     \u001b[0mres\u001b[0m \u001b[1;33m=\u001b[0m \u001b[0mwonderland\u001b[0m\u001b[1;33m.\u001b[0m\u001b[0mtechnologie\u001b[0m\u001b[1;33m(\u001b[0m\u001b[0mp\u001b[0m\u001b[1;33m)\u001b[0m\u001b[1;33m\u001b[0m\u001b[1;33m\u001b[0m\u001b[0m\n\u001b[0;32m      4\u001b[0m     \u001b[1;32massert\u001b[0m \u001b[0mres\u001b[0m \u001b[1;33m>=\u001b[0m \u001b[1;36m0\u001b[0m \u001b[1;32mand\u001b[0m \u001b[0mres\u001b[0m \u001b[1;33m<=\u001b[0m \u001b[1;36m1\u001b[0m\u001b[1;33m\u001b[0m\u001b[1;33m\u001b[0m\u001b[0m\n",
      "\u001b[1;31mNameError\u001b[0m: name 'given' is not defined"
     ]
    }
   ],
   "source": [
    "@given(st_p)\n",
    "def teste_technologie_im_definitionsbereich(p):\n",
    "    res = wonderland.technologie(p)\n",
    "    assert res >= 0 and res <= 1"
   ]
  },
  {
   "cell_type": "code",
   "execution_count": 16,
   "metadata": {
    "slideshow": {
     "slide_type": "fragment"
    }
   },
   "outputs": [],
   "source": [
    "teste_technologie_im_definitionsbereich() "
   ]
  },
  {
   "cell_type": "markdown",
   "metadata": {
    "slideshow": {
     "slide_type": "fragment"
    }
   },
   "source": [
    "Da die Technologie im Definitionsbereich bleibt, passiert nichts.\n",
    "\n",
    "Versuche den **Definitionsbereich einzuschränken** und die Funktion neu aufzurufen.<br>\n",
    "Was passiert wenn ein Fehler entdeckt wird?"
   ]
  },
  {
   "cell_type": "markdown",
   "metadata": {
    "slideshow": {
     "slide_type": "skip"
    }
   },
   "source": [
    "<div class=\"alert alert-block alert-info\">\n",
    "<h3>Tipp: Konsole im Environment</h3>\n",
    "    \n",
    "Um eine Konsole <strong>im</strong> Environment in welchem <code>py.test</code> installiert ist zu öffnen:\n",
    "<br><br>\n",
    "In Anaconda auf <code>Environments</code> klicken und dann auf den Pfeil nach rechts im gewählten Environment.<br>\n",
    "Hier kann man nicht nur mit <code>pip</code> neue Pakete installieren!\n",
    "<br><br>\n",
    "Mit <code>cd</code> (<i>Change Directory</i>) lässt sich das Verzeichnis wechseln.<br>\n",
    "Mit <code>dir</code> (<i>MacOS / Linux:</i> <code>ls</code>) sieht man was sich im aktuellen Verzeichnis befindet.\n",
    "<br><br>\n",
    "Mit <code>cd ..</code> geht man in der Orderstruktur nach <strong>oben</strong>.<br>\n",
    "<i>Tipp:</i> Mit der Tabulator-Taste kann man angefangene Befehle, Ordner- und Dateinamen vervollständigen lassen!\n",
    "</div>"
   ]
  },
  {
   "cell_type": "markdown",
   "metadata": {
    "slideshow": {
     "slide_type": "subslide"
    }
   },
   "source": [
    "## Testen in der Konsole\n",
    "\n",
    "Auch aus der Konsole lässt sich ```py.test``` aufrufen. Als Argument nimmt es die **Testdatei** entgegen.\n",
    "\n",
    "Mit ```!``` lassen sich im Jupyter-Notebook Konsolen-Befehle ausführen:"
   ]
  },
  {
   "cell_type": "code",
   "execution_count": 17,
   "metadata": {
    "scrolled": false,
    "slideshow": {
     "slide_type": "fragment"
    }
   },
   "outputs": [
    {
     "name": "stdout",
     "output_type": "stream",
     "text": [
      "============================= test session starts =============================\n",
      "platform win32 -- Python 3.7.3, pytest-5.2.2, py-1.8.0, pluggy-0.13.0\n",
      "rootdir: C:\\Users\\Pinselimo\\Google Drive\\Doktorat USW\\Teaching\\Applied Sys 2\\Jupyter Notebooks\n",
      "plugins: hypothesis-4.43.1\n",
      "collected 9 items\n",
      "\n",
      "tests\\tests.py ........F                                                 [100%]\n",
      "\n",
      "================================== FAILURES ===================================\n",
      "__________________ teste_umweltzustand_im_definitionsbereich __________________\n",
      "\n",
      "    @given(st_x, st_y, st_z)\n",
      ">   def teste_umweltzustand_im_definitionsbereich(x,y,z):\n",
      "\n",
      "tests\\tests.py:57: \n",
      "_ _ _ _ _ _ _ _ _ _ _ _ _ _ _ _ _ _ _ _ _ _ _ _ _ _ _ _ _ _ _ _ _ _ _ _ _ _ _ _\n",
      "\n",
      "x = 0.0, y = 0.0, z = 0.8735225772143222\n",
      "\n",
      "    @given(st_x, st_y, st_z)\n",
      "    def teste_umweltzustand_im_definitionsbereich(x,y,z):\n",
      "        p = 1.0\n",
      "        for _ in range(500):\n",
      "            p = wonderland.technologie(p)\n",
      "    \n",
      "        res = wonderland.umwelt(x,y,z,p)\n",
      ">       assert res >= 0 and res <= 1\n",
      "E       assert (1.0000000000000004 >= 0 and 1.0000000000000004 <= 1)\n",
      "\n",
      "tests\\tests.py:63: AssertionError\n",
      "--------------------------------- Hypothesis ----------------------------------\n",
      "Falsifying example: teste_umweltzustand_im_definitionsbereich(x=0.0, y=0.0, z=0.8735225772143222)\n",
      "========================= 1 failed, 8 passed in 0.52s =========================\n"
     ]
    }
   ],
   "source": [
    "!pytest tests/tests.py"
   ]
  },
  {
   "cell_type": "markdown",
   "metadata": {
    "slideshow": {
     "slide_type": "skip"
    }
   },
   "source": [
    "<div class=\"alert alert-block alert-info\">\n",
    "<h3>Tipp: Mit dem Example-Dekorator gewissen Eingaben immer überprüfen</h3>\n",
    "    \n",
    "Hypothesis nimmt auch Beispiele entgegen. So kann ein bestimmter (<i>wichtiger</i>) Fall immer überprüft werden. <br>\n",
    "Der Dekorator dazu heißt <strong>@example</strong>:\n",
    "<br>\n",
    "<pre><code>@example(1.0, 1.0)\n",
    "@given(st_y, st_z)\n",
    "def teste_wirtschaft_im_definitionsbereich(y,z):\n",
    "    res = wonderland.wirtschaft(y,z)\n",
    "    assert res >= 0\n",
    "</code></pre>\n",
    "</div>"
   ]
  },
  {
   "cell_type": "markdown",
   "metadata": {},
   "source": [
    "<div class=\"alert alert-block alert-danger\">\n",
    "<h3>Übungsaufgabe: 3 Test-Funktionen</h3>\n",
    "    \n",
    "Schreibe drei Test-Funktionen. Gibt es Fehler in unseren Annahmen?\n",
    "<br><br>\n",
    "<i>Was spricht dafür die Annahme/den Test anzupassen, was dagegen?<br>\n",
    "    Was spricht für/wider eine Anpassung der Funktionen?</i>\n",
    "</div>"
   ]
  }
 ],
 "metadata": {
  "celltoolbar": "Slideshow",
  "kernelspec": {
   "display_name": "Python 3",
   "language": "python",
   "name": "python3"
  },
  "language_info": {
   "codemirror_mode": {
    "name": "ipython",
    "version": 3
   },
   "file_extension": ".py",
   "mimetype": "text/x-python",
   "name": "python",
   "nbconvert_exporter": "python",
   "pygments_lexer": "ipython3",
   "version": "3.7.7"
  },
  "rise": {
   "enable_chalkboard": true,
   "scroll": true,
   "theme": "serif"
  }
 },
 "nbformat": 4,
 "nbformat_minor": 2
}
