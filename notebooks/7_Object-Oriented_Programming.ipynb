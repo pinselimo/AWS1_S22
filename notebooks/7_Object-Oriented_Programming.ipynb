{
 "cells": [
  {
   "cell_type": "markdown",
   "metadata": {
    "slideshow": {
     "slide_type": "slide"
    }
   },
   "source": [
    "# Objekt-orientierte Programmierung\n",
    "### Angewandte Systemwissenschaften I\n",
    "#### Python - Wonderland\n",
    "Einheit 7 / 10"
   ]
  },
  {
   "cell_type": "markdown",
   "metadata": {
    "slideshow": {
     "slide_type": "subslide"
    }
   },
   "source": [
    "# Semesterplan\n",
    "---\n",
    "0. Anaconda und Pip\n",
    "1. Einführung in Python\n",
    "2. Matplotlib: Eine Einführung ins Wonderland - Modell\n",
    "3. Jupyter-Notebooks: Wonderland in Python\n",
    "4. Funktionale Programmierung & Python-Module\n",
    "5. Python-Pakete und Workflow\n",
    "6. Agenten-basierte Modellierung\n",
    "7. **Objekt-orientierte Programmierung**\n",
    "8. Animationen zur Modellentwicklung\n",
    "9. Multiprocessing & Sensitivity Analysis\n",
    "10. Projektpräsentationen"
   ]
  },
  {
   "cell_type": "markdown",
   "metadata": {
    "slideshow": {
     "slide_type": "slide"
    }
   },
   "source": [
    "## Inhalt\n",
    "+ Objekt-orientierte Programmierung\n",
    "+ Python als objekt-basierte Programmiersprache\n",
    "+ Duck-typing\n",
    "+ Abstrakte Basis-Klassen\n",
    "+ Wonderland objekt-basiert\n",
    "+ Die richtige ABC finden\n",
    "+ Argumente und Schlüsselwort-Argumente\n",
    "+ Tuples als Records"
   ]
  },
  {
   "cell_type": "markdown",
   "metadata": {
    "slideshow": {
     "slide_type": "slide"
    }
   },
   "source": [
    "## Objekt-orientierte Programmierung\n",
    "\n",
    "Wir **denken** über die Welt in der wir Leben hauptsächlich **in Form von Objekten**. <br>\n",
    "Dieser Denkansatz kann uns auch dabei helfen, Programme **übersichtlicher** und **leichter <br>\n",
    "verständlich** zu gestalten."
   ]
  },
  {
   "cell_type": "markdown",
   "metadata": {
    "slideshow": {
     "slide_type": "fragment"
    }
   },
   "source": [
    "Ein **Objekt** kann dabei einen **Zustand** haben und **Methoden** welche diesen Zustand verändern können. <br>\n",
    "Zum Beispiel ist ein **Automat** ein Objekt, sein Zustand ist der **Inhalt** und die Methode **Schokoladenriegel herausgeben** kann diesen verändern. "
   ]
  },
  {
   "cell_type": "markdown",
   "metadata": {
    "slideshow": {
     "slide_type": "fragment"
    }
   },
   "source": [
    "*Manche Objekte dienen auch nur **als Speicher** für einen Zustand.* <br>\n",
    "*Andere wiederum können nur eine **Sammlung von Funktionen** sein.*"
   ]
  },
  {
   "cell_type": "markdown",
   "metadata": {
    "slideshow": {
     "slide_type": "subslide"
    }
   },
   "source": [
    "## Erben und Vererben\n",
    "\n",
    "Eine **Klasse** beschreibt den **Bauplan** für ihre Objekte. Sie kann dabei von anderen Klassen **erben**. <br>\n",
    "Das heißt, dass sie die **Methoden** und **Attribute** (=Zustand) ihrer Vorfahren **übernehmen**.\n",
    "\n",
    "Außerdem kann die Klasse auch an andere **vererben** indem diese sich entscheiden von ihr zu erben."
   ]
  },
  {
   "cell_type": "markdown",
   "metadata": {
    "slideshow": {
     "slide_type": "subslide"
    }
   },
   "source": [
    "## UML eine Sprache für OOP\n",
    "\n",
    "Um diese **Verwandtschaftsverhältnisse** korrekt darzustellen, wurde eine grafische Sprache entwickelt. <br>\n",
    "Die Unified Modeling Language beschreibt Klassen, deren Methoden und Attribute und deren Verälhtnis zueinander."
   ]
  },
  {
   "cell_type": "markdown",
   "metadata": {
    "slideshow": {
     "slide_type": "slide"
    }
   },
   "source": [
    "## Python als objekt-basierte Programmiersprache\n",
    "\n",
    "Python wurde **ursprünglich** als **interpretierte, interaktive, objekt-orientierte** Programmiersprache entworfen. <br> Schon ihre Vorgängerin ABC war eine **OO** Sprache."
   ]
  },
  {
   "cell_type": "markdown",
   "metadata": {
    "slideshow": {
     "slide_type": "fragment"
    }
   },
   "source": [
    "**Objekte** in Python, folgen einem Bauplan. Dieser wird als **Klasse** bezeichnet wird und mit dem **Schlüsselwort** ```class``` definiert wird. <br> Danach folgt der **Name** der Klasse mit dem ersten Buchstaben groß:"
   ]
  },
  {
   "cell_type": "code",
   "execution_count": 1,
   "metadata": {
    "slideshow": {
     "slide_type": "-"
    }
   },
   "outputs": [],
   "source": [
    "class Agent:\n",
    "    pass"
   ]
  },
  {
   "cell_type": "markdown",
   "metadata": {
    "slideshow": {
     "slide_type": "fragment"
    }
   },
   "source": [
    "Ein **Objekt** dieser Klasse kann man nun **initialisieren** indem man die Klasse, ähnlich einer Funktion, aufruft:"
   ]
  },
  {
   "cell_type": "code",
   "execution_count": 2,
   "metadata": {
    "slideshow": {
     "slide_type": "fragment"
    }
   },
   "outputs": [
    {
     "data": {
      "text/plain": [
       "<__main__.Automat at 0x1d8e84f2cf8>"
      ]
     },
     "execution_count": 2,
     "metadata": {},
     "output_type": "execute_result"
    }
   ],
   "source": [
    "ein_agent = Agent()\n",
    "ein_agent"
   ]
  },
  {
   "cell_type": "markdown",
   "metadata": {
    "slideshow": {
     "slide_type": "fragment"
    }
   },
   "source": [
    "Das Objekt ```ein_agent``` besitzt nur eine **ID**, wie können wir ihm nun einen Inhalt geben?"
   ]
  },
  {
   "cell_type": "markdown",
   "metadata": {
    "slideshow": {
     "slide_type": "subslide"
    }
   },
   "source": [
    "## Python-Objekte mit Zustand\n",
    "\n",
    "Um einem Python-Objekt einen Zustand zuzuweisen, lassen wir es bei der **Initialisierung** auf sich selbst zugreifen. Dazu verweisen wir auf ```self```. <br>\n",
    "Dieses ```self``` ist das **erste Argument jeder Methode**. Das heißt aber auch, wir können **nur innerhalb einer Methode** auf ```self``` zugreifen.\n",
    "\n",
    "Eine ganz **spezielle Methode** ist ```__init__```. Diese **wird immer bei der Initialisierung aufgerufen**. <br>\n",
    "```__init__``` ist also der richtige Ort um den **Zustand** unseres Objekts zu definieren."
   ]
  },
  {
   "cell_type": "code",
   "execution_count": 25,
   "metadata": {
    "slideshow": {
     "slide_type": "fragment"
    }
   },
   "outputs": [],
   "source": [
    "class Agent:\n",
    "    def __init__(self, x_pos, y_pos, eigenschaften):\n",
    "        self.füllung = str(füllung)\n",
    "        self._füllstand = []\n",
    "        self.maximum = int(maximum)\n",
    "        self.auffüllen(int(füllstand))"
   ]
  },
  {
   "cell_type": "markdown",
   "metadata": {
    "slideshow": {
     "slide_type": "fragment"
    }
   },
   "source": [
    "Initialisieren wir nun ein neues **Objekt** der Klasse ```Automat``` geht das nur, indem wir ihm auch einen Zustand überreichen:"
   ]
  },
  {
   "cell_type": "code",
   "execution_count": 1,
   "metadata": {
    "slideshow": {
     "slide_type": "fragment"
    }
   },
   "outputs": [
    {
     "ename": "NameError",
     "evalue": "name 'Agent' is not defined",
     "output_type": "error",
     "traceback": [
      "\u001b[0;31m---------------------------------------------------------------------------\u001b[0m",
      "\u001b[0;31mNameError\u001b[0m                                 Traceback (most recent call last)",
      "\u001b[0;32m<ipython-input-1-b04e4ec8d4ea>\u001b[0m in \u001b[0;36m<module>\u001b[0;34m\u001b[0m\n\u001b[0;32m----> 1\u001b[0;31m \u001b[0mjames_bond\u001b[0m \u001b[0;34m=\u001b[0m \u001b[0mAgent\u001b[0m\u001b[0;34m(\u001b[0m\u001b[0;34m'Gut'\u001b[0m\u001b[0;34m)\u001b[0m\u001b[0;34m\u001b[0m\u001b[0;34m\u001b[0m\u001b[0m\n\u001b[0m\u001b[1;32m      2\u001b[0m \u001b[0mjames_bond\u001b[0m\u001b[0;34m.\u001b[0m\u001b[0mzustand\u001b[0m\u001b[0;34m\u001b[0m\u001b[0;34m\u001b[0m\u001b[0m\n",
      "\u001b[0;31mNameError\u001b[0m: name 'Agent' is not defined"
     ]
    }
   ],
   "source": [
    "james_bond = Agent('Gut')\n",
    "james_bond.zustand"
   ]
  },
  {
   "cell_type": "markdown",
   "metadata": {
    "slideshow": {
     "slide_type": "fragment"
    }
   },
   "source": [
    "Wie wir sehen sind die **Argumente** der Methode ```__init__``` automatisch die **Initialisierungs - Argumente** der Objekte der Klasse ```Automat```."
   ]
  },
  {
   "cell_type": "markdown",
   "metadata": {
    "slideshow": {
     "slide_type": "subslide"
    }
   },
   "source": [
    "## Methoden\n",
    "\n",
    "**Einfach Änderungen** an einem Python - Objekt können wir **direkt vornehmen**:"
   ]
  },
  {
   "cell_type": "code",
   "execution_count": 5,
   "metadata": {
    "slideshow": {
     "slide_type": "fragment"
    }
   },
   "outputs": [],
   "source": [
    "ein_wonderland = 'Schlecht'"
   ]
  },
  {
   "cell_type": "markdown",
   "metadata": {
    "slideshow": {
     "slide_type": "fragment"
    }
   },
   "source": [
    "**Komplexere** Vorgänge am Objekt, sind in einer Methode besser aufgehoben.\n",
    "\n",
    "Mit ```__init__``` haben wir bereits eine Methode kennengelernt. **Andere Methoden** funktionieren nach dem **gleichen Schema**. <br>\n",
    "Ihr **erstes Argument** nennen wir immer ```self```, danach folgen die weiteren Argumente."
   ]
  },
  {
   "cell_type": "code",
   "execution_count": 6,
   "metadata": {
    "slideshow": {
     "slide_type": "fragment"
    }
   },
   "outputs": [],
   "source": [
    "class Automat:\n",
    "    def __init__(self, füllung, füllstand, maximum):\n",
    "        self.füllung = str(füllung)\n",
    "        self._füllstand = []\n",
    "        self.maximum = int(maximum)\n",
    "        self.auffüllen(int(füllstand))\n",
    "        \n",
    "    def auffüllen(self, anzahl):\n",
    "        self._füllstand += [self.füllung]*anzahl\n",
    "            \n",
    "        rest = len(self._füllstand) - self.maximum\n",
    "        if rest > 0:\n",
    "            print(\"{} {} blieben über.\".format(rest,self.füllung))\n",
    "            self._füllstand = [self.füllung]*self.maximum\n",
    "        return None\n",
    "    \n",
    "    def __str__(self):\n",
    "        return \"Automat mit {} {}\".format(len(self._füllstand), self.füllung)"
   ]
  },
  {
   "cell_type": "markdown",
   "metadata": {
    "slideshow": {
     "slide_type": "fragment"
    }
   },
   "source": [
    "Abgesehen vom Argument ```self``` zum Beginn, unterscheiden sich Methoden nicht sehr von Funktionen. <br>\n",
    "**Wichtig:** Es ist Konvention, dass eine Funktion welche den Zustand ändert mit ```return None``` endet."
   ]
  },
  {
   "cell_type": "markdown",
   "metadata": {
    "slideshow": {
     "slide_type": "subslide"
    }
   },
   "source": [
    "## Testen unserer Automaten-Klasse"
   ]
  },
  {
   "cell_type": "markdown",
   "metadata": {
    "slideshow": {
     "slide_type": "fragment"
    }
   },
   "source": [
    "Wir **initialisieren** ein Objekt unserer neuen Klasse ```Automat``` welches *3 Riegel* beinhält und maximal *5* halten kann:"
   ]
  },
  {
   "cell_type": "code",
   "execution_count": 7,
   "metadata": {
    "slideshow": {
     "slide_type": "-"
    }
   },
   "outputs": [
    {
     "name": "stdout",
     "output_type": "stream",
     "text": [
      "Automat mit 2 Bier\n"
     ]
    }
   ],
   "source": [
    "ein_automat = Automat('Bier',2,5)\n",
    "print(ein_automat)"
   ]
  },
  {
   "cell_type": "markdown",
   "metadata": {
    "slideshow": {
     "slide_type": "fragment"
    }
   },
   "source": [
    "Nun versuchen wir *4 Riegel* in den Automaten **hinzuzufügen**:"
   ]
  },
  {
   "cell_type": "code",
   "execution_count": 8,
   "metadata": {
    "slideshow": {
     "slide_type": "-"
    }
   },
   "outputs": [
    {
     "name": "stdout",
     "output_type": "stream",
     "text": [
      "1 Bier blieben über.\n"
     ]
    }
   ],
   "source": [
    "ein_automat.auffüllen(4)"
   ]
  },
  {
   "cell_type": "markdown",
   "metadata": {
    "slideshow": {
     "slide_type": "fragment"
    }
   },
   "source": [
    "Wie viele Riegel sind nun im Automaten?"
   ]
  },
  {
   "cell_type": "markdown",
   "metadata": {
    "slideshow": {
     "slide_type": "subslide"
    }
   },
   "source": [
    "## Erben\n",
    "\n",
    "Eine Klasse von Objekten kann die **Eigenschaften** einer anderen Klasse **erben**. Dazu schreiben wir die **vererbende Klasse in Klammern** zur Klassendefinition:"
   ]
  },
  {
   "cell_type": "code",
   "execution_count": 9,
   "metadata": {
    "slideshow": {
     "slide_type": "fragment"
    }
   },
   "outputs": [],
   "source": [
    "class AutomatKreditkartenzahlung(Automat):\n",
    "    @staticmethod\n",
    "    def kreditkarte_prüfen(kartennummer):\n",
    "        return len(kartennummer) == 8"
   ]
  },
  {
   "cell_type": "markdown",
   "metadata": {
    "slideshow": {
     "slide_type": "skip"
    }
   },
   "source": [
    "Der Automat mit Kreditkartenzahlung besitzt **alle Methoden und Attribute** die schon ```Automat``` besessen hatte. Hinzu kommt nun die **statische Methode** ```kreditkarte_prufen```."
   ]
  },
  {
   "cell_type": "code",
   "execution_count": 10,
   "metadata": {
    "slideshow": {
     "slide_type": "-"
    }
   },
   "outputs": [],
   "source": [
    "neuer_automat = AutomatKreditkartenzahlung('',3,5)"
   ]
  },
  {
   "cell_type": "markdown",
   "metadata": {
    "slideshow": {
     "slide_type": "fragment"
    }
   },
   "source": [
    "<div class=\"alert alert-block alert-info\">\n",
    "<h3>Tipp: @staticmethod</h3>\n",
    "    \n",
    "Wollen wir eine Funktion einer Klasse unterordnen ohne dass ihr erstes Argument <code>self</code> sein soll, schreiben wir den <strong>Dektorator</strong> <code>@staticmethod</code> über diese Funktion. <br>\n",
    "<code>kreditkarte_prüfen</code> verhält sich also wie eine <strong>ganz normale Funktion</strong>. Sie ist allerdings nur auf der <strong>Klasse selbst</strong> und auf <strong>Objekten der Klasse</strong> aufrufbar.\n",
    "</div>"
   ]
  },
  {
   "cell_type": "code",
   "execution_count": 11,
   "metadata": {
    "slideshow": {
     "slide_type": "-"
    }
   },
   "outputs": [
    {
     "data": {
      "text/plain": [
       "True"
      ]
     },
     "execution_count": 11,
     "metadata": {},
     "output_type": "execute_result"
    }
   ],
   "source": [
    "AutomatKreditkartenzahlung.kreditkarte_prüfen(\"39182931\")"
   ]
  },
  {
   "cell_type": "markdown",
   "metadata": {
    "slideshow": {
     "slide_type": "skip"
    }
   },
   "source": [
    "<div class=\"alert alert-block alert-info\">\n",
    "<h3>Tipp: @classmethod</h3>\n",
    "    \n",
    "Eine Klassen-Methode bekommt als erstes Argument die <strong>Klasse</strong> selbst und nicht das Objekt! <br>\n",
    "Damit kann man zum Beispiel auf der Klasse einen zweiten Objektkonstruktor aufbauen:\n",
    "</div>"
   ]
  },
  {
   "cell_type": "code",
   "execution_count": 12,
   "metadata": {
    "slideshow": {
     "slide_type": "skip"
    }
   },
   "outputs": [
    {
     "data": {
      "text/plain": [
       "'Automat mit 6 Bier'"
      ]
     },
     "execution_count": 12,
     "metadata": {},
     "output_type": "execute_result"
    }
   ],
   "source": [
    "class AutomatPlus(Automat):\n",
    "    @classmethod\n",
    "    def string_konstruktion(cls, string):\n",
    "        args = tuple(string.split())\n",
    "        return cls(*args) # der Stern entpackt das Tuple: Aus cls((1, 2)) wird cls(1, 2)\n",
    "\n",
    "automat_aus_string = AutomatPlus.string_konstruktion(\"Bier 6 12\")\n",
    "str(automat_aus_string)"
   ]
  },
  {
   "cell_type": "markdown",
   "metadata": {
    "slideshow": {
     "slide_type": "slide"
    }
   },
   "source": [
    "## Mehrfache Abstammungen\n",
    "\n",
    "In Python ist es möglich, **von mehreren Klassen zu erben**. <br>\n",
    "Dazu trennt man diese Klassen mit einem Beistrich:"
   ]
  },
  {
   "cell_type": "code",
   "execution_count": 13,
   "metadata": {
    "slideshow": {
     "slide_type": "fragment"
    }
   },
   "outputs": [
    {
     "data": {
      "text/plain": [
       "['_füllstand',\n",
       " 'auffüllen',\n",
       " 'füllung',\n",
       " 'kreditkarte_prüfen',\n",
       " 'maximum',\n",
       " 'string_konstruktion']"
      ]
     },
     "execution_count": 13,
     "metadata": {},
     "output_type": "execute_result"
    }
   ],
   "source": [
    "class AutomatCCPlus(AutomatKreditkartenzahlung,AutomatPlus):\n",
    "    pass\n",
    "\n",
    "dir(AutomatCCPlus(\"\",0,0))[-6:]"
   ]
  },
  {
   "cell_type": "markdown",
   "metadata": {
    "slideshow": {
     "slide_type": "-"
    }
   },
   "source": [
    "Wie wir sehen erbt ```AutomatCCPlus``` von seinen beiden 'Vorfahren' jeweils deren Methoden. <br>\n",
    "Ein solcher Automat besitzt also ```kreditkarte_prüfen``` und ```string_konstruktion```.\n",
    "\n",
    "**Damit endet** die Erkundung der Welt der **Automaten**."
   ]
  },
  {
   "cell_type": "markdown",
   "metadata": {
    "slideshow": {
     "slide_type": "subslide"
    }
   },
   "source": [
    "### Abstammungskonflikte\n",
    "\n",
    "Was passiert aber, wenn mehrere **Klassen** von denen wir erben eine **Methode mit demselben Namen** besitzen? <br>\n",
    "Objekte der Klasse ```Kawumm``` sollen von den drei Klassen ```A```, ```B``` und ```C``` erben:"
   ]
  },
  {
   "cell_type": "code",
   "execution_count": 1,
   "metadata": {
    "slideshow": {
     "slide_type": "fragment"
    }
   },
   "outputs": [],
   "source": [
    "class A:\n",
    "    def bingo(self):\n",
    "        print(\"Bingo!\")\n",
    "    \n",
    "class B:\n",
    "    def bongo(self):\n",
    "        print(\"Bongo!\")\n",
    "        \n",
    "class C:\n",
    "    def bongo(self):\n",
    "        print(\"BongoBong!\")\n",
    "        \n",
    "class Kawumm(A,B,C):\n",
    "    def __init__(self):\n",
    "        self.bingo()\n",
    "        self.bongo()"
   ]
  },
  {
   "cell_type": "markdown",
   "metadata": {
    "slideshow": {
     "slide_type": "fragment"
    }
   },
   "source": [
    "Was passiert wenn wir ein ```Kawumm``` - Objekt initialisieren?"
   ]
  },
  {
   "cell_type": "code",
   "execution_count": 2,
   "metadata": {
    "slideshow": {
     "slide_type": "subslide"
    }
   },
   "outputs": [
    {
     "name": "stdout",
     "output_type": "stream",
     "text": [
      "Bingo!\n",
      "Bongo!\n"
     ]
    },
    {
     "data": {
      "text/plain": [
       "<__main__.Kawumm at 0x15983196160>"
      ]
     },
     "execution_count": 2,
     "metadata": {},
     "output_type": "execute_result"
    }
   ],
   "source": [
    "Kawumm()"
   ]
  },
  {
   "cell_type": "markdown",
   "metadata": {
    "slideshow": {
     "slide_type": "fragment"
    }
   },
   "source": [
    "Es wird die Methode ```bongo``` welche in ```B``` definiert wurde aufgerufen!\n",
    "```Kawumm```s erben diese also von ```B```, nicht von ```C```. \n",
    "\n",
    "Das liegt an der **Ordnung der Abstammung**!\n",
    "\n",
    "Eigenschaften von Vorfahren welche **früher erwähnt** werden, verhalten sich **dominant**. <br>\n",
    "In der Definition ```class Kawumm(A,B,C):``` folgt ```C``` auf ```B```, ```C.bongo``` verhält sich also rezessiv."
   ]
  },
  {
   "cell_type": "markdown",
   "metadata": {
    "slideshow": {
     "slide_type": "fragment"
    }
   },
   "source": [
    "Die Ordnung lässt sich leicht feststellen, indem man das ```__mro__``` - Attribut einer Klasse betrachtet:"
   ]
  },
  {
   "cell_type": "code",
   "execution_count": 3,
   "metadata": {
    "slideshow": {
     "slide_type": "-"
    }
   },
   "outputs": [
    {
     "data": {
      "text/plain": [
       "(__main__.Kawumm, __main__.A, __main__.B, __main__.C, object)"
      ]
     },
     "execution_count": 3,
     "metadata": {},
     "output_type": "execute_result"
    }
   ],
   "source": [
    "Kawumm.__mro__"
   ]
  },
  {
   "cell_type": "markdown",
   "metadata": {
    "slideshow": {
     "slide_type": "slide"
    }
   },
   "source": [
    "<div class=\"alert alert-block alert-info\">\n",
    "<h3>Tipp: Namenskonflikte vermeiden mit Pythons Name - Mangling</h3>\n",
    "  <p>  \n",
    "Wir haben bereits die Bedeutung des <strong>Unterstrich</strong>s (Underscores) <code>_</code> in Python einige Male gestreift. Er ist vor allem bei der Definition von Klassen wichtig! \n",
    "    </p>\n",
    "    <p>\n",
    "<ul>\n",
    "<li>Wollen wir, dass auf Methoden oder Attribute von Objekten unserer Klasse nicht im Nachhinein zugegriffen werden kann, so setzen wir <strong>einen Unterstrich</strong> an den <strong>Beginn des Namens</strong>. <br>\n",
    "Wir bezeichnen eine solche Methode oder ein solches Attribut als <strong><i>protectedy</i></strong>.</li>\n",
    "\n",
    "<li>Spezielle Methoden (<strong><i>special methods</i></strong>) in Python haben <strong>zwei führende</strong> und <strong>zwei folgende</strong> Unterstriche im Namen. Solche Methoden sollen wir nicht selbst erschaffen, sondern sind da um <strong>überschrieben</strong> zu werden, falls wir ein <strong>Protokoll implementieren</strong> wollen.</li>\n",
    "\n",
    "\n",
    "<li>Aber Unterstriche helfen auch <strong>Namenskonflikte zu vermeiden</strong>. Setzen wir <strong>zwei oder mehr führende</strong> aber <strong>nicht mehr als einen folgenden</strong> Unterstrich, so <strong>ändert Python später diesen Namen</strong>! </li>\n",
    "</ul>\n",
    "</p>\n",
    "<p>\n",
    "Aus <code>__methode</code> wird dann <code>_Klasse__methode</code> und sollte nicht mehr überschrieben werden. Wir bezeichnen solche Methoden oder Attribute als <strong><i>private</i></strong>.\n",
    "    </p>\n",
    "</div>"
   ]
  },
  {
   "cell_type": "code",
   "execution_count": 5,
   "metadata": {
    "slideshow": {
     "slide_type": "fragment"
    }
   },
   "outputs": [
    {
     "data": {
      "text/plain": [
       "'_Mangle__mangled'"
      ]
     },
     "execution_count": 5,
     "metadata": {},
     "output_type": "execute_result"
    }
   ],
   "source": [
    "class Mangle:\n",
    "    _protected = None\n",
    "    __mangled = None # private Variable\n",
    "    \n",
    "dir(Mangle())[0]"
   ]
  },
  {
   "cell_type": "markdown",
   "metadata": {
    "slideshow": {
     "slide_type": "slide"
    }
   },
   "source": [
    "## Ducktyping\n",
    "\n",
    "Sogenannte **Protokolle** sind **informelle** Beschreibungen von Klassen. Sie geben vor, welche **Methoden** eine Klasse besitzen muss, um dem Protokoll **zugehörig zu sein**."
   ]
  },
  {
   "cell_type": "markdown",
   "metadata": {
    "slideshow": {
     "slide_type": "fragment"
    }
   },
   "source": [
    "Zum Beispiel reicht es, die Methoden ```__len__``` und ```__getitem__``` in einer Klasse zu integrieren, um sie dem **```sequence``` - Protokoll** zu unterwerfen. <br>\n",
    "Objekte einer solchen Klasse sind dann durch ```for``` - Schleifen bearbeitbar, es können ```slice```s herausgeschnitten werden und vieles mehr!"
   ]
  },
  {
   "cell_type": "markdown",
   "metadata": {
    "slideshow": {
     "slide_type": "fragment"
    }
   },
   "source": [
    "> \"*If it walks like a duck and it quacks like a duck, then it must be a duck*\""
   ]
  },
  {
   "cell_type": "markdown",
   "metadata": {
    "slideshow": {
     "slide_type": "subslide"
    }
   },
   "source": [
    "## Eine Kollektion für Simulationsergebnisse\n",
    "\n",
    "Ergebnisse einer Simulation sollten in einer ```for``` Schleife durch-**iterierbar** sein. In einer Liste können verherige **Simulationsschritte** aber versehentlich **überschrieben** werden. Das wollen wir **verhindern**."
   ]
  },
  {
   "cell_type": "markdown",
   "metadata": {
    "slideshow": {
     "slide_type": "fragment"
    }
   },
   "source": [
    "Also nutzen wir **Ducktyping** um eine eigene Klasse ```ZustandsSammlung``` für die Zustände des Wonderlands zu schaffen."
   ]
  },
  {
   "cell_type": "code",
   "execution_count": 7,
   "metadata": {
    "slideshow": {
     "slide_type": "fragment"
    }
   },
   "outputs": [],
   "source": [
    "class ZustandsSammlung:\n",
    "    \"\"\"Sammlung der Zustände einer Wonderland-Simulation\n",
    "    \"\"\"\n",
    "    def __init__(self,wonderland):\n",
    "        self._zustände = list()\n",
    "        self._zustände.append(wonderland.zustand)\n",
    "        self._PS = wonderland.PARAMETER\n",
    "\n",
    "    def __len__(self):\n",
    "        return len(self._zustände)\n",
    "\n",
    "    def __getitem__(self, index):\n",
    "        return self._zustände[index]"
   ]
  },
  {
   "cell_type": "markdown",
   "metadata": {
    "slideshow": {
     "slide_type": "subslide"
    }
   },
   "source": [
    "In Objekte dieser Klasse kann man nur einen Zustand speichern. Um mehr hinzufügen zu können, geben wir der Klasse eine Methode ```speichere```"
   ]
  },
  {
   "cell_type": "code",
   "execution_count": 8,
   "metadata": {
    "slideshow": {
     "slide_type": "fragment"
    }
   },
   "outputs": [],
   "source": [
    "def speichere(self, neues_wonderland):\n",
    "        \"\"\"Fügt einen neuen Zustand zur Sammlung hinzu.\n",
    "\n",
    "        Eingabeformat: Wonderland\n",
    "        \"\"\"\n",
    "        if self._PS == neues_wonderland.PARAMETER:\n",
    "            self._zustände.append(neues_wonderland.zustand)\n",
    "        else:\n",
    "            raise ValueError(\"Parameters of the wonderland have changed!\")\n",
    "        return None\n",
    "    \n",
    "ZustandsSammlung.speichere = speichere"
   ]
  },
  {
   "cell_type": "markdown",
   "metadata": {
    "slideshow": {
     "slide_type": "notes"
    }
   },
   "source": [
    "<div class=\"alert alert-block alert-info\">\n",
    "<h3>Tipp: Richtiges Ducktyping</h3>\n",
    "<p>   \n",
    "Wird <code>__getitem__</code> aufgerufen obwohl es kein Element mit dem übergebenen <code>index</code> gibt, so <strong>muss</strong> ein <code>IndexError</code> ausgerufen werden! <br>\n",
    "Dies ist <strong><a href=\"https://docs.python.org/3/reference/datamodel.html#object.__getitem__\">in der Spezifikation</a></strong> des Protokolls genau so geregelt.\n",
    "    </p>\n",
    "    <p>\n",
    "Deshalb ist es besonders wichtig, sich beim Ducktyping immer exakt <strong>an die Vorgaben des Protokolls zu halten!</strong>\n",
    "    </p>\n",
    "</div>"
   ]
  },
  {
   "cell_type": "code",
   "execution_count": 20,
   "metadata": {
    "slideshow": {
     "slide_type": "fragment"
    }
   },
   "outputs": [],
   "source": [
    "ergebnisse = ZustandsSammlung(Wonderland(\"Gut\")); ergebnisse.speichere(Wonderland(\"Mittel\"))"
   ]
  },
  {
   "cell_type": "code",
   "execution_count": 21,
   "metadata": {
    "slideshow": {
     "slide_type": "-"
    }
   },
   "outputs": [
    {
     "data": {
      "text/plain": [
       "{'Gut', 'Mittel'}"
      ]
     },
     "execution_count": 21,
     "metadata": {},
     "output_type": "execute_result"
    }
   ],
   "source": [
    "set(ergebnisse)"
   ]
  },
  {
   "cell_type": "markdown",
   "metadata": {
    "slideshow": {
     "slide_type": "subslide"
    }
   },
   "source": [
    "## Abstrakte Basis-Klassen (ABCs)\n",
    "\n",
    "Da es vorkommen kann, dass Klassen zwar **Methoden mit dem gleichen Namen** haben, diese **aber gar nicht verwandt** sind, ist es nützlich sie als Abkömmlinge einer ABC zu **registrieren**. <br>\n",
    "Pythons eingebaute ABCs findet man im Paket [```collections.abc```](https://docs.python.org/3/library/collections.abc.html):"
   ]
  },
  {
   "cell_type": "code",
   "execution_count": 10,
   "metadata": {
    "slideshow": {
     "slide_type": "-"
    }
   },
   "outputs": [],
   "source": [
    "import collections.abc"
   ]
  },
  {
   "cell_type": "markdown",
   "metadata": {
    "slideshow": {
     "slide_type": "fragment"
    }
   },
   "source": [
    "Für manche ABCs reicht es dennoch, nur die passende Methode implementiert zu haben. So weißt die Methode ```__len__``` unsere ```ergebnisse``` als Instanz von ```collections.abc.Sized``` aus:"
   ]
  },
  {
   "cell_type": "code",
   "execution_count": 23,
   "metadata": {
    "slideshow": {
     "slide_type": "-"
    }
   },
   "outputs": [
    {
     "data": {
      "text/plain": [
       "True"
      ]
     },
     "execution_count": 23,
     "metadata": {},
     "output_type": "execute_result"
    }
   ],
   "source": [
    "isinstance(ergebnisse, collections.abc.Sized)"
   ]
  },
  {
   "cell_type": "markdown",
   "metadata": {
    "slideshow": {
     "slide_type": "fragment"
    }
   },
   "source": [
    "Trotz der zusätzlichen Methode ```__getitem__``` welche dem ```Sequence``` - Protokoll entspricht, ist sie allerdings keine Instanz von ```collections.abc.Sequence```:"
   ]
  },
  {
   "cell_type": "code",
   "execution_count": 24,
   "metadata": {
    "slideshow": {
     "slide_type": "-"
    }
   },
   "outputs": [
    {
     "data": {
      "text/plain": [
       "False"
      ]
     },
     "execution_count": 24,
     "metadata": {},
     "output_type": "execute_result"
    }
   ],
   "source": [
    "isinstance(ergebnisse, collections.abc.Sequence)"
   ]
  },
  {
   "cell_type": "markdown",
   "metadata": {
    "slideshow": {
     "slide_type": "subslide"
    }
   },
   "source": [
    "Um Objekte unserer ```ZustandsSammlung``` - Klasse zur Instanz von ```collections.abc.Sequence``` zu machen, müssen wir **explizit von der ABC erben** oder sie mit ```collections.abc.Sequence.register``` **registrieren**."
   ]
  },
  {
   "cell_type": "code",
   "execution_count": 25,
   "metadata": {
    "slideshow": {
     "slide_type": "fragment"
    }
   },
   "outputs": [
    {
     "data": {
      "text/plain": [
       "__main__.ZustandsSammlung"
      ]
     },
     "execution_count": 25,
     "metadata": {},
     "output_type": "execute_result"
    }
   ],
   "source": [
    "collections.abc.Sequence.register(ZustandsSammlung)"
   ]
  },
  {
   "cell_type": "code",
   "execution_count": 26,
   "metadata": {
    "slideshow": {
     "slide_type": "-"
    }
   },
   "outputs": [
    {
     "data": {
      "text/plain": [
       "True"
      ]
     },
     "execution_count": 26,
     "metadata": {},
     "output_type": "execute_result"
    }
   ],
   "source": [
    "isinstance(ergebnisse, collections.abc.Sequence)"
   ]
  },
  {
   "cell_type": "code",
   "execution_count": 21,
   "metadata": {
    "slideshow": {
     "slide_type": "fragment"
    }
   },
   "outputs": [],
   "source": [
    "class ZustandsSammlung(ZustandsSammlung,collections.abc.Sequence):\n",
    "    pass"
   ]
  },
  {
   "cell_type": "markdown",
   "metadata": {
    "slideshow": {
     "slide_type": "skip"
    }
   },
   "source": [
    "<div class=\"alert alert-block alert-info\">\n",
    "<h3>Tipp: Der Versuchung eigener ABCs widerstehen</h3>\n",
    "<p>  \n",
    "Python bietet in seiner <strong>Standardbibliothek</strong> genug ABCs um <strong>fast alle glücklich</strong> zu machen. Deshalb ist es <strong>keine gute Praxis</strong> einfach selbst ABCs zu erstellen. <br>\n",
    "Stattdessen sollte man die bereits definierten <strong>ABCs durchstöbern</strong> um die passende(-n) Klassen zu finden!\n",
    "    </p>\n",
    "<p>\n",
    "Für alle Formen von <strong>Kollektionen</strong> findet man die ABCs in: <a href=\"https://docs.python.org/3/library/collections.abc.html\"><code>numbers</code></a>\n",
    "</p>\n",
    "    <p>\n",
    "Für Zahlen-Typen bieten sich die ABCs des <strong>Numberic-Tree</strong>s an: <a href=\"https://docs.python.org/3/library/numbers.html\"><code>numbers</code></a>\n",
    "    </p>\n",
    "<h4>Ganz spezielle Fälle</h4>\n",
    "<p>\n",
    "In <strong>speziellen Fällen</strong> kann es jedoch dennoch nötig sein eine eigene ABC zu definieren. Dies sollte <strong>nur in Fällen</strong> geschehen, wo ein <strong>Framework</strong> verfasst wird und es eine <strong>klare Vorlage</strong> für dessen Erweiterungen geben muss.\n",
    "    </p>\n",
    "    <p>\n",
    "Eine eigene ABC, muss von <code>abc.ABC</code> erben. <br>\n",
    "Methoden in ihr, welche verpflichtend sind für ihre Abkömmlinge sind mit <code>@abstractmethod</code> zu dekorieren. Und mit einem DocString (Ein String mit <code>\"\"\"</code>) zu beschreiben:\n",
    "    </p>\n",
    "   <pre><code class=\"Python\">import abc\n",
    "\n",
    "class Showcase(abc.ABC):\n",
    "    @abstractmethod\n",
    "    def do_something(self, something_else):\n",
    "        \"\"\"Do something with something_else here\"\"\"\n",
    "</pre></code>\n",
    "</div>"
   ]
  },
  {
   "cell_type": "markdown",
   "metadata": {
    "slideshow": {
     "slide_type": "slide"
    }
   },
   "source": [
    "## Objektorientiertres Wonderland\n",
    "\n",
    "Wo kann uns Objektorientierung nun im Python - Wonderland - Paket nützen?"
   ]
  },
  {
   "cell_type": "markdown",
   "metadata": {
    "slideshow": {
     "slide_type": "fragment"
    }
   },
   "source": [
    "### Probleme:"
   ]
  },
  {
   "cell_type": "markdown",
   "metadata": {
    "slideshow": {
     "slide_type": "fragment"
    }
   },
   "source": [
    "- **Parameter** sind **globale Variablen**.\n",
    "    - Zwar sind laut Konvention Variablen mit **Großbuchstaben als Konstanten** betrachtet werden. Dennoch sind wir vor einer **unbeabsichtigten Veränderung** dieser Variablen nicht gefeit. \n",
    "    - Parameter sollten für einen Simulationslauf garantiert **immer konstant** bleiben."
   ]
  },
  {
   "cell_type": "markdown",
   "metadata": {
    "slideshow": {
     "slide_type": "fragment"
    }
   },
   "source": [
    "- Weder **Zustand** noch **Parameter** des Wonderlands sind **an eine Instanz gebunden**.\n",
    "    - Erstellen wir eine Liste von Zuständen sind diese **Abhängig von den überreichten Parametern**. Es lässt sich aber **nicht nachvollziehen welche** dies waren."
   ]
  },
  {
   "cell_type": "markdown",
   "metadata": {
    "slideshow": {
     "slide_type": "fragment"
    }
   },
   "source": [
    "- Das **Wonderland** selbst lässt sich leicht als ein Objekt betrachten.\n",
    "    - Was macht ein Wonderland zum **Objekt**? \n",
    "    - Was ist sein **Zustand**?\n",
    "    - Was ist/sind seine **Methode(-n)**?"
   ]
  },
  {
   "cell_type": "markdown",
   "metadata": {
    "slideshow": {
     "slide_type": "slide"
    }
   },
   "source": [
    "## Das Wonderland - Objekt\n",
    "Ein Objekt des Typs Wonderland muss definitiv bescheid wissen über:\n",
    "+ Seine Parameter\n",
    "+ Seinen (aktuellen) Zustand\n",
    "Da die Parameter konstant bleiben sollen und wir auch den Zustand nur **intern** ändern wollen, implementieren wir beide Attribute als **protected**."
   ]
  },
  {
   "cell_type": "markdown",
   "metadata": {
    "slideshow": {
     "slide_type": "notes"
    }
   },
   "source": [
    "*Wir öffnen die Datei ```core.py```!*"
   ]
  },
  {
   "cell_type": "code",
   "execution_count": 28,
   "metadata": {
    "slideshow": {
     "slide_type": "fragment"
    }
   },
   "outputs": [],
   "source": [
    "class Wonderland:\n",
    "    def __init__(self, parameter_set, zustand_beginn):\n",
    "        self._PS = parameter_set\n",
    "        self._zustand = zustand_beginn"
   ]
  },
  {
   "cell_type": "markdown",
   "metadata": {
    "slideshow": {
     "slide_type": "subslide"
    }
   },
   "source": [
    "### Wonderland - Funktionen\n",
    "\n",
    "Wie verfahren wir nun mit den Funktionen die wir bereits für unser Wonderland verfasst haben?"
   ]
  },
  {
   "cell_type": "markdown",
   "metadata": {
    "slideshow": {
     "slide_type": "fragment"
    }
   },
   "source": [
    "Da nun das Wonderland-Objekt selbst seinen Zustand ändern soll, **werden sie zu Methoden**. <br>\n",
    "Das heißt sie werden nun mit 4 Leerzeichen indentiert **in die Klasse** ```Wonderland``` gesetzt und erwarten als erstes Argument zusätzlich ```self```."
   ]
  },
  {
   "cell_type": "code",
   "execution_count": 29,
   "metadata": {
    "slideshow": {
     "slide_type": "fragment"
    }
   },
   "outputs": [],
   "source": [
    "class Wonderland:\n",
    "    def __init__(self, parameter_set, zustand_beginn):\n",
    "        self._PS = parameter_set\n",
    "        self._zustand = zustand_beginn\n",
    "        \n",
    "    def technologie(self, p):\n",
    "        return p*(1.0-CHI)"
   ]
  },
  {
   "cell_type": "markdown",
   "metadata": {
    "slideshow": {
     "slide_type": "fragment"
    }
   },
   "source": [
    "*Auf welches ```CHI``` greift die Methode ```technologie``` nun zu?*"
   ]
  },
  {
   "cell_type": "markdown",
   "metadata": {
    "slideshow": {
     "slide_type": "subslide"
    }
   },
   "source": [
    "Auf das globale ```CHI```, nicht jenes des ```Wonderland``` - Objekts!\n",
    "Also müssen wir es aus ```self._PS``` holen:\n",
    "~~~python\n",
    "...\n",
    "    def technologie(self, p):\n",
    "        return p * (1.0-self._PS['CHI'])\n",
    "...\n",
    "~~~\n",
    "\n",
    "Genau gleich verfahren wir **nun für alle anderen Funktionen** und machen sie zu Methoden."
   ]
  },
  {
   "cell_type": "markdown",
   "metadata": {
    "slideshow": {
     "slide_type": "slide"
    }
   },
   "source": [
    "## Das Parameter-Set\n",
    "In der Klasse ```Wonderland``` haben wir schon eine **Annahme zum Verhalten** unseres Parameter-Sets getroffen. Dieser Annahme müssen wir daher nun auch Folge leisten!"
   ]
  },
  {
   "cell_type": "markdown",
   "metadata": {
    "slideshow": {
     "slide_type": "skip"
    }
   },
   "source": [
    "*Wir wechseln zur Datei ```parameter.py```!*"
   ]
  },
  {
   "cell_type": "markdown",
   "metadata": {
    "slideshow": {
     "slide_type": "fragment"
    }
   },
   "source": [
    "Unser Parameter-Set muss also folgende Bedingungen erfüllen:\n",
    "+ Sie ist eine **Kollektion** aller unserer Parameter\n",
    "+ Ist einmal ein Objekt dieser Klasse erstellt, sollen die **Parameter** (=die Inhalte der Kollektion) **konstant** bleiben.\n",
    "+ Den Wert eines Parameters wollen wir wie bei einem Wörterbuch über dessen **Namen** erfahren.\n",
    "\n",
    "*Wie können wir alle diese Punkte sicherstellen?*"
   ]
  },
  {
   "cell_type": "markdown",
   "metadata": {
    "slideshow": {
     "slide_type": "subslide"
    }
   },
   "source": [
    "Sicher ein **guter Beginn** zur Beantwortung dieser Frage ist es, in [```collections.abc```](https://docs.python.org/3/library/collections.abc.html) nachzusehen!\n",
    "\n",
    "*Welche abstrakte Klasse passt dort am besten zu unserer Problematik?*"
   ]
  },
  {
   "cell_type": "markdown",
   "metadata": {
    "slideshow": {
     "slide_type": "fragment"
    }
   },
   "source": [
    "<table border=\"1\" class=\"docutils\">\n",
    "<colgroup>\n",
    "<col width=\"21%\" />\n",
    "<col width=\"18%\" />\n",
    "<col width=\"18%\" />\n",
    "<col width=\"43%\" />\n",
    "</colgroup>\n",
    "<thead valign=\"bottom\">\n",
    "<tr class=\"row-odd\"><th class=\"head\">ABC</th>\n",
    "<th class=\"head\">Inherits from</th>\n",
    "<th class=\"head\">Abstract Methods</th>\n",
    "<th class=\"head\">Mixin Methods</th>\n",
    "</tr>\n",
    "</thead>\n",
    "<tbody valign=\"top\">\n",
    "<tr class=\"row-even\"><td><a class=\"reference internal\" href=\"#collections.abc.Container\" title=\"collections.abc.Container\"><tt class=\"xref py py-class docutils literal\"><span class=\"pre\">Container</span></tt></a></td>\n",
    "<td>&nbsp;</td>\n",
    "<td><tt class=\"docutils literal\"><span class=\"pre\">__contains__</span></tt></td>\n",
    "<td>&nbsp;</td>\n",
    "</tr>\n",
    "<tr class=\"row-odd\"><td><a class=\"reference internal\" href=\"#collections.abc.Hashable\" title=\"collections.abc.Hashable\"><tt class=\"xref py py-class docutils literal\"><span class=\"pre\">Hashable</span></tt></a></td>\n",
    "<td>&nbsp;</td>\n",
    "<td><tt class=\"docutils literal\"><span class=\"pre\">__hash__</span></tt></td>\n",
    "<td>&nbsp;</td>\n",
    "</tr>\n",
    "<tr class=\"row-even\"><td><a class=\"reference internal\" href=\"#collections.abc.Iterable\" title=\"collections.abc.Iterable\"><tt class=\"xref py py-class docutils literal\"><span class=\"pre\">Iterable</span></tt></a></td>\n",
    "<td>&nbsp;</td>\n",
    "<td><tt class=\"docutils literal\"><span class=\"pre\">__iter__</span></tt></td>\n",
    "<td>&nbsp;</td>\n",
    "</tr>\n",
    "<tr class=\"row-odd\"><td><a class=\"reference internal\" href=\"#collections.abc.Iterator\" title=\"collections.abc.Iterator\"><tt class=\"xref py py-class docutils literal\"><span class=\"pre\">Iterator</span></tt></a></td>\n",
    "<td><a class=\"reference internal\" href=\"#collections.abc.Iterable\" title=\"collections.abc.Iterable\"><tt class=\"xref py py-class docutils literal\"><span class=\"pre\">Iterable</span></tt></a></td>\n",
    "<td><tt class=\"docutils literal\"><span class=\"pre\">__next__</span></tt></td>\n",
    "<td><tt class=\"docutils literal\"><span class=\"pre\">__iter__</span></tt></td>\n",
    "</tr>\n",
    "<tr class=\"row-even\"><td><a class=\"reference internal\" href=\"#collections.abc.Sized\" title=\"collections.abc.Sized\"><tt class=\"xref py py-class docutils literal\"><span class=\"pre\">Sized</span></tt></a></td>\n",
    "<td>&nbsp;</td>\n",
    "<td><tt class=\"docutils literal\"><span class=\"pre\">__len__</span></tt></td>\n",
    "<td>&nbsp;</td>\n",
    "</tr>\n",
    "<tr class=\"row-odd\"><td><a class=\"reference internal\" href=\"#collections.abc.Callable\" title=\"collections.abc.Callable\"><tt class=\"xref py py-class docutils literal\"><span class=\"pre\">Callable</span></tt></a></td>\n",
    "<td>&nbsp;</td>\n",
    "<td><tt class=\"docutils literal\"><span class=\"pre\">__call__</span></tt></td>\n",
    "<td>&nbsp;</td>\n",
    "</tr>\n",
    "<tr class=\"row-even\"><td><a class=\"reference internal\" href=\"#collections.abc.Sequence\" title=\"collections.abc.Sequence\"><tt class=\"xref py py-class docutils literal\"><span class=\"pre\">Sequence</span></tt></a></td>\n",
    "<td><a class=\"reference internal\" href=\"#collections.abc.Sized\" title=\"collections.abc.Sized\"><tt class=\"xref py py-class docutils literal\"><span class=\"pre\">Sized</span></tt></a>,\n",
    "<a class=\"reference internal\" href=\"#collections.abc.Iterable\" title=\"collections.abc.Iterable\"><tt class=\"xref py py-class docutils literal\"><span class=\"pre\">Iterable</span></tt></a>,\n",
    "<a class=\"reference internal\" href=\"#collections.abc.Container\" title=\"collections.abc.Container\"><tt class=\"xref py py-class docutils literal\"><span class=\"pre\">Container</span></tt></a></td>\n",
    "<td><tt class=\"docutils literal\"><span class=\"pre\">__getitem__</span></tt>,\n",
    "<tt class=\"docutils literal\"><span class=\"pre\">__len__</span></tt></td>\n",
    "<td><tt class=\"docutils literal\"><span class=\"pre\">__contains__</span></tt>, <tt class=\"docutils literal\"><span class=\"pre\">__iter__</span></tt>, <tt class=\"docutils literal\"><span class=\"pre\">__reversed__</span></tt>,\n",
    "<tt class=\"docutils literal\"><span class=\"pre\">index</span></tt>, and <tt class=\"docutils literal\"><span class=\"pre\">count</span></tt></td>\n",
    "</tr>\n",
    "<tr class=\"row-odd\"><td><a class=\"reference internal\" href=\"#collections.abc.MutableSequence\" title=\"collections.abc.MutableSequence\"><tt class=\"xref py py-class docutils literal\"><span class=\"pre\">MutableSequence</span></tt></a></td>\n",
    "<td><a class=\"reference internal\" href=\"#collections.abc.Sequence\" title=\"collections.abc.Sequence\"><tt class=\"xref py py-class docutils literal\"><span class=\"pre\">Sequence</span></tt></a></td>\n",
    "<td><tt class=\"docutils literal\"><span class=\"pre\">__getitem__</span></tt>,\n",
    "<tt class=\"docutils literal\"><span class=\"pre\">__setitem__</span></tt>,\n",
    "<tt class=\"docutils literal\"><span class=\"pre\">__delitem__</span></tt>,\n",
    "<tt class=\"docutils literal\"><span class=\"pre\">__len__</span></tt>,\n",
    "<tt class=\"docutils literal\"><span class=\"pre\">insert</span></tt></td>\n",
    "<td>Inherited <a class=\"reference internal\" href=\"#collections.abc.Sequence\" title=\"collections.abc.Sequence\"><tt class=\"xref py py-class docutils literal\"><span class=\"pre\">Sequence</span></tt></a> methods and\n",
    "<tt class=\"docutils literal\"><span class=\"pre\">append</span></tt>, <tt class=\"docutils literal\"><span class=\"pre\">reverse</span></tt>, <tt class=\"docutils literal\"><span class=\"pre\">extend</span></tt>, <tt class=\"docutils literal\"><span class=\"pre\">pop</span></tt>,\n",
    "<tt class=\"docutils literal\"><span class=\"pre\">remove</span></tt>, and <tt class=\"docutils literal\"><span class=\"pre\">__iadd__</span></tt></td>\n",
    "</tr>\n",
    "<tr class=\"row-even\"><td><a class=\"reference internal\" href=\"#collections.abc.Set\" title=\"collections.abc.Set\"><tt class=\"xref py py-class docutils literal\"><span class=\"pre\">Set</span></tt></a></td>\n",
    "<td><a class=\"reference internal\" href=\"#collections.abc.Sized\" title=\"collections.abc.Sized\"><tt class=\"xref py py-class docutils literal\"><span class=\"pre\">Sized</span></tt></a>,\n",
    "<a class=\"reference internal\" href=\"#collections.abc.Iterable\" title=\"collections.abc.Iterable\"><tt class=\"xref py py-class docutils literal\"><span class=\"pre\">Iterable</span></tt></a>,\n",
    "<a class=\"reference internal\" href=\"#collections.abc.Container\" title=\"collections.abc.Container\"><tt class=\"xref py py-class docutils literal\"><span class=\"pre\">Container</span></tt></a></td>\n",
    "<td><tt class=\"docutils literal\"><span class=\"pre\">__contains__</span></tt>,\n",
    "<tt class=\"docutils literal\"><span class=\"pre\">__iter__</span></tt>,\n",
    "<tt class=\"docutils literal\"><span class=\"pre\">__len__</span></tt></td>\n",
    "<td><tt class=\"docutils literal\"><span class=\"pre\">__le__</span></tt>, <tt class=\"docutils literal\"><span class=\"pre\">__lt__</span></tt>, <tt class=\"docutils literal\"><span class=\"pre\">__eq__</span></tt>, <tt class=\"docutils literal\"><span class=\"pre\">__ne__</span></tt>,\n",
    "<tt class=\"docutils literal\"><span class=\"pre\">__gt__</span></tt>, <tt class=\"docutils literal\"><span class=\"pre\">__ge__</span></tt>, <tt class=\"docutils literal\"><span class=\"pre\">__and__</span></tt>, <tt class=\"docutils literal\"><span class=\"pre\">__or__</span></tt>,\n",
    "<tt class=\"docutils literal\"><span class=\"pre\">__sub__</span></tt>, <tt class=\"docutils literal\"><span class=\"pre\">__xor__</span></tt>, and <tt class=\"docutils literal\"><span class=\"pre\">isdisjoint</span></tt></td>\n",
    "</tr>\n",
    "<tr class=\"row-odd\"><td><a class=\"reference internal\" href=\"#collections.abc.MutableSet\" title=\"collections.abc.MutableSet\"><tt class=\"xref py py-class docutils literal\"><span class=\"pre\">MutableSet</span></tt></a></td>\n",
    "<td><a class=\"reference internal\" href=\"#collections.abc.Set\" title=\"collections.abc.Set\"><tt class=\"xref py py-class docutils literal\"><span class=\"pre\">Set</span></tt></a></td>\n",
    "<td><tt class=\"docutils literal\"><span class=\"pre\">__contains__</span></tt>,\n",
    "<tt class=\"docutils literal\"><span class=\"pre\">__iter__</span></tt>,\n",
    "<tt class=\"docutils literal\"><span class=\"pre\">__len__</span></tt>,\n",
    "<tt class=\"docutils literal\"><span class=\"pre\">add</span></tt>,\n",
    "<tt class=\"docutils literal\"><span class=\"pre\">discard</span></tt></td>\n",
    "<td>Inherited <a class=\"reference internal\" href=\"#collections.abc.Set\" title=\"collections.abc.Set\"><tt class=\"xref py py-class docutils literal\"><span class=\"pre\">Set</span></tt></a> methods and\n",
    "<tt class=\"docutils literal\"><span class=\"pre\">clear</span></tt>, <tt class=\"docutils literal\"><span class=\"pre\">pop</span></tt>, <tt class=\"docutils literal\"><span class=\"pre\">remove</span></tt>, <tt class=\"docutils literal\"><span class=\"pre\">__ior__</span></tt>,\n",
    "<tt class=\"docutils literal\"><span class=\"pre\">__iand__</span></tt>, <tt class=\"docutils literal\"><span class=\"pre\">__ixor__</span></tt>, and <tt class=\"docutils literal\"><span class=\"pre\">__isub__</span></tt></td>\n",
    "</tr>\n",
    "<tr class=\"row-even\"><td><a class=\"reference internal\" href=\"#collections.abc.Mapping\" title=\"collections.abc.Mapping\"><tt class=\"xref py py-class docutils literal\"><span class=\"pre\">Mapping</span></tt></a></td>\n",
    "<td><a class=\"reference internal\" href=\"#collections.abc.Sized\" title=\"collections.abc.Sized\"><tt class=\"xref py py-class docutils literal\"><span class=\"pre\">Sized</span></tt></a>,\n",
    "<a class=\"reference internal\" href=\"#collections.abc.Iterable\" title=\"collections.abc.Iterable\"><tt class=\"xref py py-class docutils literal\"><span class=\"pre\">Iterable</span></tt></a>,\n",
    "<a class=\"reference internal\" href=\"#collections.abc.Container\" title=\"collections.abc.Container\"><tt class=\"xref py py-class docutils literal\"><span class=\"pre\">Container</span></tt></a></td>\n",
    "<td><tt class=\"docutils literal\"><span class=\"pre\">__getitem__</span></tt>,\n",
    "<tt class=\"docutils literal\"><span class=\"pre\">__iter__</span></tt>,\n",
    "<tt class=\"docutils literal\"><span class=\"pre\">__len__</span></tt></td>\n",
    "<td><tt class=\"docutils literal\"><span class=\"pre\">__contains__</span></tt>, <tt class=\"docutils literal\"><span class=\"pre\">keys</span></tt>, <tt class=\"docutils literal\"><span class=\"pre\">items</span></tt>, <tt class=\"docutils literal\"><span class=\"pre\">values</span></tt>,\n",
    "<tt class=\"docutils literal\"><span class=\"pre\">get</span></tt>, <tt class=\"docutils literal\"><span class=\"pre\">__eq__</span></tt>, and <tt class=\"docutils literal\"><span class=\"pre\">__ne__</span></tt></td>\n",
    "</tr>\n",
    "<tr class=\"row-odd\"><td><a class=\"reference internal\" href=\"#collections.abc.MutableMapping\" title=\"collections.abc.MutableMapping\"><tt class=\"xref py py-class docutils literal\"><span class=\"pre\">MutableMapping</span></tt></a></td>\n",
    "<td><a class=\"reference internal\" href=\"#collections.abc.Mapping\" title=\"collections.abc.Mapping\"><tt class=\"xref py py-class docutils literal\"><span class=\"pre\">Mapping</span></tt></a></td>\n",
    "<td><tt class=\"docutils literal\"><span class=\"pre\">__getitem__</span></tt>,\n",
    "<tt class=\"docutils literal\"><span class=\"pre\">__setitem__</span></tt>,\n",
    "<tt class=\"docutils literal\"><span class=\"pre\">__delitem__</span></tt>,\n",
    "<tt class=\"docutils literal\"><span class=\"pre\">__iter__</span></tt>,\n",
    "<tt class=\"docutils literal\"><span class=\"pre\">__len__</span></tt></td>\n",
    "<td>Inherited <a class=\"reference internal\" href=\"#collections.abc.Mapping\" title=\"collections.abc.Mapping\"><tt class=\"xref py py-class docutils literal\"><span class=\"pre\">Mapping</span></tt></a> methods and\n",
    "<tt class=\"docutils literal\"><span class=\"pre\">pop</span></tt>, <tt class=\"docutils literal\"><span class=\"pre\">popitem</span></tt>, <tt class=\"docutils literal\"><span class=\"pre\">clear</span></tt>, <tt class=\"docutils literal\"><span class=\"pre\">update</span></tt>,\n",
    "and <tt class=\"docutils literal\"><span class=\"pre\">setdefault</span></tt></td>\n",
    "</tr>\n",
    "<tr class=\"row-even\"><td><a class=\"reference internal\" href=\"#collections.abc.MappingView\" title=\"collections.abc.MappingView\"><tt class=\"xref py py-class docutils literal\"><span class=\"pre\">MappingView</span></tt></a></td>\n",
    "<td><a class=\"reference internal\" href=\"#collections.abc.Sized\" title=\"collections.abc.Sized\"><tt class=\"xref py py-class docutils literal\"><span class=\"pre\">Sized</span></tt></a></td>\n",
    "<td>&nbsp;</td>\n",
    "<td><tt class=\"docutils literal\"><span class=\"pre\">__len__</span></tt></td>\n",
    "</tr>\n",
    "<tr class=\"row-odd\"><td><a class=\"reference internal\" href=\"#collections.abc.ItemsView\" title=\"collections.abc.ItemsView\"><tt class=\"xref py py-class docutils literal\"><span class=\"pre\">ItemsView</span></tt></a></td>\n",
    "<td><a class=\"reference internal\" href=\"#collections.abc.MappingView\" title=\"collections.abc.MappingView\"><tt class=\"xref py py-class docutils literal\"><span class=\"pre\">MappingView</span></tt></a>,\n",
    "<a class=\"reference internal\" href=\"#collections.abc.Set\" title=\"collections.abc.Set\"><tt class=\"xref py py-class docutils literal\"><span class=\"pre\">Set</span></tt></a></td>\n",
    "<td>&nbsp;</td>\n",
    "<td><tt class=\"docutils literal\"><span class=\"pre\">__contains__</span></tt>,\n",
    "<tt class=\"docutils literal\"><span class=\"pre\">__iter__</span></tt></td>\n",
    "</tr>\n",
    "<tr class=\"row-even\"><td><a class=\"reference internal\" href=\"#collections.abc.KeysView\" title=\"collections.abc.KeysView\"><tt class=\"xref py py-class docutils literal\"><span class=\"pre\">KeysView</span></tt></a></td>\n",
    "<td><a class=\"reference internal\" href=\"#collections.abc.MappingView\" title=\"collections.abc.MappingView\"><tt class=\"xref py py-class docutils literal\"><span class=\"pre\">MappingView</span></tt></a>,\n",
    "<a class=\"reference internal\" href=\"#collections.abc.Set\" title=\"collections.abc.Set\"><tt class=\"xref py py-class docutils literal\"><span class=\"pre\">Set</span></tt></a></td>\n",
    "<td>&nbsp;</td>\n",
    "<td><tt class=\"docutils literal\"><span class=\"pre\">__contains__</span></tt>,\n",
    "<tt class=\"docutils literal\"><span class=\"pre\">__iter__</span></tt></td>\n",
    "</tr>\n",
    "<tr class=\"row-odd\"><td><a class=\"reference internal\" href=\"#collections.abc.ValuesView\" title=\"collections.abc.ValuesView\"><tt class=\"xref py py-class docutils literal\"><span class=\"pre\">ValuesView</span></tt></a></td>\n",
    "<td><a class=\"reference internal\" href=\"#collections.abc.MappingView\" title=\"collections.abc.MappingView\"><tt class=\"xref py py-class docutils literal\"><span class=\"pre\">MappingView</span></tt></a></td>\n",
    "<td>&nbsp;</td>\n",
    "<td><tt class=\"docutils literal\"><span class=\"pre\">__contains__</span></tt>, <tt class=\"docutils literal\"><span class=\"pre\">__iter__</span></tt></td>\n",
    "</tr>\n",
    "</tbody>\n",
    "</table>"
   ]
  },
  {
   "cell_type": "markdown",
   "metadata": {
    "slideshow": {
     "slide_type": "notes"
    }
   },
   "source": [
    "+ Alle -```View```s können wir ausschließen.\n",
    "+ Genausoleicht lassen sich Klassen mit ```Mutable``` im Namen ausschließen.\n",
    "+ Ohne ```__getitem__``` können wir keine Werte aus unserer Kollektion holen.\n",
    "+ Da wir die Werte durch ihren **Namen** finden wollen, bleibt nur die Klasse ```Mapping```. Diese hat Schlüssel und Werte, wie ein Wörterbuch."
   ]
  },
  {
   "cell_type": "markdown",
   "metadata": {
    "slideshow": {
     "slide_type": "skip"
    }
   },
   "source": [
    "<div class=\"alert alert-block alert-info\">\n",
    "<h3>Tipp: Mixin Methoden die Kirschlein am ABC-Sahnehäubchen</h3>\n",
    "<p>    \n",
    "Wer sich die Tabelle in <a href=\"https://docs.python.org/3/library/collections.abc.html\"><code>collections.abc</code></a> genau ansieht, stößt in der letzten Spalte auf die <strong>Mixin Methods</strong>. Das sind Methoden, welche die ABC <strong>automatisch generieren</strong> kann.\n",
    "    Voraussetzung dafür ist, dass man die <strong>Abstract Methods</strong> der ABC implementiert hat und von dieser erbt.\n",
    "    </p>\n",
    "    <p>\n",
    "        Erstellen wir also eine Klasse welche von <code>Mapping</code> erbt, <strong>muss</strong> diese <code>__len__</code>, <code>__getitem__</code> und <code>iter</code> mitbringen. Ihre Objekte besitzen dann aber <strong>auch</strong> Methoden wie <code>keys</code> und <code>values</code>!\n",
    "</div>"
   ]
  },
  {
   "cell_type": "markdown",
   "metadata": {
    "slideshow": {
     "slide_type": "subslide"
    }
   },
   "source": [
    "### Ein Mapping für die Parameter\n",
    "\n",
    "Wir nennen unsere Klasse in der wir die Parameter sammeln wollen also ```ParameterSet``` und erben von der **ABC** ```Mapping```. <br>\n",
    "Das heißt wir müssen die Methoden ```__getitem__```, ```__iter__``` und ```__len__``` in unserer Klasse **implementieren**."
   ]
  },
  {
   "cell_type": "markdown",
   "metadata": {
    "slideshow": {
     "slide_type": "fragment"
    }
   },
   "source": [
    "**Intern** setzen wir auf ein **Wörterbuch**, um Parameter schnell anhand ihres Namens finden zu können. Dieses bleibt aber dank Unterstrich ```_``` **protected**! <br>\n",
    "Den Inhalt der **Methoden** welche wir implementieren müssen, können wir aber gemütlich an das Wörterbuch **deligieren**:"
   ]
  },
  {
   "cell_type": "code",
   "execution_count": 30,
   "metadata": {
    "slideshow": {
     "slide_type": "fragment"
    }
   },
   "outputs": [],
   "source": [
    "import collections.abc\n",
    "\n",
    "class ParameterSet(collections.abc.Mapping):\n",
    "    def __init__(self,):\n",
    "        self._PS = dict()\n",
    "        \n",
    "    def __len__(self):\n",
    "        return len(self._PS)\n",
    "    \n",
    "    def __getitem__(self, index):\n",
    "        return self._PS[index]\n",
    "    \n",
    "    def __iter__(self):\n",
    "        return iter(self._PS)"
   ]
  },
  {
   "cell_type": "markdown",
   "metadata": {
    "slideshow": {
     "slide_type": "skip"
    }
   },
   "source": [
    "<div class=\"alert alert-block alert-info\">\n",
    "<h3>Tipp: Mit einem Beistrich signalisieren, dass eine Funktion noch in Arbeit ist</h3>\n",
    "<p>\n",
    "Da ist doch ein Fehler unterlaufen bei <code>_(self,):</code> nicht?\n",
    "    </p>\n",
    "    <p>\n",
    "Nein! Denn Python <strong>ignoriert</strong> den Beistrich einfach. Dem Leser des Codes signalisiert das Komma aber, dass hier zu einem späteren Zeitpunkt noch <strong>mehr Argumente erwartet</strong> werden.\n",
    "    </p>\n",
    "</div>"
   ]
  },
  {
   "cell_type": "markdown",
   "metadata": {
    "slideshow": {
     "slide_type": "slide"
    }
   },
   "source": [
    "Es folgen **die Parameterwerte**, wobei wir den **kritischen Parameter** $\\chi$ auf ```None``` setzen, <br>\n",
    "damit wir uns auch wirklich immer **für ein Szenario entscheiden müssen**.\n",
    "\n",
    "Unsere fertige Klasse sieht so aus:"
   ]
  },
  {
   "cell_type": "code",
   "execution_count": 31,
   "metadata": {
    "slideshow": {
     "slide_type": "fragment"
    }
   },
   "outputs": [],
   "source": [
    "import collections.abc\n",
    "\n",
    "class ParameterSet(collections.abc.Mapping):\n",
    "    \"\"\"Speichert die Parameter des Wonderlands.\n",
    "    \n",
    "    :param CHI: Parameter CHI (0.04 für Dream-, 0.01 für Horror-Scenario)\n",
    "    :param parameter_dict: Restliche Parameter als Schlüsselworte in \n",
    "        GROSSBUCHSTABEN.\n",
    "    \"\"\"\n",
    "    def __init__(self,*, CHI, **parameter_dict):\n",
    "        self._PS = {\n",
    "            # Technologie\n",
    "            'CHI':CHI, \n",
    "            # Umweltschutz\n",
    "            'PHI':0.5, 'MY': 2.0, \n",
    "            # Umwelt\n",
    "            'KAPPA':2.0, 'EPSILON':0.02, 'DELTA':1.0, 'RHO':2.0, 'OMEGA':0.1, 'NY':1.0,\n",
    "            # Wirtschaft\n",
    "            'GAMMA':0.02, 'ETA':0.1, 'LAMBDA':2.0,\n",
    "            # Sterberate\n",
    "            'ALPHA':0.18, 'DELTA1':0.01, 'DELTA2':2.5, 'DELTA3':4.0, 'THETA':15.0,\n",
    "            # Geburtenrate\n",
    "            'BETA1':0.04, 'BETA2':1.375, 'BETA':0.16\n",
    "        }\n",
    "\n",
    "        for parameter in parameter_dict:\n",
    "            self._PS[parameter] = parameter_dict[parameter]\n",
    "\n",
    "    def __len__(self):\n",
    "        return len(self._PS)\n",
    "\n",
    "    def __getitem__(self, index):\n",
    "        return self._PS[index]\n",
    "\n",
    "    def __iter__(self):\n",
    "        return iter(self._PS)  "
   ]
  },
  {
   "cell_type": "markdown",
   "metadata": {
    "slideshow": {
     "slide_type": "skip"
    }
   },
   "source": [
    "<div class=\"alert alert-block alert-info\">\n",
    "<h3>Tipp: Mit Sternchen zu Argumenten</h3>\n",
    "<p>\n",
    "    Das Sternchen <code>*</code> hat in Python viele Einsatzgebiete. <strong>Bisher</strong> haben wir die Nutzung als <strong>Operator</strong> gesehen, wo es zur <strong>Multiplikation</strong> von Zahlen und <strong>wiederholten Konkatenation an sich selbst</strong> für Kollektionen dient.\n",
    "    </p>\n",
    "    <p>\n",
    "Steht das <strong>Sternchen</strong> in den Klammern einer <strong>Funktionsdefinition</strong> ändert sich seine Bedeutung fundamental. Wir sehen uns gleich eine <strong>exemplarische Definition</strong> an und diskutieren sie <strong>Stück für Stück</strong>.\n",
    "    </p>\n",
    "   <p>\n",
    "<strong>Argumente</strong> kann man in Python grob in <strong>zwei Kategorien</strong> einteilen: Positionelle und Schlüssel-Wort-Argumente.\n",
    "    </p>\n",
    "</div>"
   ]
  },
  {
   "cell_type": "code",
   "execution_count": 32,
   "metadata": {
    "slideshow": {
     "slide_type": "skip"
    }
   },
   "outputs": [
    {
     "name": "stdout",
     "output_type": "stream",
     "text": [
      "a: 1 |b: 2 |c: (3, 5) |d: Arg |e: {'bla': 'X', 'omg': 'Y'}\n"
     ]
    }
   ],
   "source": [
    "def beispiel(a,b,*c,d,**e):\n",
    "    print(\"a: {} |b: {} |c: {} |d: {} |e: {}\".format(a,b,c,d,e))\n",
    "    \n",
    "beispiel(1,2,3,5,d=\"Arg\",bla=\"X\",omg=\"Y\")"
   ]
  },
  {
   "cell_type": "markdown",
   "metadata": {
    "slideshow": {
     "slide_type": "skip"
    }
   },
   "source": [
    "<div class=\"alert alert-block alert-info\">\n",
    "    <ul>\n",
    "        <li> <code>a</code> - Ein ganz normales, positionelles Funktionsargument.</li>\n",
    "<li> <code>b</code> - Ein weiteres positionelles Argument. Tauscht man <code>2</code> und <code>1</code>, werden sie <strong>umgekehrt</strong> an <code>a</code> und <code>b</code> <strong>gebunden</strong>.</li>\n",
    "<li> <code>*c</code> - Das dritte Argument wird von einem Sternchen geziert. Das heißt, alle positionellen Argumente welche nach den deklarierten folgen, werden im <strong>Tupel</strong> <code>c</code> gespeichert.\n",
    "        Statt <code>c</code> schreibt man <strong>normalerweise</strong> <code>args</code>. So weißt jeder, dass es sich um ein Tupel handelt.</li>\n",
    "        <li> <code>d</code> - Ein Schlüssel-Wort-Argument der Funktion. <strong>Alle Argumente nach</strong> <code>*</code> <strong>sind verpflichtend!</strong>. </li>\n",
    "<li> <code>e</code> - Schlüssel-Wort-Argumente für welche kein solches in der Definition existiert werden hier in einem <strong>Wörterbuch</strong> gesammelt.\n",
    "    Deshalb nennt man das Argument welches mit <code>**</code> geschmückt <strong>normalerweise</strong> <code>kwargs</code> (<i>key-word arguments</i>)</li>\n",
    "        </ul>\n",
    "<h3>Das Sternchen im Funktionsaufruf</h3>\n",
    "<p>\n",
    "Doch damit nicht genug! Wir können das Sternchen auch beim Aufruf von Funktionen nutzen. Damit werden Kollektionen <i>explodiert</i> um der Anzahl an Argumenten in der Definition gerecht zu werden.\n",
    "</p>\n",
    "<code>*</code> - Für die <code>args</code> <br>\n",
    "<code>**</code> - Für die <code>kwargs</code>\n",
    "</div>"
   ]
  },
  {
   "cell_type": "code",
   "execution_count": 33,
   "metadata": {
    "slideshow": {
     "slide_type": "skip"
    }
   },
   "outputs": [
    {
     "name": "stdout",
     "output_type": "stream",
     "text": [
      "a: 0 |b: 1 |c: (2, 3, 4) |d: Bla |e: {'0': 0, '1': 1, '2': 2, '3': 3, '4': 4, '5': 5, '6': 6, '7': 7, '8': 8, '9': 9}\n"
     ]
    }
   ],
   "source": [
    "beispiel(*range(5), d=\"Bla\", **{str(i):i for i in range(10)})"
   ]
  },
  {
   "cell_type": "markdown",
   "metadata": {
    "slideshow": {
     "slide_type": "slide"
    }
   },
   "source": [
    "### Anwendung des ParameterSets\n",
    "\n",
    "Nun können wir ganz einfach **Objekte mit den Parametern** für das *Dream*. und *Horror*-Szenario initiieren:"
   ]
  },
  {
   "cell_type": "code",
   "execution_count": 34,
   "metadata": {
    "slideshow": {
     "slide_type": "-"
    }
   },
   "outputs": [],
   "source": [
    "dream_parameter = ParameterSet(CHI=0.04)\n",
    "horror_parameter = ParameterSet(CHI=0.01)"
   ]
  },
  {
   "cell_type": "markdown",
   "metadata": {
    "slideshow": {
     "slide_type": "fragment"
    }
   },
   "source": [
    "Mit der Klasse ```ParameterSet``` bleiben die Parameter garantiert konstant, denn man müsste gänzlich neue Parameter erstellen um sie zu ändern:\n",
    "~~~python\n",
    ">>>dream_parameters['CHI'] = 3\n",
    "Traceback (most recent call last):\n",
    "  File \"<stdin>\", line 1, in <module>\n",
    "TypeError: 'ParameterSet' object does not support item assignment\n",
    "~~~"
   ]
  },
  {
   "cell_type": "markdown",
   "metadata": {
    "slideshow": {
     "slide_type": "fragment"
    }
   },
   "source": [
    "Außerdem können wir aus einem Wörterbuch ein ```ParameterSet``` erstellen und umgekehrt!"
   ]
  },
  {
   "cell_type": "code",
   "execution_count": 35,
   "metadata": {
    "slideshow": {
     "slide_type": "-"
    }
   },
   "outputs": [
    {
     "name": "stdout",
     "output_type": "stream",
     "text": [
      "{'CHI': 0.5, 'PHI': 0.4, 'MY': 1.5, 'KAPPA': 2.0, 'EPSILON': 0.02, 'DELTA': 1.0, 'RHO': 2.0, 'OMEGA': 0.1, 'NY': 1.0, 'GAMMA': 0.02, 'ETA': 0.1, 'LAMBDA': 2.0, 'ALPHA': 0.18, 'DELTA1': 0.01, 'DELTA2': 2.5, 'DELTA3': 4.0, 'THETA': 15.0, 'BETA1': 0.04, 'BETA2': 1.375, 'BETA': 0.16}\n"
     ]
    }
   ],
   "source": [
    "neue_parameter = ParameterSet(**{'MY':1.5, 'PHI':0.4, 'CHI':0.5})\n",
    "print( dict(neue_parameter) )"
   ]
  },
  {
   "cell_type": "markdown",
   "metadata": {
    "slideshow": {
     "slide_type": "slide"
    }
   },
   "source": [
    "## Zurück zum Wonderland\n",
    "\n",
    "Der **Zustand** eines Wonderland - Objekts besteht aus **vier Variablen**.\n",
    "\n",
    "*Wie lassen sich diese am besten **bündeln**?*"
   ]
  },
  {
   "cell_type": "markdown",
   "metadata": {
    "slideshow": {
     "slide_type": "fragment"
    }
   },
   "source": [
    "Eine Liste eignet sich nur bedingt, das sie mutabel ist. **Tupel** sind nicht mutabel und lassen sich schnell in ihre Einzelteile zerlegen!"
   ]
  },
  {
   "cell_type": "code",
   "execution_count": 36,
   "metadata": {
    "slideshow": {
     "slide_type": "fragment"
    }
   },
   "outputs": [],
   "source": [
    "class Wonderland:\n",
    "    def __init__(self, parameter_set, \n",
    "                 ## Zur besseren Sichtbarkeit hervorgehoben ##\n",
    "                 zustand_beginn = (1.0,1.0,0.98,1.0) \n",
    "                 ## ## ## ## ## ## ## ### ## ## ## ## ## ## ## \n",
    "                ):\n",
    "        self._PS = parameter_set\n",
    "        self._zustand = zustand_beginn"
   ]
  },
  {
   "cell_type": "markdown",
   "metadata": {
    "slideshow": {
     "slide_type": "subslide"
    }
   },
   "source": [
    "*Wie merken wir uns jetzt aber, **welcher** der Zustandswerte für **welche** Zustandsvariable steht?*"
   ]
  },
  {
   "cell_type": "markdown",
   "metadata": {
    "slideshow": {
     "slide_type": "fragment"
    }
   },
   "source": [
    "Hier gibt es zwei gute Lösungen:\n",
    "+ Einerseits eignet sich ein **docstring** um Klarheit zu schaffen. Hier können wir auch erwähnen, dass für die Eingangsvariable **parameter_set** ein Objekt des Typs ```ParameterSet``` empfohlen wird."
   ]
  },
  {
   "cell_type": "code",
   "execution_count": 37,
   "metadata": {
    "slideshow": {
     "slide_type": "subslide"
    }
   },
   "outputs": [
    {
     "data": {
      "text/plain": [
       "__main__.Wonderland"
      ]
     },
     "execution_count": 37,
     "metadata": {},
     "output_type": "execute_result"
    }
   ],
   "source": [
    "# Mit docstring:\n",
    "class Wonderland:\n",
    "    \"\"\"Wonderland-Objekt mit Parametern und Zustand.\n",
    "\n",
    "    :param parameter_set: Ein wonderland.parameters.ParameterSet\n",
    "    :param zustand_beginn: Ein Tuple mit den float-Werten für (x,y,z,p)\n",
    "    \"\"\"\n",
    "    def __init__(self, parameter_set, zustand_beginn=(1.0,1.0,0.98,1.0)):\n",
    "        self._PS = parameter_set\n",
    "        self._zustand = zustand_beginn\n",
    "        \n",
    "Wonderland # <- cursor hierhin setzen und shift + tab drücken (zuerst Zelle ausführen)"
   ]
  },
  {
   "cell_type": "markdown",
   "metadata": {
    "slideshow": {
     "slide_type": "subslide"
    }
   },
   "source": [
    "+ Andererseits bietet Python im ```collections``` Modul auch eine **Funktion** namens ```namedtuple```. Diese nimmt einen **Namen** für das Tupel selbst und eine **Kollektion** von Namen für dessen Inhalte entgegen und erstellt eine **neue Klasse** mit den übergebenen Namen:"
   ]
  },
  {
   "cell_type": "code",
   "execution_count": 38,
   "metadata": {
    "slideshow": {
     "slide_type": "fragment"
    }
   },
   "outputs": [
    {
     "data": {
      "text/plain": [
       "(1.0, 1.0, 0.98, 1.0)"
      ]
     },
     "execution_count": 38,
     "metadata": {},
     "output_type": "execute_result"
    }
   ],
   "source": [
    "# Mit NamedTuple\n",
    "from collections import namedtuple\n",
    "\n",
    "WonderlandZustand = namedtuple('WonderlandZustand', 'x y z p')\n",
    "\n",
    "class Wonderland:\n",
    "    def __init__(self, parameter_set, zustand_beginn=WonderlandZustand(x=1.0,y=1.0,z=0.98,p=1.0)):\n",
    "        self._PS = parameter_set\n",
    "        self._zustand = zustand_beginn\n",
    "        \n",
    "x,y,z,p = Wonderland(None)._zustand # Zerlegen wie ein Tupel\n",
    "x = Wonderland(None)._zustand[0] # Indizes nutzen wie beim Tupel\n",
    "x = Wonderland(None)._zustand.x # oder als Attribut zugreifen\n",
    "\n",
    "x,y,z,p"
   ]
  },
  {
   "cell_type": "markdown",
   "metadata": {
    "slideshow": {
     "slide_type": "fragment"
    }
   },
   "source": [
    "Man kann natürlich auch ```docstring``` und ```namedtuple``` **kombinieren**."
   ]
  },
  {
   "cell_type": "markdown",
   "metadata": {
    "slideshow": {
     "slide_type": "slide"
    }
   },
   "source": [
    "Unsere vorläufige Klasse sieht dann so aus:"
   ]
  },
  {
   "cell_type": "code",
   "execution_count": 39,
   "metadata": {
    "slideshow": {
     "slide_type": "-"
    }
   },
   "outputs": [],
   "source": [
    "from math import exp\n",
    "\n",
    "class Wonderland:\n",
    "    \"\"\"Objekte vom Typ Wonderland besitzen:\n",
    "    Ihren *aktuellen* Zustand\n",
    "    Ihre *konstanten* Parameter\n",
    "    \"\"\"\n",
    "    def __init__(self, parameter_set, zustand_beginn=WonderlandZustand(x=1.0,y=1.0,z=0.98,p=1.0)):\n",
    "        \"\"\"Der default Ausgangszustand ist so in allen Papern konvention.\n",
    "        \"\"\"\n",
    "        self._PS = parameter_set\n",
    "        self.zustand = zustand_beginn\n",
    "\n",
    "    def technologie(self, p):\n",
    "        \"\"\"Berechnet die Technologie des nächsten Wonderland-Jahres.\n",
    "        \"\"\"\n",
    "        return p*(1.0-self._PS['CHI'])\n",
    "\n",
    "    def wirtschaft(self, y,z):\n",
    "        \"\"\"Berechnet die Wirtschaft des nächsten Wonderland-Jahres.\n",
    "        \"\"\"\n",
    "        GAMMA = self._PS['GAMMA']\n",
    "        return y*(1.0+GAMMA-(GAMMA+self._PS['ETA'])*(1.0-z)**self._PS['LAMBDA'])\n",
    "\n",
    "    def population(self,x,y,z):\n",
    "        \"\"\"Berechnet die Bevölkerung des nächsten Wonderland-Jahres.\n",
    "        \"\"\"\n",
    "        return x*(1.0+self.geburtenrate(y,z)-self.sterberate(y,z))\n",
    "\n",
    "    def geburtenrate(self,y,z):\n",
    "        \"\"\"Berechnet wie stark die Bevölkerung durch Geburten ansteigt.\n",
    "        \"\"\"\n",
    "        e = self.y_strich(self._PS['BETA'],y,z)\n",
    "        return self._PS['BETA1'] * (self._PS['BETA2'] - e/(1.0+e))\n",
    "\n",
    "    def sterberate(self,y,z):\n",
    "        \"\"\"Berechnet wie stark die Bevölkerung durch Tode sinkt.\n",
    "        \"\"\"\n",
    "        e = self.y_strich(self._PS['ALPHA'],y,z)\n",
    "        return self._PS['DELTA1'] * (self._PS['DELTA2'] - e/(1.0+e)) * (1.0 + self._PS['DELTA3'] * (1.0-z)**self._PS['THETA'])\n",
    "\n",
    "    def y_strich(self,CONST,y,z):\n",
    "        \"\"\"Dient als Hilfsfunktion.\n",
    "\n",
    "        *Nicht* das $\\bar{y}$ in der klassischen Definition! \n",
    "        \"\"\"\n",
    "        return exp(CONST * (y - self.umweltschutz(y,z)))\n",
    "\n",
    "    def umwelt(self,x,y,z,p):\n",
    "        \"\"\"Berechnet die Umweltqualität des nächsten Wonderland-Jahres.\n",
    "        \"\"\"\n",
    "        NY = self._PS['NY']\n",
    "        g = exp(self._PS['DELTA']*z**self._PS['RHO'] - self._PS['OMEGA']*self.fluss_emissionen(x,y,z,p))\n",
    "        resultat = z + NY * z*g - NY * z * (1.0-z+z*g)\n",
    "        if resultat > 1:\n",
    "            resultat = 1.0\n",
    "        elif resultat < 0:\n",
    "            resultat = 0.0\n",
    "        return resultat\n",
    "\n",
    "    def fluss_emissionen(self,x,y,z,p):\n",
    "        \"\"\"Berechnet den Fluss an Emissionen welche in Wonderlands\n",
    "        Umwelt einfließen.\n",
    "        \"\"\"\n",
    "        c_strich = exp(self._PS['EPSILON'] * self.umweltschutz(y,z) * x)\n",
    "        return x*y*p - self._PS['KAPPA'] * (c_strich/(1.0+c_strich) - 0.5)\n",
    "\n",
    "    def umweltschutz(self,y,z):\n",
    "        \"\"\"Berechnet die Kosten welche der Umweltschutz im Wonderland verursacht.\n",
    "        \"\"\"\n",
    "        return self._PS['PHI'] * (1.0-z)**self._PS['MY'] * y"
   ]
  },
  {
   "cell_type": "markdown",
   "metadata": {
    "slideshow": {
     "slide_type": "skip"
    }
   },
   "source": [
    "<div class=\"alert alert-block alert-info\">\n",
    "<h3>Tipp: Mehr zu namedtuple</h3>\n",
    "   <p>\n",
    "Aufmerksamen Lesern wird aufgefallen sein, dass das Wort \"WonderlandZustand\" zweimal vorkommt. <i>Woran liegt das?</i>\n",
    "    </p>\n",
    "    <p>\n",
    "        Klassen haben einen <strong>Namen</strong> und einen <strong>Konstruktor</strong>. Definieren wir eine Klasse mit dem Schlüsselwort <code>class</code>, so erstellen wir eine Klasse <strong>und</strong> ihren Konstruktor gleichzeitig. Beide haben dann <strong>denselben Namen</strong>.\n",
    "    </p>\n",
    "    <p>\n",
    "        <code>namedtuple</code> ist eine Funktion welche als <strong>Fabrik</strong> von (Sub-)Klassen der <code>tuple</code> Klasse fungiert. Wir überreichen ihr als <strong>erstes Argument</strong> den Namen der neuen Subklasse. <br>\n",
    "        Das <strong>Resultat der Funktion</strong> ist dann der <strong>Konstruktor</strong> dieser Subklasse. Diesem können wir irgendeinen Namen zuweisen, aber um keine Verwirrung zu stiften, lautet er gleich dem Klassennamen.\n",
    "    </p>\n",
    "</div>"
   ]
  },
  {
   "cell_type": "code",
   "execution_count": 40,
   "metadata": {
    "slideshow": {
     "slide_type": "skip"
    }
   },
   "outputs": [
    {
     "data": {
      "text/plain": [
       "(type, True, __main__.WonderlandZustand)"
      ]
     },
     "execution_count": 40,
     "metadata": {},
     "output_type": "execute_result"
    }
   ],
   "source": [
    "wow = namedtuple('WonderlandZustand', 'x y z p')\n",
    "type(wow), issubclass(wow,tuple), type(wow(1,2,3,4))"
   ]
  },
  {
   "cell_type": "markdown",
   "metadata": {
    "slideshow": {
     "slide_type": "slide"
    }
   },
   "source": [
    "## Simulationen\n",
    "\n",
    "Nun besitzt das Wonderland also **konstante Parameter** und einen **variablen Zustand**. \n",
    "\n",
    "*Doch wie simulieren wir nun den Zeitverlauf des Wonderlands?*"
   ]
  },
  {
   "cell_type": "markdown",
   "metadata": {
    "slideshow": {
     "slide_type": "skip"
    }
   },
   "source": [
    "<div class=\"alert alert-block alert-info\">\n",
    "<h3>Tipp: Monkey - Patching , wie Affen ihre Software flicken</h3>\n",
    "    <p>\n",
    "Python erlaubt es uns, eine <strong>Methode</strong> oder ein <strong>Attribut</strong> auch <strong>außerhalb der Definition</strong> einer Klasse zu hinzuzufügen. <br>\n",
    "Dies eignet sich gut um nach und nach eine <strong>Klasse zu erweitern</strong> wenn man die einzelnen <strong>Teile genau erläutern</strong> will.\n",
    "    </p>\n",
    "    <p>\n",
    "Im Allgemeinen würde ich davon <strong>abraten</strong> diese Praxis häufig anwenden. Wenn eine Klasse <strong>im eigenen Quelltext</strong> noch eine Methode vermisst, kann man sie direkt hinzufügen. Ist die Klasse aus einem <strong>fremden Quelltext</strong> oder <strong>ändert sich das Verhalten</strong>  ihrer Objekte dadurch stark, ist es besser von ihr zu <strong>erben</strong> und die <strong>Änderung so deutlich zu markieren</strong>.\n",
    "    </p>\n",
    "    <h4></h4>\n",
    "    <p>\n",
    "<strong>Achtung:</strong> Monkey - Patchen wir ein mutables Objekt, zB eine Liste, in eine Klasse. Referenzieren <strong>alle Objekte</strong> dieser Klasse <strong>dasselbe</strong> Objekt! <i>Warum?</i> Das Objekt ist <strong>der Klasse zugeordnet</strong>.\n",
    "    </p>\n",
    "    <p>\n",
    "        Wird es dagegen in <code>__init__</code> zu <code>self</code> hinzugefügt, ist es <strong>dem Objekt zugeordnet</strong>.\n",
    "    </p>\n",
    "</div>"
   ]
  },
  {
   "cell_type": "markdown",
   "metadata": {
    "slideshow": {
     "slide_type": "subslide"
    }
   },
   "source": [
    "Das ```Wonderland``` sollte eine **Methode** besitzen um seinen **Zustand zu ändern**.\n",
    "\n",
    "Wir wollen diese Methode immer **nur ein Jahr** fortschreiten lassen und nennen sie ```neues_jahr```:"
   ]
  },
  {
   "cell_type": "code",
   "execution_count": 41,
   "metadata": {
    "slideshow": {
     "slide_type": "fragment"
    }
   },
   "outputs": [],
   "source": [
    "def neues_jahr(self):\n",
    "    \"\"\"Berechnet den Zustand des nächsten Jahres.\n",
    "    \"\"\"\n",
    "    x,y,z,p = self.zustand\n",
    "    x_neu = self.population(x,y,z)\n",
    "    y_neu = self.wirtschaft(y,z)\n",
    "    z_neu = self.umwelt(x,y,z,p)\n",
    "    p_neu = self.technologie(p)\n",
    "    self.zustand = WonderlandZustand(x_neu,y_neu,z_neu,p_neu)\n",
    "    \n",
    "Wonderland.neues_jahr = neues_jahr"
   ]
  },
  {
   "cell_type": "markdown",
   "metadata": {
    "slideshow": {
     "slide_type": "fragment"
    }
   },
   "source": [
    "```neues_jahr``` **entpackt** also die Zustandsvariablen des **aktuellen Zustand**s, berechnet den **neuen** und **speichert** diesen **an Stelle des alten**."
   ]
  },
  {
   "cell_type": "markdown",
   "metadata": {
    "slideshow": {
     "slide_type": "subslide"
    }
   },
   "source": [
    "Nun brauchen wir nur noch eine **Funktion** ```simuliere``` der wir ein Wonderland - Objekt und die **Länge der Simulationsperiode** überreichen können und die uns dann ein **Ergebnis** liefert.\n",
    "\n",
    "*Wie sieht sie aus?*"
   ]
  },
  {
   "cell_type": "code",
   "execution_count": 42,
   "metadata": {
    "slideshow": {
     "slide_type": "fragment"
    }
   },
   "outputs": [],
   "source": [
    "def simuliere(wonderland, jahre):\n",
    "    ergebnis = ErgebnisseSequence()\n",
    "    for _ in range(jahre):\n",
    "        pass\n",
    "        #\n",
    "        #\n",
    "    return ergebnis"
   ]
  },
  {
   "cell_type": "markdown",
   "metadata": {
    "slideshow": {
     "slide_type": "skip"
    }
   },
   "source": [
    "Die volle Funktion ```simuliere```:"
   ]
  },
  {
   "cell_type": "code",
   "execution_count": 43,
   "metadata": {
    "slideshow": {
     "slide_type": "notes"
    }
   },
   "outputs": [],
   "source": [
    "def simuliere(wonderland, jahre):\n",
    "    ergebnis = ErgebnisseSequence()\n",
    "    for _ in range(jahre):\n",
    "            wonderland.neues_jahr()\n",
    "            ergebnis.speichere(wonderland)\n",
    "    return ergebnis"
   ]
  },
  {
   "cell_type": "markdown",
   "metadata": {},
   "source": [
    "Die **Ergebnisse in einer Liste** zu speichern macht Sinn. Allerdings **trennen** wir so wieder die für das Ergebnis einer Simulation **wichtigen Parameter**."
   ]
  },
  {
   "cell_type": "markdown",
   "metadata": {
    "slideshow": {
     "slide_type": "slide"
    }
   },
   "source": [
    "# Szenarien als Objekte\n",
    "\n",
    "Um das **Wonderland** und seine **Parametern** mit dem Simulations**ergebnis** **zusammen**zufassen, führen wir eine Klasse ```Szenario``` ein."
   ]
  },
  {
   "cell_type": "markdown",
   "metadata": {
    "slideshow": {
     "slide_type": "fragment"
    }
   },
   "source": [
    "Wird ein Szenario initialisiert, **berechnet** es das Ergebnis **und speichert** es und das dazugehörige Wonderland."
   ]
  },
  {
   "cell_type": "code",
   "execution_count": 44,
   "metadata": {
    "slideshow": {
     "slide_type": "-"
    }
   },
   "outputs": [],
   "source": [
    "class Szenario:\n",
    "    \"\"\"Führt eine Simulation basierend auf einem\n",
    "    Wonderland aus.\n",
    "    \"\"\"\n",
    "    def __init__(self, wonderland, jahre=300):\n",
    "        \"\"\"Standarddauer einer Simulationsperiode: 300 Jahre\n",
    "        \"\"\"\n",
    "        self._wonderland = wonderland\n",
    "        self._ergebnis = ZustandsSammlung(self._wonderland)\n",
    "\n",
    "        for _ in range(jahre):\n",
    "            self._wonderland.neues_jahr()\n",
    "            self._ergebnis.speichere(self._wonderland)"
   ]
  },
  {
   "cell_type": "markdown",
   "metadata": {
    "slideshow": {
     "slide_type": "subslide"
    }
   },
   "source": [
    "Durch den führenden Unterstrich ```_``` im Namen, sind beide **Attribute** des ```Szenario```s **geschützt**. \n",
    "\n",
    "*Wie gestalten wir nun den Zugriff auf diese ohne Python-Konventionen zu verletzen?*"
   ]
  },
  {
   "cell_type": "code",
   "execution_count": 45,
   "metadata": {
    "slideshow": {
     "slide_type": "fragment"
    }
   },
   "outputs": [],
   "source": [
    "@property\n",
    "def wonderland(self):\n",
    "    \"\"\"Gibt das hinterlegte Wonderland aus.\n",
    "    \"\"\"\n",
    "    return self._wonderland\n",
    "\n",
    "Szenario.wonderland = wonderland"
   ]
  },
  {
   "cell_type": "markdown",
   "metadata": {
    "slideshow": {
     "slide_type": "-"
    }
   },
   "source": [
    "<div class=\"alert alert-block alert-info\">\n",
    "<h3>Tipp: Mit @property Methoden zu Attributen machen</h3>\n",
    "    \n",
    "Mit dem Dekorator @property können wir aus einer Methode ganz einfach ein Attribut eines Objekts machen. \n",
    "</div>"
   ]
  },
  {
   "cell_type": "code",
   "execution_count": 46,
   "metadata": {
    "slideshow": {
     "slide_type": "skip"
    }
   },
   "outputs": [],
   "source": [
    "class AutomatProp(Automat):\n",
    "    @property\n",
    "    def leerstellen(self):\n",
    "        return self.maximum - len(self._füllstand)"
   ]
  },
  {
   "cell_type": "markdown",
   "metadata": {
    "slideshow": {
     "slide_type": "skip"
    }
   },
   "source": [
    "<div class=\"alert alert-block alert-info\">\n",
    "\n",
    "Nun können wir auf die Leerstellen in einem Objekt der Klasse <code>Automat</code> ganz einfach zugreifen:\n",
    "</div>"
   ]
  },
  {
   "cell_type": "code",
   "execution_count": 47,
   "metadata": {
    "slideshow": {
     "slide_type": "skip"
    }
   },
   "outputs": [
    {
     "data": {
      "text/plain": [
       "4"
      ]
     },
     "execution_count": 47,
     "metadata": {},
     "output_type": "execute_result"
    }
   ],
   "source": [
    "automat_prop = AutomatProp(\"\",2,6)\n",
    "automat_prop.leerstellen"
   ]
  },
  {
   "cell_type": "markdown",
   "metadata": {
    "slideshow": {
     "slide_type": "skip"
    }
   },
   "source": [
    "<div class=\"alert alert-block alert-info\">\n",
    "<p>\n",
    "Wer aufmerksam gelesen hat sieht, dass hinter <code>leerstellen</code> <strong>keine Klammern</strong> folgen. Die Methode wurde zum <strong>Attribut</strong>.\n",
    "    Wir können auf <code>leerstellen</code> allerdings nicht selbst zuweisen. So können wir <strong>auch Konstanten</strong> schaffen wie zum Beispiel für die Parameter eines Wonderlands!\n",
    "</p>\n",
    "<p>\n",
    "    Wollen wir auf ein durch <code>@property</code> geschaffenes Attribut <strong>zuweisen</strong>, müssen wir eine <strong>setter-Methode</strong> hinzufügen und <strong>annotieren</strong>:\n",
    "</p>\n",
    "<pre><code class=\"Python\">...\n",
    "@leerstellen.setter\n",
    "def set_leerstellen(self, neuer_wert):\n",
    "...\n",
    "</code></pre>\n",
    "<p>\n",
    "<i><strong>Achtung:</strong> Soll eine Methode zum Attribut gemacht werden, darf sie nur <code>self</code> als Argument erwarten. Eine setter-Methode übernimmt <code>self</code> und den neuen Wert!</i>\n",
    "    </p>\n",
    "</div>"
   ]
  },
  {
   "cell_type": "code",
   "execution_count": 48,
   "metadata": {
    "slideshow": {
     "slide_type": "fragment"
    }
   },
   "outputs": [],
   "source": [
    "@property\n",
    "def ergebnis(self):\n",
    "    \"\"\"Gibt das berechnete Ergebnis aus.\n",
    "    \"\"\"\n",
    "    return self._ergebnis\n",
    "\n",
    "Szenario.ergebnis = ergebnis"
   ]
  },
  {
   "cell_type": "markdown",
   "metadata": {
    "slideshow": {
     "slide_type": "subslide"
    }
   },
   "source": [
    "**Genauso** gehen wir für den Zugriff auf die **Parameter** des Wonderlands vor. Hier wird das spätere Attribut allerdings in **Großbuchstaben** geschrieben, es handelt sich ja um **Konstanten**."
   ]
  },
  {
   "cell_type": "code",
   "execution_count": 49,
   "metadata": {
    "slideshow": {
     "slide_type": "-"
    }
   },
   "outputs": [
    {
     "data": {
      "text/plain": [
       "<__main__.ParameterSet at 0x1d8e8531198>"
      ]
     },
     "execution_count": 49,
     "metadata": {},
     "output_type": "execute_result"
    }
   ],
   "source": [
    "@property\n",
    "def PARAMETER(self):\n",
    "    return self._PS\n",
    "\n",
    "Wonderland.PARAMETER = PARAMETER\n",
    "Wonderland(dream_parameter).PARAMETER"
   ]
  },
  {
   "cell_type": "markdown",
   "metadata": {},
   "source": [
    "## Nun funktioniert unser Wonderland schon so wie in der zweiten Einheit präsentiert!"
   ]
  },
  {
   "cell_type": "code",
   "execution_count": 50,
   "metadata": {},
   "outputs": [
    {
     "data": {
      "text/plain": [
       "[<matplotlib.lines.Line2D at 0x1d8f22e5518>,\n",
       " <matplotlib.lines.Line2D at 0x1d8f22e5668>,\n",
       " <matplotlib.lines.Line2D at 0x1d8f22e57b8>]"
      ]
     },
     "execution_count": 50,
     "metadata": {},
     "output_type": "execute_result"
    },
    {
     "data": {
      "image/png": "[encoded data removed]",
      "text/plain": [
       "<Figure size 432x288 with 1 Axes>"
      ]
     },
     "metadata": {
      "needs_background": "light"
     },
     "output_type": "display_data"
    }
   ],
   "source": [
    "import matplotlib.pyplot as plt\n",
    "%matplotlib inline\n",
    "\n",
    "plt.plot([(x,z,p) for x,_,z,p in Szenario(Wonderland(horror_parameter)).ergebnis])"
   ]
  },
  {
   "cell_type": "markdown",
   "metadata": {
    "slideshow": {
     "slide_type": "slide"
    }
   },
   "source": [
    "<div class=\"alert alert-block alert-danger\">\n",
    "<h3>Übungsaufgabe: </h3>\n",
    "<p> \n",
    "Definiere zwei Objekte der Klasse <code>Wonderland</code> mit <strong>gleichen Parametern und Zustand</strong> und vergleiche sie mit <code>==</code>.\n",
    "Füge die <a href=\"https://docs.python.org/3/reference/datamodel.html#object.__eq__\"><strong>special Method</strong></a> <code>__eq__</code> hinzu, sodass Objekte vom Typ <code>Wonderland</code> als <strong>gleich</strong> gelten, wenn sie die selben Parameter haben!\n",
    "    </p>\n",
    "    <p>\n",
    "        <i>Tipp:</i> <code>__eq__</code> gibt <code>True</code> zurück wenn zwei Objekte gleich sein sollen, sonst <code>False</code>. <br>\n",
    "        <i>Tipp:</i> Beginne mit <code>def __eq__(self, other):</code>\n",
    "</div>"
   ]
  }
 ],
 "metadata": {
  "celltoolbar": "Slideshow",
  "kernelspec": {
   "display_name": "Python 3",
   "language": "python",
   "name": "python3"
  },
  "language_info": {
   "codemirror_mode": {
    "name": "ipython",
    "version": 3
   },
   "file_extension": ".py",
   "mimetype": "text/x-python",
   "name": "python",
   "nbconvert_exporter": "python",
   "pygments_lexer": "ipython3",
   "version": "3.7.7"
  },
  "rise": {
   "enable_chalkboard": true,
   "scroll": true,
   "theme": "serif"
  }
 },
 "nbformat": 4,
 "nbformat_minor": 2
}
