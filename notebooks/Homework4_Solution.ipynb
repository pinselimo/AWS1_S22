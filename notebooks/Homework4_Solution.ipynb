{
 "cells": [
  {
   "cell_type": "markdown",
   "metadata": {},
   "source": [
    "# Lösung der Hausaufgabe \\#4"
   ]
  },
  {
   "cell_type": "markdown",
   "metadata": {},
   "source": [
    "**Aufgabe 1**\n",
    "\n",
    "*1.5 Punkte*\n",
    "\n",
    "Schreibe eine Dict - Comprehension welche den Zahlen 170-220 (jeweils als Schlüsselwert) den Zustand mit diesem Index aus dem Wonderland-Ergebnis zuweist."
   ]
  },
  {
   "cell_type": "code",
   "execution_count": 1,
   "metadata": {},
   "outputs": [],
   "source": [
    "import wonderland as wl\n",
    "ergebnisse = wl.simulation(300)\n",
    "\n",
    "d = {k:ergebnisse[k] for k in range(170,221)}"
   ]
  },
  {
   "cell_type": "markdown",
   "metadata": {},
   "source": [
    "Eine Dict - Comprehension hat zB die Form ```{f(k):g(v) for k,v in zip(keys, values) if True}```. Wichtig sind: Geschwungene Klammern und der Doppelpunkt, welcher Schlüsselwerte (Keys) von zugewiesenen Werten (Values) trennt."
   ]
  },
  {
   "cell_type": "markdown",
   "metadata": {},
   "source": [
    "**Aufgabe 2**\n",
    "\n",
    "*2 Punkte*\n",
    "\n",
    " - Wie groß ist die **größte** Differenz welche sich in der Wirtschaft ergibt? (als Absolutwert)\n",
    "\n",
    " - Wie groß ist die **größte** Differenz bei der Umwelt? (als Absolutwert)"
   ]
  },
  {
   "cell_type": "code",
   "execution_count": 2,
   "metadata": {},
   "outputs": [
    {
     "data": {
      "text/plain": [
       "[0.01995199999999997,\n",
       " 0.020399040000000035,\n",
       " 0.020807020799999965,\n",
       " 0.021223161216000097,\n",
       " 0.02164762444032009,\n",
       " 0.02208057692912635,\n",
       " 0.022522188467708926,\n",
       " 0.02297263223706314,\n",
       " 0.02343208488180437,\n",
       " 0.023900726579440423]"
      ]
     },
     "execution_count": 2,
     "metadata": {},
     "output_type": "execute_result"
    }
   ],
   "source": [
    "# Erklärung zu Differenzen\n",
    "differenzen_umwelt = list()\n",
    "for t in range(0,300-1):\n",
    "    x,y,z,p = ergebnisse[t]\n",
    "    x_neu, y_neu, z_neu, p_neu = ergebnisse[t+1]\n",
    "    \n",
    "    # Die Differenzen werden gebildet aus dem Zustand [t] und dem Zustand [t+1]\n",
    "    #\n",
    "    # Damit erhält man immer den Unterschied von einem Zeitpunkt zum nächsten.\n",
    "    differenzen_umwelt.append(\n",
    "        abs(y_neu-y)\n",
    "    )\n",
    "differenzen_umwelt[:10]"
   ]
  },
  {
   "cell_type": "markdown",
   "metadata": {},
   "source": [
    "Eine elegantere Weise [t] und [t+1] anzuschreiben, ermöglicht uns die zip-Funktion.\n",
    "~~~\n",
    "zip(as,bs) = [(a1,b1),(a2,b2)...(an,bn)]\n",
    "\n",
    "zip(as, as[1:]) = [(a1,a2), (a2,b3) ... (an-1, bn)]\n",
    "~~~"
   ]
  },
  {
   "cell_type": "code",
   "execution_count": 3,
   "metadata": {},
   "outputs": [
    {
     "name": "stdout",
     "output_type": "stream",
     "text": [
      "0.22149008654701208\n",
      "4.134297599146592\n"
     ]
    }
   ],
   "source": [
    "# Aufgabe 2\n",
    "\n",
    "differenzen_umwelt = [abs(b[2]-a[2]) for a,b in zip(ergebnisse, ergebnisse[1:])]\n",
    "\n",
    "# Die Max-Funktion berechnet das Maximum der Werte einer Kollektion:\n",
    "print(\n",
    "    max(differenzen_umwelt)\n",
    ")\n",
    "\n",
    "# Analog für Wirtschaft (-> Index ist jetzt 1 vgl \"ergebnisse[0]\")\n",
    "differenzen_wirtschaft = [abs(b[1]-a[1]) for a,b in zip(ergebnisse, ergebnisse[1:])]\n",
    "\n",
    "# Alternativ mit einer Faltung (reduce):\n",
    "from functools import reduce\n",
    "\n",
    "def maximum(a,b):\n",
    "    if a > b:\n",
    "        return a\n",
    "    else:\n",
    "        return b\n",
    "\n",
    "# Eine Faltung (reduce) ersetzt die Beistriche in einer Liste mit einer Funktion\n",
    "# welche 2 Argumente (die Elemente links und rechts des Beistrichs) entgegennimmt\n",
    "# und 1 Element als Resultat zurückgibt. Dies wird iterativ durchgeführt bis\n",
    "# nur noch 1 Element übrig bleibt: In diesem Fall das Maximum.\n",
    "print(\n",
    "    reduce(maximum, differenzen_wirtschaft)\n",
    ")"
   ]
  },
  {
   "cell_type": "markdown",
   "metadata": {},
   "source": [
    "**Aufgabe 3**\n",
    "\n",
    "*3 Punkte*\n",
    "\n",
    " - Erstelle eine Generator-Funktion die Zahlen welche durch 3 teilbar sind generiert. Starten soll der so erstellte Generator mit 3.\n",
    "\n",
    " - Erstelle eine Generator-Funktion welche Primzahlen generiert. *Tipp:* Fang bei 2 an und speichere alle bereits generierten Primzahlen in einer Liste. Überprüfe bei jeder neuen Zahl ob sie sich durch eine bereits generierte Zahl teilen lässt.\n"
   ]
  },
  {
   "cell_type": "code",
   "execution_count": 6,
   "metadata": {},
   "outputs": [],
   "source": [
    "# Aufgabe 3\n",
    "\n",
    "# Generator mit durch 3 teilbaren Zahlen\n",
    "from itertools import count\n",
    "\n",
    "# count() -> (1,2,3,4 ... )\n",
    "# count(3) -> (3,4,5 ... )\n",
    "# count(3,2) -> (3,5,7, ... )\n",
    "\n",
    "# Wie List-Comprehension nur mit runden Klammern:\n",
    "gen = (x for x in count(3) if x%3 == 0)\n",
    "\n",
    "\n",
    "# Generator mit Primzahlen\n",
    "# Variante 1.a:\n",
    "# Hier wird is_prime im funktionalen Stil programmiert:\n",
    "def is_prime(n):    \n",
    "    \"\"\"Überprüft ob ``n`` eine Primzahl ist.\"\"\"\n",
    "    return not any(n%x == 0 for x in range(2,n))\n",
    "\n",
    "# Variante 1.b:\n",
    "# Hier wird is_prime im imperativen Stil programmiert:\n",
    "def is_prime_imperative(n):\n",
    "    \"\"\"Überprüft ob ``n`` eine Primzahl ist.\"\"\"\n",
    "    for x in range(2,n):\n",
    "        if n%x == 0:\n",
    "            return False\n",
    "    else:\n",
    "        return True\n",
    "    \n",
    "# Variante 1: Ein Generator welcher mit is_prime filtert:\n",
    "gen2 = (x for x in count(2) if is_prime(x))\n",
    "\n",
    "\n",
    "# Alternativ wie vorgeschlagen:\n",
    "def primes():\n",
    "    \"\"\"Generiert Primzahlen\"\"\"\n",
    "    primes_known = list() # Leere Liste da noch keine Primzahlen bekannt.\n",
    "    # Ab zwei zählen wir (theoretisch unendlich) in 1er Schritten aufwärts:\n",
    "    for x in count(2):\n",
    "        # Falls unser x durch keine bekannte Primzahl teilbar ist, ist es eine Primzahl\n",
    "        if not any(x%p == 0 for p in primes_known):\n",
    "            # Wir speichern sie also\n",
    "            primes_known.append(x)\n",
    "            # und haben eine neue Primzahl generiert\n",
    "            yield x"
   ]
  },
  {
   "cell_type": "markdown",
   "metadata": {},
   "source": [
    "Ausführen der Generatoren. Die ```zip``` - Funktion hört auf nachdem die **kürzeste** Kollektion beendet ist, damit können wir also 10 Elemente aus einem theoretisch unendlich langen Generator holen:"
   ]
  },
  {
   "cell_type": "code",
   "execution_count": 7,
   "metadata": {},
   "outputs": [
    {
     "name": "stdout",
     "output_type": "stream",
     "text": [
      "3\n",
      "6\n",
      "9\n",
      "12\n",
      "15\n",
      "18\n",
      "21\n",
      "24\n",
      "27\n",
      "30\n"
     ]
    }
   ],
   "source": [
    "for x,_ in zip(gen, range(10)):\n",
    "    print(x)"
   ]
  },
  {
   "cell_type": "code",
   "execution_count": 8,
   "metadata": {},
   "outputs": [
    {
     "name": "stdout",
     "output_type": "stream",
     "text": [
      "2\n",
      "3\n",
      "5\n",
      "7\n",
      "11\n",
      "13\n",
      "17\n",
      "19\n",
      "23\n",
      "29\n"
     ]
    }
   ],
   "source": [
    "for x,_ in zip(gen2, range(10)):\n",
    "    print(x)"
   ]
  },
  {
   "cell_type": "code",
   "execution_count": 9,
   "metadata": {
    "scrolled": true
   },
   "outputs": [
    {
     "name": "stdout",
     "output_type": "stream",
     "text": [
      "2\n",
      "3\n",
      "5\n",
      "7\n",
      "11\n",
      "13\n",
      "17\n",
      "19\n",
      "23\n",
      "29\n"
     ]
    }
   ],
   "source": [
    "for x,_ in zip(primes(), range(10)):\n",
    "    print(x)"
   ]
  },
  {
   "cell_type": "markdown",
   "metadata": {},
   "source": [
    "Beispiele mit der Zip-Funktion:"
   ]
  },
  {
   "cell_type": "code",
   "execution_count": 8,
   "metadata": {},
   "outputs": [
    {
     "data": {
      "text/plain": [
       "[(1, 4), (2, 5), (3, 6), (4, 7)]"
      ]
     },
     "execution_count": 8,
     "metadata": {},
     "output_type": "execute_result"
    }
   ],
   "source": [
    "l1 = [1,2,3,4]\n",
    "l2 = [4,5,6,7]\n",
    "\n",
    "list(zip(l1,l2))"
   ]
  },
  {
   "cell_type": "code",
   "execution_count": 9,
   "metadata": {},
   "outputs": [
    {
     "name": "stdout",
     "output_type": "stream",
     "text": [
      "0 10 20\n",
      "1 11 21\n",
      "2 12 22\n",
      "3 13 23\n",
      "4 14 24\n",
      "5 15 25\n",
      "6 16 26\n",
      "7 17 27\n",
      "8 18 28\n",
      "9 19 29\n"
     ]
    }
   ],
   "source": [
    "for a,b,c in zip(range(10),range(10,20),range(20,30)):\n",
    "    print(a,b,c)"
   ]
  }
 ],
 "metadata": {
  "kernelspec": {
   "display_name": "Python 3",
   "language": "python",
   "name": "python3"
  },
  "language_info": {
   "codemirror_mode": {
    "name": "ipython",
    "version": 3
   },
   "file_extension": ".py",
   "mimetype": "text/x-python",
   "name": "python",
   "nbconvert_exporter": "python",
   "pygments_lexer": "ipython3",
   "version": "3.7.7"
  }
 },
 "nbformat": 4,
 "nbformat_minor": 4
}
