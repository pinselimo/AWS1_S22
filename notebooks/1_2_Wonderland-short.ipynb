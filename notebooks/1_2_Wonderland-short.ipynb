{
 "cells": [
  {
   "cell_type": "markdown",
   "metadata": {
    "slideshow": {
     "slide_type": "slide"
    }
   },
   "source": [
    "# Sanderson's Wonderland\n",
    "### Angewandte Systemwissenschaften I\n",
    "#### Python - Wonderland"
   ]
  },
  {
   "cell_type": "markdown",
   "metadata": {
    "slideshow": {
     "slide_type": "slide"
    }
   },
   "source": [
    "# Imports"
   ]
  },
  {
   "cell_type": "code",
   "execution_count": 1,
   "metadata": {
    "slideshow": {
     "slide_type": "-"
    }
   },
   "outputs": [],
   "source": [
    "from math import exp # Manche hatten darauf vergessen 'exp' explizit zu importieren\n",
    "# Wenn man 'import math' benutzen möchte, muss man \"math.exp\" schreiben, da man dann \n",
    "# nur 'math' in den Namespace einfügt und im Namespace 'math' sich 'exp' befindet.\n",
    "import matplotlib.pyplot as plt\n",
    "%matplotlib inline"
   ]
  },
  {
   "cell_type": "markdown",
   "metadata": {
    "slideshow": {
     "slide_type": "slide"
    }
   },
   "source": [
    "# Funktionen\n",
    "(ohne Umwelt)"
   ]
  },
  {
   "cell_type": "code",
   "execution_count": 2,
   "metadata": {
    "slideshow": {
     "slide_type": "-"
    }
   },
   "outputs": [],
   "source": [
    "def technologie(p): return p*(1.0-CHI)\n",
    "def wirtschaft(y,z): return y*(1.0+GAMMA-(GAMMA+ETA)*(1.0-z)**LAMBDA)\n",
    "def population(x,y,z): return x*(1.0+geburtenrate(y,z)-sterberate(y,z))\n",
    "def geburtenrate(y,z): e = y_strich(BETA,y,z); return BETA1 * (BETA2 - e/(1.0+e))\n",
    "def sterberate(y,z): e = y_strich(ALPHA,y,z); return DELTA1 * (DELTA2 - e/(1.0+e)) * (1.0 + DELTA3 * (1.0-z)**THETA)\n",
    "def y_strich(CONST,y,z): return exp(CONST * (y - umweltschutz(y,z)))\n",
    "def fluss_emissionen(x,y,z,p): c_strich = exp(EPSILON * umweltschutz(y,z) * x); return x*y*p - KAPPA * (c_strich/(1.0+c_strich) - 0.5)\n",
    "def umweltschutz(y,z): return PHI * (1.0-z)**MY * y"
   ]
  },
  {
   "cell_type": "markdown",
   "metadata": {
    "slideshow": {
     "slide_type": "slide"
    }
   },
   "source": [
    "# Parameter\n",
    "(```CHI = 0.01``` $\\rightarrow$ Environmentalist's Nightmare)"
   ]
  },
  {
   "cell_type": "code",
   "execution_count": 3,
   "metadata": {
    "slideshow": {
     "slide_type": "-"
    }
   },
   "outputs": [],
   "source": [
    "# Geburtenrate\n",
    "BETA1 = 0.04; BETA2 = 1.375; BETA = 0.16\n",
    "# Sterberate\n",
    "ALPHA = 0.18; DELTA1 = 0.01; DELTA2 = 2.5; DELTA3 = 4.0; THETA = 15.0\n",
    "# Wirtschaft\n",
    "GAMMA = 0.02; ETA = 0.1; LAMBDA = 2.0\n",
    "# Umwelt\n",
    "KAPPA = 2.0; EPSILON = 0.02; DELTA = 1.0; RHO = 2.0; OMEGA = 0.1; NY = 1.0\n",
    "# Umweltschutz\n",
    "PHI = 0.5; MY = 2.0\n",
    "# Technologie\n",
    "CHI = 0.01"
   ]
  },
  {
   "cell_type": "markdown",
   "metadata": {
    "slideshow": {
     "slide_type": "-"
    }
   },
   "source": [
    "# $\\chi = 0.01$"
   ]
  },
  {
   "cell_type": "markdown",
   "metadata": {
    "slideshow": {
     "slide_type": "slide"
    }
   },
   "source": [
    "# Umweltfunktion"
   ]
  },
  {
   "cell_type": "code",
   "execution_count": 4,
   "metadata": {
    "slideshow": {
     "slide_type": "-"
    }
   },
   "outputs": [],
   "source": [
    "def umwelt(x, y, z, p):\n",
    "    g = exp(DELTA*z**RHO - OMEGA*fluss_emissionen(x,y,z,p))\n",
    "    return z + NY * (z-z**2) * (g-1)"
   ]
  },
  {
   "cell_type": "markdown",
   "metadata": {},
   "source": [
    "# Simulation"
   ]
  },
  {
   "cell_type": "code",
   "execution_count": 5,
   "metadata": {},
   "outputs": [],
   "source": [
    "x_0 = y_0 = p_0 = 1.0\n",
    "z_0 = 0.98"
   ]
  },
  {
   "cell_type": "code",
   "execution_count": 6,
   "metadata": {},
   "outputs": [],
   "source": [
    "zustand_0 = (x_0, y_0, z_0, p_0)"
   ]
  },
  {
   "cell_type": "code",
   "execution_count": 7,
   "metadata": {},
   "outputs": [],
   "source": [
    "def simulation(years=300):\n",
    "    res = [zustand_0]\n",
    "    for year in range(1, years, 1): # 300 Jahre\n",
    "        # Zustand zum Zeitpunkt t entpacken\n",
    "        x_t, y_t, z_t, p_t = res[-1]\n",
    "        # Berechnung des Zustands in t+1\n",
    "        x_neu = population(x_t, y_t, z_t)\n",
    "        y_neu = wirtschaft(y_t, z_t)\n",
    "        z_neu = umwelt(x_t, y_t, z_t, p_t)\n",
    "        p_neu = technologie(p_t)\n",
    "        # Initialisierung des Zustand-Tupels in t+1\n",
    "        zustand_neu = (x_neu, y_neu, z_neu, p_neu)\n",
    "        # Speicherung des neuen Zustands\n",
    "        res.append(zustand_neu)\n",
    "    return res"
   ]
  },
  {
   "cell_type": "code",
   "execution_count": 8,
   "metadata": {},
   "outputs": [
    {
     "data": {
      "text/plain": [
       "[<matplotlib.lines.Line2D at 0x7fa8c4c94f10>,\n",
       " <matplotlib.lines.Line2D at 0x7fa8c4c94f40>,\n",
       " <matplotlib.lines.Line2D at 0x7fa8c4ca3fd0>]"
      ]
     },
     "execution_count": 8,
     "metadata": {},
     "output_type": "execute_result"
    },
    {
     "data": {
      "image/png": "[encoded data removed]",
      "text/plain": [
       "<Figure size 432x288 with 1 Axes>"
      ]
     },
     "metadata": {
      "needs_background": "light"
     },
     "output_type": "display_data"
    }
   ],
   "source": [
    "plt.plot([(x,z,p) for x,y,z,p in simulation()])"
   ]
  },
  {
   "cell_type": "code",
   "execution_count": null,
   "metadata": {},
   "outputs": [],
   "source": []
  }
 ],
 "metadata": {
  "celltoolbar": "Slideshow",
  "kernelspec": {
   "display_name": "Python 3 (ipykernel)",
   "language": "python",
   "name": "python3"
  },
  "language_info": {
   "codemirror_mode": {
    "name": "ipython",
    "version": 3
   },
   "file_extension": ".py",
   "mimetype": "text/x-python",
   "name": "python",
   "nbconvert_exporter": "python",
   "pygments_lexer": "ipython3",
   "version": "3.9.6"
  },
  "rise": {
   "enable_chalkboard": true,
   "scroll": true,
   "theme": "serif"
  }
 },
 "nbformat": 4,
 "nbformat_minor": 2
}
