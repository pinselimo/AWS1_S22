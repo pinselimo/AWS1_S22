{
 "cells": [
  {
   "cell_type": "markdown",
   "metadata": {
    "colab_type": "text",
    "id": "z9Q2C3peV6t5",
    "slideshow": {
     "slide_type": "slide"
    }
   },
   "source": [
    "# Python 101\n",
    "### Angewandte Systemwissenschaften I\n",
    "#### Gruppe Plakolb\n",
    "Einheit 1 / 10"
   ]
  },
  {
   "cell_type": "markdown",
   "metadata": {
    "colab_type": "text",
    "id": "1616C0BBV6t5",
    "slideshow": {
     "slide_type": "subslide"
    }
   },
   "source": [
    "# Semesterplan\n",
    "---\n",
    "0. Anaconda und Pip\n",
    "1. **Einführung in Python**\n",
    "2. Matplotlib: Eine Einführung ins Wonderland - Modell\n",
    "3. Jupyter-Notebooks: Wonderland in Python\n",
    "4. Funktionale Programmierung & Python-Module\n",
    "5. Python-Pakete und Workflow\n",
    "6. Agenten-basierte Modellierung\n",
    "7. Objekt-orientierte Programmierung \n",
    "8. Animationen zur Modellentwicklung\n",
    "9. Multiprocessing & Sensitivity Analysis\n",
    "10. Projektpräsentationen"
   ]
  },
  {
   "cell_type": "markdown",
   "metadata": {
    "colab_type": "text",
    "id": "0yYp4GV6V6t6",
    "slideshow": {
     "slide_type": "subslide"
    }
   },
   "source": [
    "## Inhalt\n",
    "+ Programmiergrundlagen\n",
    "+ Python-Einleitung\n",
    "+ Operatoren\n",
    "+ Conditionals\n",
    "+ Funktionen\n",
    "+ Imports\n",
    "+ Namespaces\n",
    "+ Rekursion\n",
    "+ While-Schleifen\n",
    "+ Kollektionen\n",
    "+ For-Schleifen\n",
    "+ IPython"
   ]
  },
  {
   "cell_type": "markdown",
   "metadata": {
    "colab_type": "text",
    "id": "nCNBTaYSV6t7",
    "slideshow": {
     "slide_type": "slide"
    }
   },
   "source": [
    "## Warum brauchen wir Programmiersprachen?"
   ]
  },
  {
   "cell_type": "markdown",
   "metadata": {
    "colab_type": "text",
    "id": "9-8-6miAV6t8",
    "slideshow": {
     "slide_type": "fragment"
    }
   },
   "source": [
    "+ Computer 'verstehen' nur binären Code, also 0-er & 1-er \\\n",
    "  Der Befehlscode ```1 0 0 0 0 s s s``` sagt zB dem Intel 8008 Prozessor, \\\n",
    "  dass er die binäre Zahl ```s s s``` zum Wert in seinem Register addieren soll.\n",
    "  "
   ]
  },
  {
   "cell_type": "markdown",
   "metadata": {
    "colab_type": "text",
    "id": "DVcnt8z2V6t9",
    "slideshow": {
     "slide_type": "fragment"
    }
   },
   "source": [
    "+ Ein **Assembler** kann uns für diese Computersprache ein anderes Vokabular geben: \\\n",
    "  ```ADD s``` wird vom Intel 8008 Assembler zu ```1 0 0 0 0 s s s``` übersetzt. \\\n",
    "  ```ADD 3``` wird also zu ```1 0 0 0 0 0 1 1``` und addiert 3 zum Wert im Register. "
   ]
  },
  {
   "cell_type": "markdown",
   "metadata": {
    "colab_type": "text",
    "id": "N_HfB6a4V6t9",
    "slideshow": {
     "slide_type": "subslide"
    }
   },
   "source": [
    "+ Ein **Compiler** kann von einer Sprache wie zB C oder C++ in die binäre Sprache übersetzen. \\\n",
    "  Man nennt diesen Vorgang **kompilieren**. \\\n",
    "  Der Compiler tausch also nicht nur einfach die Vokabeln aus, sondern übersetzt auch \\\n",
    "  grammatikalische Unterschiede. Die sogenannte Syntax. \\\n",
    "  \\\n",
    "  Das Ergebnis ist dann eine **Binärdatei**. Auf Windows ist eine ausführbare Binärdatei zB ```Internet Explorer.exe```"
   ]
  },
  {
   "cell_type": "markdown",
   "metadata": {
    "colab_type": "text",
    "id": "uh0WUJjIV6t-",
    "slideshow": {
     "slide_type": "subslide"
    }
   },
   "source": [
    "+ Ein **Interpreter** übersetzt nicht mehr ein ganzes Programm, sondern interpretiert Zeile für Zeile. \\\n",
    "  Dies abstrahiert noch etwas mehr vom eigentlichen, binären Computercode. \\\n",
    "  **Python** wird oft als interpretierte Sprache bezeichnet. Das Program ```python``` ist der zugehörige Interpreter."
   ]
  },
  {
   "cell_type": "markdown",
   "metadata": {
    "colab_type": "text",
    "id": "rXvDZK4bV6uA",
    "slideshow": {
     "slide_type": "slide"
    }
   },
   "source": [
    "## Python-Einleitung\n",
    "\n",
    "Den Python-Interpreter startet man mit dem Konsolenbefehl ```python```. \\\n",
    "Um Anaconda's Python zu benutzen, öffnet man die Anaconda-Shell:"
   ]
  },
  {
   "cell_type": "markdown",
   "metadata": {
    "slideshow": {
     "slide_type": "fragment"
    }
   },
   "source": [
    "+ Windows: ```[Win]```-Taste drücken und dann \"Anaconda\" eingeben und die \"Anaconda Powershell\" auswählen."
   ]
  },
  {
   "cell_type": "markdown",
   "metadata": {
    "slideshow": {
     "slide_type": "fragment"
    }
   },
   "source": [
    "+ macOS: In der Spotlight-Suche (Tastaturbefehl: ```[CMD] + [Leer]```) \"Terminal\" eingeben und auswählen."
   ]
  },
  {
   "cell_type": "markdown",
   "metadata": {
    "slideshow": {
     "slide_type": "fragment"
    }
   },
   "source": [
    "+ Linux: Den Terminal öffnen."
   ]
  },
  {
   "cell_type": "markdown",
   "metadata": {
    "slideshow": {
     "slide_type": "-"
    }
   },
   "source": [
    "Die Kommandozeile sollte nun mit ```(base)``` beginnen."
   ]
  },
  {
   "cell_type": "markdown",
   "metadata": {},
   "source": [
    "<div class=\"alert alert-block alert-info\">\n",
    "<h3>Tipp: Anaconda initialisieren</h3>\n",
    "<p>\n",
    "    Du möchtest die <code>conda</code>-Befehle auch in der normalen Powershell oder einer anderen Shell benutzen können? <br>\n",
    "    <code>conda activate</code> funktioniert nicht, weil Anaconda nicht initialisiert ist? <br>\n",
    "    <br>\n",
    "    Mit <code>conda init</code> kannst du die Anaconda initialisieren. Für die Powershell lautet der Befehl dann zB <code>conda init powershell</code>.\n",
    "    </p>\n",
    "    <p>\n",
    "    <b>Achtung:</b> Oft benötigt dieser Befehl Administratorrechte!\n",
    "    </p>\n",
    "</div>"
   ]
  },
  {
   "cell_type": "markdown",
   "metadata": {
    "colab_type": "text",
    "id": "1h0j3fpHV6uA"
   },
   "source": [
    "Python kann man benutzen wie einen **Taschenrechner**,\n",
    "einfach mir einfachen Grundrechenarten ausprobieren:"
   ]
  },
  {
   "cell_type": "code",
   "execution_count": 1,
   "metadata": {
    "colab": {
     "base_uri": "https://localhost:8080/",
     "height": 34
    },
    "colab_type": "code",
    "executionInfo": {
     "elapsed": 775,
     "status": "ok",
     "timestamp": 1570621615205,
     "user": {
      "displayName": "Simon Pi",
      "photoUrl": "https://lh3.googleusercontent.com/a-/AAuE7mDuZdwBZoQryBTqBNUgN91JKtM0IKNciPP1UIkstCk=s64",
      "userId": "10986297225409594266"
     },
     "user_tz": -120
    },
    "id": "cff2915VV6uB",
    "outputId": "f4125d55-ae13-4139-d3da-d7a2003028d4"
   },
   "outputs": [
    {
     "data": {
      "text/plain": [
       "7"
      ]
     },
     "execution_count": 1,
     "metadata": {},
     "output_type": "execute_result"
    }
   ],
   "source": [
    "1+6"
   ]
  },
  {
   "cell_type": "markdown",
   "metadata": {
    "colab_type": "text",
    "id": "gBUlyr02V6uE"
   },
   "source": [
    "**Kommentare** werden vom Python Interpreter einfach ignoriert. Sie beginnen mit einem ```#```:"
   ]
  },
  {
   "cell_type": "code",
   "execution_count": 2,
   "metadata": {
    "colab": {},
    "colab_type": "code",
    "id": "FpIRtyrTV6uF"
   },
   "outputs": [],
   "source": [
    "# Kommentare beginnen mit einer Raute (Hashtag): #"
   ]
  },
  {
   "cell_type": "markdown",
   "metadata": {
    "colab_type": "text",
    "id": "yAPkrITjV6uJ"
   },
   "source": [
    "## Typen\n",
    "Daten welche man in Python eingibt, werden vom Interpreter im Speicher abgelegt. \\\n",
    "Vorerst ist wichtig, dass sie dabei einen **Typ zugewiesen** bekommen."
   ]
  },
  {
   "cell_type": "markdown",
   "metadata": {
    "colab_type": "text",
    "id": "kbX8Vnw9V6uK"
   },
   "source": [
    "Dieser Typ lässt sich mit der **Funktion** ```type``` abrufen. \\\n",
    "Den Typ ```str``` für Buchstaben (Strings) kennen wir nun schon:"
   ]
  },
  {
   "cell_type": "code",
   "execution_count": 3,
   "metadata": {
    "colab": {},
    "colab_type": "code",
    "id": "xmcZJ3HwV6uK",
    "outputId": "5bd5ef47-cafa-44e6-a80b-04d2c2db9839"
   },
   "outputs": [
    {
     "data": {
      "text/plain": [
       "(str, str)"
      ]
     },
     "execution_count": 3,
     "metadata": {},
     "output_type": "execute_result"
    }
   ],
   "source": [
    "type('abc'), type( \"Python\" ) # Strings werden von ' oder \" Zeichen umfasst"
   ]
  },
  {
   "cell_type": "markdown",
   "metadata": {
    "colab_type": "text",
    "id": "wLCmehbHV6uM"
   },
   "source": [
    "**Ganzzahlen** bekommen den Typ ```int``` (Englisch: Ganzzahl = Integer) zugewiesen, \\\n",
    "**Gleitkommazahlen** werden als ```float``` (Englisch: Floating Point) abgelegt."
   ]
  },
  {
   "cell_type": "code",
   "execution_count": 4,
   "metadata": {
    "colab": {},
    "colab_type": "code",
    "id": "kurAh3glV6uN",
    "outputId": "9aea3ba6-594b-4762-a5d9-947664c2cb4d"
   },
   "outputs": [
    {
     "data": {
      "text/plain": [
       "(True, float)"
      ]
     },
     "execution_count": 4,
     "metadata": {},
     "output_type": "execute_result"
    }
   ],
   "source": [
    "type( 10 )==int, type( 1.0 )"
   ]
  },
  {
   "cell_type": "markdown",
   "metadata": {
    "colab_type": "text",
    "id": "I4zR6_S8V6uP"
   },
   "source": [
    "Für Werte die entweder **Wahr** (```True```) oder **Falsch** (```False```) sein können, benutzen wir ```bool```s (aus der *Bool'schen Algebra*):"
   ]
  },
  {
   "cell_type": "code",
   "execution_count": 5,
   "metadata": {
    "colab": {},
    "colab_type": "code",
    "id": "iiVJfz4SV6uP",
    "outputId": "80bee495-c2e6-41af-e6b3-e557501b66eb"
   },
   "outputs": [
    {
     "data": {
      "text/plain": [
       "bool"
      ]
     },
     "execution_count": 5,
     "metadata": {},
     "output_type": "execute_result"
    }
   ],
   "source": [
    "type( True )"
   ]
  },
  {
   "cell_type": "markdown",
   "metadata": {
    "colab_type": "text",
    "id": "B9R4mk63V6uR"
   },
   "source": [
    "## Operatoren\n",
    "Operatoren sind Zeichen, die zwischen zwei Werte gesetzt eine Funktion ausführen.\n",
    "+ Vergleichsoperatoren\n",
    "+ Mathematische Operatoren\n",
    "+ Binäre Operatoren"
   ]
  },
  {
   "cell_type": "markdown",
   "metadata": {
    "colab_type": "text",
    "id": "I9Kn8D6_V6uS"
   },
   "source": [
    "Das ```==``` dient als Vergleich zweier Bool'scher Werte, oder auch für Ganzzahlen. \\\n",
    "Es gibt auch ```>=```, ```<=```, ```!=```, ```<``` und ```>```\n",
    "\n",
    "Alle folgenden Beispiele ergeben ```True```:"
   ]
  },
  {
   "cell_type": "code",
   "execution_count": 6,
   "metadata": {
    "colab": {},
    "colab_type": "code",
    "id": "u5scTKSlV6uS"
   },
   "outputs": [
    {
     "data": {
      "text/plain": [
       "(True, True, True, True, True, True, True, True)"
      ]
     },
     "execution_count": 6,
     "metadata": {},
     "output_type": "execute_result"
    }
   ],
   "source": [
    "1 != 2    ,    1 > 0    ,    True == 1    , \\\n",
    "\\\n",
    "0 != True    ,    1 > False    ,    -2 < False    , \\\n",
    "\\\n",
    "True and True    ,   False or True"
   ]
  },
  {
   "cell_type": "markdown",
   "metadata": {
    "colab_type": "text",
    "id": "J_ulcnUKV6uU"
   },
   "source": [
    "Alle folgenden Beispiele ergeben ```False```:"
   ]
  },
  {
   "cell_type": "code",
   "execution_count": 7,
   "metadata": {
    "colab": {},
    "colab_type": "code",
    "id": "zARTnaYBV6uU"
   },
   "outputs": [
    {
     "data": {
      "text/plain": [
       "False"
      ]
     },
     "execution_count": 7,
     "metadata": {},
     "output_type": "execute_result"
    }
   ],
   "source": [
    "# Alle folgenden Beispiele ergeben False!\n",
    "not True\n",
    "False and True\n",
    "False or False"
   ]
  },
  {
   "cell_type": "markdown",
   "metadata": {
    "colab_type": "text",
    "id": "07VnF5zmV6uW"
   },
   "source": [
    "Einfach ausprobieren:"
   ]
  },
  {
   "cell_type": "code",
   "execution_count": 8,
   "metadata": {
    "colab": {},
    "colab_type": "code",
    "id": "_XjvTuazV6uX"
   },
   "outputs": [
    {
     "data": {
      "text/plain": [
       "True"
      ]
     },
     "execution_count": 8,
     "metadata": {},
     "output_type": "execute_result"
    }
   ],
   "source": [
    "1 > False"
   ]
  },
  {
   "cell_type": "markdown",
   "metadata": {
    "colab_type": "text",
    "id": "ZJBK1UXRV6uZ"
   },
   "source": [
    "<div class=\"alert alert-block alert-info\">\n",
    "<h3>Tipp: Vergleich von 'float's</h3>\n",
    "  <p>  \n",
    "Die Darstellung von Zahlen des Typs <code>float</code> ist sehr genau. <br>\n",
    "Oft will man aber, dass <code>17.00000 == 17.00001</code> trotzdem <code>True</code> ergibt. <br>\n",
    "Deshalb prüft man bei <code>float</code>s besser: <code>a > b-i and a < b+i</code> wobei <code>i</code> das Toleranzintervall darstellt.\n",
    "      </p>\n",
    "</div>"
   ]
  },
  {
   "cell_type": "markdown",
   "metadata": {
    "colab_type": "text",
    "id": "Wzh5vdzbV6uZ"
   },
   "source": [
    "**Ganzzahlen und Gleitkommazahlen** lassen sich  **in mathematischen Operationen mischen**,\\\n",
    "das Ergebnis ist dann (fast) immer ein ```float```.\n",
    "\n",
    "Folgende Beispiele funktionieren so:"
   ]
  },
  {
   "cell_type": "code",
   "execution_count": 9,
   "metadata": {
    "colab": {},
    "colab_type": "code",
    "id": "8ekhskdbV6ua",
    "outputId": "6dcf93b9-d068-4c46-80fc-80772817cf0b"
   },
   "outputs": [
    {
     "data": {
      "text/plain": [
       "1"
      ]
     },
     "execution_count": 9,
     "metadata": {},
     "output_type": "execute_result"
    }
   ],
   "source": [
    "1 + 2.0 # float\n",
    "2.0 * 3 # float\n",
    "1 / 3 # float -> auch eine Operation auf zwei Ganzzahlen kann eine float ergeben\n",
    "1 // 3 # int -> \"floor divide\" runded auf die nächste Ganzzahl ab\n",
    "6 // 5.0 # float -> rundet trotzdem weiter ab\n",
    "6%5 # int -> Gibt den Rest der Division 6/5, also 1 "
   ]
  },
  {
   "cell_type": "markdown",
   "metadata": {
    "colab_type": "text",
    "id": "a_BX3NlJV6ub"
   },
   "source": [
    "Einfach ausprobieren:"
   ]
  },
  {
   "cell_type": "code",
   "execution_count": 10,
   "metadata": {
    "colab": {},
    "colab_type": "code",
    "id": "qOTNUKJPV6uc"
   },
   "outputs": [
    {
     "data": {
      "text/plain": [
       "3.0"
      ]
     },
     "execution_count": 10,
     "metadata": {},
     "output_type": "execute_result"
    }
   ],
   "source": [
    "1 + 2.0"
   ]
  },
  {
   "cell_type": "markdown",
   "metadata": {
    "colab_type": "text",
    "id": "5Hwg-spXV6ug"
   },
   "source": [
    "Mit der Funktion ```print``` kann man sich Werte ausgeben lassen:"
   ]
  },
  {
   "cell_type": "code",
   "execution_count": 11,
   "metadata": {
    "colab": {},
    "colab_type": "code",
    "id": "uDHENZj3V6uh",
    "outputId": "ec4e46de-7f5d-49e4-9743-58096e308f89"
   },
   "outputs": [
    {
     "name": "stdout",
     "output_type": "stream",
     "text": [
      "True\n"
     ]
    },
    {
     "data": {
      "text/plain": [
       "'Ende der Mini-Einleitung'"
      ]
     },
     "execution_count": 11,
     "metadata": {},
     "output_type": "execute_result"
    }
   ],
   "source": [
    "print(False > -1)\n",
    "\n",
    "# Das letzte Element einer Zelle wird immer automatisch ausgegeben\n",
    "\"Ende der Mini-Einleitung\""
   ]
  },
  {
   "cell_type": "markdown",
   "metadata": {
    "colab_type": "text",
    "id": "eTNCSRnrV6uj"
   },
   "source": [
    "<div class=\"alert alert-block alert-info\">\n",
    "<h3>Tipp: Nützliche Funktionen um Python besser kennen zu lernen und zu verstehen</h3>\n",
    "    <p>\n",
    "Mit der Funktion <code>dir</code> lassen sich alle Methoden welche man auf einem Objekt aufrufen kann anzeigen:\n",
    "    </p>\n",
    "</div>"
   ]
  },
  {
   "cell_type": "code",
   "execution_count": 12,
   "metadata": {
    "colab": {},
    "colab_type": "code",
    "id": "Y1MFwcOwV6ul"
   },
   "outputs": [
    {
     "name": "stdout",
     "output_type": "stream",
     "text": [
      "['__add__', '__class__', '__contains__', '__delattr__', '__delitem__', '__dir__', '__doc__', '__eq__', '__format__', '__ge__', '__getattribute__', '__getitem__', '__gt__', '__hash__', '__iadd__', '__imul__', '__init__', '__init_subclass__', '__iter__', '__le__', '__len__', '__lt__', '__mul__', '__ne__', '__new__', '__reduce__', '__reduce_ex__', '__repr__', '__reversed__', '__rmul__', '__setattr__', '__setitem__', '__sizeof__', '__str__', '__subclasshook__', 'append', 'clear', 'copy', 'count', 'extend', 'index', 'insert', 'pop', 'remove', 'reverse', 'sort']\n"
     ]
    }
   ],
   "source": [
    "print(dir(list()))"
   ]
  },
  {
   "cell_type": "markdown",
   "metadata": {
    "colab_type": "text",
    "id": "w5lzsC2NV6uo"
   },
   "source": [
    "<div class=\"alert alert-block alert-info\">\n",
    "    <h3>Tipp: Nützliche Funktionen der <b>QT Console</b>, von <b>Jupyter</b> und anderen IPython-Anwendungen</h3>\n",
    "    <p>\n",
    "Alternativ kann man den Cursor auch einfach hinter <code>list().</code> oder eine Liste setzen und <br>\n",
    "dann die <code>Tabulator</code> - Taste drücken!\n",
    "</p>\n",
    "    <p>\n",
    "Drückt man die <code>Shift</code> - und die <code>Tabulator</code> - Taste gleichzeitig, wird einem auch ein kleines Hilfsfenster angezeigt. <br>\n",
    "        Dieses ist angepasst daran, wo man sich gerade mit dem Cursor befindet. Probier es aus!</p>\n",
    "</div>"
   ]
  },
  {
   "cell_type": "markdown",
   "metadata": {
    "colab_type": "text",
    "id": "zLTAv8LxV6up"
   },
   "source": [
    "<div class=\"alert alert-block alert-info\">\n",
    "    <h3>Tipp: Mit 'dis' den Interpreter erkunden</h3>\n",
    "    <p>\n",
    "Die Funktion <code>dis</code> zeigt euch, was im Hintergrund in einer Python-Funktion passiert. <br>\n",
    "Um eine Funktion zu erzeugen kann man einfach <code>lambda : </code> vor alles schreiben,\n",
    "was man zerlegt angezeigt haben will:\n",
    "    </p>\n",
    "</div>"
   ]
  },
  {
   "cell_type": "code",
   "execution_count": 13,
   "metadata": {
    "colab": {},
    "colab_type": "code",
    "id": "5qVz0sC_V6uq"
   },
   "outputs": [
    {
     "name": "stdout",
     "output_type": "stream",
     "text": [
      "  2           0 LOAD_GLOBAL              0 (print)\n",
      "              2 LOAD_CONST               1 ('Hallo')\n",
      "              4 CALL_FUNCTION            1\n",
      "              6 RETURN_VALUE\n",
      "None\n",
      "\n",
      "  4           0 LOAD_CONST               1 (4)\n",
      "              2 RETURN_VALUE\n",
      "None\n"
     ]
    }
   ],
   "source": [
    "from dis import dis\n",
    "print( dis(lambda : print('Hallo')) )\n",
    "print( \"\" )  # Leerzeile\n",
    "print( dis(lambda : 1+3) )\n",
    "\n",
    "#eval(\"abs\")"
   ]
  },
  {
   "cell_type": "markdown",
   "metadata": {
    "colab_type": "text",
    "id": "-jeydYxdV6ur"
   },
   "source": [
    "## Abfalldaten importieren\n",
    "\n",
    "Mit der Software - Bibliothek ```pandas``` können wir Datensätze importieren, durchsuchen und bearbeiten. \\\n",
    "Wir importieren die Abfalldaten der Steiermark für das Jahr 2016 aus einer ```.csv``` - Datei (**C**omma **S**eparated **V**alues) um damit in Folge **Python zu üben**."
   ]
  },
  {
   "cell_type": "code",
   "execution_count": 14,
   "metadata": {
    "colab": {},
    "colab_type": "code",
    "id": "zDavdOg_V6us",
    "outputId": "21d7ff4e-4512-46a1-e783-d622b2c2eff6"
   },
   "outputs": [
    {
     "data": {
      "text/html": [
       "<div>\n",
       "<style scoped>\n",
       "    .dataframe tbody tr th:only-of-type {\n",
       "        vertical-align: middle;\n",
       "    }\n",
       "\n",
       "    .dataframe tbody tr th {\n",
       "        vertical-align: top;\n",
       "    }\n",
       "\n",
       "    .dataframe thead th {\n",
       "        text-align: right;\n",
       "    }\n",
       "</style>\n",
       "<table border=\"1\" class=\"dataframe\">\n",
       "  <thead>\n",
       "    <tr style=\"text-align: right;\">\n",
       "      <th></th>\n",
       "      <th>Jahr</th>\n",
       "      <th>VKZ</th>\n",
       "      <th>Abfallwirtschaftsverband</th>\n",
       "      <th>GKZ_2015</th>\n",
       "      <th>Gemeindename</th>\n",
       "      <th>EW_Gde</th>\n",
       "      <th>HFR</th>\n",
       "      <th>Abfallgruppen</th>\n",
       "      <th>FNr</th>\n",
       "      <th>Abfallfraktion</th>\n",
       "      <th>Masse in kg</th>\n",
       "      <th>kg/EW</th>\n",
       "    </tr>\n",
       "  </thead>\n",
       "  <tbody>\n",
       "    <tr>\n",
       "      <th>0</th>\n",
       "      <td>2016.0</td>\n",
       "      <td>0.0</td>\n",
       "      <td>Graz-Stadt</td>\n",
       "      <td>60101.0</td>\n",
       "      <td>Graz</td>\n",
       "      <td>280258.0</td>\n",
       "      <td>3.0</td>\n",
       "      <td>Restmüll inkl. Sperrmüll</td>\n",
       "      <td>1.0</td>\n",
       "      <td>Gemischte Siedlungsabfälle (Restmüll)</td>\n",
       "      <td>50927769.0</td>\n",
       "      <td>181.72</td>\n",
       "    </tr>\n",
       "    <tr>\n",
       "      <th>1</th>\n",
       "      <td>2016.0</td>\n",
       "      <td>0.0</td>\n",
       "      <td>Graz-Stadt</td>\n",
       "      <td>60101.0</td>\n",
       "      <td>Graz</td>\n",
       "      <td>280258.0</td>\n",
       "      <td>3.0</td>\n",
       "      <td>Restmüll inkl. Sperrmüll</td>\n",
       "      <td>2.0</td>\n",
       "      <td>Sperrige Siedlungsabfälle (Sperrmüll)</td>\n",
       "      <td>8830870.0</td>\n",
       "      <td>31.51</td>\n",
       "    </tr>\n",
       "    <tr>\n",
       "      <th>2</th>\n",
       "      <td>2016.0</td>\n",
       "      <td>0.0</td>\n",
       "      <td>Graz-Stadt</td>\n",
       "      <td>60101.0</td>\n",
       "      <td>Graz</td>\n",
       "      <td>280258.0</td>\n",
       "      <td>4.0</td>\n",
       "      <td>Bioabfall - Biogene Siedlungsabfälle</td>\n",
       "      <td>4.0</td>\n",
       "      <td>Bioabfall getrennt erfasst (Biotonne)</td>\n",
       "      <td>21996780.0</td>\n",
       "      <td>78.49</td>\n",
       "    </tr>\n",
       "    <tr>\n",
       "      <th>3</th>\n",
       "      <td>2016.0</td>\n",
       "      <td>0.0</td>\n",
       "      <td>Graz-Stadt</td>\n",
       "      <td>60101.0</td>\n",
       "      <td>Graz</td>\n",
       "      <td>280258.0</td>\n",
       "      <td>4.0</td>\n",
       "      <td>Bioabfall - Biogene Siedlungsabfälle</td>\n",
       "      <td>27.0</td>\n",
       "      <td>kommunale Garten- und Parkabfälle</td>\n",
       "      <td>6208450.0</td>\n",
       "      <td>22.15</td>\n",
       "    </tr>\n",
       "    <tr>\n",
       "      <th>4</th>\n",
       "      <td>2016.0</td>\n",
       "      <td>0.0</td>\n",
       "      <td>Graz-Stadt</td>\n",
       "      <td>60101.0</td>\n",
       "      <td>Graz</td>\n",
       "      <td>280258.0</td>\n",
       "      <td>5.0</td>\n",
       "      <td>Straßenkehricht</td>\n",
       "      <td>6.0</td>\n",
       "      <td>Straßenkehricht</td>\n",
       "      <td>626730.0</td>\n",
       "      <td>2.24</td>\n",
       "    </tr>\n",
       "    <tr>\n",
       "      <th>...</th>\n",
       "      <td>...</td>\n",
       "      <td>...</td>\n",
       "      <td>...</td>\n",
       "      <td>...</td>\n",
       "      <td>...</td>\n",
       "      <td>...</td>\n",
       "      <td>...</td>\n",
       "      <td>...</td>\n",
       "      <td>...</td>\n",
       "      <td>...</td>\n",
       "      <td>...</td>\n",
       "      <td>...</td>\n",
       "    </tr>\n",
       "    <tr>\n",
       "      <th>7336</th>\n",
       "      <td>NaN</td>\n",
       "      <td>NaN</td>\n",
       "      <td>NaN</td>\n",
       "      <td>NaN</td>\n",
       "      <td>NaN</td>\n",
       "      <td>NaN</td>\n",
       "      <td>NaN</td>\n",
       "      <td>NaN</td>\n",
       "      <td>NaN</td>\n",
       "      <td>NaN</td>\n",
       "      <td>NaN</td>\n",
       "      <td>NaN</td>\n",
       "    </tr>\n",
       "    <tr>\n",
       "      <th>7337</th>\n",
       "      <td>NaN</td>\n",
       "      <td>NaN</td>\n",
       "      <td>NaN</td>\n",
       "      <td>NaN</td>\n",
       "      <td>NaN</td>\n",
       "      <td>NaN</td>\n",
       "      <td>NaN</td>\n",
       "      <td>NaN</td>\n",
       "      <td>NaN</td>\n",
       "      <td>NaN</td>\n",
       "      <td>NaN</td>\n",
       "      <td>NaN</td>\n",
       "    </tr>\n",
       "    <tr>\n",
       "      <th>7338</th>\n",
       "      <td>NaN</td>\n",
       "      <td>NaN</td>\n",
       "      <td>NaN</td>\n",
       "      <td>NaN</td>\n",
       "      <td>NaN</td>\n",
       "      <td>NaN</td>\n",
       "      <td>NaN</td>\n",
       "      <td>NaN</td>\n",
       "      <td>NaN</td>\n",
       "      <td>NaN</td>\n",
       "      <td>NaN</td>\n",
       "      <td>NaN</td>\n",
       "    </tr>\n",
       "    <tr>\n",
       "      <th>7339</th>\n",
       "      <td>NaN</td>\n",
       "      <td>NaN</td>\n",
       "      <td>NaN</td>\n",
       "      <td>NaN</td>\n",
       "      <td>NaN</td>\n",
       "      <td>NaN</td>\n",
       "      <td>NaN</td>\n",
       "      <td>NaN</td>\n",
       "      <td>NaN</td>\n",
       "      <td>NaN</td>\n",
       "      <td>NaN</td>\n",
       "      <td>NaN</td>\n",
       "    </tr>\n",
       "    <tr>\n",
       "      <th>7340</th>\n",
       "      <td>NaN</td>\n",
       "      <td>NaN</td>\n",
       "      <td>NaN</td>\n",
       "      <td>NaN</td>\n",
       "      <td>NaN</td>\n",
       "      <td>NaN</td>\n",
       "      <td>NaN</td>\n",
       "      <td>NaN</td>\n",
       "      <td>NaN</td>\n",
       "      <td>NaN</td>\n",
       "      <td>NaN</td>\n",
       "      <td>NaN</td>\n",
       "    </tr>\n",
       "  </tbody>\n",
       "</table>\n",
       "<p>7341 rows × 12 columns</p>\n",
       "</div>"
      ],
      "text/plain": [
       "        Jahr  VKZ Abfallwirtschaftsverband  GKZ_2015 Gemeindename    EW_Gde  \\\n",
       "0     2016.0  0.0               Graz-Stadt   60101.0         Graz  280258.0   \n",
       "1     2016.0  0.0               Graz-Stadt   60101.0         Graz  280258.0   \n",
       "2     2016.0  0.0               Graz-Stadt   60101.0         Graz  280258.0   \n",
       "3     2016.0  0.0               Graz-Stadt   60101.0         Graz  280258.0   \n",
       "4     2016.0  0.0               Graz-Stadt   60101.0         Graz  280258.0   \n",
       "...      ...  ...                      ...       ...          ...       ...   \n",
       "7336     NaN  NaN                      NaN       NaN          NaN       NaN   \n",
       "7337     NaN  NaN                      NaN       NaN          NaN       NaN   \n",
       "7338     NaN  NaN                      NaN       NaN          NaN       NaN   \n",
       "7339     NaN  NaN                      NaN       NaN          NaN       NaN   \n",
       "7340     NaN  NaN                      NaN       NaN          NaN       NaN   \n",
       "\n",
       "      HFR                         Abfallgruppen   FNr  \\\n",
       "0     3.0              Restmüll inkl. Sperrmüll   1.0   \n",
       "1     3.0              Restmüll inkl. Sperrmüll   2.0   \n",
       "2     4.0  Bioabfall - Biogene Siedlungsabfälle   4.0   \n",
       "3     4.0  Bioabfall - Biogene Siedlungsabfälle  27.0   \n",
       "4     5.0                       Straßenkehricht   6.0   \n",
       "...   ...                                   ...   ...   \n",
       "7336  NaN                                   NaN   NaN   \n",
       "7337  NaN                                   NaN   NaN   \n",
       "7338  NaN                                   NaN   NaN   \n",
       "7339  NaN                                   NaN   NaN   \n",
       "7340  NaN                                   NaN   NaN   \n",
       "\n",
       "                             Abfallfraktion  Masse in kg   kg/EW  \n",
       "0     Gemischte Siedlungsabfälle (Restmüll)   50927769.0  181.72  \n",
       "1     Sperrige Siedlungsabfälle (Sperrmüll)    8830870.0   31.51  \n",
       "2     Bioabfall getrennt erfasst (Biotonne)   21996780.0   78.49  \n",
       "3         kommunale Garten- und Parkabfälle    6208450.0   22.15  \n",
       "4                           Straßenkehricht     626730.0    2.24  \n",
       "...                                     ...          ...     ...  \n",
       "7336                                    NaN          NaN     NaN  \n",
       "7337                                    NaN          NaN     NaN  \n",
       "7338                                    NaN          NaN     NaN  \n",
       "7339                                    NaN          NaN     NaN  \n",
       "7340                                    NaN          NaN     NaN  \n",
       "\n",
       "[7341 rows x 12 columns]"
      ]
     },
     "execution_count": 14,
     "metadata": {},
     "output_type": "execute_result"
    }
   ],
   "source": [
    "import pandas as pd\n",
    "\n",
    "data = pd.read_csv(\"OGD_Abfalldaten_Stmk_2016_auf_Gemeindeebene.csv\", sep=';', thousands='.', decimal=',')\n",
    "data"
   ]
  },
  {
   "cell_type": "markdown",
   "metadata": {
    "colab_type": "text",
    "id": "hwSBDxxZV6ut"
   },
   "source": [
    "Betrachtet man sich die **unteren Zeilen** in ```data``` fällt einem auf, dass hier alle Werte nur ```NaN``` lauten.\n",
    "Dieses ```NaN``` steht für **Not a Number** und bedeutet nichts anderes, als dass keine Werte vorhanden sind. "
   ]
  },
  {
   "cell_type": "markdown",
   "metadata": {
    "colab_type": "text",
    "id": "ZRLXAjuxV6uu"
   },
   "source": [
    "Um solche **Leerzeilen** aus unserem Datensatz zu filtern, können wir auf ```data``` die **Methode** ```dropna``` aufrufen. Dies geschieht indem wir einen Punkt ```.``` zwischen **Objekt** und **Methode** setzen und sie mit ```()``` **aufrufen**."
   ]
  },
  {
   "cell_type": "code",
   "execution_count": 15,
   "metadata": {
    "colab": {},
    "colab_type": "code",
    "id": "6jZHr8D8V6uu",
    "outputId": "d2ae04ff-e0d9-4b09-89fa-cfddf190378a"
   },
   "outputs": [
    {
     "data": {
      "text/html": [
       "<div>\n",
       "<style scoped>\n",
       "    .dataframe tbody tr th:only-of-type {\n",
       "        vertical-align: middle;\n",
       "    }\n",
       "\n",
       "    .dataframe tbody tr th {\n",
       "        vertical-align: top;\n",
       "    }\n",
       "\n",
       "    .dataframe thead th {\n",
       "        text-align: right;\n",
       "    }\n",
       "</style>\n",
       "<table border=\"1\" class=\"dataframe\">\n",
       "  <thead>\n",
       "    <tr style=\"text-align: right;\">\n",
       "      <th></th>\n",
       "      <th>Jahr</th>\n",
       "      <th>VKZ</th>\n",
       "      <th>Abfallwirtschaftsverband</th>\n",
       "      <th>GKZ_2015</th>\n",
       "      <th>Gemeindename</th>\n",
       "      <th>EW_Gde</th>\n",
       "      <th>HFR</th>\n",
       "      <th>Abfallgruppen</th>\n",
       "      <th>FNr</th>\n",
       "      <th>Abfallfraktion</th>\n",
       "      <th>Masse in kg</th>\n",
       "      <th>kg/EW</th>\n",
       "    </tr>\n",
       "  </thead>\n",
       "  <tbody>\n",
       "    <tr>\n",
       "      <th>0</th>\n",
       "      <td>2016.0</td>\n",
       "      <td>0.0</td>\n",
       "      <td>Graz-Stadt</td>\n",
       "      <td>60101.0</td>\n",
       "      <td>Graz</td>\n",
       "      <td>280258.0</td>\n",
       "      <td>3.0</td>\n",
       "      <td>Restmüll inkl. Sperrmüll</td>\n",
       "      <td>1.0</td>\n",
       "      <td>Gemischte Siedlungsabfälle (Restmüll)</td>\n",
       "      <td>50927769.0</td>\n",
       "      <td>181.72</td>\n",
       "    </tr>\n",
       "    <tr>\n",
       "      <th>1</th>\n",
       "      <td>2016.0</td>\n",
       "      <td>0.0</td>\n",
       "      <td>Graz-Stadt</td>\n",
       "      <td>60101.0</td>\n",
       "      <td>Graz</td>\n",
       "      <td>280258.0</td>\n",
       "      <td>3.0</td>\n",
       "      <td>Restmüll inkl. Sperrmüll</td>\n",
       "      <td>2.0</td>\n",
       "      <td>Sperrige Siedlungsabfälle (Sperrmüll)</td>\n",
       "      <td>8830870.0</td>\n",
       "      <td>31.51</td>\n",
       "    </tr>\n",
       "    <tr>\n",
       "      <th>2</th>\n",
       "      <td>2016.0</td>\n",
       "      <td>0.0</td>\n",
       "      <td>Graz-Stadt</td>\n",
       "      <td>60101.0</td>\n",
       "      <td>Graz</td>\n",
       "      <td>280258.0</td>\n",
       "      <td>4.0</td>\n",
       "      <td>Bioabfall - Biogene Siedlungsabfälle</td>\n",
       "      <td>4.0</td>\n",
       "      <td>Bioabfall getrennt erfasst (Biotonne)</td>\n",
       "      <td>21996780.0</td>\n",
       "      <td>78.49</td>\n",
       "    </tr>\n",
       "    <tr>\n",
       "      <th>3</th>\n",
       "      <td>2016.0</td>\n",
       "      <td>0.0</td>\n",
       "      <td>Graz-Stadt</td>\n",
       "      <td>60101.0</td>\n",
       "      <td>Graz</td>\n",
       "      <td>280258.0</td>\n",
       "      <td>4.0</td>\n",
       "      <td>Bioabfall - Biogene Siedlungsabfälle</td>\n",
       "      <td>27.0</td>\n",
       "      <td>kommunale Garten- und Parkabfälle</td>\n",
       "      <td>6208450.0</td>\n",
       "      <td>22.15</td>\n",
       "    </tr>\n",
       "    <tr>\n",
       "      <th>4</th>\n",
       "      <td>2016.0</td>\n",
       "      <td>0.0</td>\n",
       "      <td>Graz-Stadt</td>\n",
       "      <td>60101.0</td>\n",
       "      <td>Graz</td>\n",
       "      <td>280258.0</td>\n",
       "      <td>5.0</td>\n",
       "      <td>Straßenkehricht</td>\n",
       "      <td>6.0</td>\n",
       "      <td>Straßenkehricht</td>\n",
       "      <td>626730.0</td>\n",
       "      <td>2.24</td>\n",
       "    </tr>\n",
       "    <tr>\n",
       "      <th>...</th>\n",
       "      <td>...</td>\n",
       "      <td>...</td>\n",
       "      <td>...</td>\n",
       "      <td>...</td>\n",
       "      <td>...</td>\n",
       "      <td>...</td>\n",
       "      <td>...</td>\n",
       "      <td>...</td>\n",
       "      <td>...</td>\n",
       "      <td>...</td>\n",
       "      <td>...</td>\n",
       "      <td>...</td>\n",
       "    </tr>\n",
       "    <tr>\n",
       "      <th>4416</th>\n",
       "      <td>2016.0</td>\n",
       "      <td>16.0</td>\n",
       "      <td>Weiz</td>\n",
       "      <td>61766.0</td>\n",
       "      <td>Weiz</td>\n",
       "      <td>11431.0</td>\n",
       "      <td>8.0</td>\n",
       "      <td>Diverse Abfälle</td>\n",
       "      <td>50.0</td>\n",
       "      <td>Sonstige Abfälle - nicht einzeln angeführt</td>\n",
       "      <td>8606.0</td>\n",
       "      <td>0.75</td>\n",
       "    </tr>\n",
       "    <tr>\n",
       "      <th>4417</th>\n",
       "      <td>2016.0</td>\n",
       "      <td>16.0</td>\n",
       "      <td>Weiz</td>\n",
       "      <td>61766.0</td>\n",
       "      <td>Weiz</td>\n",
       "      <td>11431.0</td>\n",
       "      <td>9.0</td>\n",
       "      <td>Baurestmassen</td>\n",
       "      <td>21.0</td>\n",
       "      <td>Bauschutt</td>\n",
       "      <td>296670.0</td>\n",
       "      <td>25.95</td>\n",
       "    </tr>\n",
       "    <tr>\n",
       "      <th>4418</th>\n",
       "      <td>2016.0</td>\n",
       "      <td>16.0</td>\n",
       "      <td>Weiz</td>\n",
       "      <td>61766.0</td>\n",
       "      <td>Weiz</td>\n",
       "      <td>11431.0</td>\n",
       "      <td>9.0</td>\n",
       "      <td>Baurestmassen</td>\n",
       "      <td>54.0</td>\n",
       "      <td>Asbestzement</td>\n",
       "      <td>9530.0</td>\n",
       "      <td>0.83</td>\n",
       "    </tr>\n",
       "    <tr>\n",
       "      <th>4419</th>\n",
       "      <td>2016.0</td>\n",
       "      <td>16.0</td>\n",
       "      <td>Weiz</td>\n",
       "      <td>61766.0</td>\n",
       "      <td>Weiz</td>\n",
       "      <td>11431.0</td>\n",
       "      <td>9.0</td>\n",
       "      <td>Baurestmassen</td>\n",
       "      <td>90.0</td>\n",
       "      <td>Baurestmassen - nicht einzeln angeführt</td>\n",
       "      <td>840.0</td>\n",
       "      <td>0.07</td>\n",
       "    </tr>\n",
       "    <tr>\n",
       "      <th>4420</th>\n",
       "      <td>2016.0</td>\n",
       "      <td>16.0</td>\n",
       "      <td>Weiz</td>\n",
       "      <td>61766.0</td>\n",
       "      <td>Weiz</td>\n",
       "      <td>11431.0</td>\n",
       "      <td>17.0</td>\n",
       "      <td>Batterien und Akkumulatoren</td>\n",
       "      <td>47.0</td>\n",
       "      <td>Fahrzeugbatterien</td>\n",
       "      <td>2165.0</td>\n",
       "      <td>0.19</td>\n",
       "    </tr>\n",
       "  </tbody>\n",
       "</table>\n",
       "<p>4421 rows × 12 columns</p>\n",
       "</div>"
      ],
      "text/plain": [
       "        Jahr   VKZ Abfallwirtschaftsverband  GKZ_2015 Gemeindename    EW_Gde  \\\n",
       "0     2016.0   0.0               Graz-Stadt   60101.0         Graz  280258.0   \n",
       "1     2016.0   0.0               Graz-Stadt   60101.0         Graz  280258.0   \n",
       "2     2016.0   0.0               Graz-Stadt   60101.0         Graz  280258.0   \n",
       "3     2016.0   0.0               Graz-Stadt   60101.0         Graz  280258.0   \n",
       "4     2016.0   0.0               Graz-Stadt   60101.0         Graz  280258.0   \n",
       "...      ...   ...                      ...       ...          ...       ...   \n",
       "4416  2016.0  16.0                     Weiz   61766.0         Weiz   11431.0   \n",
       "4417  2016.0  16.0                     Weiz   61766.0         Weiz   11431.0   \n",
       "4418  2016.0  16.0                     Weiz   61766.0         Weiz   11431.0   \n",
       "4419  2016.0  16.0                     Weiz   61766.0         Weiz   11431.0   \n",
       "4420  2016.0  16.0                     Weiz   61766.0         Weiz   11431.0   \n",
       "\n",
       "       HFR                         Abfallgruppen   FNr  \\\n",
       "0      3.0              Restmüll inkl. Sperrmüll   1.0   \n",
       "1      3.0              Restmüll inkl. Sperrmüll   2.0   \n",
       "2      4.0  Bioabfall - Biogene Siedlungsabfälle   4.0   \n",
       "3      4.0  Bioabfall - Biogene Siedlungsabfälle  27.0   \n",
       "4      5.0                       Straßenkehricht   6.0   \n",
       "...    ...                                   ...   ...   \n",
       "4416   8.0                       Diverse Abfälle  50.0   \n",
       "4417   9.0                         Baurestmassen  21.0   \n",
       "4418   9.0                         Baurestmassen  54.0   \n",
       "4419   9.0                         Baurestmassen  90.0   \n",
       "4420  17.0           Batterien und Akkumulatoren  47.0   \n",
       "\n",
       "                                  Abfallfraktion  Masse in kg   kg/EW  \n",
       "0          Gemischte Siedlungsabfälle (Restmüll)   50927769.0  181.72  \n",
       "1          Sperrige Siedlungsabfälle (Sperrmüll)    8830870.0   31.51  \n",
       "2          Bioabfall getrennt erfasst (Biotonne)   21996780.0   78.49  \n",
       "3              kommunale Garten- und Parkabfälle    6208450.0   22.15  \n",
       "4                                Straßenkehricht     626730.0    2.24  \n",
       "...                                          ...          ...     ...  \n",
       "4416  Sonstige Abfälle - nicht einzeln angeführt       8606.0    0.75  \n",
       "4417                                   Bauschutt     296670.0   25.95  \n",
       "4418                                Asbestzement       9530.0    0.83  \n",
       "4419     Baurestmassen - nicht einzeln angeführt        840.0    0.07  \n",
       "4420                           Fahrzeugbatterien       2165.0    0.19  \n",
       "\n",
       "[4421 rows x 12 columns]"
      ]
     },
     "execution_count": 15,
     "metadata": {},
     "output_type": "execute_result"
    }
   ],
   "source": [
    "data_gefiltert = data.dropna()\n",
    "data_gefiltert"
   ]
  },
  {
   "cell_type": "markdown",
   "metadata": {
    "colab_type": "text",
    "id": "CPyXOQxuV6uw"
   },
   "source": [
    "<div class=\"alert alert-block alert-warning\">\n",
    "    <h2>Kollektionen</h2>\n",
    "    <br>\n",
    "    Zuerst wollen wir uns den vielen verschiedenen Arten von Kollektionen in Python widmen:\n",
    "    <ul>\n",
    "        <li><b>Listen</b></li>\n",
    "        <li><b>Tupel</b></li>\n",
    "        <li><b>Wörterbücher</b></li>\n",
    "        <li><b>Mengen</b></li>\n",
    "        <li><b>Vektoren / Matrizen</b></li>\n",
    "    </ul>\n",
    "</div>"
   ]
  },
  {
   "cell_type": "markdown",
   "metadata": {
    "colab_type": "text",
    "id": "y0iq7EFTV6uw"
   },
   "source": [
    "## Listen\n",
    "\n",
    "Listen sind in Python **sehr häufig** in Gebrauch. Sie sind **mutabel** und **Container**. Was das bedeutet werden wir gleich sehen.\n",
    "\n",
    "Eine **leere Liste** kann man auf zwei Wegen erstellen: Mit ```[]``` oder mit ```list()```"
   ]
  },
  {
   "cell_type": "code",
   "execution_count": 16,
   "metadata": {
    "colab": {},
    "colab_type": "code",
    "id": "JtWBMfNtV6ux"
   },
   "outputs": [],
   "source": [
    "unsere_liste = [] # Liste wird als eine leere Liste initiiert"
   ]
  },
  {
   "cell_type": "markdown",
   "metadata": {
    "colab_type": "text",
    "id": "WeLb16JsV6uy"
   },
   "source": [
    "Da eine Liste **mutabel** ist können wir ```unsere_liste``` nun **verändern**.\n",
    "\n",
    "Listen bieten uns die **Methode** ```append``` welche ein Argument entgegennimmt und es in die Liste **einfügt**:"
   ]
  },
  {
   "cell_type": "code",
   "execution_count": 17,
   "metadata": {
    "colab": {},
    "colab_type": "code",
    "id": "7dfxfazaV6uy"
   },
   "outputs": [],
   "source": [
    "unsere_liste.append(20) # wir fügen den Ganzzahlen-Wert 20 an die Liste an"
   ]
  },
  {
   "cell_type": "markdown",
   "metadata": {
    "colab_type": "text",
    "id": "8tjTZ9LyV6u0"
   },
   "source": [
    "Da sie auch ein **Container** ist, können wir Objekte **verschiedener Typen** in ihr ablegen:"
   ]
  },
  {
   "cell_type": "code",
   "execution_count": 18,
   "metadata": {
    "colab": {},
    "colab_type": "code",
    "id": "hNR7A2rdV6u0"
   },
   "outputs": [],
   "source": [
    "unsere_liste.append('30') # Wir fügen einen String mit den Zeichen 3 und 0 an\n",
    "unsere_liste.append(40.0) # Wir fügen eine Gleitkommazahl mit dem Wert 40 an\n",
    "unsere_liste.append(True) # Wir fügen eine Bool mit dem Wert True an"
   ]
  },
  {
   "cell_type": "markdown",
   "metadata": {
    "colab_type": "text",
    "id": "Eu9g3f8IV6u2"
   },
   "source": [
    "Wir wollen nun den Inhalt der Liste einmal betrachten:"
   ]
  },
  {
   "cell_type": "code",
   "execution_count": 19,
   "metadata": {
    "colab": {},
    "colab_type": "code",
    "id": "1tvPNdJxV6u3",
    "outputId": "5267064e-eec7-4084-f5bb-3171522026ad"
   },
   "outputs": [
    {
     "data": {
      "text/plain": [
       "[20, '30', 40.0, True]"
      ]
     },
     "execution_count": 19,
     "metadata": {},
     "output_type": "execute_result"
    }
   ],
   "source": [
    "unsere_liste"
   ]
  },
  {
   "cell_type": "markdown",
   "metadata": {
    "colab_type": "text",
    "id": "cfnM4IY2V6u4"
   },
   "source": [
    "Mit der Methode ```pop``` können wir nun ein **Element** aus der Liste **herausnehmen**:"
   ]
  },
  {
   "cell_type": "code",
   "execution_count": 20,
   "metadata": {
    "colab": {},
    "colab_type": "code",
    "id": "uSv4diZCV6u5"
   },
   "outputs": [],
   "source": [
    "ein_element = unsere_liste.pop()"
   ]
  },
  {
   "cell_type": "markdown",
   "metadata": {
    "colab_type": "text",
    "id": "oDAcWnQFV6u6"
   },
   "source": [
    "*Welches Element wird als erstes heraus-```pop```-pen?*"
   ]
  },
  {
   "cell_type": "code",
   "execution_count": 21,
   "metadata": {
    "colab": {},
    "colab_type": "code",
    "id": "XvyT0N0IV6u6",
    "outputId": "03043e92-bb67-439c-b93d-4ef35ab8c83f"
   },
   "outputs": [
    {
     "data": {
      "text/plain": [
       "True"
      ]
     },
     "execution_count": 21,
     "metadata": {},
     "output_type": "execute_result"
    }
   ],
   "source": [
    "ein_element"
   ]
  },
  {
   "cell_type": "markdown",
   "metadata": {
    "colab_type": "text",
    "id": "SqQs34avV6u8"
   },
   "source": [
    "Wie man in der vorherigen Zelle sieht, besteht eine Liste aus einer **leeren Liste**, an welche dann **Elemente angefügt** werden.\n",
    "Diese Elemente haben **Indizes** *(Mehrzahl Index = lateinisch für „Zeigefinger, Kennzeichen Verzeichnis“)*.\n",
    "\n",
    "Das **erste Element** bekommt Index ```0```. Diesen schreiben wir in **eckige Klammern** ```[]``` nach der Liste:"
   ]
  },
  {
   "cell_type": "code",
   "execution_count": 22,
   "metadata": {
    "colab": {},
    "colab_type": "code",
    "id": "DiJXAjx6V6u8",
    "outputId": "b8815523-8a63-4753-b02c-63c0f03cdac4"
   },
   "outputs": [
    {
     "data": {
      "text/plain": [
       "20"
      ]
     },
     "execution_count": 22,
     "metadata": {},
     "output_type": "execute_result"
    }
   ],
   "source": [
    "unsere_liste[0]"
   ]
  },
  {
   "cell_type": "markdown",
   "metadata": {
    "colab_type": "text",
    "id": "5inxOPzxV6u-"
   },
   "source": [
    "*Welchen Index hat das letzte Element?*\n",
    "\n",
    "*(Tipp: Es gibt mehrere Antworten!)*"
   ]
  },
  {
   "cell_type": "code",
   "execution_count": 23,
   "metadata": {
    "colab": {},
    "colab_type": "code",
    "id": "myZSto6ZV6u-",
    "outputId": "0f43eb17-320c-4834-ff4f-e772f688ab68"
   },
   "outputs": [
    {
     "data": {
      "text/plain": [
       "40.0"
      ]
     },
     "execution_count": 23,
     "metadata": {},
     "output_type": "execute_result"
    }
   ],
   "source": [
    "index = len(unsere_liste)-1\n",
    "unsere_liste[index]"
   ]
  },
  {
   "cell_type": "markdown",
   "metadata": {
    "colab_type": "text",
    "id": "uyZ6yuoLV6vA"
   },
   "source": [
    "Vielleicht hilft folgende Zelle weiter. Die **Funktion** ```len``` nimmt eine Kollektion als Argument und gibt uns ihre **Länge** aus."
   ]
  },
  {
   "cell_type": "code",
   "execution_count": 24,
   "metadata": {
    "colab": {},
    "colab_type": "code",
    "id": "EOqKsKsGV6vA"
   },
   "outputs": [
    {
     "name": "stdout",
     "output_type": "stream",
     "text": [
      "[20, '30', 40.0]\n"
     ]
    },
    {
     "data": {
      "text/plain": [
       "'30'"
      ]
     },
     "execution_count": 24,
     "metadata": {},
     "output_type": "execute_result"
    }
   ],
   "source": [
    "print(unsere_liste)\n",
    "unsere_liste[len(unsere_liste)-2]\n",
    "unsere_liste[-2]"
   ]
  },
  {
   "cell_type": "markdown",
   "metadata": {
    "colab_type": "text",
    "id": "-uAhyAIXV6vC"
   },
   "source": [
    "Listen lassen sich auch zusammenfügen mit ```+```:"
   ]
  },
  {
   "cell_type": "code",
   "execution_count": 25,
   "metadata": {
    "colab": {},
    "colab_type": "code",
    "id": "oQxHiS0LV6vC",
    "outputId": "ad6d5706-ea49-445f-8298-d659f3444c16"
   },
   "outputs": [
    {
     "data": {
      "text/plain": [
       "[20, '30', 40.0, 1, 2, 3]"
      ]
     },
     "execution_count": 25,
     "metadata": {},
     "output_type": "execute_result"
    }
   ],
   "source": [
    "unsere_liste + [1,2,3]"
   ]
  },
  {
   "cell_type": "markdown",
   "metadata": {
    "colab_type": "text",
    "id": "NLVd-mMrV6uH"
   },
   "source": [
    "*Übrigens:* Ein **String** ist in Python eine **Kollektion** von Buchstaben-Strings:"
   ]
  },
  {
   "cell_type": "code",
   "execution_count": 26,
   "metadata": {
    "colab": {},
    "colab_type": "code",
    "id": "zzVVJFUiV6uH",
    "outputId": "b3ca684f-03b4-4e32-963a-a9989952dcc3"
   },
   "outputs": [
    {
     "data": {
      "text/plain": [
       "'a'"
      ]
     },
     "execution_count": 26,
     "metadata": {},
     "output_type": "execute_result"
    }
   ],
   "source": [
    "'abc'[0] # erstes Element von 'abc' -> Index ist 0 ; Ergebnis: 'a'"
   ]
  },
  {
   "cell_type": "markdown",
   "metadata": {
    "colab_type": "text",
    "id": "GdcWfgXSV6vE"
   },
   "source": [
    "Mit ```*``` lassen sie sich **mehrmals an sich selbst** anfügen:"
   ]
  },
  {
   "cell_type": "code",
   "execution_count": 27,
   "metadata": {
    "colab": {},
    "colab_type": "code",
    "id": "fjGWvB59V6vE",
    "outputId": "970e9069-ed97-4921-82f7-9c2d7376baa9"
   },
   "outputs": [
    {
     "data": {
      "text/plain": [
       "[20, '30', 40.0, 20, '30', 40.0, 20, '30', 40.0]"
      ]
     },
     "execution_count": 27,
     "metadata": {},
     "output_type": "execute_result"
    }
   ],
   "source": [
    "unsere_liste * 3"
   ]
  },
  {
   "cell_type": "markdown",
   "metadata": {
    "colab_type": "text",
    "id": "ma6QjXFbV6vF"
   },
   "source": [
    "Diese **Operatoren** erstellen eine **neue Liste**. \\\n",
    "Die ursprüngliche Liste wird nicht verändert:"
   ]
  },
  {
   "cell_type": "code",
   "execution_count": 28,
   "metadata": {
    "colab": {},
    "colab_type": "code",
    "id": "SHAxkPDUV6vG",
    "outputId": "951674ca-5ba8-4d5e-f3cf-83e92ae7806b"
   },
   "outputs": [
    {
     "data": {
      "text/plain": [
       "[20, '30', 40.0]"
      ]
     },
     "execution_count": 28,
     "metadata": {},
     "output_type": "execute_result"
    }
   ],
   "source": [
    "unsere_liste"
   ]
  },
  {
   "cell_type": "markdown",
   "metadata": {
    "colab_type": "text",
    "id": "8CTYQxrYV6vI"
   },
   "source": [
    "Benötigt man also das **Ergebnis der Operation**, muss man der neuen Liste auch einen **Namen zuweisen**:"
   ]
  },
  {
   "cell_type": "code",
   "execution_count": 29,
   "metadata": {
    "colab": {},
    "colab_type": "code",
    "id": "5SwIb2U5V6vI",
    "outputId": "ab78d182-0cb6-411b-9c7c-f21423ec7c8b"
   },
   "outputs": [
    {
     "data": {
      "text/plain": [
       "[20, '30', 40.0, 1, 2, 3]"
      ]
     },
     "execution_count": 29,
     "metadata": {},
     "output_type": "execute_result"
    }
   ],
   "source": [
    "neue_liste = unsere_liste + [1,2,3]\n",
    "neue_liste"
   ]
  },
  {
   "cell_type": "markdown",
   "metadata": {
    "colab_type": "text",
    "id": "YAjBn0rmV6vL"
   },
   "source": [
    "Alternativ kann man eine **Zuweisung zum ursprünglichen Namen** mit der Operation **zusammenfassen** mittels ```+=``` bzw. ```*=```"
   ]
  },
  {
   "cell_type": "code",
   "execution_count": 30,
   "metadata": {
    "colab": {},
    "colab_type": "code",
    "id": "oJpT3ccWV6vL",
    "outputId": "6b96cb85-acc2-4b64-da33-5c4e44999546"
   },
   "outputs": [
    {
     "name": "stdout",
     "output_type": "stream",
     "text": [
      "[20, '30', 40.0, 1, 2, 3, 20, '30', 40.0, 1, 2, 3, 20, '30', 40.0, 1, 2, 3]\n"
     ]
    }
   ],
   "source": [
    "neue_liste *= 3\n",
    "print(neue_liste)"
   ]
  },
  {
   "cell_type": "markdown",
   "metadata": {
    "colab_type": "text",
    "id": "2xFG8v-SV6vN"
   },
   "source": [
    "<div class=\"alert alert-block alert-info\">\n",
    "    <h3>Tipp: Operation + Zuweisung</h3>\n",
    "    <p>\n",
    "Nicht nur <code>+</code> und <code>*</code> lassen sich mit einem <code>=</code> in einen <b>Zuweisungsoperator</b> verwandeln, sondern alle solchen Operatoren. Eine <b>Auflistung</b> der Möglichkeiten findet man im Modul <a href=\"https://docs.python.org/3.2/library/operator.html#operator.iadd\"><code>operator</code></a>\n",
    "    </p>\n",
    "</div>"
   ]
  },
  {
   "cell_type": "markdown",
   "metadata": {
    "colab_type": "text",
    "id": "4DDp8XFkV6vN"
   },
   "source": [
    "**ACHTUNG!** Es werden dabei Referenzen angefügt, nicht Kopien!\n",
    "\n",
    "Erstellen wir eine Liste mit **drei leeren Listen** als Elementen:"
   ]
  },
  {
   "cell_type": "code",
   "execution_count": 31,
   "metadata": {
    "colab": {},
    "colab_type": "code",
    "id": "C5OrcM4yV6vN",
    "outputId": "b276bd8e-5a07-4370-ae36-29cc1f9c4718"
   },
   "outputs": [
    {
     "data": {
      "text/plain": [
       "[[], [], []]"
      ]
     },
     "execution_count": 31,
     "metadata": {},
     "output_type": "execute_result"
    }
   ],
   "source": [
    "liste_mit_listen = [[]]*3\n",
    "liste_mit_listen"
   ]
  },
  {
   "cell_type": "markdown",
   "metadata": {
    "colab_type": "text",
    "id": "6C2Mm5oxV6vP"
   },
   "source": [
    "Dann fügen wir an das **erste Element** (*Index* ```0```) der ```liste_mit_listen``` einen Wert an:"
   ]
  },
  {
   "cell_type": "code",
   "execution_count": 32,
   "metadata": {
    "colab": {},
    "colab_type": "code",
    "id": "604_3mGkV6vP"
   },
   "outputs": [],
   "source": [
    "liste_mit_listen[0].append(\"Hallo\")"
   ]
  },
  {
   "cell_type": "markdown",
   "metadata": {
    "colab_type": "text",
    "id": "4xeGOlaiV6vQ"
   },
   "source": [
    "*Wie sieht die* ```liste_mit_listen``` *nun aus?*"
   ]
  },
  {
   "cell_type": "code",
   "execution_count": 33,
   "metadata": {
    "colab": {},
    "colab_type": "code",
    "id": "FAnf_pGaV6vR",
    "outputId": "f52191d7-c7d8-43f5-d228-1f46f9482b94"
   },
   "outputs": [
    {
     "data": {
      "text/plain": [
       "[['Hallo'], ['Hallo'], ['Hallo']]"
      ]
     },
     "execution_count": 33,
     "metadata": {},
     "output_type": "execute_result"
    }
   ],
   "source": [
    "liste_mit_listen"
   ]
  },
  {
   "cell_type": "markdown",
   "metadata": {
    "colab_type": "text",
    "id": "x90o-r02V6vS"
   },
   "source": [
    "Dieses Problem lässt sich sowohl mit **Tupeln** als auch mit List-Comprehensions vermeiden. \\\n",
    "Zu beidem kommen wir **bald**!"
   ]
  },
  {
   "cell_type": "markdown",
   "metadata": {
    "colab_type": "text",
    "id": "LHWwzycLV6vS"
   },
   "source": [
    "Zurück zu unserer **Abfalldatenbank**! Wir wollen die Massen pro Einwohner in ihr zu einer Liste zusammenfassen:"
   ]
  },
  {
   "cell_type": "code",
   "execution_count": 34,
   "metadata": {
    "colab": {},
    "colab_type": "code",
    "id": "Ew2qRvh2V6vT"
   },
   "outputs": [],
   "source": [
    "masse_pro_ew = list(data_gefiltert[\"kg/EW\"])"
   ]
  },
  {
   "cell_type": "markdown",
   "metadata": {
    "colab_type": "text",
    "id": "TApuD5VHV6vV"
   },
   "source": [
    "**Zusätzlich** wollen wir eine **Liste mit den Indizes** dieser Elemente haben, die Funktion ```range``` hilft uns dabei eine **Kollektion mit ganzzahligen Elementen** zu erstellen.\n",
    "\n",
    "Sie übernimmt **drei ganzzahlige Argumente**: ```start```, ```stop``` & ```step``` \\\n",
    "Das Endwert in ```stop``` befindet sich allerdings **nicht** mehr in der Kollektion:"
   ]
  },
  {
   "cell_type": "code",
   "execution_count": 35,
   "metadata": {
    "colab": {},
    "colab_type": "code",
    "id": "T4C5xX-OV6vV",
    "outputId": "faa23aad-7343-4af6-8926-ab920bc61fc8"
   },
   "outputs": [
    {
     "data": {
      "text/plain": [
       "range(0, 4421)"
      ]
     },
     "execution_count": 35,
     "metadata": {},
     "output_type": "execute_result"
    }
   ],
   "source": [
    "range(0, len(masse_pro_ew), 1) # beinhaltet also alle Indizes der Elemente in unserer Liste."
   ]
  },
  {
   "cell_type": "markdown",
   "metadata": {
    "colab_type": "text",
    "id": "_Lr5IskZV6vX"
   },
   "source": [
    "**Verpflichtend** ist allerdings nur das Argument ```stop```. \\\n",
    "Wird ```step``` weggelassen ist es automatisch ```1```. Lässt man auch ```start``` weg, ist dieser Wert auf ```0``` gesetzt."
   ]
  },
  {
   "cell_type": "code",
   "execution_count": 36,
   "metadata": {
    "colab": {},
    "colab_type": "code",
    "id": "pmP-MwSaV6vX",
    "outputId": "c4d62ec6-f88a-4cbf-dac1-79670c5fe592"
   },
   "outputs": [
    {
     "data": {
      "text/plain": [
       "[3, 5, 7, 9]"
      ]
     },
     "execution_count": 36,
     "metadata": {},
     "output_type": "execute_result"
    }
   ],
   "source": [
    "indizes = list(range(3,10,2)) # beinhaltet also ebenso alle unsere Indizes\n",
    "indizes"
   ]
  },
  {
   "cell_type": "markdown",
   "metadata": {
    "colab_type": "text",
    "id": "QL-x5alNV6vY"
   },
   "source": [
    "Mit der Funktion ```zip``` können wir nun, wie bei einem **Reißverschluss (*= Zipper*)** die Elemente der beiden Kollektionen in einer Kollektion zusammenfassen:"
   ]
  },
  {
   "cell_type": "code",
   "execution_count": 37,
   "metadata": {
    "colab": {},
    "colab_type": "code",
    "id": "QcaIL3kQV6vZ",
    "outputId": "1b4bc3ed-f93e-4d88-832d-27824ebc47f1",
    "scrolled": true
   },
   "outputs": [
    {
     "data": {
      "text/plain": [
       "[(3, 181.72), (5, 31.51), (7, 78.49), (9, 22.15)]"
      ]
     },
     "execution_count": 37,
     "metadata": {},
     "output_type": "execute_result"
    }
   ],
   "source": [
    "list(zip(indizes,masse_pro_ew))[:10] # wir erstellen nach 'zip' wieder eine Liste"
   ]
  },
  {
   "cell_type": "markdown",
   "metadata": {
    "colab_type": "text",
    "id": "kl1h2Q9LV6va"
   },
   "source": [
    "*Welchen Typen haben die Elemente dieser Liste?*"
   ]
  },
  {
   "cell_type": "markdown",
   "metadata": {
    "colab_type": "text",
    "id": "jSqgoFM_V6va"
   },
   "source": [
    "## Tupel\n",
    "\n",
    "Tupel sind die **immutablen** Geschwister von Listen. Dem entsprechend bieten sie **keine** Methoden wie ```append``` oder ```pop```. Ist ein Tupel einmal **initiiert** kann es nicht verändert, sondern nur ein anderes **neues** Tupel geschaffen werden. Warum das wichtig ist, werden wir bald sehen!\n",
    "\n",
    "Ein leeres Tupel erstellt man entweder mit ```tuple()``` oder mit ```()```."
   ]
  },
  {
   "cell_type": "code",
   "execution_count": 38,
   "metadata": {
    "colab": {},
    "colab_type": "code",
    "id": "2r21s3jxV6vc",
    "outputId": "5d41b591-9426-493e-e212-89306a2e89d1"
   },
   "outputs": [
    {
     "data": {
      "text/plain": [
       "tuple"
      ]
     },
     "execution_count": 38,
     "metadata": {},
     "output_type": "execute_result"
    }
   ],
   "source": [
    "# Der Typ der Elemente in der Liste 'masse_pro_ew':\n",
    "type(list(zip(indizes,masse_pro_ew))[0])"
   ]
  },
  {
   "cell_type": "markdown",
   "metadata": {
    "colab_type": "text",
    "id": "oEYC8MWpV6ve"
   },
   "source": [
    "Tupel **eignen** sich vor allem als **Rückgabewert** von Funktionen (*siehe unten*) oder um **zusammengehörige Werte** zusammenzufassen."
   ]
  },
  {
   "cell_type": "code",
   "execution_count": 39,
   "metadata": {
    "colab": {},
    "colab_type": "code",
    "id": "jskQZj1iV6ve",
    "outputId": "19838061-2509-426f-c3bb-d40524ef273c"
   },
   "outputs": [
    {
     "data": {
      "text/plain": [
       "(0, 1, 2, 10, 11, 12)"
      ]
     },
     "execution_count": 39,
     "metadata": {},
     "output_type": "execute_result"
    }
   ],
   "source": [
    "tuple(range(3)) + tuple(range(10,13))"
   ]
  },
  {
   "cell_type": "markdown",
   "metadata": {
    "colab_type": "text",
    "id": "BsrJnvQ9V6vf"
   },
   "source": [
    "Man kann Tupel also wie Listen mit ```+``` **zusammenfügen**. Die **Wiederholung** mit ```*``` funktioniert ebenfalls nach dem gleichen Prinzip:"
   ]
  },
  {
   "cell_type": "code",
   "execution_count": 40,
   "metadata": {
    "colab": {},
    "colab_type": "code",
    "id": "WB4dHW0_V6vf",
    "outputId": "8efc99bf-4061-45be-f1f4-6149ffb3a299"
   },
   "outputs": [
    {
     "data": {
      "text/plain": [
       "(0, 1, 2, 0, 1, 2, 0, 1, 2)"
      ]
     },
     "execution_count": 40,
     "metadata": {},
     "output_type": "execute_result"
    }
   ],
   "source": [
    "tup = tuple(range(3))\n",
    "tup * 3 "
   ]
  },
  {
   "cell_type": "markdown",
   "metadata": {
    "colab_type": "text",
    "id": "jxJr8e3mV6vh"
   },
   "source": [
    "*Wie helfen uns Tupel jetzt das Problem mit der* ```liste_mit_listen``` *zu lösen?*"
   ]
  },
  {
   "cell_type": "markdown",
   "metadata": {
    "colab_type": "text",
    "id": "jCEY-q7oV6vh"
   },
   "source": [
    "Da Tupel **nicht mutabel** sind, sich also eigentlich nicht verändern lassen, wird **bei jeder Veränderung ein neues\n",
    "Tupel** erschaffen und dem Namen zugewiesen. \\\n",
    "Deshalb muss man statt der ```append``` - Methode, den ```+=``` - **in-place Operator** verwenden:"
   ]
  },
  {
   "cell_type": "code",
   "execution_count": 41,
   "metadata": {
    "colab": {},
    "colab_type": "code",
    "id": "dkG0Xp8GV6vh",
    "outputId": "b6c64b61-0629-43f2-fca7-52264c797238"
   },
   "outputs": [
    {
     "data": {
      "text/plain": [
       "[(1,), (), ()]"
      ]
     },
     "execution_count": 41,
     "metadata": {},
     "output_type": "execute_result"
    }
   ],
   "source": [
    "liste_mit_tupeln = [()]*3\n",
    "liste_mit_tupeln[0] += 1,\n",
    "liste_mit_tupeln"
   ]
  },
  {
   "cell_type": "markdown",
   "metadata": {
    "colab_type": "text",
    "id": "in2XXfWSV6vj"
   },
   "source": [
    "<div class=\"alert alert-block alert-info\">\n",
    "    <h3>Tipp: Ein-Element-Tupel</h3>\n",
    "    <p>\n",
    "    Will man <b>kein leeres</b> Tupel schaffen sondern eines mit Elementen, braucht man <b>keine Klammern</b> <code>()</code>. Es ist <b>in Wirklichkeit</b> das Komma <code>,</code> welches das Tupel erstellt!\n",
    "    </p>\n",
    "    <p>\n",
    "Deshalb funktioniert es in der vorhergehenden Zelle <code>1,</code> zu schreiben.\n",
    "    </p>\n",
    "</div>"
   ]
  },
  {
   "cell_type": "markdown",
   "metadata": {
    "colab_type": "text",
    "id": "54n-2EBOV6vj"
   },
   "source": [
    "Dass ein neues Element erstellt wird, lässt sich leicht mit dem Operator **```is``` überprüfen**."
   ]
  },
  {
   "cell_type": "markdown",
   "metadata": {
    "colab_type": "text",
    "id": "c_80dJ7OV6vj"
   },
   "source": [
    "Verweisen zwei Namen auf **dieselbe ID** (*und damit dasselbe Element im Speicher*) ergibt er ```True```, ansonsten ```False```."
   ]
  },
  {
   "cell_type": "markdown",
   "metadata": {
    "colab_type": "text",
    "id": "5mEyJpInV6vk"
   },
   "source": [
    "Wir überprüfen einmal die Elemente der ```liste_mit_tupeln``` und dann jene der ```liste_mit_listen```:"
   ]
  },
  {
   "cell_type": "code",
   "execution_count": 42,
   "metadata": {
    "colab": {},
    "colab_type": "code",
    "id": "hSSnIimSV6vk",
    "outputId": "5c7de399-cc17-49a8-98b7-ff38a44e40eb"
   },
   "outputs": [
    {
     "data": {
      "text/plain": [
       "(False, True)"
      ]
     },
     "execution_count": 42,
     "metadata": {},
     "output_type": "execute_result"
    }
   ],
   "source": [
    "liste_mit_tupeln[0] is liste_mit_tupeln[2] , liste_mit_listen[0] is liste_mit_listen[2]"
   ]
  },
  {
   "cell_type": "markdown",
   "metadata": {
    "colab_type": "text",
    "id": "ORfDQuy3V6vl"
   },
   "source": [
    "Weisen wir den anderen **Elemente**n in der Liste mit Tupeln den **gleichen Wert** zu, behalten sie ihre **unterschiedlichen ID**s (*d.h. sie referenzieren andere Stellen im Speicher*):"
   ]
  },
  {
   "cell_type": "code",
   "execution_count": 43,
   "metadata": {
    "colab": {},
    "colab_type": "code",
    "id": "en5PdjqoV6vm",
    "outputId": "6c14be88-05e8-473d-c2f3-266a0b866f2b"
   },
   "outputs": [
    {
     "name": "stdout",
     "output_type": "stream",
     "text": [
      "[(1,), (1,), ()]\n"
     ]
    },
    {
     "data": {
      "text/plain": [
       "False"
      ]
     },
     "execution_count": 43,
     "metadata": {},
     "output_type": "execute_result"
    }
   ],
   "source": [
    "liste_mit_tupeln[1] += 1,\n",
    "print(liste_mit_tupeln)\n",
    "\n",
    "liste_mit_tupeln[0] is liste_mit_tupeln[1]"
   ]
  },
  {
   "cell_type": "markdown",
   "metadata": {
    "colab_type": "text",
    "id": "IKw_heK4V6vn"
   },
   "source": [
    "*Wie lässt sich nun überprüfen, ob die Elemente den selben Wert unabhängig von der Speicherposition haben?*"
   ]
  },
  {
   "cell_type": "markdown",
   "metadata": {
    "colab_type": "text",
    "id": "lHGMSY3BV6vo"
   },
   "source": [
    "Hier offenbart sich der Unterschied zwischen ```==``` und **```is```**. Es ist daher **Vorsicht geboten welche** Art von Vergleich man anwenden will:"
   ]
  },
  {
   "cell_type": "code",
   "execution_count": 44,
   "metadata": {
    "colab": {},
    "colab_type": "code",
    "id": "dWlKGvkXV6vo",
    "outputId": "0143b004-4ea0-417e-f79e-eecf4e7275fe"
   },
   "outputs": [
    {
     "data": {
      "text/plain": [
       "True"
      ]
     },
     "execution_count": 44,
     "metadata": {},
     "output_type": "execute_result"
    }
   ],
   "source": [
    "liste_mit_tupeln[0] == liste_mit_tupeln[1]"
   ]
  },
  {
   "cell_type": "markdown",
   "metadata": {
    "colab_type": "text",
    "id": "T1K2KH3AV6vp"
   },
   "source": [
    "Zurück zu den **Abfalldaten** der Steiermark. \n",
    "\n",
    "Die Einträge der **Massen** sollen jeweils eindeutig einem **Index zuweisbar** sein, es macht also Sinn sie **zu Tupeln zusammenzufassen**. \\\n",
    "Wir verfahren gleich wie schon im Kapitel 'Listen', geben dieser Liste nun aber auch einen Namen:"
   ]
  },
  {
   "cell_type": "code",
   "execution_count": 45,
   "metadata": {
    "colab": {},
    "colab_type": "code",
    "id": "uh3CRsBeV6vp"
   },
   "outputs": [],
   "source": [
    "indizes_mit_massen = list(zip(indizes,masse_pro_ew))"
   ]
  },
  {
   "cell_type": "markdown",
   "metadata": {
    "colab_type": "text",
    "id": "GIBbNSWyV6vs"
   },
   "source": [
    "<div class=\"alert alert-block alert-info\">\n",
    "    <h3>Tipp: Tupel-Entpackung</h3>\n",
    "    <p>\n",
    "Mit Tuple-unpacking kann Elemente aus Kollektionen entpacken und mit <code>*</code> den Rest einfach auch aufheben:\n",
    "    </p>\n",
    "</div>"
   ]
  },
  {
   "cell_type": "code",
   "execution_count": 46,
   "metadata": {
    "colab": {},
    "colab_type": "code",
    "id": "vRQ8YIMwV6vs"
   },
   "outputs": [
    {
     "name": "stdout",
     "output_type": "stream",
     "text": [
      "<class 'list'>\n"
     ]
    },
    {
     "data": {
      "text/plain": [
       "(0, 1, [2, 3, 4, 5, 6, 7], 8, 9)"
      ]
     },
     "execution_count": 46,
     "metadata": {},
     "output_type": "execute_result"
    }
   ],
   "source": [
    "a,b,*rest,c,d = range(10)\n",
    "print(type(rest))\n",
    "a,b,rest,c,d"
   ]
  },
  {
   "cell_type": "markdown",
   "metadata": {
    "colab_type": "text",
    "id": "ZAsGyVK8V6vu"
   },
   "source": [
    "*Was aber, wenn wir in einer langen Liste von Werten, genau jenen einer gewissen Gemeinde finden wollen?*\n",
    "\n",
    "Benutzen wir **Tupel in Listen**, müssten wir **alle** Tupel entpacken und mit unserer Suche **vergleichen**, bis wir unseren Wert finden!"
   ]
  },
  {
   "cell_type": "markdown",
   "metadata": {
    "colab_type": "text",
    "id": "Ukve8fdwV6vu"
   },
   "source": [
    "## Wörterbücher\n",
    "\n",
    "Wörterbücher lösen dieses Problem, indem sie uns einen **Namen direkt einem anderen Objekt zuweisen** lassen.\n",
    "Dabei steht der **Schlüssel** links, dann ein **Doppelpunkt** und das **Objekt** auf welches der Schlüssel verweist rechts:"
   ]
  },
  {
   "cell_type": "code",
   "execution_count": 47,
   "metadata": {
    "colab": {},
    "colab_type": "code",
    "id": "ylgoO8A9V6vu"
   },
   "outputs": [],
   "source": [
    "Wörterbuch = {'Graz':18924,'Kainbach':5893,'Feldkirchen':6790}"
   ]
  },
  {
   "cell_type": "markdown",
   "metadata": {
    "colab_type": "text",
    "id": "WkC4sYhlV6vv"
   },
   "source": [
    "**Abrufen** lassen sich die Werte/Objekte dann einfach **mittels** Eingabe des **Schlüssel**s, anstatt eines Index':"
   ]
  },
  {
   "cell_type": "code",
   "execution_count": 48,
   "metadata": {
    "colab": {},
    "colab_type": "code",
    "id": "4Z-lse3NV6vw",
    "outputId": "c1aaeb27-6168-49ca-a0b8-ab13e3c60cf4"
   },
   "outputs": [
    {
     "data": {
      "text/plain": [
       "5893"
      ]
     },
     "execution_count": 48,
     "metadata": {},
     "output_type": "execute_result"
    }
   ],
   "source": [
    "Wörterbuch['Kainbach']"
   ]
  },
  {
   "cell_type": "markdown",
   "metadata": {
    "colab_type": "text",
    "id": "fUoZ530XV6vx"
   },
   "source": [
    "Wir können ein Wörterbuch auch einfach **aus einer Liste mit 2er-Tupeln erstellen**:"
   ]
  },
  {
   "cell_type": "code",
   "execution_count": 49,
   "metadata": {
    "colab": {},
    "colab_type": "code",
    "id": "HqghOGV0V6vx",
    "outputId": "79d381fe-fbeb-4c06-b4a4-c6905f0ba23b"
   },
   "outputs": [
    {
     "data": {
      "text/plain": [
       "{3: 181.72, 5: 31.51, 7: 78.49, 9: 22.15}"
      ]
     },
     "execution_count": 49,
     "metadata": {},
     "output_type": "execute_result"
    }
   ],
   "source": [
    "dict(indizes_mit_massen)"
   ]
  },
  {
   "cell_type": "markdown",
   "metadata": {
    "colab_type": "text",
    "id": "d5Hqp4nsV6vz"
   },
   "source": [
    "Ein **Schlüssel** kann allerdings **nie doppelt** vorkommen!\n",
    "\n",
    "*Was passiert wenn wir ein Wörterbuch aus folgender Liste machen? Warum?*"
   ]
  },
  {
   "cell_type": "code",
   "execution_count": 50,
   "metadata": {
    "colab": {},
    "colab_type": "code",
    "id": "A5ioglHEV6vz"
   },
   "outputs": [],
   "source": [
    "liste_mit_doppelten_werten = [(1,'a'),(1,'b')]"
   ]
  },
  {
   "cell_type": "code",
   "execution_count": 51,
   "metadata": {
    "colab": {},
    "colab_type": "code",
    "id": "8k_bV51JV6v0",
    "outputId": "6c03cb79-bb1b-47ee-8c3f-f1fc5571535e"
   },
   "outputs": [
    {
     "data": {
      "text/plain": [
       "{1: 'b'}"
      ]
     },
     "execution_count": 51,
     "metadata": {},
     "output_type": "execute_result"
    }
   ],
   "source": [
    "dict(liste_mit_doppelten_werten)"
   ]
  },
  {
   "cell_type": "markdown",
   "metadata": {
    "colab_type": "text",
    "id": "t38RKom1V6v2"
   },
   "source": [
    "Außerdem sind Wörterbücher **mutable Collections**."
   ]
  },
  {
   "cell_type": "markdown",
   "metadata": {
    "colab_type": "text",
    "id": "BdwKxVwIV6v2"
   },
   "source": [
    "Sie können also Werte verschiedener Typen speichern und verändert werden."
   ]
  },
  {
   "cell_type": "markdown",
   "metadata": {
    "colab_type": "text",
    "id": "KXFkzriNV6v3"
   },
   "source": [
    "*Warum kann man aber Elemente in einem Wörterbuch **so viel schneller** finden als in einer Liste?*\n",
    "\n",
    "Das liegt daran, dass um einen schnellen Zugriff zu garantieren, \\\n",
    "nicht der Schlüssel sondern sein **Hash -\n",
    "Wert** abgespeichert wird."
   ]
  },
  {
   "cell_type": "code",
   "execution_count": 52,
   "metadata": {
    "colab": {},
    "colab_type": "code",
    "id": "7DIwnKSuV6v3",
    "outputId": "c21670ea-9f90-4914-d2aa-b5d4ce633ffa"
   },
   "outputs": [
    {
     "data": {
      "text/plain": [
       "167004403425414396"
      ]
     },
     "execution_count": 52,
     "metadata": {},
     "output_type": "execute_result"
    }
   ],
   "source": [
    "hash(\"haus\")"
   ]
  },
  {
   "cell_type": "markdown",
   "metadata": {
    "colab_type": "text",
    "id": "oJoa7lZvV6v5"
   },
   "source": [
    "Wie wir bereits wissen: Listen sind **mutabel**, Tupel nicht. \\\n",
    "Deshalb können Listen **keinen Hash-Wert** haben, man kann sie **nicht als Schlüssel** in einem Wörterbuch verwenden:"
   ]
  },
  {
   "cell_type": "code",
   "execution_count": 53,
   "metadata": {
    "colab": {},
    "colab_type": "code",
    "id": "jqdh-K9tV6v6",
    "outputId": "cf6d1b6e-0f56-4b4c-85c2-e8937ff45aac"
   },
   "outputs": [
    {
     "data": {
      "text/plain": [
       "{(): 1}"
      ]
     },
     "execution_count": 53,
     "metadata": {},
     "output_type": "execute_result"
    }
   ],
   "source": [
    "{():1}"
   ]
  },
  {
   "cell_type": "markdown",
   "metadata": {
    "colab_type": "text",
    "id": "dqyN1WXWV6v7"
   },
   "source": [
    "Deshalb funktioniert auch der **```in```** - Operator **in Listen viel langsamer** als in Wörterbüchern:"
   ]
  },
  {
   "cell_type": "code",
   "execution_count": 54,
   "metadata": {
    "colab": {},
    "colab_type": "code",
    "id": "2j7sB0BhV6v8",
    "outputId": "16b6c45f-6a42-4f2a-d44d-f00e21636c65"
   },
   "outputs": [
    {
     "name": "stdout",
     "output_type": "stream",
     "text": [
      "8.63 µs ± 177 ns per loop (mean ± std. dev. of 7 runs, 100000 loops each)\n",
      "62 ns ± 1.63 ns per loop (mean ± std. dev. of 7 runs, 10000000 loops each)\n"
     ]
    }
   ],
   "source": [
    "test_liste = list(range(99999))\n",
    "test_wobu  = dict(zip(range(99999),[()]*99999))\n",
    "\n",
    "# mit dem magic-command %timeit lässt sich messen wie lange\n",
    "# eine Operation braucht:\n",
    "\n",
    "%timeit 630 in test_liste\n",
    "%timeit 630 in test_wobu"
   ]
  },
  {
   "cell_type": "markdown",
   "metadata": {
    "colab_type": "text",
    "id": "2AukHNHVV6v9"
   },
   "source": [
    "In unserem Test-Wörterbuch interessiert uns **nur die Zugehörigkeit** eines Elements. \\\n",
    "Wir haben also den Schlüsseln als **Dummy-Werte leere Tupel** zugewiesen. \\\n",
    "Diese **brauchen wenig Speicher**.\n",
    "\n",
    "Es gibt aber eine bessere Lösung:"
   ]
  },
  {
   "cell_type": "markdown",
   "metadata": {
    "colab_type": "text",
    "id": "N3nEedqkV6v_"
   },
   "source": [
    "## Mengen\n",
    "\n",
    "Mengen **gab es in Python lange nicht**. \n",
    "Damals wurden Wörterbücher mit **Dummy-Werte**n verwendet\n",
    "um schnelle Zugehörigkeitstest zu ermöglichen. \\\n",
    "Mit **Mengen** geht das nun **einfacher** und mit weniger \n",
    "Speicherbedarf."
   ]
  },
  {
   "cell_type": "markdown",
   "metadata": {
    "colab_type": "text",
    "id": "E1ge6NtjV6v_"
   },
   "source": [
    "Mit ```set``` kann man eine Menge **aus einer Kollektion** erstellen:"
   ]
  },
  {
   "cell_type": "code",
   "execution_count": 55,
   "metadata": {
    "colab": {},
    "colab_type": "code",
    "id": "LI10APPRV6v_",
    "outputId": "eb6a0293-d50a-4229-8050-4006f383bc28"
   },
   "outputs": [
    {
     "data": {
      "text/plain": [
       "{1, 2, 3}"
      ]
     },
     "execution_count": 55,
     "metadata": {},
     "output_type": "execute_result"
    }
   ],
   "source": [
    "set([1,2,3])"
   ]
  },
  {
   "cell_type": "markdown",
   "metadata": {
    "colab_type": "text",
    "id": "7o2w7H65V6wB"
   },
   "source": [
    "Mengen sind außerdem **mutabel** und eine **Collection**. Werte in ihr müssen aber natürlich **hashable** sein, wie eben bei Wörterbüchern-"
   ]
  },
  {
   "cell_type": "markdown",
   "metadata": {
    "colab_type": "text",
    "id": "MEuqGbVFV6wB"
   },
   "source": [
    "Mengen **sehen auch fast so aus wie Wörterbücher**.\n",
    "Sie werden in **geschwungene Klammern** ```{}``` gefasst, ihre 'Schlüssel' haben aber natürlich **keinen Doppelpunkt und keine Werte**:"
   ]
  },
  {
   "cell_type": "code",
   "execution_count": 56,
   "metadata": {
    "colab": {},
    "colab_type": "code",
    "id": "Kzh64jNkV6wB",
    "outputId": "622b084f-1fff-4207-a0a7-8dbdc68aa3a7"
   },
   "outputs": [
    {
     "data": {
      "text/plain": [
       "set"
      ]
     },
     "execution_count": 56,
     "metadata": {},
     "output_type": "execute_result"
    }
   ],
   "source": [
    "type({1,2,3})"
   ]
  },
  {
   "cell_type": "markdown",
   "metadata": {
    "colab_type": "text",
    "id": "IRl4QKvKV6wD"
   },
   "source": [
    "Aber **Achtung**: ```{}``` ist ein **leeres Wörterbuch**, kein Set!"
   ]
  },
  {
   "cell_type": "code",
   "execution_count": 57,
   "metadata": {
    "colab": {},
    "colab_type": "code",
    "id": "tfqkpP7DV6wD"
   },
   "outputs": [
    {
     "data": {
      "text/plain": [
       "(dict, set)"
      ]
     },
     "execution_count": 57,
     "metadata": {},
     "output_type": "execute_result"
    }
   ],
   "source": [
    "type({})  ,   type(set())"
   ]
  },
  {
   "cell_type": "markdown",
   "metadata": {
    "colab_type": "text",
    "id": "W8vkUKdGV6wF"
   },
   "source": [
    "Eine **leere Menge** erstellt man also mit ```set```."
   ]
  },
  {
   "cell_type": "markdown",
   "metadata": {
    "colab_type": "text",
    "id": "jWVPNKpvV6wG"
   },
   "source": [
    " Wiederholen wir unseren **Geschwindigkeitstest** von vorher! Diesmal ersetzen wir das Wörterbuch durch eine **Menge**:"
   ]
  },
  {
   "cell_type": "code",
   "execution_count": 58,
   "metadata": {
    "colab": {},
    "colab_type": "code",
    "id": "Xu4dqKwuV6wJ",
    "outputId": "e7ca6e40-0dea-4bcc-aae0-c1fc38a6a62a"
   },
   "outputs": [
    {
     "name": "stdout",
     "output_type": "stream",
     "text": [
      "8.96 µs ± 199 ns per loop (mean ± std. dev. of 7 runs, 100000 loops each)\n",
      "56 ns ± 2.99 ns per loop (mean ± std. dev. of 7 runs, 10000000 loops each)\n"
     ]
    }
   ],
   "source": [
    "test_liste = list(range(99999))\n",
    "test_menge = set(range(99999))\n",
    "\n",
    "%timeit 630 in test_liste\n",
    "%timeit 630 in test_menge"
   ]
  },
  {
   "cell_type": "markdown",
   "metadata": {
    "colab_type": "text",
    "id": "iQfC03suV6wK"
   },
   "source": [
    "Auch Mengen sind als **Hash-Tables** implementiert und können daher keine Elemente doppelt enthalten:"
   ]
  },
  {
   "cell_type": "code",
   "execution_count": 59,
   "metadata": {
    "colab": {},
    "colab_type": "code",
    "id": "mE-O47r-V6wK",
    "outputId": "33cfb9a7-d3a7-4674-d05c-b77af6f87679"
   },
   "outputs": [
    {
     "data": {
      "text/plain": [
       "{1, 2}"
      ]
     },
     "execution_count": 59,
     "metadata": {},
     "output_type": "execute_result"
    }
   ],
   "source": [
    "set([1,1,1,2])"
   ]
  },
  {
   "cell_type": "markdown",
   "metadata": {
    "colab_type": "text",
    "id": "94ux4mUdV6wM"
   },
   "source": [
    "Da wir hier nur Schlüssel haben, entfällt der Einfluss der Reihenfolge.\n",
    "\n",
    "Das sorgt allerdings auch dafür, das Mengen einen **signifikanten** (Speicher-)**Overhead gegenüber Listen** haben:"
   ]
  },
  {
   "cell_type": "code",
   "execution_count": 60,
   "metadata": {
    "colab": {},
    "colab_type": "code",
    "id": "QanqF3ikV6wM",
    "outputId": "c155de56-b03b-480b-87ad-e2839c3e2701"
   },
   "outputs": [
    {
     "name": "stdout",
     "output_type": "stream",
     "text": [
      "3.29 ms ± 159 µs per loop (mean ± std. dev. of 7 runs, 100 loops each)\n",
      "4.93 ms ± 426 µs per loop (mean ± std. dev. of 7 runs, 100 loops each)\n"
     ]
    }
   ],
   "source": [
    "%timeit list(range(99999))\n",
    "%timeit set(range(99999))"
   ]
  },
  {
   "cell_type": "markdown",
   "metadata": {
    "colab_type": "text",
    "id": "WH68_EeGV6wN"
   },
   "source": [
    "<div class=\"alert alert-block alert-info\">\n",
    "<h3>Tipp: 'range' als Objekt</h3>\n",
    "    <p>\n",
    "In Python 3 gibt die 'range'-Funktion ein eigenes Objekt\n",
    "zurück, welches den 'in' Operator unterstützt.\n",
    "    </p>\n",
    "    <p>\n",
    "Range ist 'lazy'. Das bedeutet: Range erzeugt seine Ausgabewerte\n",
    "erst wenn ihr sie wirklich abfragt, vorher speichert es nur den\n",
    "Start-, den Stop- und den Step-Wert. \n",
    "Daher kann es einfach ausrechnen ob 630 erzeugt werden würde.\n",
    "Das ist viel schneller als tatsächlich nachzusehen! (Siehe nächste Zelle)\n",
    "    </p>\n",
    "</div>"
   ]
  },
  {
   "cell_type": "code",
   "execution_count": 61,
   "metadata": {
    "colab": {},
    "colab_type": "code",
    "id": "8dTdAHl9V6wP"
   },
   "outputs": [
    {
     "name": "stdout",
     "output_type": "stream",
     "text": [
      "360 ns ± 38.8 ns per loop (mean ± std. dev. of 7 runs, 1000000 loops each)\n"
     ]
    }
   ],
   "source": [
    "%timeit 630 in range(99999)"
   ]
  },
  {
   "cell_type": "markdown",
   "metadata": {
    "colab_type": "text",
    "id": "Hg7dEjLZV6wQ"
   },
   "source": [
    "Der Name 'Menge' hat auch **mathematische Relevanz**, Python-Mengen kann man auch als mathematische nutzen!"
   ]
  },
  {
   "cell_type": "markdown",
   "metadata": {
    "colab_type": "text",
    "id": "QnvelfjDV6wQ"
   },
   "source": [
    "### Symbole der Mengenleere in Python\n",
    "$\\setminus \\quad \\to \\quad$ ``` - ``` \\\n",
    "$\\cap \\quad \\to \\quad$ ``` & ``` \\\n",
    "$\\cup \\quad \\to \\quad$ ``` | ```\n",
    "\n",
    "Seien a, b zwei Teilmengen von $\\mathbb{N}$"
   ]
  },
  {
   "cell_type": "code",
   "execution_count": 62,
   "metadata": {
    "colab": {},
    "colab_type": "code",
    "id": "XMjMcHnHV6wR",
    "outputId": "3d67eb4d-b0c1-4646-e620-f17c8c441ad0"
   },
   "outputs": [
    {
     "data": {
      "text/plain": [
       "({1, 2}, {3}, {1, 2, 3, 4, 5})"
      ]
     },
     "execution_count": 62,
     "metadata": {},
     "output_type": "execute_result"
    }
   ],
   "source": [
    "a,b = {1,2,3}, {3,4,5}\n",
    "\n",
    "a - b  ,  a & b  ,  a|b"
   ]
  },
  {
   "cell_type": "markdown",
   "metadata": {
    "colab_type": "text",
    "id": "V4sAqOlnV6wT"
   },
   "source": [
    "<div class=\"alert alert-block alert-info\">\n",
    "<h3>Tipp: Weitere Mengenleere-Äquivalente in Python</h3>\n",
    "\n",
    "$\\in \\quad \\to \\quad$ <code> in </code> <br>\n",
    "$\\subset \\quad \\to \\quad$ <code> < </code> <br>\n",
    "$\\subseteq \\quad \\to \\quad$ <code> <= </code> <br>\n",
    "$\\supset \\quad \\to \\quad$ <code> > </code> <br>\n",
    "$\\supseteq \\quad \\to \\quad$ <code> >= </code> <br>\n",
    "$= \\quad \\to \\quad$ <code> == </code> <br>\n",
    "$\\ne \\quad \\to \\quad$ <code> != </code> <br>\n",
    "\n",
    "</div>"
   ]
  },
  {
   "cell_type": "code",
   "execution_count": 63,
   "metadata": {
    "colab": {},
    "colab_type": "code",
    "id": "5UiuKx2HV6wU"
   },
   "outputs": [
    {
     "name": "stdout",
     "output_type": "stream",
     "text": [
      "True\n"
     ]
    }
   ],
   "source": [
    "# Hier einfach ausprobieren, zB:\n",
    "a = {3,4}\n",
    "b = {3,4,1}\n",
    "print(a < b)"
   ]
  },
  {
   "cell_type": "markdown",
   "metadata": {
    "colab_type": "text",
    "id": "IYLLbDl1V6wV"
   },
   "source": [
    "Wenn wir zum Beispiel wissen wollen. **welche Gemeinden** in unserem Datensatz zu den Abfallwerten **vorkommen**, können wir einfach eine **Menge mit den Namen** erstellen:"
   ]
  },
  {
   "cell_type": "code",
   "execution_count": 64,
   "metadata": {
    "colab": {},
    "colab_type": "code",
    "id": "eBqIzm_FV6wW"
   },
   "outputs": [],
   "source": [
    "gemeinden = set(data_gefiltert.Gemeindename)"
   ]
  },
  {
   "cell_type": "code",
   "execution_count": 65,
   "metadata": {
    "colab": {},
    "colab_type": "code",
    "id": "BrRD2UmUV6wX",
    "outputId": "daca60bf-7a36-488d-c6e8-5b995363c7f7"
   },
   "outputs": [
    {
     "data": {
      "text/plain": [
       "True"
      ]
     },
     "execution_count": 65,
     "metadata": {},
     "output_type": "execute_result"
    }
   ],
   "source": [
    "'Graz' in gemeinden"
   ]
  },
  {
   "cell_type": "markdown",
   "metadata": {
    "colab_type": "text",
    "id": "KZkEUPRlV6wY"
   },
   "source": [
    "### *Was aber, wenn wir eine Kollektion multiplizieren wollen?*\n",
    "### *Was wenn wir zwei Kollektionen elementweise addieren wollen?*"
   ]
  },
  {
   "cell_type": "markdown",
   "metadata": {
    "colab_type": "text",
    "id": "2dyJMDiIV6wY"
   },
   "source": [
    "Mit Listen oder Tupeln bekommen wir nur längere Kollektionen:"
   ]
  },
  {
   "cell_type": "code",
   "execution_count": 66,
   "metadata": {
    "colab": {},
    "colab_type": "code",
    "id": "FL0H5po-V6wY",
    "scrolled": true
   },
   "outputs": [
    {
     "data": {
      "text/plain": [
       "([1, 2, 3, 1, 2, 3, 1, 2, 3], (1, 2, 3, 1, 2, 3, 1, 2, 3))"
      ]
     },
     "execution_count": 66,
     "metadata": {},
     "output_type": "execute_result"
    }
   ],
   "source": [
    "[1,2,3] * 3  ,  (1,2,3) * 3"
   ]
  },
  {
   "cell_type": "markdown",
   "metadata": {
    "colab_type": "text",
    "id": "JeZzEkoxV6wZ"
   },
   "source": [
    "Dicts und Sets können ein ELement nicht doppelt enthalten.\n",
    "\n",
    "*Was passiert wenn wir sie multiplizieren?*"
   ]
  },
  {
   "cell_type": "code",
   "execution_count": 67,
   "metadata": {
    "colab": {},
    "colab_type": "code",
    "id": "2NiLMRU4V6wZ"
   },
   "outputs": [
    {
     "name": "stdout",
     "output_type": "stream",
     "text": [
      "unsupported operand type(s) for *: 'set' and 'int'\n"
     ]
    }
   ],
   "source": [
    "try:\n",
    "    {1,2,3}*3\n",
    "except TypeError as e:\n",
    "    print(e)"
   ]
  },
  {
   "cell_type": "markdown",
   "metadata": {
    "colab_type": "text",
    "id": "BGVyaMi3V6wb"
   },
   "source": [
    "<div class=\"alert alert-block alert-info\">\n",
    "<h3>Tipp: try - except - Blöcke</h3>\n",
    "    <p>\n",
    "Mit try + except könnt ihr Fehlermeldungen abfangen.\n",
    "Allerdings ist dabei vorsicht geboten! Fängt man einfach\n",
    "jeden Fehler ab, wird der eigene Code nicht fehlerfrei\n",
    "sondern die Fehler nur weniger sichtbar.\n",
    "    </p>\n",
    "    <p>\n",
    "Try-Except-Blöcke eignen sich besonders dann, wenn man\n",
    "nicht weiß, welche Eingaben Nutzer dem Programm geben.\n",
    "    </p>\n",
    "</div>"
   ]
  },
  {
   "cell_type": "markdown",
   "metadata": {
    "colab_type": "text",
    "id": "oFeQ75IvV6wb"
   },
   "source": [
    "## Vektoren und Matrizen\n",
    "\n",
    ".. bieten die schnellste Variante mit Kollektionen **elementweise Operationen** zu ermöglichen."
   ]
  },
  {
   "cell_type": "markdown",
   "metadata": {
    "colab_type": "text",
    "id": "KDkbf7LpV6wb"
   },
   "source": [
    "Um mit **Vektoren und Matrizen** rechen zu können müssen wir die Bibliothek ```numpy``` importieren:"
   ]
  },
  {
   "cell_type": "code",
   "execution_count": 68,
   "metadata": {
    "colab": {},
    "colab_type": "code",
    "id": "plWcvkHPV6wb"
   },
   "outputs": [],
   "source": [
    "import numpy as np"
   ]
  },
  {
   "cell_type": "code",
   "execution_count": 69,
   "metadata": {
    "colab": {},
    "colab_type": "code",
    "id": "spa937yrV6wc"
   },
   "outputs": [],
   "source": [
    "# Führe diesen Befehl aus um Numpy zu installieren:\n",
    "try: \n",
    "    import numpy as np\n",
    "except ModuleNotFoundError:\n",
    "    %pip install numpy "
   ]
  },
  {
   "cell_type": "markdown",
   "metadata": {
    "colab_type": "text",
    "id": "ZWEX__CuV6wd"
   },
   "source": [
    "Ein Vektor lässt sich dann einfach mit ```np.array``` **erstellen und** dann auch gleich **multiplizieren**:"
   ]
  },
  {
   "cell_type": "code",
   "execution_count": 70,
   "metadata": {
    "colab": {},
    "colab_type": "code",
    "id": "d_ywyCyaV6wd",
    "outputId": "5d935e1a-0c82-4a42-e5e8-f02dd4755b9c"
   },
   "outputs": [
    {
     "data": {
      "text/plain": [
       "array([ 0,  2,  4,  6,  8, 10, 12, 14, 16, 18])"
      ]
     },
     "execution_count": 70,
     "metadata": {},
     "output_type": "execute_result"
    }
   ],
   "source": [
    "vektor = np.array(range(10))\n",
    "vektor * 2"
   ]
  },
  {
   "cell_type": "markdown",
   "metadata": {
    "colab_type": "text",
    "id": "gQp368B9V6wf"
   },
   "source": [
    "Eine Matrix ist dann einfach ein **Vektor welcher Vektoren als Elemente** beinhält."
   ]
  },
  {
   "cell_type": "code",
   "execution_count": 71,
   "metadata": {
    "colab": {},
    "colab_type": "code",
    "id": "wck6qCHbV6wg",
    "outputId": "23fcbc18-ab2b-4cfc-ae6d-d2efc2c354af"
   },
   "outputs": [
    {
     "data": {
      "text/plain": [
       "matrix([[0, 3, 6],\n",
       "        [0, 3, 6],\n",
       "        [0, 3, 6]])"
      ]
     },
     "execution_count": 71,
     "metadata": {},
     "output_type": "execute_result"
    }
   ],
   "source": [
    "matrix = np.matrix([range(3)]*3)\n",
    "\n",
    "matrix*3"
   ]
  },
  {
   "cell_type": "markdown",
   "metadata": {
    "colab_type": "text",
    "id": "6u8xMOw1V6wg"
   },
   "source": [
    "**Matrix-Multiplikation** benutzt dann den speziellen **Operator** ```@```!"
   ]
  },
  {
   "cell_type": "code",
   "execution_count": 72,
   "metadata": {
    "colab": {},
    "colab_type": "code",
    "id": "_iur8nzqV6wg",
    "outputId": "a001677c-3fa0-4cd2-9972-25310b5c291f"
   },
   "outputs": [
    {
     "data": {
      "text/plain": [
       "matrix([[0, 3, 6],\n",
       "        [0, 3, 6],\n",
       "        [0, 3, 6]])"
      ]
     },
     "execution_count": 72,
     "metadata": {},
     "output_type": "execute_result"
    }
   ],
   "source": [
    "matrix @ matrix"
   ]
  },
  {
   "cell_type": "markdown",
   "metadata": {
    "colab_type": "text",
    "id": "FEZWpjdKV6wh"
   },
   "source": [
    "**Achtung!** Vor Python Version ```3.5``` gibt es dieses ```@``` nicht! \\\n",
    "In dem Fall benutzt man besser ```np.matrix``` und ```*```. Diese Matrizen können aber **nur 2-dimensional** sein."
   ]
  },
  {
   "cell_type": "markdown",
   "metadata": {
    "colab_type": "text",
    "id": "sX1gekwSV6wh"
   },
   "source": [
    "Als **Vergleich** zu den vorherigen Kollektions-Typen soll auch hier der **Geschwindigkeitstest zur Zugehörigkeitsprüfung** vollzogen werden:"
   ]
  },
  {
   "cell_type": "code",
   "execution_count": 73,
   "metadata": {
    "colab": {},
    "colab_type": "code",
    "id": "GfR323AFV6wi",
    "outputId": "366c5b7a-10b3-4eaa-f1fc-a58319659d34"
   },
   "outputs": [
    {
     "name": "stdout",
     "output_type": "stream",
     "text": [
      "47.8 µs ± 2.33 µs per loop (mean ± std. dev. of 7 runs, 10000 loops each)\n"
     ]
    }
   ],
   "source": [
    "test_vektor = np.array(range(99999))\n",
    "\n",
    "%timeit 630 in test_vektor"
   ]
  },
  {
   "cell_type": "markdown",
   "metadata": {
    "colab_type": "text",
    "id": "VEqpKTQZV6wi"
   },
   "source": [
    "Die Masse des Abfalls in unserer Datenbank ist in \\[kg\\] gegeben.\n",
    "\n",
    "*Wie wandeln wir sie in Tonnen um?*"
   ]
  },
  {
   "cell_type": "code",
   "execution_count": 74,
   "metadata": {
    "colab": {},
    "colab_type": "code",
    "id": "OSG530WbV6wj",
    "outputId": "375a14a6-5244-4dce-9231-92b545bb444e"
   },
   "outputs": [
    {
     "data": {
      "text/plain": [
       "array([5.0927769e+04, 8.8308700e+03, 2.1996780e+04, ..., 9.5300000e+00,\n",
       "       8.4000000e-01, 2.1650000e+00])"
      ]
     },
     "execution_count": 74,
     "metadata": {},
     "output_type": "execute_result"
    }
   ],
   "source": [
    "UMRECHNUNGSFAKTOR = 0.001\n",
    "\n",
    "np.array(data_gefiltert[\"Masse in kg\"])*UMRECHNUNGSFAKTOR"
   ]
  },
  {
   "cell_type": "markdown",
   "metadata": {
    "colab_type": "text",
    "id": "yJyT9NCPV6wk"
   },
   "source": [
    "<div class=\"alert alert-block alert-info\">\n",
    "<h3>Tipp: Groß-, Kleinschreibung und Unterstriche</h3>\n",
    "    <p>\n",
    "    In Python gibt es einige <b>Konventionen</b> was die Benennung von Variablen, Konstanten, Objekten, und Definitionen betrifft.\n",
    "    </p>\n",
    "    <p>\n",
    "<code>KONSTANTE</code> $\\to$ Eine Konstante wird mit Großbuchstaben benannt. Sie soll konstant bleiben! <br>\n",
    "<code>name_einer_variable</code> $\\to$ Variablen werden in Kleinbuchstaben geschrieben. <br>\n",
    "<code>KlassenName</code> $\\to$ Erstellt man eine Klasse, wirname_einer_d nur jeder erste Buchstabe groß geschrieben. <br>\n",
    "<code>name_einer_funktion</code> $\\to$ Funktionen und Variablen haben oft zur besseren Verständlichkeit längere Namen.\n",
    "    </p>\n",
    "    <p>\n",
    "Wörter trennt man mit Unterstrich <code>_</code>\n",
    "    </p>\n",
    "</div>"
   ]
  },
  {
   "cell_type": "markdown",
   "metadata": {
    "colab_type": "text",
    "id": "SuC9i5gbV6wk"
   },
   "source": [
    "## Slices (Scheibchen)\n",
    "Elemente von **Kollektionen** in Python lassen sich nicht nur einzeln über ihren Index aufrufen. \\\n",
    "Man kann die Kollektionen auch **in Scheibchen schneiden**."
   ]
  },
  {
   "cell_type": "markdown",
   "metadata": {
    "colab_type": "text",
    "id": "0SncNq0UV6wk"
   },
   "source": [
    "Slices funktionieren ganz **ähnlich** wie ```range```. Sie haben einen ```start``` - und einen ```stop``` - Wert und einen Wert\n",
    "```step``` für die Schrittweite. \\\n",
    "Um eine Kollektion zu zerschneiden, setzen wir diese **Werte in dieser Reihenfolge**\n",
    "in **eckige Klammern** ```[]``` nach der Kollektion."
   ]
  },
  {
   "cell_type": "code",
   "execution_count": 75,
   "metadata": {
    "colab": {},
    "colab_type": "code",
    "id": "mdok_7BkV6wk",
    "outputId": "656d61a8-3fce-4c2d-e272-01c1bcb469b3"
   },
   "outputs": [
    {
     "data": {
      "text/plain": [
       "[3, 5]"
      ]
     },
     "execution_count": 75,
     "metadata": {},
     "output_type": "execute_result"
    }
   ],
   "source": [
    "null_bis_zehn = list(range(10))\n",
    "null_bis_zehn[3:7:2]"
   ]
  },
  {
   "cell_type": "markdown",
   "metadata": {
    "colab_type": "text",
    "id": "4-kLbQVkV6wl"
   },
   "source": [
    "Setzt man **keinen Wert** ```step``` für die Schrittweite ist sie **automatisch 1**:"
   ]
  },
  {
   "cell_type": "code",
   "execution_count": 76,
   "metadata": {
    "colab": {},
    "colab_type": "code",
    "id": "y9biqknlV6wl",
    "outputId": "ab369923-4552-4abf-cc94-5439f632519c"
   },
   "outputs": [
    {
     "data": {
      "text/plain": [
       "(3, 4, 5)"
      ]
     },
     "execution_count": 76,
     "metadata": {},
     "output_type": "execute_result"
    }
   ],
   "source": [
    "tuple(range(10))[3:6:]"
   ]
  },
  {
   "cell_type": "markdown",
   "metadata": {
    "colab_type": "text",
    "id": "l7wM1LgAV6wm"
   },
   "source": [
    "Lässt man den ```start``` - Wert **weg**, wird er **als 0 interpretiert**:"
   ]
  },
  {
   "cell_type": "code",
   "execution_count": 77,
   "metadata": {
    "colab": {},
    "colab_type": "code",
    "id": "oPzBUEi8V6wm",
    "outputId": "82a78d5b-a6fb-43c7-95d5-b6b7f2dbc9f5"
   },
   "outputs": [
    {
     "data": {
      "text/plain": [
       "[0, 1, 2, 3, 4, 5]"
      ]
     },
     "execution_count": 77,
     "metadata": {},
     "output_type": "execute_result"
    }
   ],
   "source": [
    "list(range(10))[:6]"
   ]
  },
  {
   "cell_type": "markdown",
   "metadata": {
    "colab_type": "text",
    "id": "ML4s9NjNV6wn"
   },
   "source": [
    "Bei einer Slice **ohne Endwert**, ist dieser gleich der **Länge der Kollektion**:"
   ]
  },
  {
   "cell_type": "code",
   "execution_count": 78,
   "metadata": {
    "colab": {},
    "colab_type": "code",
    "id": "7rrlqANnV6wo",
    "outputId": "2f200c46-9c8e-4e9e-b51c-68168881407d"
   },
   "outputs": [
    {
     "data": {
      "text/plain": [
       "(3, 5, 7, 9)"
      ]
     },
     "execution_count": 78,
     "metadata": {},
     "output_type": "execute_result"
    }
   ],
   "source": [
    "tuple(range(10))[3::2]"
   ]
  },
  {
   "cell_type": "markdown",
   "metadata": {
    "colab_type": "text",
    "id": "VXlecCx0V6wo"
   },
   "source": [
    "### Slices sind äußerst vielseitig:"
   ]
  },
  {
   "cell_type": "markdown",
   "metadata": {
    "colab_type": "text",
    "id": "ipbj70MmV6wp"
   },
   "source": [
    "Wir können **jedes zweite** Element wählen:"
   ]
  },
  {
   "cell_type": "code",
   "execution_count": 79,
   "metadata": {
    "colab": {},
    "colab_type": "code",
    "id": "EArT4LiMV6wp",
    "outputId": "2e515502-b80d-4282-b522-6005904f00eb"
   },
   "outputs": [
    {
     "data": {
      "text/plain": [
       "[0, 2, 4, 6, 8]"
      ]
     },
     "execution_count": 79,
     "metadata": {},
     "output_type": "execute_result"
    }
   ],
   "source": [
    "null_bis_zehn[::2]"
   ]
  },
  {
   "cell_type": "markdown",
   "metadata": {
    "colab_type": "text",
    "id": "tR71AUlMV6wq"
   },
   "source": [
    "Oder eine Liste **umkehren**:"
   ]
  },
  {
   "cell_type": "code",
   "execution_count": 80,
   "metadata": {
    "colab": {},
    "colab_type": "code",
    "id": "TjLWjRwnV6wq",
    "outputId": "62489999-822c-4121-bd3d-70228e6ce0a7"
   },
   "outputs": [
    {
     "data": {
      "text/plain": [
       "[9, 8, 7, 6, 5, 4, 3, 2, 1, 0]"
      ]
     },
     "execution_count": 80,
     "metadata": {},
     "output_type": "execute_result"
    }
   ],
   "source": [
    "null_bis_zehn[::-1]"
   ]
  },
  {
   "cell_type": "markdown",
   "metadata": {
    "colab_type": "text",
    "id": "R7PZJ9g_V6wr"
   },
   "source": [
    "Oder eine **Kopie** einer Kollektion erstellen: (*der Typ bleibt dabei gleich*)"
   ]
  },
  {
   "cell_type": "code",
   "execution_count": 81,
   "metadata": {
    "colab": {},
    "colab_type": "code",
    "id": "UhwFqmG9V6wr",
    "outputId": "bb8b2798-cace-44bd-a35e-c2e9f49e9023"
   },
   "outputs": [
    {
     "data": {
      "text/plain": [
       "False"
      ]
     },
     "execution_count": 81,
     "metadata": {},
     "output_type": "execute_result"
    }
   ],
   "source": [
    "null_bis_zehn[::] is null_bis_zehn"
   ]
  },
  {
   "cell_type": "markdown",
   "metadata": {
    "colab_type": "text",
    "id": "j-h29nA2V6wt"
   },
   "source": [
    "*Wie erhält man rückwärts jedes zweite Element?*"
   ]
  },
  {
   "cell_type": "code",
   "execution_count": 82,
   "metadata": {
    "colab": {},
    "colab_type": "code",
    "id": "bdCsZy3gV6wt"
   },
   "outputs": [
    {
     "data": {
      "text/plain": [
       "[9, 7, 5, 3, 1]"
      ]
     },
     "execution_count": 82,
     "metadata": {},
     "output_type": "execute_result"
    }
   ],
   "source": [
    "null_bis_zehn[-1::-2]"
   ]
  },
  {
   "cell_type": "markdown",
   "metadata": {
    "colab_type": "text",
    "id": "ojDpyepWV6wu"
   },
   "source": [
    "### Slices funktionieren auch als Objekte\n",
    "Wie bei ```range``` kann man auch einer **Slice als Objekt** einen Namen geben. \\\n",
    "Man erzeugt eine solche mittels:\n",
    "```slice( start, stop, step)```\n",
    "\n",
    "Das ist dann praktisch, wenn man **mehrere Listen gleich zerschneiden** will."
   ]
  },
  {
   "cell_type": "markdown",
   "metadata": {
    "colab_type": "text",
    "id": "8CrfDb7tV6wu"
   },
   "source": [
    "Eine **Datenbank** wurde uns **in** mehreren **gleich geordneten Listen** übergeben. \\\n",
    "Wir wollen jeweils nur **jedes zweite Element** dieser Datenbank, ab dem\n",
    "**50sten** jeweiligen Element **bis zum 100sten**.\n",
    "\n",
    "*Welche Werte müssen wir setzen?*"
   ]
  },
  {
   "cell_type": "code",
   "execution_count": 83,
   "metadata": {
    "colab": {},
    "colab_type": "code",
    "id": "Z9zD6YqeV6ww"
   },
   "outputs": [],
   "source": [
    "startwert = 50\n",
    "endwert = 61\n",
    "schrittwert = 2\n",
    "\n",
    "ausschnitt = slice(startwert, endwert, schrittwert)"
   ]
  },
  {
   "cell_type": "code",
   "execution_count": 84,
   "metadata": {
    "colab": {},
    "colab_type": "code",
    "id": "GlhUSWbJV6wx",
    "outputId": "769bdc2f-a03c-4550-a486-5cdc863065d3"
   },
   "outputs": [
    {
     "data": {
      "text/plain": [
       "slice"
      ]
     },
     "execution_count": 84,
     "metadata": {},
     "output_type": "execute_result"
    }
   ],
   "source": [
    "type(ausschnitt)"
   ]
  },
  {
   "cell_type": "code",
   "execution_count": 85,
   "metadata": {
    "colab": {},
    "colab_type": "code",
    "id": "5bMtpIh9V6wy",
    "outputId": "ff5872be-3441-4711-fcf4-400bbe691330"
   },
   "outputs": [
    {
     "data": {
      "text/plain": [
       "[50, 52, 54, 56, 58, 60]"
      ]
     },
     "execution_count": 85,
     "metadata": {},
     "output_type": "execute_result"
    }
   ],
   "source": [
    "# Die Anwendung funktioniert wieder mittels eckiger Klammern:\n",
    "list(range(200))[ausschnitt]"
   ]
  },
  {
   "cell_type": "markdown",
   "metadata": {
    "colab_type": "text",
    "id": "_vdlJaYEV6wy"
   },
   "source": [
    "# Pause"
   ]
  },
  {
   "cell_type": "markdown",
   "metadata": {
    "colab_type": "text",
    "id": "sHs6RvEbV6wy"
   },
   "source": [
    "<div class=\"alert alert-block alert-warning\">\n",
    "    <h2>Ausdrücke</h2>\n",
    "    <p>\n",
    "Python kennt einige <b>Schlüsselwörter</b> welche sogenannte <b>Ausdrücke</b> einleiten. <br>\n",
    "    Ein Ausdruck wird mit einem <b>Doppelpunkt</b> <code>:</code> beendet. <br>\n",
    "    Ihm folgt ein sogenannter <b>Block</b> welcher mit <b>4 Leerzeichen</b> eingerückt ist. <br>\n",
    "Dieser Block gehört zum Ausdruck und wird <b>abhängig von diesem ausgeführt</b>.\n",
    "</p>\n",
    "<p>\n",
    "Alle Zeilen welche mit derselben <b>Anzahl an Leerzeichen</b> beginnen, <br>\n",
    "werden einem <b>Block zugehörig</b> interpretiert.\n",
    "    </p>\n",
    "    <p>\n",
    "Einer der wichtigsten Formen von Ausdrücken sind <b>Funktionen</b>.\n",
    "    </p>\n",
    "</div>"
   ]
  },
  {
   "cell_type": "markdown",
   "metadata": {
    "colab_type": "text",
    "id": "LQDo_brxV6wz"
   },
   "source": [
    "## Funktionen\n",
    "Das Schlüsselwort um eine Funktion zu erstellen lautet ```def```\n",
    "\n",
    "Darauf folgt dann der **Name** der Funktion. \n",
    "In der folgenden **Klammer** weißt man allen **Argumenten** \\\n",
    "welche die Funktion übernehmen soll **ihre Namen** zu.\n",
    "\n",
    "Ein weiteres wichtiges Schlüsselwort ist ```return``` nach welchem der **Rückgabewert** der Funktion folgt."
   ]
  },
  {
   "cell_type": "markdown",
   "metadata": {
    "colab_type": "text",
    "id": "06S-f8PWV6wz"
   },
   "source": [
    "<div class=\"alert alert-block alert-info\">\n",
    "<h3>Tipp: Funktionsaufrufe in Python</h3>\n",
    "    <p>\n",
    "Wie wir bereits wissen, ist eine <b>Variable</b> in Python nur ein Name welcher einer <b>ID</b> eines im Speicher liegenden <b>Objekt</b>s zugewiesen ist. <br>\n",
    "Was erhält nun eine Funktion als <b>Argument</b> wenn wir sie aufrufen?\n",
    "<ul>\n",
    "    <li>Eine Kopie des Objekts?</li>\n",
    "    <li>Den Namen?</li>\n",
    "    <li>Die ID?</li>\n",
    "</ul>\n",
    "</p>\n",
    "    <p>\n",
    "    Nichts von alledem! Sie erhält <b>einen neuen Namen</b> für die selbe <b>ID</b>, also auch <b>das selbe Objekt</b>. <br>\n",
    "Dementsprechend kann sie ein mutables Objekt verändern, nicht aber dessen ID.\n",
    "    </p>\n",
    "</div>"
   ]
  },
  {
   "cell_type": "code",
   "execution_count": 86,
   "metadata": {
    "colab": {},
    "colab_type": "code",
    "id": "8GR9dcHmV6wz",
    "outputId": "0b926b12-ccaf-4e65-b8ca-6a55f00ab662"
   },
   "outputs": [
    {
     "data": {
      "text/plain": [
       "function"
      ]
     },
     "execution_count": 86,
     "metadata": {},
     "output_type": "execute_result"
    }
   ],
   "source": [
    "def funktionsname(argument1,argument2,):\n",
    "    ergebnis = argument1 - argument2\n",
    "    return ergebnis\n",
    "\n",
    "type(funktionsname)"
   ]
  },
  {
   "cell_type": "markdown",
   "metadata": {
    "colab_type": "text",
    "id": "qxQVJpUrV6w0"
   },
   "source": [
    "Mit dem **Schlüsselwort** ```lambda``` lässt sich eine Funktion auch **in nur einer Zeile** definieren. "
   ]
  },
  {
   "cell_type": "code",
   "execution_count": 87,
   "metadata": {
    "colab": {},
    "colab_type": "code",
    "id": "sAiqydZEV6w1",
    "outputId": "9b99a35a-c362-440f-ba4e-a3c20607429e"
   },
   "outputs": [
    {
     "data": {
      "text/plain": [
       "function"
      ]
     },
     "execution_count": 87,
     "metadata": {},
     "output_type": "execute_result"
    }
   ],
   "source": [
    "lambdafunktion = lambda argument1,argument2: argument1 - argument2\n",
    "\n",
    "type(lambdafunktion)"
   ]
  },
  {
   "cell_type": "markdown",
   "metadata": {
    "colab_type": "text",
    "id": "MAD2X3qoV6w2"
   },
   "source": [
    "Außerdem muss ihr dabei **kein Name** zugewiesen werden."
   ]
  },
  {
   "cell_type": "code",
   "execution_count": 88,
   "metadata": {
    "colab": {},
    "colab_type": "code",
    "id": "oLqz57OSV6w2",
    "outputId": "7470c82d-950c-40be-c94d-4464f0c8db73"
   },
   "outputs": [
    {
     "data": {
      "text/plain": [
       "function"
      ]
     },
     "execution_count": 88,
     "metadata": {},
     "output_type": "execute_result"
    }
   ],
   "source": [
    "type(lambda argument1,argument2: argument1 - argument2)"
   ]
  },
  {
   "cell_type": "markdown",
   "metadata": {
    "colab_type": "text",
    "id": "-BYfL5S6V6w2"
   },
   "source": [
    "Man bezeichnet ```lambda``` - Funktionen daher auch als **anonyme Funktionen**."
   ]
  },
  {
   "cell_type": "markdown",
   "metadata": {
    "colab_type": "text",
    "id": "s2J6WhpfV6w3"
   },
   "source": [
    "<div class=\"alert alert-block alert-info\">\n",
    "<h3>Tipp: Funktionen als Bürger erster Klasse</h3>\n",
    " <p>   \n",
    "     <code>lambda</code> - Ausdrücke sind <b>nützlicher</b> als man auf den ersten Blick denkt. <br>\n",
    "In Python stellen <b>Funktionen 'Bürger erster Klasse'</b> dar. Das heißt,\n",
    "     dass Funktionen andere <b>Funktionen als Argument</b> übernehmen <b>oder als Ergebnis</b> ausgeben können. <br>\n",
    "Die Funktion <code>map</code> nimmt zB eine Funktion mit einem Argument, und wendet sie auf\n",
    "alle Elemente einer Kollektion an:\n",
    "    </p>\n",
    "</div>"
   ]
  },
  {
   "cell_type": "code",
   "execution_count": 89,
   "metadata": {
    "colab": {},
    "colab_type": "code",
    "id": "DxoK3geHV6w3"
   },
   "outputs": [
    {
     "data": {
      "text/plain": [
       "[0, 1, 4, 9, 16, 25, 36, 49, 64, 81]"
      ]
     },
     "execution_count": 89,
     "metadata": {},
     "output_type": "execute_result"
    }
   ],
   "source": [
    "list(map(lambda x: x*x,range(10)))"
   ]
  },
  {
   "cell_type": "markdown",
   "metadata": {
    "colab_type": "text",
    "id": "U3EsA4UgV6w3"
   },
   "source": [
    "<div class=\"alert alert-block alert-info\">\n",
    "<p>\n",
    "Wie man sieht, musste keine Funktion <code>quadrat</code> definiert werden.\n",
    "Eine anonyme <code>lambda</code> - Funktion übernimmt stattdessn die Aufgabe <br>\n",
    "ein Objekt der Klasse <code>'function'</code> zu erstellen.\n",
    "    </p>\n",
    "    <p>\n",
    "In der Tipp - Box zu <code>range</code> weiter oben kann man eine weitere Anwendung\n",
    "der Funktionen als Bürger erster Klasse erkennen. <br>\n",
    "        Wir werden <b>später</b> und vor allem im <b>Teil 6 (Functional Programming)</b> dieser Lehrveranstaltung noch mehr von Funktionen als First-Class-Citizens profitieren.\n",
    "    </p>\n",
    "</div>"
   ]
  },
  {
   "cell_type": "markdown",
   "metadata": {
    "colab_type": "text",
    "id": "-ax2i9_qV6w4"
   },
   "source": [
    "Wieder zur **Abfalldatenbank**.\n",
    "\n",
    "Wir wollen die Angaben **einzelner Massen von Kilogramm in Tonnen** umwandeln!\n",
    "\n",
    "Also definieren wir eine Funktion ```kg_in_t```:"
   ]
  },
  {
   "cell_type": "code",
   "execution_count": 90,
   "metadata": {
    "colab": {},
    "colab_type": "code",
    "id": "yOn214NyV6w4"
   },
   "outputs": [],
   "source": [
    "def kg_in_t(masse):\n",
    "    return masse * 10**-3"
   ]
  },
  {
   "cell_type": "markdown",
   "metadata": {
    "colab_type": "text",
    "id": "mVjNtmWRV6w4"
   },
   "source": [
    "Wir können auch gleich **testen** ob diese Funktion das macht, was wir erwarten:"
   ]
  },
  {
   "cell_type": "code",
   "execution_count": 91,
   "metadata": {
    "colab": {},
    "colab_type": "code",
    "id": "KNwcDrBaV6w4",
    "outputId": "bfa36868-9705-4343-96e4-eb6c0d613bc0"
   },
   "outputs": [
    {
     "data": {
      "text/plain": [
       "1.0"
      ]
     },
     "execution_count": 91,
     "metadata": {},
     "output_type": "execute_result"
    }
   ],
   "source": [
    "kg_in_t(1000)"
   ]
  },
  {
   "cell_type": "markdown",
   "metadata": {
    "colab_type": "text",
    "id": "nBzAOEiSV6w5"
   },
   "source": [
    "## Konditionelle Ausdrücke\n",
    "Es kommt sehr häufig vor, dass wir abhängig von einer **Kondition** \\\n",
    "einen gewissen **Teil** eines Programmes **ausführen** wollen oder einen anderen."
   ]
  },
  {
   "cell_type": "markdown",
   "metadata": {
    "colab_type": "text",
    "id": "fsR62t7SV6w5"
   },
   "source": [
    "Mit den Schlüsselwörtern ```if```, ```else``` und ```elif``` kann man genau das erreichen!"
   ]
  },
  {
   "cell_type": "markdown",
   "metadata": {
    "colab_type": "text",
    "id": "AssEF5HMV6w5"
   },
   "source": [
    "+ ```if```  erwartet eine Variable, Operation oder Funktion, welche \n",
    "  als ```True``` oder ```False``` interpretiert werden kann. \\\n",
    "  Danach folgt ein **Doppelpunkt** und ein **Code - Block** welcher \n",
    "  im Fall von ```True``` ausgeführt wird."
   ]
  },
  {
   "cell_type": "markdown",
   "metadata": {
    "colab_type": "text",
    "id": "GnjW828uV6w6"
   },
   "source": [
    "+ ```else:``` **folgt** nach diesem Block und wird genausoweit eingerückt wie das vorherige ```if```. \\\n",
    "  Ihm folgt ein **Block** welcher ausgeführt wird falls zuvor ```False``` dem ```if``` folgte."
   ]
  },
  {
   "cell_type": "markdown",
   "metadata": {
    "colab_type": "text",
    "id": "W0mHd1ANV6w6"
   },
   "source": [
    "+ ```elif``` ist kurz für ```else``` + ```if```. \n",
    "  Es **folgt** also auf einen ```if``` - Block, leitet aber selbst einen **neuen** ein."
   ]
  },
  {
   "cell_type": "code",
   "execution_count": 92,
   "metadata": {
    "colab": {},
    "colab_type": "code",
    "id": "cjMsiuNZV6w6",
    "outputId": "a3d49c57-5e35-4b73-fbc1-c729a887849a"
   },
   "outputs": [
    {
     "name": "stdout",
     "output_type": "stream",
     "text": [
      "Yes\n"
     ]
    }
   ],
   "source": [
    "variable = 6\n",
    "if variable > 5:\n",
    "    print(\"Yes\")\n",
    "else:\n",
    "    print(\"No\")"
   ]
  },
  {
   "cell_type": "markdown",
   "metadata": {
    "colab_type": "text",
    "id": "H6vzCJiWV6w7"
   },
   "source": [
    "<div class=\"alert alert-block alert-info\">\n",
    "<h3>Tipp: Kurzschlüsse von logischen Operatoren</h3>\n",
    "    <p>\n",
    "Steht ein <code>False</code> vor einem <code>and</code> oder ein <code>True</code> vor einem <code>or</code> <br>\n",
    "so ist das Ergebnis schon ohne den Operator berechnen zu müssen bekannt.\n",
    "    </p>\n",
    "    <p>\n",
    "        Python macht daher sogenannte <b>Kurzschlüsse</b> und sieht sich gar nicht mehr an, <br>\n",
    "welches zweite Argument dem Operator übergeben wurde.\n",
    "    </p>\n",
    "    <p>\n",
    "Wie man folgenden Beispiel sieht, ergibt dann die Division durch 0 keinen Fehler, <br>\n",
    "sie muss schließlich nie berechnet werden.\n",
    "    </p>\n",
    "</div>"
   ]
  },
  {
   "cell_type": "code",
   "execution_count": 93,
   "metadata": {
    "colab": {},
    "colab_type": "code",
    "id": "2fST5im0V6w7"
   },
   "outputs": [
    {
     "name": "stdout",
     "output_type": "stream",
     "text": [
      "()\n",
      "\n",
      "False\n",
      "True\n"
     ]
    }
   ],
   "source": [
    "print(True and ())\n",
    "print(\"\") # Leerzeile\n",
    "# Short-Circuit Beispiele:\n",
    "print(False and ())\n",
    "print(True or (1/0))"
   ]
  },
  {
   "cell_type": "markdown",
   "metadata": {
    "colab_type": "text",
    "id": "kCa7Y3kBV6w8"
   },
   "source": [
    "Zum **Abfallsdatensatz**.\n",
    "\n",
    "Wir wollen einen **Grenzwert** setzen ab welchem der Wert für 'kg Abfall pro Person' alarmierend wird:"
   ]
  },
  {
   "cell_type": "code",
   "execution_count": 94,
   "metadata": {
    "colab": {},
    "colab_type": "code",
    "id": "WiaBfp6xV6w8"
   },
   "outputs": [],
   "source": [
    "def alarm(nr,kg_pro_pers):\n",
    "    if kg_pro_pers > 100:\n",
    "        print(\"Alarm! Nr: %.2f überschreitet Grenzwert!\"%nr)\n",
    "        \n",
    "    # Das else kann hier ausgelassen werden, dient jedoch \n",
    "    # der Code-Qualität\n",
    "    else:\n",
    "        pass"
   ]
  },
  {
   "cell_type": "code",
   "execution_count": 95,
   "metadata": {
    "colab": {},
    "colab_type": "code",
    "id": "PBUO2wh4V6w9",
    "outputId": "52077bed-024f-4ef8-b9d8-c25f19cb6871"
   },
   "outputs": [
    {
     "name": "stdout",
     "output_type": "stream",
     "text": [
      "Alarm! Nr: 1.00 überschreitet Grenzwert!\n"
     ]
    }
   ],
   "source": [
    "alarm(1,120)"
   ]
  },
  {
   "cell_type": "markdown",
   "metadata": {
    "colab_type": "text",
    "id": "I7F8biAaV6w9"
   },
   "source": [
    "Eine **Warnung bevor Grenzwerte überschritten werden** ist praktisch also bauen wir auch eine solche ein!"
   ]
  },
  {
   "cell_type": "code",
   "execution_count": 96,
   "metadata": {
    "colab": {},
    "colab_type": "code",
    "id": "TAv45nwbV6w9"
   },
   "outputs": [],
   "source": [
    "GRENZWERT = 100\n",
    "WARNWERT  = GRENZWERT - GRENZWERT/10\n",
    "\n",
    "def warnung_und_alarm(nr,kg_pro_person):\n",
    "    if kg_pro_person > GRENZWERT:\n",
    "        print(\"Alarm! Nr: {} überschreitet Grenzwert!\".format(nr))\n",
    "    elif kg_pro_person > WARNWERT:\n",
    "        print(\"Achtung! Nr: {} ist nah am Grenzwert!\".format(nr))\n",
    "    else:\n",
    "        print(\"Nr {} passt.\".format(nr))"
   ]
  },
  {
   "cell_type": "code",
   "execution_count": 97,
   "metadata": {
    "colab": {},
    "colab_type": "code",
    "id": "DehUgBG3V6w-",
    "outputId": "73094f66-63d7-41ff-a7a4-6fab711d39d4"
   },
   "outputs": [
    {
     "name": "stdout",
     "output_type": "stream",
     "text": [
      "Nr 0 passt.\n"
     ]
    }
   ],
   "source": [
    "warnung_und_alarm(0,80)"
   ]
  },
  {
   "cell_type": "markdown",
   "metadata": {
    "colab_type": "text",
    "id": "ZP33DF8tV6w_"
   },
   "source": [
    "<div class=\"alert alert-block alert-info\">\n",
    "<h3>Tipp: Leerzeichen in Formeln</h3>\n",
    "    <p>\n",
    "Python weiß von selbst, dass Punkt - vor Strich - Rechnung erfolgt. <br>\n",
    "Allerdings lässt sich eine Formel im Code schneller lesen und verstehen, <br>\n",
    "wenn man die später erfolgenden Rechenoperationen mit Beistrichen versieht.\n",
    "    </p>\n",
    "    <p>\n",
    "Aus <code>a-b/2</code> wird also <code>a - b/2</code>. <br>\n",
    "Und aus <code>a*b**2</code> dann <code>a * b**2</code>.\n",
    "    </p>\n",
    "</div>"
   ]
  },
  {
   "cell_type": "markdown",
   "metadata": {
    "colab_type": "text",
    "id": "Iva6gsixV6w_"
   },
   "source": [
    "## Rekursive Funktionen\n",
    "\n",
    "Funktionen können sich auch **selbst aufrufen**. Solche Funktionen nennt man dann **rekursiv**.\n",
    "\n",
    "Ein **Countdown** kann zum Beispiel als solche **implementiert** werden:"
   ]
  },
  {
   "cell_type": "markdown",
   "metadata": {
    "colab_type": "text",
    "id": "uqBtGgP6V6w_"
   },
   "source": [
    "*Mit sleep können wir den Computer zwischendurch etwas warten lassen. Das brauchen wir dann gleich.*"
   ]
  },
  {
   "cell_type": "code",
   "execution_count": 98,
   "metadata": {
    "colab": {},
    "colab_type": "code",
    "id": "bArBEd2QV6w_"
   },
   "outputs": [],
   "source": [
    "from time import sleep"
   ]
  },
  {
   "cell_type": "code",
   "execution_count": 99,
   "metadata": {
    "colab": {},
    "colab_type": "code",
    "id": "UYOlSqriV6xA"
   },
   "outputs": [],
   "source": [
    "def countdown(startwert):\n",
    "    if startwert < 0:\n",
    "        return None\n",
    "    else:\n",
    "        print(startwert, end=' ')\n",
    "        sleep(0.5)\n",
    "        countdown(startwert-1)"
   ]
  },
  {
   "cell_type": "code",
   "execution_count": 100,
   "metadata": {
    "colab": {},
    "colab_type": "code",
    "id": "t0urPZFnV6xC",
    "outputId": "78c2662c-7862-4f4f-da34-a5285db4376e"
   },
   "outputs": [
    {
     "name": "stdout",
     "output_type": "stream",
     "text": [
      "10 9 8 7 6 5 4 3 2 1 0 "
     ]
    }
   ],
   "source": [
    "countdown(10)"
   ]
  },
  {
   "cell_type": "markdown",
   "metadata": {
    "colab_type": "text",
    "id": "M5axAA7QV6xE"
   },
   "source": [
    "<div class=\"alert alert-block alert-info\">\n",
    "<h3>Tipp: Strings formatieren mit '%'</h3>\n",
    " <p>\n",
    "Als Beispiel eine etwas schönere Countdown-Funktion. <br>\n",
    "Mit <code>'\\r'</code> lassen wir die Ausgabe immer wieder\n",
    "von vorne starten. <br>\n",
    "Mit <code>'%i'</code> sagen wir Python, dass wir eine Ganzzahl\n",
    "in unseren String setzen wollen. <br>\n",
    "Mit <code>%startwert</code> nach dem String geben wir Python\n",
    "dann den passenden Wert dazu:\n",
    "    </p>\n",
    "</div>"
   ]
  },
  {
   "cell_type": "code",
   "execution_count": 101,
   "metadata": {
    "colab": {},
    "colab_type": "code",
    "id": "sYNgiPbJV6xE"
   },
   "outputs": [
    {
     "name": "stdout",
     "output_type": "stream",
     "text": [
      "0  "
     ]
    }
   ],
   "source": [
    "def countdown(startwert):\n",
    "    if startwert < 0:\n",
    "        return None\n",
    "    else:\n",
    "        print(\"\\r%i\"%startwert, end=' ')\n",
    "        sleep(1)\n",
    "        countdown(startwert-1)\n",
    "        \n",
    "countdown(10)"
   ]
  },
  {
   "cell_type": "markdown",
   "metadata": {
    "colab_type": "text",
    "id": "9IA_5bsOV6xE"
   },
   "source": [
    "<div class=\"alert alert-block alert-info\">\n",
    "    <h3>Tipp: Strings formatieren mit '{}' und .format()</h3>\n",
    "    <p>\n",
    "Das selbe lässt sich auch mit <code>'{}'</code> an der Einsetz - Stelle im String erledigen. <br>\n",
    "Den passenden Wert der gibt man dem String dann mittels <code>.format()</code> :\n",
    "    </p>\n",
    "</div>"
   ]
  },
  {
   "cell_type": "code",
   "execution_count": 102,
   "metadata": {
    "colab": {},
    "colab_type": "code",
    "id": "j9IlHxcdV6xE"
   },
   "outputs": [
    {
     "data": {
      "text/plain": [
       "'Fünf ist: 5'"
      ]
     },
     "execution_count": 102,
     "metadata": {},
     "output_type": "execute_result"
    }
   ],
   "source": [
    "\"Fünf ist: {}\".format(5)"
   ]
  },
  {
   "cell_type": "markdown",
   "metadata": {
    "colab_type": "text",
    "id": "IM5UJwG1V6xF"
   },
   "source": [
    "Im **Abfallsdatensatz** wollen wir die **Werte für eine Stadt aufsummieren** können.\n",
    "\n",
    "*Wie kann das unsere Funktion* ```summe``` *bewerkstelligen?*"
   ]
  },
  {
   "cell_type": "code",
   "execution_count": 103,
   "metadata": {
    "colab": {},
    "colab_type": "code",
    "id": "H2uCFhknV6xF"
   },
   "outputs": [],
   "source": [
    "def summe(werte): pass\n",
    "\n",
    "summe(list(range(11)))"
   ]
  },
  {
   "cell_type": "markdown",
   "metadata": {
    "colab_type": "text",
    "id": "emfRTHENV6xH"
   },
   "source": [
    "Hier eine **Lösung**:"
   ]
  },
  {
   "cell_type": "code",
   "execution_count": 104,
   "metadata": {
    "colab": {},
    "colab_type": "code",
    "id": "IzCYIR9CV6xI",
    "outputId": "51b2972e-8e74-4ac7-8547-2c515c524162"
   },
   "outputs": [
    {
     "data": {
      "text/plain": [
       "6"
      ]
     },
     "execution_count": 104,
     "metadata": {},
     "output_type": "execute_result"
    }
   ],
   "source": [
    "def summe(werte):\n",
    "    a,*rest = werte\n",
    "    if rest != []:\n",
    "        return a + summe(rest)\n",
    "    else:\n",
    "        return a\n",
    "    \n",
    "summe([1,2,3])"
   ]
  },
  {
   "cell_type": "markdown",
   "metadata": {
    "colab_type": "text",
    "id": "WA8c3OIzV6xI"
   },
   "source": [
    "**Achtung!** Rekursive Funktionen verursachen schnell Probleme in Python. \\\n",
    "Nämlich genau dann, wenn sie sich **zu oft selbst aufrufen** müssen:"
   ]
  },
  {
   "cell_type": "code",
   "execution_count": 105,
   "metadata": {
    "colab": {},
    "colab_type": "code",
    "id": "_VagirshV6xK",
    "outputId": "a757d89e-9c76-48c3-aafd-35a987055a4d"
   },
   "outputs": [
    {
     "name": "stdout",
     "output_type": "stream",
     "text": [
      "maximum recursion depth exceeded while calling a Python object\n"
     ]
    }
   ],
   "source": [
    "try:\n",
    "    summe(list(range(9999)))\n",
    "except Exception as e:\n",
    "    print(e)"
   ]
  },
  {
   "cell_type": "markdown",
   "metadata": {
    "colab_type": "text",
    "id": "2UuOrPxTV6xK"
   },
   "source": [
    "<div class=\"alert alert-block alert-info\">\n",
    "<h3>Tipp: Der Python-Stack.</h3>\n",
    "    <p>\n",
    "Der Stack stellt das Limit für die Aufrude dar. Jedes Mal wenn sich die\n",
    "rekursive Funktion selbst aufruft merkt sich das Python und fügt\n",
    "einen Eintrag zum Stack hinzu. Seine maximale Größe in Python liegt bei\n",
    "circa 1000 Einträgen.\n",
    "    </p>\n",
    "    <p>\n",
    "Einen Stack kann man sich vorstellen wie einen Stapel Papier, wo immer\n",
    "wieder ein Blatt oben hinzugefügt wird. Man hat also immer nur\n",
    "Zugriff auf das oberste Blatt Papier. \n",
    "Dieses Konzept nennt man \"LIFO\" - Last in, first out.\n",
    "    </p>\n",
    "    <p>\n",
    "Ein verwandtes Konzept wird \"FIFO\" genannt - wofür steht diese Abkürzung?\n",
    "    </p>\n",
    "</div>"
   ]
  },
  {
   "cell_type": "markdown",
   "metadata": {
    "colab_type": "text",
    "id": "jiXoEleVV6xK"
   },
   "source": [
    "+ #### Was ist die Lösung für dieses Problem?"
   ]
  },
  {
   "cell_type": "markdown",
   "metadata": {
    "colab_type": "text",
    "id": "Is4TegPuV6xL"
   },
   "source": [
    "## Die While-Schleife\n",
    "```while``` - **Schleifen** führen einen Code-Block so lange aus, wie eine **Bedingung erfüllt** ist. \\\n",
    "Ist die Bedingung **nicht (mehr) erfüllt**, fährt Python mit dem **Code nach der Einrückung** fort."
   ]
  },
  {
   "cell_type": "markdown",
   "metadata": {
    "colab_type": "text",
    "id": "V6CPmyN3V6xL"
   },
   "source": [
    "Wir schreiben die Funktion ```summe``` so um, dass sie die **Summe über eine while-Schleife** bildet:"
   ]
  },
  {
   "cell_type": "code",
   "execution_count": 106,
   "metadata": {
    "colab": {},
    "colab_type": "code",
    "id": "PGdX3JbDV6xM"
   },
   "outputs": [],
   "source": [
    "def while_summe(werte):\n",
    "    summe = 0\n",
    "    while(werte != []):\n",
    "        a, *werte = werte\n",
    "        summe += a\n",
    "    return summe"
   ]
  },
  {
   "cell_type": "markdown",
   "metadata": {
    "colab_type": "text",
    "id": "5LBxqf0kV6xM"
   },
   "source": [
    "Diese Funktion kann nun auch große Kollektionen übernehmen:"
   ]
  },
  {
   "cell_type": "code",
   "execution_count": 107,
   "metadata": {
    "colab": {},
    "colab_type": "code",
    "id": "9sBZJCTJV6xM",
    "outputId": "fa18ff10-5b51-4c71-ba50-7dade65c9292"
   },
   "outputs": [
    {
     "data": {
      "text/plain": [
       "15"
      ]
     },
     "execution_count": 107,
     "metadata": {},
     "output_type": "execute_result"
    }
   ],
   "source": [
    "while_summe(range(6))"
   ]
  },
  {
   "cell_type": "markdown",
   "metadata": {
    "colab_type": "text",
    "id": "TWBY2QvMV6xN"
   },
   "source": [
    "Mit einem ```else:``` Ausdruck nach einer ```while``` - Schleife lässt sich ein **Block einmalig** ausführen, \\\n",
    "wenn die Bedingung nicht (mehr) erfüllt ist."
   ]
  },
  {
   "cell_type": "code",
   "execution_count": 108,
   "metadata": {
    "colab": {},
    "colab_type": "code",
    "id": "S8xnlHO6V6xN",
    "outputId": "1d2f21cb-ccda-4e4a-e3df-5367c6e6241a"
   },
   "outputs": [
    {
     "name": "stdout",
     "output_type": "stream",
     "text": [
      "0: Success!\n"
     ]
    }
   ],
   "source": [
    "i = 10 \n",
    "while i > 0:\n",
    "    print(\"\\r%i\"%i, end=' ')\n",
    "    sleep(0.5)\n",
    "    i-=1\n",
    "    \n",
    "else:\n",
    "    print(\"\\r%i: Success!\"%i)"
   ]
  },
  {
   "cell_type": "markdown",
   "metadata": {
    "colab_type": "text",
    "id": "7tMhn3s6V6xN"
   },
   "source": [
    "Wenn wir **gewarnt** werden wollen sobald der **Grenzwert überschritten** ist, können wir dieses ```else``` nutzen:"
   ]
  },
  {
   "cell_type": "code",
   "execution_count": 109,
   "metadata": {
    "colab": {},
    "colab_type": "code",
    "id": "Vg6wzDKaV6xP",
    "scrolled": true
   },
   "outputs": [
    {
     "name": "stdout",
     "output_type": "stream",
     "text": [
      "Überschreitung!\n"
     ]
    }
   ],
   "source": [
    "grenzwert_überschritten = lambda wert: wert > 100\n",
    "\n",
    "wert = 100\n",
    "while not grenzwert_überschritten(wert):\n",
    "    wert += 1\n",
    "else:\n",
    "    print(\"Überschreitung!\")\n"
   ]
  },
  {
   "cell_type": "markdown",
   "metadata": {
    "colab_type": "text",
    "id": "4mElogpYV6xQ"
   },
   "source": [
    "<div class=\"alert alert-block alert-info\">\n",
    "<h3>Tipp: Control - Flow und Else nach Schleifen</h3>\n",
    "<p>\n",
    "    Wichtig für dem <b>Control - Flow</b> im engeren Sinne sind die Schlüsselwörter <code>continue</code> und <code>break</code>. <br>\n",
    "    Beide können nur <b>innerhalb einer Schleife</b> verwendet werden.\n",
    "    </p>\n",
    "    <p>\n",
    "        Stößt der Python-Interpreter auf ein <code>continue</code>, so <b>springt</b> er wieder <b>auf die erste Zeile</b> des Blocks innerhalb der Schleife.\n",
    "    </p>\n",
    "    <p>\n",
    "        Bei einem <code>break</code> <b>bricht die Schleife ab</b>. Das <code>else:</code> continue- Statement nach der Schleife wird dabei <b>nicht</b> ausgeführt.\n",
    "    </p>\n",
    "</div>"
   ]
  },
  {
   "cell_type": "markdown",
   "metadata": {
    "colab_type": "text",
    "id": "vprkzsUvV6xQ"
   },
   "source": [
    "## For-Schleife\n",
    "Oftmals wollen wir mit einer Schleife **Element für Element einer Kollektion aufrufen** können. Hier eignet sich ```for``` besonders gut.\n",
    "\n",
    "Diese Schleife **ruft alle Elemente hintereinander auf**. Sie weißt dem **aktuellen Element** immer auch einen **Namen** zu, sodass wir das Element nicht mehr in der Kollektion suchen müssen."
   ]
  },
  {
   "cell_type": "markdown",
   "metadata": {
    "colab_type": "text",
    "id": "0MLZ8gbcV6xQ"
   },
   "source": [
    "Nutzen wir die ```for``` **- Schleife** um die Funktion ```range``` genauer **kennenzulernen**.\n",
    "\n",
    "Die Schleife **weißt jedem Element** welches von ```range``` erzeugt wird **nacheinander den Namen** ```it``` zu. \\\n",
    "Wir lassen uns dann den Wert von ```it``` mit ```print``` im **Körper** der Schleife (*also dem eingerückten Block*) ausgeben:"
   ]
  },
  {
   "cell_type": "code",
   "execution_count": 110,
   "metadata": {
    "colab": {},
    "colab_type": "code",
    "id": "9-fwGQpbV6xQ",
    "outputId": "16ecd341-9d63-481a-b05c-bb152f17a81b"
   },
   "outputs": [
    {
     "name": "stdout",
     "output_type": "stream",
     "text": [
      "0 | 2 | 4 | 8 | "
     ]
    }
   ],
   "source": [
    "for it in range(0,10,2): \n",
    "    if it == 6:\n",
    "        continue\n",
    "    print(it, end=' | ')"
   ]
  },
  {
   "cell_type": "markdown",
   "metadata": {
    "colab_type": "text",
    "id": "k7g7IcifV6xR"
   },
   "source": [
    "In einer ```for``` - Schleife können wir auch **Tupel in einer Kollektion entpacken**:"
   ]
  },
  {
   "cell_type": "code",
   "execution_count": 111,
   "metadata": {
    "colab": {},
    "colab_type": "code",
    "id": "8B0g6cykV6xR",
    "outputId": "c4742bdb-7bdd-4148-ed68-28aa4c4dadb8"
   },
   "outputs": [
    {
     "name": "stdout",
     "output_type": "stream",
     "text": [
      "1. - Gold\n",
      "2. - Silber\n",
      "3. - Bronze\n",
      "4. - Blech\n",
      "5. - Pech\n"
     ]
    }
   ],
   "source": [
    "ränge = zip([1,2,3,4,5] , ['Gold','Silber','Bronze','Blech','Pech'])\n",
    "\n",
    "for (nummer, medaille) in ränge:\n",
    "    print(\"{}. - {}\".format(nummer, medaille))"
   ]
  },
  {
   "cell_type": "markdown",
   "metadata": {
    "colab_type": "text",
    "id": "KjQVOwvFV6xT"
   },
   "source": [
    "*Was passiert, wenn wir 'zip' zwei Kollektionen unterschiedlicher Länge geben?*"
   ]
  },
  {
   "cell_type": "markdown",
   "metadata": {
    "colab_type": "text",
    "id": "rffiDmCgV6xT"
   },
   "source": [
    "Oftmals wollen wir die **Werte eines Wörterbuches entpacken**. Das geht indem wir auf dem Wörterbuch-Objekt die **Methode** ```items``` aufrufen."
   ]
  },
  {
   "cell_type": "code",
   "execution_count": 112,
   "metadata": {
    "colab": {},
    "colab_type": "code",
    "id": "1w0nUIqlV6xT",
    "outputId": "fa240c1f-336b-43b8-eabc-e4fc50508250"
   },
   "outputs": [
    {
     "name": "stdout",
     "output_type": "stream",
     "text": [
      "564\n",
      "498\n",
      "431\n"
     ]
    }
   ],
   "source": [
    "wb = {'Graz':564, 'Linz':498, 'Salzburg':431}\n",
    "for _, wert in wb.items():\n",
    "    print(wert)"
   ]
  },
  {
   "cell_type": "markdown",
   "metadata": {
    "colab_type": "text",
    "id": "QTbq0s1VV6xU"
   },
   "source": [
    "<div class=\"alert alert-block alert-info\">\n",
    "<h3>Tipp: Nutzen von Unterstrichen zur Namensgebung</h3>\n",
    "    <p>\n",
    "        Oft kommt es <b>beim Entpacken von Tupeln</b> dazu, dass wir nur an einem Teil\n",
    "der im Tupel enthaltenen Werte interessiert sind. <br>\n",
    "Dann weisen wir jedem Wert an dem wir nicht interessiert sind den Namen <code>_</code> zu. <br>\n",
    "    </p>\n",
    "    <p>\n",
    "        Wollen wir eine <b>Funktion, Klasse oder Variable</b> definieren,\n",
    "auf welche nur innerhalb unseres Codes zugegriffen werden soll, <br>\n",
    "so setzen wir einen Unterstrich vor dessen Namen: <br>\n",
    "<code>_interne_variable</code>.\n",
    "</div>"
   ]
  },
  {
   "cell_type": "markdown",
   "metadata": {
    "colab_type": "text",
    "id": "OQUU8s-7V6xU"
   },
   "source": [
    "Nun wollen wir über die Reihen unserer **Abfallsdatenbank** gehen und die **Gesamtmenge an Müll je Standort** ermitteln."
   ]
  },
  {
   "cell_type": "markdown",
   "metadata": {
    "colab_type": "text",
    "id": "XE7t_C7CV6xY"
   },
   "source": [
    "Zuerst schauen wir nach **welche Werte in der Datenbank sind**, um sie in der richtigen Reihenfolge entpacken zu können:"
   ]
  },
  {
   "cell_type": "code",
   "execution_count": 113,
   "metadata": {
    "colab": {},
    "colab_type": "code",
    "id": "MLxLoVJ4V6xY",
    "outputId": "8bca4052-cb26-4621-ce1a-dff50fb3102e"
   },
   "outputs": [
    {
     "data": {
      "text/plain": [
       "Index(['Jahr', 'VKZ', 'Abfallwirtschaftsverband', 'GKZ_2015', 'Gemeindename',\n",
       "       'EW_Gde', 'HFR', 'Abfallgruppen', 'FNr', 'Abfallfraktion',\n",
       "       'Masse in kg', 'kg/EW'],\n",
       "      dtype='object')"
      ]
     },
     "execution_count": 113,
     "metadata": {},
     "output_type": "execute_result"
    }
   ],
   "source": [
    "data_gefiltert.keys()"
   ]
  },
  {
   "cell_type": "markdown",
   "metadata": {
    "colab_type": "text",
    "id": "BoxKHWE9V6xZ"
   },
   "source": [
    "Um die Masse je Standort zu **summieren**, erstellen wir ein **leeres Wörterbuch**. Nach und nach wollen wir **Standorte hinzufügen**.\n",
    "\n",
    "*Was sollte im Körper der Schleife stehen?*"
   ]
  },
  {
   "cell_type": "code",
   "execution_count": 114,
   "metadata": {
    "colab": {},
    "colab_type": "code",
    "id": "3-B0asExV6xZ"
   },
   "outputs": [
    {
     "name": "stdout",
     "output_type": "stream",
     "text": [
      "Schleife erfolgreich abgeschlossen!\n"
     ]
    }
   ],
   "source": [
    "ergebnis = {}\n",
    "\n",
    "for _,_,_,name,*_,masse,_ in data_gefiltert.itertuples():\n",
    "    pass\n",
    "else:\n",
    "    print(\"Schleife erfolgreich abgeschlossen!\")"
   ]
  },
  {
   "cell_type": "code",
   "execution_count": 115,
   "metadata": {
    "colab": {},
    "colab_type": "code",
    "id": "ozNSbmUTV6xa"
   },
   "outputs": [
    {
     "data": {
      "text/plain": [
       "{}"
      ]
     },
     "execution_count": 115,
     "metadata": {},
     "output_type": "execute_result"
    }
   ],
   "source": [
    "ergebnis"
   ]
  },
  {
   "cell_type": "markdown",
   "metadata": {
    "colab_type": "text",
    "id": "JXQtTlm4V6xa"
   },
   "source": [
    "Die **Lösung** für die vorhergehende Schleife:"
   ]
  },
  {
   "cell_type": "code",
   "execution_count": 116,
   "metadata": {
    "colab": {},
    "colab_type": "code",
    "id": "BzGQLTgHV6xa",
    "outputId": "1d348c9c-5b6e-4b04-ff87-bcdbaa9c11e7",
    "scrolled": true
   },
   "outputs": [
    {
     "name": "stdout",
     "output_type": "stream",
     "text": [
      "Schleife erfolgreich abgeschlossen!\n"
     ]
    },
    {
     "data": {
      "text/plain": [
       "{'Graz-Stadt': 126055978.0,\n",
       " 'Graz-Umgebung': 40278009.0,\n",
       " 'Deutschlandsberg': 15032050.0,\n",
       " 'Feldbach': 15135028.0,\n",
       " 'Fürstenfeld': 8844304.0,\n",
       " 'Hartberg': 25041886.0,\n",
       " 'Judenburg': 16758973.0,\n",
       " 'Knittelfeld': 16091324.0,\n",
       " 'Leibnitz': 21886891.0,\n",
       " 'Leoben': 28144614.0,\n",
       " 'Liezen': 21202151.0,\n",
       " 'Mürzverband': 38042352.0,\n",
       " 'Murau': 7966853.0,\n",
       " 'Radkersburg': 4436113.0,\n",
       " 'Schladming': 9321135.0,\n",
       " 'Voitsberg': 15132916.0,\n",
       " 'Weiz': 23622075.0}"
      ]
     },
     "execution_count": 116,
     "metadata": {},
     "output_type": "execute_result"
    }
   ],
   "source": [
    "ergebnis = {}\n",
    "\n",
    "for _,_,_,name,*_,masse,_ in data_gefiltert.itertuples():\n",
    "    if name in ergebnis:\n",
    "        a = ergebnis[name]\n",
    "        ergebnis[name] = a + masse\n",
    "    else:\n",
    "        ergebnis[name] = masse\n",
    "else:\n",
    "    print(\"Schleife erfolgreich abgeschlossen!\")\n",
    "\n",
    "ergebnis"
   ]
  }
 ],
 "metadata": {
  "_comment": {
   "backimage": "mybackimage.png",
   "footer": "<h4 align=\"center\">Python Wonderland - Simon Plakolb</h4>",
   "header": "<h4 align=\"center\">Angewandte Systemwissenschaften II</h4>",
   "start_slideshow_at": "beginning",
   "theme": "serif"
  },
  "celltoolbar": "Slideshow",
  "colab": {
   "name": "1 Python Intro.ipynb",
   "provenance": []
  },
  "kernelspec": {
   "display_name": "Python 3",
   "language": "python",
   "name": "python3"
  },
  "language_info": {
   "codemirror_mode": {
    "name": "ipython",
    "version": 3
   },
   "file_extension": ".py",
   "mimetype": "text/x-python",
   "name": "python",
   "nbconvert_exporter": "python",
   "pygments_lexer": "ipython3",
   "version": "3.7.7"
  },
  "rise": {
   "enable_chalkboard": true,
   "scroll": true
  }
 },
 "nbformat": 4,
 "nbformat_minor": 1
}
