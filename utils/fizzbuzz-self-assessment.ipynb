{
 "cells": [
  {
   "cell_type": "markdown",
   "id": "f63fbce3",
   "metadata": {},
   "source": [
    "# Self-Assessment\n",
    "\n",
    "## Das FizzBuzz - Beispiel\n",
    "\n",
    "Bei [FizzBuzz](https://de.wikipedia.org/wiki/Fizz_buzz) handelt es sich um ein Spiel welches auch dazu dienen kann Programmierkenntnisse zu veranschaulichen:\n",
    "\n",
    "Bilde eine Schleife über die Zahlen von 0 bis 100. Immer wenn eine Zahl durch 3 teilbar ist soll \"Fizz\" ausgegeben werden, wenn sie durch 5 teilbar ist hingegen \"Buzz\". Ist sie durch beides teilbar soll \"FizzBuzz\" ausgegeben werden.\n",
    "\n",
    "(Ausgabe mit ``print``, die Teilbarkeit einer Zahl kann in Python mittels des Modulo-Operators ```%``` überprüft werden)"
   ]
  },
  {
   "cell_type": "code",
   "execution_count": null,
   "id": "fc07061e",
   "metadata": {},
   "outputs": [],
   "source": []
  }
 ],
 "metadata": {
  "kernelspec": {
   "display_name": "Python 3 (ipykernel)",
   "language": "python",
   "name": "python3"
  },
  "language_info": {
   "codemirror_mode": {
    "name": "ipython",
    "version": 3
   },
   "file_extension": ".py",
   "mimetype": "text/x-python",
   "name": "python",
   "nbconvert_exporter": "python",
   "pygments_lexer": "ipython3",
   "version": "3.9.6"
  }
 },
 "nbformat": 4,
 "nbformat_minor": 5
}
